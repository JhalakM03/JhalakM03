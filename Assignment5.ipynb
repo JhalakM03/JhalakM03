{
 "cells": [
  {
   "cell_type": "markdown",
   "id": "ce1b5c07-53a5-4362-9b2c-a9327f6e4d6d",
   "metadata": {},
   "source": [
    "Q1. What is an Exception in python? Write the difference between Exceptions and Syntax errors."
   ]
  },
  {
   "cell_type": "markdown",
   "id": "a0ad1933-da71-44e3-9598-01cdc08b4ab5",
   "metadata": {},
   "source": [
    "Exceptions are raised in python when the code is syntactically correct but the code results in error. However it does not stop the flow of the program but changes the flow of the program.\n",
    "\n",
    "Syntax Error: As the name says, this error is caused by the wrong syntax which eventually leads to termination of the program.\n",
    "Exceptions: On the other hand exceptions are syntactically correct but the code gives an error after executing. It does not stop the flow of the program."
   ]
  },
  {
   "cell_type": "markdown",
   "id": "6e83fe14-2956-4c0b-899f-1e1a94dcaed4",
   "metadata": {},
   "source": [
    "Q2. What happens when an exception is not handled? Explain with an example."
   ]
  },
  {
   "cell_type": "markdown",
   "id": "ff3e7938-f6ab-4fe5-9aff-a13cc8eb6cdc",
   "metadata": {},
   "source": [
    "When exceptions are mishandled its raises an error and exits the code. "
   ]
  },
  {
   "cell_type": "code",
   "execution_count": 1,
   "id": "51fe3ad0-e4ef-4007-8dc5-fabe4b29f6f3",
   "metadata": {},
   "outputs": [
    {
     "ename": "TypeError",
     "evalue": "'str' object does not support item assignment",
     "output_type": "error",
     "traceback": [
      "\u001b[0;31m---------------------------------------------------------------------------\u001b[0m",
      "\u001b[0;31mTypeError\u001b[0m                                 Traceback (most recent call last)",
      "Cell \u001b[0;32mIn[1], line 2\u001b[0m\n\u001b[1;32m      1\u001b[0m name \u001b[38;5;241m=\u001b[39m \u001b[38;5;124m\"\u001b[39m\u001b[38;5;124mJhalak\u001b[39m\u001b[38;5;124m\"\u001b[39m\n\u001b[0;32m----> 2\u001b[0m \u001b[43mname\u001b[49m\u001b[43m[\u001b[49m\u001b[38;5;241;43m0\u001b[39;49m\u001b[43m]\u001b[49m \u001b[38;5;241m=\u001b[39m \u001b[38;5;124m'\u001b[39m\u001b[38;5;124mJ\u001b[39m\u001b[38;5;124m'\u001b[39m\n",
      "\u001b[0;31mTypeError\u001b[0m: 'str' object does not support item assignment"
     ]
    }
   ],
   "source": [
    "name = \"Jhalak\"\n",
    "name[0] = 'J'"
   ]
  },
  {
   "cell_type": "markdown",
   "id": "55ab7155-253c-40ed-a6f8-66a89a25a107",
   "metadata": {},
   "source": [
    "Q3. Which Python statements are used to catch and handle exceptions? Explain with an example."
   ]
  },
  {
   "cell_type": "markdown",
   "id": "ec8c827e-8dc7-43ae-bebd-7f555aef3868",
   "metadata": {},
   "source": [
    "Try and except are used to catch and handle exceptions."
   ]
  },
  {
   "cell_type": "code",
   "execution_count": 4,
   "id": "55b27fd8-386b-49ef-abe8-232a9341d064",
   "metadata": {},
   "outputs": [
    {
     "name": "stdout",
     "output_type": "stream",
     "text": [
      "Error: Cannot add int and a str\n"
     ]
    }
   ],
   "source": [
    "x = 5\n",
    "y = 'owl'\n",
    "try:\n",
    "    z=x+y\n",
    "except TypeError:\n",
    "    print('Error: Cannot add int and a str')\n",
    "    "
   ]
  },
  {
   "cell_type": "markdown",
   "id": "5f4ae85e-910a-4f5e-8fae-e6182fa52aae",
   "metadata": {},
   "source": [
    "Q4. Explain with an example:\n",
    "a. Try and else\n",
    "b. Finally \n",
    "c. Raise"
   ]
  },
  {
   "cell_type": "code",
   "execution_count": 5,
   "id": "23b3a0b3-96eb-4537-beb3-bfa6e117ae88",
   "metadata": {},
   "outputs": [],
   "source": [
    "#try and else\n",
    "def polyn(a,b):\n",
    "    try:\n",
    "        c = ((a*b)/(a-b))\n",
    "    except ZeroDivisionError:\n",
    "        print('func resulted in 0')\n",
    "    else:\n",
    "        print (c)"
   ]
  },
  {
   "cell_type": "code",
   "execution_count": 7,
   "id": "2e0cc313-8c4a-4579-be63-3789e6824e0b",
   "metadata": {},
   "outputs": [
    {
     "name": "stdout",
     "output_type": "stream",
     "text": [
      "30.0\n"
     ]
    }
   ],
   "source": [
    "polyn(6,5)"
   ]
  },
  {
   "cell_type": "code",
   "execution_count": 1,
   "id": "e7c699c7-f348-498d-9db5-4f082e2434dd",
   "metadata": {},
   "outputs": [
    {
     "name": "stdout",
     "output_type": "stream",
     "text": [
      "Cant find file to read or write data\n"
     ]
    }
   ],
   "source": [
    "#Finally\n",
    "try:\n",
    "    f= open ('test.txt', 'w')\n",
    "    f.write('This is my test file for exception handling') \n",
    "finally:\n",
    "    print('Cant find file to read or write data')"
   ]
  },
  {
   "cell_type": "code",
   "execution_count": 2,
   "id": "fd4c69d6-c06c-4887-8330-9c158cea2732",
   "metadata": {},
   "outputs": [
    {
     "name": "stdout",
     "output_type": "stream",
     "text": [
      "An exception\n"
     ]
    },
    {
     "ename": "NameError",
     "evalue": "Hi there",
     "output_type": "error",
     "traceback": [
      "\u001b[0;31m---------------------------------------------------------------------------\u001b[0m",
      "\u001b[0;31mNameError\u001b[0m                                 Traceback (most recent call last)",
      "Cell \u001b[0;32mIn[2], line 3\u001b[0m\n\u001b[1;32m      1\u001b[0m \u001b[38;5;66;03m#Raise\u001b[39;00m\n\u001b[1;32m      2\u001b[0m \u001b[38;5;28;01mtry\u001b[39;00m:\n\u001b[0;32m----> 3\u001b[0m     \u001b[38;5;28;01mraise\u001b[39;00m \u001b[38;5;167;01mNameError\u001b[39;00m(\u001b[38;5;124m\"\u001b[39m\u001b[38;5;124mHi there\u001b[39m\u001b[38;5;124m\"\u001b[39m)  \u001b[38;5;66;03m# Raise Error\u001b[39;00m\n\u001b[1;32m      4\u001b[0m \u001b[38;5;28;01mexcept\u001b[39;00m \u001b[38;5;167;01mNameError\u001b[39;00m:\n\u001b[1;32m      5\u001b[0m     \u001b[38;5;28mprint\u001b[39m (\u001b[38;5;124m\"\u001b[39m\u001b[38;5;124mAn exception\u001b[39m\u001b[38;5;124m\"\u001b[39m)\n",
      "\u001b[0;31mNameError\u001b[0m: Hi there"
     ]
    }
   ],
   "source": [
    "#Raise\n",
    "try:\n",
    "    raise NameError(\"Hi there\")  # Raise Error\n",
    "except NameError:\n",
    "    print (\"An exception\")\n",
    "    raise"
   ]
  },
  {
   "cell_type": "markdown",
   "id": "d6f9779b-f78d-49f1-af9c-52455e24f378",
   "metadata": {},
   "source": [
    "Q5. What are Custom Exceptions in python? Why do we need Custom Exceptions? Explain with an example."
   ]
  },
  {
   "cell_type": "markdown",
   "id": "59e2e2c2-b27c-48d7-aed9-b83044ea7ce6",
   "metadata": {},
   "source": [
    "Custom Exception can be raised when specific error occured in program.\n",
    "\n",
    "We need custom Exception beacause they provide meaningful error messages and to handle specific error conditions in a more controlled way."
   ]
  },
  {
   "cell_type": "code",
   "execution_count": 12,
   "id": "ca453217-de94-439f-9d95-d9ce6a6fe375",
   "metadata": {},
   "outputs": [
    {
     "name": "stdout",
     "output_type": "stream",
     "text": [
      "Raise an Exception\n",
      "Exception Raised\n"
     ]
    }
   ],
   "source": [
    "#example\n",
    "class justexception(Exception):\n",
    "    def __init__(self, message):\n",
    "        print(message)\n",
    "\n",
    "try:\n",
    "    raise justexception (\"Raise an Exception\")\n",
    "except Exception as e:\n",
    "    print(\"Exception Raised\")"
   ]
  },
  {
   "cell_type": "markdown",
   "id": "39109fce-bddc-4e83-9105-c8151e9a0c26",
   "metadata": {},
   "source": [
    "Q6. Create a custom exception class. Use this to handle an exception."
   ]
  },
  {
   "cell_type": "code",
   "execution_count": 12,
   "id": "ecf0273e-03c2-469f-b6c6-70ece8369d1e",
   "metadata": {},
   "outputs": [
    {
     "name": "stdout",
     "output_type": "stream",
     "text": [
      "For percentage 93:\n",
      " You're enrolled\n",
      "For percentage 109:\n",
      "Perecentage is Invalid\n",
      "For percentage 78\n",
      "The percentage is lesser than cutoff\n"
     ]
    }
   ],
   "source": [
    "class percentage_error(Exception):\n",
    "    pass\n",
    "\n",
    "class invalid_percentage_error(percentage_error):\n",
    "    def __init__(self):\n",
    "        super().__init__('Perecentage is Invalid')\n",
    "        \n",
    "class less_percentage_error(percentage_error):\n",
    "    def __init__(self):\n",
    "        super().__init__('The percentage is lesser than cutoff')\n",
    "        \n",
    "class check_percentage(percentage_error):\n",
    "    def __init__(self, per):\n",
    "        if per<80:\n",
    "            raise less_percentage_error\n",
    "        if per>100:\n",
    "            raise invalid_percentage_error\n",
    "        print(\" You're enrolled\" )\n",
    "        \n",
    "try:\n",
    "    print('For percentage 93:')\n",
    "    check_percentage(93)\n",
    "except Exception as e:\n",
    "    print(e)\n",
    "try:\n",
    "    print('For percentage 109:')\n",
    "    check_percentage(109)\n",
    "except Exception as e:\n",
    "    print(e)\n",
    "try:\n",
    "    print('For percentage 78')\n",
    "    check_percentage(78)\n",
    "except Exception as e:\n",
    "    print(e)\n",
    "            "
   ]
  },
  {
   "cell_type": "code",
   "execution_count": null,
   "id": "f7368e48-68d2-4d9e-96a2-b10a6887b828",
   "metadata": {},
   "outputs": [],
   "source": []
  }
 ],
 "metadata": {
  "kernelspec": {
   "display_name": "Python 3 (ipykernel)",
   "language": "python",
   "name": "python3"
  },
  "language_info": {
   "codemirror_mode": {
    "name": "ipython",
    "version": 3
   },
   "file_extension": ".py",
   "mimetype": "text/x-python",
   "name": "python",
   "nbconvert_exporter": "python",
   "pygments_lexer": "ipython3",
   "version": "3.10.8"
  }
 },
 "nbformat": 4,
 "nbformat_minor": 5
}
