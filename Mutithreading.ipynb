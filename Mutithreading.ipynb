{
 "cells": [
  {
   "cell_type": "markdown",
   "id": "68235c90-f10f-47dd-bce3-1c539ec1a417",
   "metadata": {},
   "source": [
    "Q1. What is multithreading in python? Why is it used? Name the module used to handle threads in python.\n",
    "\n",
    "\n",
    "Multithreading is a concurrent execution technique in which multiple threads (smaller units of a process) within a single process run independently and share the same resources, such as memory space. Each thread performs a specific task, and multiple threads can execute concurrently, potentially improving the performance and responsiveness of a program.\n",
    "Multithreading can be used to achieve parallelism, where multiple threads perform tasks simultaneously. This is particularly useful in tasks that can be broken down into smaller, independent subtasks.\n",
    "Python provides a built-in threading module for working with threads. "
   ]
  },
  {
   "cell_type": "markdown",
   "id": "f32c8306-364f-4211-978d-67efcc02b2e4",
   "metadata": {},
   "source": [
    "Q2. Why threading module used? Write the use of the following functions.\n",
    "1. activeCount()\n",
    "2. currentThread()\n",
    "3. enumerate()\n",
    "\n",
    "The threading module in Python is used to create and manage threads. \n",
    "It provides a higher-level interface to work with threads as compared to the low-level thread module.\n",
    "\n",
    "1. activeCount() : The activeCount() method is used to get the current number of active threads in a Python program. It is part of the threading module in Python. It returns an integer representing the number of Thread objects currently alive. This count includes both the main thread and any other threads you've created.\n",
    "\n",
    "2. currentThread(): is a method provided by the threading module in Python for working with multithreading. It is used to obtain a reference to the currently executing thread. \n",
    "\n",
    "3. enumerate() : It is a built-in Python function used to iterate over an iterable (e.g., a list, tuple, or string) while keeping track of the item's index. It returns a tuple containing the index and the item from the iterable. In the context of multithreading, you can use enumerate() to iterate over a list of threads or other objects while keeping track of their indices."
   ]
  },
  {
   "cell_type": "markdown",
   "id": "d0372e5e-131f-4da3-9d62-4d8e0aff0f9c",
   "metadata": {},
   "source": [
    "Q3. Why threading module used? Write the use of the following functions.\n",
    "1. run()\n",
    "2. start()\n",
    "3. join()\n",
    "4. isAlive()\n",
    "\n",
    "1. run() : The run() method is a fundamental method associated with threads, and it is used to specify the code that will be executed within a thread. When you create a custom thread class by subclassing threading.Thread, you can override the run() method to define what the thread should do when it's started.\n",
    "2. start() : In multithreading, start() is a method that you call on a thread object to initiate the execution of the thread's code in parallel with other threads. It starts a new thread and runs the target function or method concurrently. \n",
    "3. join() : In multithreading, the join() method is a way to ensure that a specific thread has completed its execution before the main program or another thread proceeds. When you call join() on a thread, the program will wait until that thread has finished its work. This is particularly useful when you need to coordinate the execution of multiple threads and make sure one thread completes before others continue or before your program exits.\n",
    "4. isAlive() : The isAlive() method is used to check whether a thread is currently running or has completed its execution. It returns True if the thread is active and running, and False if the thread has finished its execution (terminated)."
   ]
  },
  {
   "cell_type": "markdown",
   "id": "0efb43d3-596f-4b09-a4ec-31772a8c0e71",
   "metadata": {},
   "source": [
    "Q4. Write a python program to create two threads. Thread one must print the list of squares and thread\n",
    "two must print the list of cubes."
   ]
  },
  {
   "cell_type": "code",
   "execution_count": 2,
   "id": "8d64de9a-2621-4e42-b01b-40608ceae4fd",
   "metadata": {},
   "outputs": [],
   "source": [
    "import threading"
   ]
  },
  {
   "cell_type": "code",
   "execution_count": 4,
   "id": "ce2a8bb9-4c60-48d5-94d0-3a9952c3f345",
   "metadata": {},
   "outputs": [
    {
     "name": "stdout",
     "output_type": "stream",
     "text": [
      "Cube: 1000\n",
      "Square: 10000\n"
     ]
    }
   ],
   "source": [
    "def cube_num(num):\n",
    "    print('Cube: {}'. format(num*num*num))\n",
    "def square_num(num):\n",
    "    print('Square: {}'. format(num*num))\n",
    "    \n",
    "if __name__ == '__main__':\n",
    "    t1 = threading.Thread(target = cube_num, args = (10,))\n",
    "    t2 = threading.Thread(target = square_num, args = (100,))\n",
    "t1.start()\n",
    "t2.start()\n",
    "\n",
    "t1.join()\n",
    "t2.join()"
   ]
  },
  {
   "cell_type": "markdown",
   "id": "0338eecd-d190-4427-aff0-87e18b39af79",
   "metadata": {},
   "source": [
    "Q5. State advantages and disadvantages of multithreading.\n",
    "\n",
    "Advantages\n",
    "Concurrency: Multithreading allows multiple threads to execute concurrently within the same process, making it possible to perform multiple tasks simultaneously\n",
    "esponsiveness: Multithreading can be used to keep a program responsive, particularly in graphical user interfaces or applications that involve I/O operations.\n",
    "\n",
    "Disadvantages\n",
    "Overhead: Creating and managing threads comes with overhead. The overhead includes memory usage, context switching, and the additional complexity of managing multiple threads.\n",
    "Complexity: Multithreading introduces complexity, especially when dealing with synchronization and coordination between threads."
   ]
  },
  {
   "cell_type": "markdown",
   "id": "7c5a9da2-579b-496b-81db-3b53ddc419ba",
   "metadata": {},
   "source": [
    "Q6. Explain deadlocks and race conditions.\n",
    "\n",
    "Deadlocks: A deadlock in multithreading occurs when two or more threads are blocked forever, each waiting for the other to release a resource. Deadlocks are a common issue in concurrent programming and can be challenging to detect and resolve.\n",
    "\n",
    "Race conditions: A race condition in multithreading occurs when two or more threads access shared data concurrently, and the final outcome depends on the order of execution. The term \"race\" implies that the behavior of the program depends on which thread \"wins\" the race to access or modify the shared resource."
   ]
  },
  {
   "cell_type": "code",
   "execution_count": null,
   "id": "45571cfd-7b2d-44a1-9758-3425d79a3219",
   "metadata": {},
   "outputs": [],
   "source": []
  }
 ],
 "metadata": {
  "kernelspec": {
   "display_name": "Python 3 (ipykernel)",
   "language": "python",
   "name": "python3"
  },
  "language_info": {
   "codemirror_mode": {
    "name": "ipython",
    "version": 3
   },
   "file_extension": ".py",
   "mimetype": "text/x-python",
   "name": "python",
   "nbconvert_exporter": "python",
   "pygments_lexer": "ipython3",
   "version": "3.10.8"
  }
 },
 "nbformat": 4,
 "nbformat_minor": 5
}
