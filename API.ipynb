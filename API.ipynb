{
 "cells": [
  {
   "cell_type": "markdown",
   "id": "4128014f-7d78-43df-a748-1a887c93d61c",
   "metadata": {},
   "source": [
    "Q1. What is an API? Give an example, where an API is used in real life.\n",
    "\n",
    "API acts an medium between client server architecture. Client sends the request where API acts as a medium and the server recieves the request and respinds it through API again. To provide additional security layers to data, HTTP queries, query string parameters or cookis are used. \n",
    "\n",
    "An example of an API used in real life is the Google Maps API. It allows developers to embed Google Maps into their own applications and customize the map display and functionality. This enables businesses to provide location-based services to their customers and display directions, reviews, and other information on the map.\n",
    "\n",
    "For example, a food delivery app can use the Google Maps API to show customers the location of nearby restaurants and provide directions to the customer's address.\n",
    "\n",
    "Another example is when a ride-sharing app like Uber uses the Google Maps API to provide drivers with the best route to pick up and drop off passengers."
   ]
  },
  {
   "cell_type": "markdown",
   "id": "10026624-0dab-40a9-bb4f-f6e239484a2d",
   "metadata": {},
   "source": [
    "Q2. Give advantages and disadvantages of using API.\n",
    "\n",
    "Advantages: \n",
    "APIs allow applications to access data and services from external sources, facilitating integration with third-party platforms and services.\n",
    "APIs provide a scalable and flexible architecture, allowing applications to adapt to changing requirements and handle varying workloads.\n",
    "APIs offer cost-effective solutions by eliminating the need to develop and maintain certain functionalities in-house, relying on external services instead.\n",
    "\n",
    "Disadvantages:\n",
    "Applications relying heavily on external APIs may face issues if the external service experiences downtime or discontinuation.\n",
    " APIs can be vulnerable to security threats if not properly secured. Unauthorized access and data breaches are potential risks.\n",
    "Handling sensitive data through external APIs may raise concerns related to data privacy and compliance with regulations."
   ]
  },
  {
   "cell_type": "markdown",
   "id": "4561d026-6712-48dc-a406-00a34c4bb0c2",
   "metadata": {},
   "source": [
    "Q3. What is a Web API? Differentiate between API and Web API.\n",
    "\n",
    "A web API is an API that is designed to be accessed through the internet, using HTTP or other web protocols.\n",
    "\n",
    "The main difference between an API and a web API is that a web API is specifically designed to be accessed over the internet using HTTP request, while an API can be accessed through other means, such as a local network or URL commands."
   ]
  },
  {
   "cell_type": "markdown",
   "id": "c29e52d7-c761-4504-aab2-41faf6a24c14",
   "metadata": {},
   "source": [
    "Q4. Explain REST and SOAP Architecture. Mention shortcomings of SOAP.\n",
    "\n",
    "REST Architecture: REST (Representational State Transfer) is an architectural style for designing networked applications. RESTful interactions are stateless, meaning each request from a client to a server must contain all the information needed to understand and fulfill that request. The server doesn't store any client state between requests. RESTful APIs map standard HTTP methods (GET, POST, PUT, DELETE) to CRUD (Create, Read, Update, Delete) operations on resources. Responses from the server can be explicitly marked as cacheable or non-cacheable. Cacheability allows clients to cache responses, improving performance and reducing the load on the server.\n",
    "\n",
    "shortcomings of SOAP: OAP is considered more complex compared to other web service protocols. The XML format used in SOAP messages results in higher overhead compared to more compact data formats like JSON. This can lead to larger message sizes and increased bandwidth consumption. SOAP is not natively supported by web browsers. RESTful services with JSON are more commonly used in web applications due to better browser compatibility."
   ]
  },
  {
   "cell_type": "markdown",
   "id": "36b593b4-11e0-4698-a4a7-c87bab00f0db",
   "metadata": {},
   "source": [
    "Q5. Differentiate between REST and SOAP.\n",
    "\n",
    "REST:Generally transports data in JSON. It is based on URI. Because REST follows stateless model, REST does not enforces message format as XML or JSON etc. It works with GET, POST, PUT, DELETE. Works over HTTP and HTTPS. Designed with mobile devices in mind\n",
    "\n",
    "SOAP: Transports data in standard XML format. Because it is XML based and relies on SOAP, it works with WSDL. Works over HTTP, HTTPS, SMTP, XMPP. Designed with large enterprise applications in mind."
   ]
  }
 ],
 "metadata": {
  "kernelspec": {
   "display_name": "Python 3 (ipykernel)",
   "language": "python",
   "name": "python3"
  },
  "language_info": {
   "codemirror_mode": {
    "name": "ipython",
    "version": 3
   },
   "file_extension": ".py",
   "mimetype": "text/x-python",
   "name": "python",
   "nbconvert_exporter": "python",
   "pygments_lexer": "ipython3",
   "version": "3.10.8"
  }
 },
 "nbformat": 4,
 "nbformat_minor": 5
}
