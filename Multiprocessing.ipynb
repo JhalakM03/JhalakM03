{
 "cells": [
  {
   "cell_type": "markdown",
   "id": "c44816b4-5aa8-4f67-a9e2-7d6ccb422053",
   "metadata": {},
   "source": [
    "Q1. What is multiprocessing in python? Why is it useful?\n",
    "\n",
    "\n",
    "In Python, the multiprocessing module allows you to create multiple processes, each with its own Python interpreter and memory space, to parallelize and distribute tasks. This can be useful for speeding up certain types of computations and tasks that can be parallelized.\n"
   ]
  },
  {
   "cell_type": "markdown",
   "id": "80e71ee5-d7a4-4b51-9bad-f2dcb3442a97",
   "metadata": {},
   "source": [
    "Q2. What are the differences between multiprocessing and multithreading?\n",
    "\n",
    "Multiprocessing: Each process has its own memory space. Processes do not share memory, which means data is not shared between processes by default.\n",
    "Multithreading: Threads within a process share the same memory space. They can directly access shared data, but this can lead to data synchronization issues and requires the use of locks or other synchronization mechanisms to avoid conflicts.\n",
    "\n",
    "Multiprocessing: Processes run independently and can execute different parts of the program simultaneously on multiple CPU cores.\n",
    "Multithreading: Threads run concurrently within the same process. \n",
    "\n",
    "Multiprocessing: Creating and managing processes can have higher overhead compared to threads. Inter-process communication can be more complex.\n",
    "Multithreading: Threads are generally lighter weight than processes, and the overhead of creating and managing them is lower. "
   ]
  },
  {
   "cell_type": "markdown",
   "id": "14a1c0e0-15b9-41d3-b9b6-0188a9d8a2d4",
   "metadata": {},
   "source": [
    "Q3. Write a python code to create a process using the multiprocessing module."
   ]
  },
  {
   "cell_type": "code",
   "execution_count": 8,
   "id": "135cefde-729c-4f29-9ac1-ea8881c3a679",
   "metadata": {},
   "outputs": [
    {
     "name": "stdout",
     "output_type": "stream",
     "text": [
      "[1, 4, 9, 16, 25, 36, 49, 64]\n"
     ]
    }
   ],
   "source": [
    "from multiprocessing import Pool\n",
    "def f(x):\n",
    "    return x*x\n",
    "if __name__== \"__main__\":\n",
    "    with Pool(5) as p:\n",
    "        print(p.map(f,[1, 2, 3,4, 5, 6, 7, 8]))"
   ]
  },
  {
   "cell_type": "markdown",
   "id": "15fb03ee-03e4-4e03-8929-eab60bd0203a",
   "metadata": {},
   "source": [
    "Q4. What is a multiprocessing pool in python? Why is it used?\n",
    "\n",
    "A process pool is a programming pattern for automatically managing a pool of processes. The Pool Class automatically distributes the tasks to the available processors using a FIFO scheduling manner when you have a set of homogeneous tasks to be executed in parallel. It also maps different processors to different inputs and collects the output from all the processors and gives a combined result.\n",
    "It is used for data-based parallelism with the same function being executed on multiple input values with each input value being assigned to a process."
   ]
  },
  {
   "cell_type": "markdown",
   "id": "3cf0b0b8-b7a6-47b6-a96b-7436957fc356",
   "metadata": {},
   "source": [
    "Q5. How can we create a pool of worker processes in python using the multiprocessing module?\n",
    "\n",
    "An instance of multiprocessing.Pool class needs to be created to create a multiprocess pool. Below is the syntax for creating a pool;\n",
    "\n",
    "class multiprocessing.Pool(\n",
    "                 [processes[, \n",
    "                 initializer[,\n",
    "                 initargs[,\n",
    "                 maxtasksperchild]]]]\n",
    "                 )"
   ]
  },
  {
   "cell_type": "markdown",
   "id": "f6bf1277-c67b-4377-ba66-fcaf7e1f5ad1",
   "metadata": {},
   "source": [
    "Q6. Write a python program to create 4 processes, each process should print a different number using the\n",
    "multiprocessing module in python."
   ]
  },
  {
   "cell_type": "code",
   "execution_count": 19,
   "id": "2d80cbc7-67bc-4389-8379-50270169c427",
   "metadata": {},
   "outputs": [
    {
     "name": "stdout",
     "output_type": "stream",
     "text": [
      "Process-17 is printing: 1\n",
      "Process-18 is printing: 2\n",
      "Process-19 is printing: 3\n",
      "Process-20 is printing: 4\n"
     ]
    }
   ],
   "source": [
    "import multiprocessing\n",
    "\n",
    "def print_num(number):\n",
    "    print(f'{multiprocessing.current_process().name} is printing: {number}')\n",
    "    \n",
    "if __name__=='__main__':\n",
    "      number = [1,2,3,4]\n",
    "processes=[]\n",
    "for num in number:\n",
    "            process=multiprocessing.Process(target=print_num, args=(num,))\n",
    "            processes.append(process)\n",
    "for process in processes:\n",
    "          process.start()\n",
    "for process in processes:\n",
    "          process.join()"
   ]
  },
  {
   "cell_type": "code",
   "execution_count": null,
   "id": "50df0bf9-f58f-4eec-988a-60a991b54fb9",
   "metadata": {},
   "outputs": [],
   "source": []
  }
 ],
 "metadata": {
  "kernelspec": {
   "display_name": "Python 3 (ipykernel)",
   "language": "python",
   "name": "python3"
  },
  "language_info": {
   "codemirror_mode": {
    "name": "ipython",
    "version": 3
   },
   "file_extension": ".py",
   "mimetype": "text/x-python",
   "name": "python",
   "nbconvert_exporter": "python",
   "pygments_lexer": "ipython3",
   "version": "3.10.8"
  }
 },
 "nbformat": 4,
 "nbformat_minor": 5
}
