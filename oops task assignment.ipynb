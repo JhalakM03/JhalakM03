{
 "cells": [
  {
   "cell_type": "markdown",
   "id": "b394d76f-c6bc-4427-9d57-dd9639b09748",
   "metadata": {},
   "source": [
    "Q1, Create a vehicle class with an init method having instance variables as name_of_vehicle, max_speed\n",
    "and average_of_vehicle."
   ]
  },
  {
   "cell_type": "code",
   "execution_count": 4,
   "id": "a0652008-49f8-4cd1-9725-8204b8ae1fe7",
   "metadata": {},
   "outputs": [],
   "source": [
    "class vehicle:\n",
    "    def __init__(self, name_of_vehicle, max_speed, average_of_vehicle):\n",
    "        self.name_of_vehicle= name_of_vehicle\n",
    "        self.max_speed=max_speed\n",
    "        self.average_of_vehicle=average_of_vehicle"
   ]
  },
  {
   "cell_type": "code",
   "execution_count": 7,
   "id": "7c8f0e64-8a1f-409d-bfa8-fc2e4b9a4ae2",
   "metadata": {},
   "outputs": [],
   "source": [
    "v1= vehicle('i20', 120, 32)"
   ]
  },
  {
   "cell_type": "code",
   "execution_count": 9,
   "id": "60186028-b97a-4905-b941-77beed7753f8",
   "metadata": {},
   "outputs": [
    {
     "data": {
      "text/plain": [
       "'i20'"
      ]
     },
     "execution_count": 9,
     "metadata": {},
     "output_type": "execute_result"
    }
   ],
   "source": [
    "v1.name_of_vehicle"
   ]
  },
  {
   "cell_type": "markdown",
   "id": "4babcff2-7589-4e66-8b89-d5f2d44d6fe0",
   "metadata": {},
   "source": [
    "Q2. Create a child class car from the vehicle class created in Que 1, which will inherit the vehicle class.\n",
    "Create a method named seating_capacity which takes capacity as an argument and returns the name of\n",
    "the vehicle and its seating capacity."
   ]
  },
  {
   "cell_type": "code",
   "execution_count": 13,
   "id": "99963aaa-97bb-4549-85b7-94102199fcbb",
   "metadata": {},
   "outputs": [],
   "source": [
    "class car(vehicle):\n",
    "    def seating_capacity(self, capacity):\n",
    "        self.capacity=capacity\n",
    "        print('The name of the vehicle is', self.name_of_vehicle + 'and its seating capacty is', self.capacity)"
   ]
  },
  {
   "cell_type": "code",
   "execution_count": 14,
   "id": "3402b033-b839-420f-9530-b81a07ee0c86",
   "metadata": {},
   "outputs": [],
   "source": [
    "car1= car('i20', 120, 32)"
   ]
  },
  {
   "cell_type": "code",
   "execution_count": 15,
   "id": "0f72a9b7-411e-40f6-a022-115a063348d2",
   "metadata": {},
   "outputs": [
    {
     "name": "stdout",
     "output_type": "stream",
     "text": [
      "The name of the vehicle is i20and its seating capacty is 5\n"
     ]
    }
   ],
   "source": [
    "car1.seating_capacity(5)"
   ]
  },
  {
   "cell_type": "markdown",
   "id": "a4a427f7-53e1-445e-90b3-4a907c7a92fd",
   "metadata": {},
   "source": [
    "Q3. What is multiple inheritance? Write a python code to demonstrate multiple inheritance."
   ]
  },
  {
   "cell_type": "markdown",
   "id": "1ece5bfc-0263-44c9-b848-e1b4de403a21",
   "metadata": {},
   "source": [
    "When a class can be derived from multiple base classes, this type of inheritance is called multiple inheritance."
   ]
  },
  {
   "cell_type": "code",
   "execution_count": 16,
   "id": "d88c9bae-774f-427d-b7dd-c718b0574869",
   "metadata": {},
   "outputs": [],
   "source": [
    "class color1:\n",
    "    colorname=''\n",
    "    def blue(self):\n",
    "        print(self.colorname)\n",
    "class color2:\n",
    "    colorname1=''\n",
    "    def yellow(self):\n",
    "        print(self.colorname1)\n",
    "class color3:\n",
    "    def color_result(self):\n",
    "        print(self.colorname)\n",
    "        print(self.colorname1)"
   ]
  },
  {
   "cell_type": "code",
   "execution_count": 17,
   "id": "48c927e9-4eba-462b-ba04-7c7d07d88ded",
   "metadata": {},
   "outputs": [
    {
     "name": "stdout",
     "output_type": "stream",
     "text": [
      "blue\n",
      "yellow\n"
     ]
    }
   ],
   "source": [
    "color4= color3()\n",
    "color4.colorname= 'blue'\n",
    "color4.colorname1='yellow'\n",
    "color4. color_result()"
   ]
  },
  {
   "cell_type": "markdown",
   "id": "cfb257e5-f5ed-40ca-97ca-2b1f4ca43975",
   "metadata": {},
   "source": [
    "Q4. What are getter and setter in python? Create a class and create a getter and a setter method in this\n",
    "class."
   ]
  },
  {
   "cell_type": "markdown",
   "id": "5024408c-d4bb-47b2-99fa-bd0991e0b02e",
   "metadata": {},
   "source": [
    "The purpose of getter and setter is to ensure encapsulation. It is used to avoid direct access to the class variables."
   ]
  },
  {
   "cell_type": "code",
   "execution_count": 48,
   "id": "354f5884-3977-49e3-9f5e-62ef4de2a248",
   "metadata": {},
   "outputs": [],
   "source": [
    "class my_age:\n",
    "    def __init__(self, age=0):\n",
    "        self._age= age\n",
    "    def get_age(self):\n",
    "        return self._age\n",
    "    def set_age(self, x):\n",
    "        self._age = x"
   ]
  },
  {
   "cell_type": "code",
   "execution_count": 49,
   "id": "5d76950d-049c-4049-bf1c-91ee23374191",
   "metadata": {},
   "outputs": [],
   "source": [
    "age2=my_age()"
   ]
  },
  {
   "cell_type": "code",
   "execution_count": 50,
   "id": "8ea86699-9cd5-4b16-9443-40d0f70940dd",
   "metadata": {},
   "outputs": [],
   "source": [
    "age2.set_age(29)"
   ]
  },
  {
   "cell_type": "code",
   "execution_count": 51,
   "id": "f8bffa28-6fa4-4f38-a1e2-aa991cd3857b",
   "metadata": {},
   "outputs": [
    {
     "name": "stdout",
     "output_type": "stream",
     "text": [
      "29\n"
     ]
    }
   ],
   "source": [
    "print(age2.get_age())"
   ]
  },
  {
   "cell_type": "markdown",
   "id": "4b66d591-f109-402c-b6ad-70079a8b3da9",
   "metadata": {},
   "source": [
    "Q5.What is method overriding in python? Write a python code to demonstrate method overriding."
   ]
  },
  {
   "cell_type": "markdown",
   "id": "4e11df27-f532-4c9e-ab40-2752f930abc3",
   "metadata": {},
   "source": [
    "When a method in subclass has same name, parameters and same return type as its method in super class then the method in subclass will overrride the method in master class."
   ]
  },
  {
   "cell_type": "code",
   "execution_count": 61,
   "id": "1a19fa70-9c5f-4b05-90f0-5dd9ffdf7826",
   "metadata": {},
   "outputs": [],
   "source": [
    "class parent:\n",
    "    def __init__(self):\n",
    "        self.value='Inside parent'\n",
    "    def show(self):\n",
    "        print(self.value)\n",
    "class child(parent):\n",
    "    def __init__(self):\n",
    "        self.value='Inside Child'\n",
    "    def show(self):\n",
    "        print(self.value)"
   ]
  },
  {
   "cell_type": "code",
   "execution_count": 62,
   "id": "1c36a0a4-d285-4e48-8d28-235b1820f6b9",
   "metadata": {},
   "outputs": [],
   "source": [
    "obj_1=parent()\n",
    "obj=child()"
   ]
  },
  {
   "cell_type": "code",
   "execution_count": 65,
   "id": "46c45d41-0eef-4ddf-afb9-ba628a1b38db",
   "metadata": {},
   "outputs": [
    {
     "name": "stdout",
     "output_type": "stream",
     "text": [
      "Inside parent\n",
      "Inside Child\n"
     ]
    }
   ],
   "source": [
    "obj_1.show()\n",
    "obj.show()"
   ]
  },
  {
   "cell_type": "code",
   "execution_count": null,
   "id": "8d5a1249-138e-4f6a-94f3-a461958946fb",
   "metadata": {},
   "outputs": [],
   "source": []
  }
 ],
 "metadata": {
  "kernelspec": {
   "display_name": "Python 3 (ipykernel)",
   "language": "python",
   "name": "python3"
  },
  "language_info": {
   "codemirror_mode": {
    "name": "ipython",
    "version": 3
   },
   "file_extension": ".py",
   "mimetype": "text/x-python",
   "name": "python",
   "nbconvert_exporter": "python",
   "pygments_lexer": "ipython3",
   "version": "3.10.8"
  }
 },
 "nbformat": 4,
 "nbformat_minor": 5
}
