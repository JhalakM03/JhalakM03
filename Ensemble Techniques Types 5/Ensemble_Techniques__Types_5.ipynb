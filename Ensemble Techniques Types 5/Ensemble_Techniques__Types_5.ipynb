{
  "nbformat": 4,
  "nbformat_minor": 0,
  "metadata": {
    "colab": {
      "provenance": []
    },
    "kernelspec": {
      "name": "python3",
      "display_name": "Python 3"
    },
    "language_info": {
      "name": "python"
    }
  },
  "cells": [
    {
      "cell_type": "markdown",
      "source": [
        "Q1. You are working on a machine learning project where you have a dataset containing numerical and\n",
        "categorical features. You have identified that some of the features are highly correlated and there are\n",
        "missing values in some of the columns. You want to build a pipeline that automates the feature\n",
        "engineering process and handles the missing values.\n",
        "\n",
        "Design a pipeline that includes the following steps:\n",
        "- Use an automated feature selection method to identify the important features in the datasetC\n",
        "- Create a numerical pipeline that includes the following steps\"\n",
        "- Impute the missing values in the numerical columns using the mean of the column valuesC\n",
        "- Scale the numerical columns using standardisationC\n",
        "- Create a categorical pipeline that includes the following steps\"\n",
        "- Impute the missing values in the categorical columns using the most frequent value of the columnC\n",
        "- One-hot encode the categorical columnsC\n",
        "- Combine the numerical and categorical pipelines using a ColumnTransformerC\n",
        "- Use a Random Forest Classifier to build the final modelC\n",
        "- Evaluate the accuracy of the model on the test dataset.\n",
        "\n",
        "Note: Your solution should include code snippets for each step of the pipeline, and a brief explanation of each step. You should also provide an interpretation of the results and suggest possible improvements for the pipeline."
      ],
      "metadata": {
        "id": "KXWyjCuF0MJq"
      }
    },
    {
      "cell_type": "code",
      "execution_count": 1,
      "metadata": {
        "id": "2Tj2QPskyPY0",
        "colab": {
          "base_uri": "https://localhost:8080/",
          "height": 325
        },
        "outputId": "9d87a508-9417-4406-d9ab-d1f5d5c59cbf"
      },
      "outputs": [
        {
          "output_type": "execute_result",
          "data": {
            "text/plain": [
              "   Age Attrition     BusinessTravel  DailyRate              Department  \\\n",
              "0   41       Yes      Travel_Rarely       1102                   Sales   \n",
              "1   49        No  Travel_Frequently        279  Research & Development   \n",
              "2   37       Yes      Travel_Rarely       1373  Research & Development   \n",
              "3   33        No  Travel_Frequently       1392  Research & Development   \n",
              "4   27        No      Travel_Rarely        591  Research & Development   \n",
              "\n",
              "   DistanceFromHome  Education EducationField  EmployeeCount  EmployeeNumber  \\\n",
              "0                 1          2  Life Sciences              1               1   \n",
              "1                 8          1  Life Sciences              1               2   \n",
              "2                 2          2          Other              1               4   \n",
              "3                 3          4  Life Sciences              1               5   \n",
              "4                 2          1        Medical              1               7   \n",
              "\n",
              "   ...  RelationshipSatisfaction StandardHours  StockOptionLevel  \\\n",
              "0  ...                         1            80                 0   \n",
              "1  ...                         4            80                 1   \n",
              "2  ...                         2            80                 0   \n",
              "3  ...                         3            80                 0   \n",
              "4  ...                         4            80                 1   \n",
              "\n",
              "   TotalWorkingYears  TrainingTimesLastYear WorkLifeBalance  YearsAtCompany  \\\n",
              "0                  8                      0               1               6   \n",
              "1                 10                      3               3              10   \n",
              "2                  7                      3               3               0   \n",
              "3                  8                      3               3               8   \n",
              "4                  6                      3               3               2   \n",
              "\n",
              "  YearsInCurrentRole  YearsSinceLastPromotion  YearsWithCurrManager  \n",
              "0                  4                        0                     5  \n",
              "1                  7                        1                     7  \n",
              "2                  0                        0                     0  \n",
              "3                  7                        3                     0  \n",
              "4                  2                        2                     2  \n",
              "\n",
              "[5 rows x 35 columns]"
            ],
            "text/html": [
              "\n",
              "  <div id=\"df-45f07715-6179-46a9-ab78-0d89eb83e635\" class=\"colab-df-container\">\n",
              "    <div>\n",
              "<style scoped>\n",
              "    .dataframe tbody tr th:only-of-type {\n",
              "        vertical-align: middle;\n",
              "    }\n",
              "\n",
              "    .dataframe tbody tr th {\n",
              "        vertical-align: top;\n",
              "    }\n",
              "\n",
              "    .dataframe thead th {\n",
              "        text-align: right;\n",
              "    }\n",
              "</style>\n",
              "<table border=\"1\" class=\"dataframe\">\n",
              "  <thead>\n",
              "    <tr style=\"text-align: right;\">\n",
              "      <th></th>\n",
              "      <th>Age</th>\n",
              "      <th>Attrition</th>\n",
              "      <th>BusinessTravel</th>\n",
              "      <th>DailyRate</th>\n",
              "      <th>Department</th>\n",
              "      <th>DistanceFromHome</th>\n",
              "      <th>Education</th>\n",
              "      <th>EducationField</th>\n",
              "      <th>EmployeeCount</th>\n",
              "      <th>EmployeeNumber</th>\n",
              "      <th>...</th>\n",
              "      <th>RelationshipSatisfaction</th>\n",
              "      <th>StandardHours</th>\n",
              "      <th>StockOptionLevel</th>\n",
              "      <th>TotalWorkingYears</th>\n",
              "      <th>TrainingTimesLastYear</th>\n",
              "      <th>WorkLifeBalance</th>\n",
              "      <th>YearsAtCompany</th>\n",
              "      <th>YearsInCurrentRole</th>\n",
              "      <th>YearsSinceLastPromotion</th>\n",
              "      <th>YearsWithCurrManager</th>\n",
              "    </tr>\n",
              "  </thead>\n",
              "  <tbody>\n",
              "    <tr>\n",
              "      <th>0</th>\n",
              "      <td>41</td>\n",
              "      <td>Yes</td>\n",
              "      <td>Travel_Rarely</td>\n",
              "      <td>1102</td>\n",
              "      <td>Sales</td>\n",
              "      <td>1</td>\n",
              "      <td>2</td>\n",
              "      <td>Life Sciences</td>\n",
              "      <td>1</td>\n",
              "      <td>1</td>\n",
              "      <td>...</td>\n",
              "      <td>1</td>\n",
              "      <td>80</td>\n",
              "      <td>0</td>\n",
              "      <td>8</td>\n",
              "      <td>0</td>\n",
              "      <td>1</td>\n",
              "      <td>6</td>\n",
              "      <td>4</td>\n",
              "      <td>0</td>\n",
              "      <td>5</td>\n",
              "    </tr>\n",
              "    <tr>\n",
              "      <th>1</th>\n",
              "      <td>49</td>\n",
              "      <td>No</td>\n",
              "      <td>Travel_Frequently</td>\n",
              "      <td>279</td>\n",
              "      <td>Research &amp; Development</td>\n",
              "      <td>8</td>\n",
              "      <td>1</td>\n",
              "      <td>Life Sciences</td>\n",
              "      <td>1</td>\n",
              "      <td>2</td>\n",
              "      <td>...</td>\n",
              "      <td>4</td>\n",
              "      <td>80</td>\n",
              "      <td>1</td>\n",
              "      <td>10</td>\n",
              "      <td>3</td>\n",
              "      <td>3</td>\n",
              "      <td>10</td>\n",
              "      <td>7</td>\n",
              "      <td>1</td>\n",
              "      <td>7</td>\n",
              "    </tr>\n",
              "    <tr>\n",
              "      <th>2</th>\n",
              "      <td>37</td>\n",
              "      <td>Yes</td>\n",
              "      <td>Travel_Rarely</td>\n",
              "      <td>1373</td>\n",
              "      <td>Research &amp; Development</td>\n",
              "      <td>2</td>\n",
              "      <td>2</td>\n",
              "      <td>Other</td>\n",
              "      <td>1</td>\n",
              "      <td>4</td>\n",
              "      <td>...</td>\n",
              "      <td>2</td>\n",
              "      <td>80</td>\n",
              "      <td>0</td>\n",
              "      <td>7</td>\n",
              "      <td>3</td>\n",
              "      <td>3</td>\n",
              "      <td>0</td>\n",
              "      <td>0</td>\n",
              "      <td>0</td>\n",
              "      <td>0</td>\n",
              "    </tr>\n",
              "    <tr>\n",
              "      <th>3</th>\n",
              "      <td>33</td>\n",
              "      <td>No</td>\n",
              "      <td>Travel_Frequently</td>\n",
              "      <td>1392</td>\n",
              "      <td>Research &amp; Development</td>\n",
              "      <td>3</td>\n",
              "      <td>4</td>\n",
              "      <td>Life Sciences</td>\n",
              "      <td>1</td>\n",
              "      <td>5</td>\n",
              "      <td>...</td>\n",
              "      <td>3</td>\n",
              "      <td>80</td>\n",
              "      <td>0</td>\n",
              "      <td>8</td>\n",
              "      <td>3</td>\n",
              "      <td>3</td>\n",
              "      <td>8</td>\n",
              "      <td>7</td>\n",
              "      <td>3</td>\n",
              "      <td>0</td>\n",
              "    </tr>\n",
              "    <tr>\n",
              "      <th>4</th>\n",
              "      <td>27</td>\n",
              "      <td>No</td>\n",
              "      <td>Travel_Rarely</td>\n",
              "      <td>591</td>\n",
              "      <td>Research &amp; Development</td>\n",
              "      <td>2</td>\n",
              "      <td>1</td>\n",
              "      <td>Medical</td>\n",
              "      <td>1</td>\n",
              "      <td>7</td>\n",
              "      <td>...</td>\n",
              "      <td>4</td>\n",
              "      <td>80</td>\n",
              "      <td>1</td>\n",
              "      <td>6</td>\n",
              "      <td>3</td>\n",
              "      <td>3</td>\n",
              "      <td>2</td>\n",
              "      <td>2</td>\n",
              "      <td>2</td>\n",
              "      <td>2</td>\n",
              "    </tr>\n",
              "  </tbody>\n",
              "</table>\n",
              "<p>5 rows × 35 columns</p>\n",
              "</div>\n",
              "    <div class=\"colab-df-buttons\">\n",
              "\n",
              "  <div class=\"colab-df-container\">\n",
              "    <button class=\"colab-df-convert\" onclick=\"convertToInteractive('df-45f07715-6179-46a9-ab78-0d89eb83e635')\"\n",
              "            title=\"Convert this dataframe to an interactive table.\"\n",
              "            style=\"display:none;\">\n",
              "\n",
              "  <svg xmlns=\"http://www.w3.org/2000/svg\" height=\"24px\" viewBox=\"0 -960 960 960\">\n",
              "    <path d=\"M120-120v-720h720v720H120Zm60-500h600v-160H180v160Zm220 220h160v-160H400v160Zm0 220h160v-160H400v160ZM180-400h160v-160H180v160Zm440 0h160v-160H620v160ZM180-180h160v-160H180v160Zm440 0h160v-160H620v160Z\"/>\n",
              "  </svg>\n",
              "    </button>\n",
              "\n",
              "  <style>\n",
              "    .colab-df-container {\n",
              "      display:flex;\n",
              "      gap: 12px;\n",
              "    }\n",
              "\n",
              "    .colab-df-convert {\n",
              "      background-color: #E8F0FE;\n",
              "      border: none;\n",
              "      border-radius: 50%;\n",
              "      cursor: pointer;\n",
              "      display: none;\n",
              "      fill: #1967D2;\n",
              "      height: 32px;\n",
              "      padding: 0 0 0 0;\n",
              "      width: 32px;\n",
              "    }\n",
              "\n",
              "    .colab-df-convert:hover {\n",
              "      background-color: #E2EBFA;\n",
              "      box-shadow: 0px 1px 2px rgba(60, 64, 67, 0.3), 0px 1px 3px 1px rgba(60, 64, 67, 0.15);\n",
              "      fill: #174EA6;\n",
              "    }\n",
              "\n",
              "    .colab-df-buttons div {\n",
              "      margin-bottom: 4px;\n",
              "    }\n",
              "\n",
              "    [theme=dark] .colab-df-convert {\n",
              "      background-color: #3B4455;\n",
              "      fill: #D2E3FC;\n",
              "    }\n",
              "\n",
              "    [theme=dark] .colab-df-convert:hover {\n",
              "      background-color: #434B5C;\n",
              "      box-shadow: 0px 1px 3px 1px rgba(0, 0, 0, 0.15);\n",
              "      filter: drop-shadow(0px 1px 2px rgba(0, 0, 0, 0.3));\n",
              "      fill: #FFFFFF;\n",
              "    }\n",
              "  </style>\n",
              "\n",
              "    <script>\n",
              "      const buttonEl =\n",
              "        document.querySelector('#df-45f07715-6179-46a9-ab78-0d89eb83e635 button.colab-df-convert');\n",
              "      buttonEl.style.display =\n",
              "        google.colab.kernel.accessAllowed ? 'block' : 'none';\n",
              "\n",
              "      async function convertToInteractive(key) {\n",
              "        const element = document.querySelector('#df-45f07715-6179-46a9-ab78-0d89eb83e635');\n",
              "        const dataTable =\n",
              "          await google.colab.kernel.invokeFunction('convertToInteractive',\n",
              "                                                    [key], {});\n",
              "        if (!dataTable) return;\n",
              "\n",
              "        const docLinkHtml = 'Like what you see? Visit the ' +\n",
              "          '<a target=\"_blank\" href=https://colab.research.google.com/notebooks/data_table.ipynb>data table notebook</a>'\n",
              "          + ' to learn more about interactive tables.';\n",
              "        element.innerHTML = '';\n",
              "        dataTable['output_type'] = 'display_data';\n",
              "        await google.colab.output.renderOutput(dataTable, element);\n",
              "        const docLink = document.createElement('div');\n",
              "        docLink.innerHTML = docLinkHtml;\n",
              "        element.appendChild(docLink);\n",
              "      }\n",
              "    </script>\n",
              "  </div>\n",
              "\n",
              "\n",
              "<div id=\"df-87880420-48c0-4140-b5a9-a146331eaac3\">\n",
              "  <button class=\"colab-df-quickchart\" onclick=\"quickchart('df-87880420-48c0-4140-b5a9-a146331eaac3')\"\n",
              "            title=\"Suggest charts\"\n",
              "            style=\"display:none;\">\n",
              "\n",
              "<svg xmlns=\"http://www.w3.org/2000/svg\" height=\"24px\"viewBox=\"0 0 24 24\"\n",
              "     width=\"24px\">\n",
              "    <g>\n",
              "        <path d=\"M19 3H5c-1.1 0-2 .9-2 2v14c0 1.1.9 2 2 2h14c1.1 0 2-.9 2-2V5c0-1.1-.9-2-2-2zM9 17H7v-7h2v7zm4 0h-2V7h2v10zm4 0h-2v-4h2v4z\"/>\n",
              "    </g>\n",
              "</svg>\n",
              "  </button>\n",
              "\n",
              "<style>\n",
              "  .colab-df-quickchart {\n",
              "      --bg-color: #E8F0FE;\n",
              "      --fill-color: #1967D2;\n",
              "      --hover-bg-color: #E2EBFA;\n",
              "      --hover-fill-color: #174EA6;\n",
              "      --disabled-fill-color: #AAA;\n",
              "      --disabled-bg-color: #DDD;\n",
              "  }\n",
              "\n",
              "  [theme=dark] .colab-df-quickchart {\n",
              "      --bg-color: #3B4455;\n",
              "      --fill-color: #D2E3FC;\n",
              "      --hover-bg-color: #434B5C;\n",
              "      --hover-fill-color: #FFFFFF;\n",
              "      --disabled-bg-color: #3B4455;\n",
              "      --disabled-fill-color: #666;\n",
              "  }\n",
              "\n",
              "  .colab-df-quickchart {\n",
              "    background-color: var(--bg-color);\n",
              "    border: none;\n",
              "    border-radius: 50%;\n",
              "    cursor: pointer;\n",
              "    display: none;\n",
              "    fill: var(--fill-color);\n",
              "    height: 32px;\n",
              "    padding: 0;\n",
              "    width: 32px;\n",
              "  }\n",
              "\n",
              "  .colab-df-quickchart:hover {\n",
              "    background-color: var(--hover-bg-color);\n",
              "    box-shadow: 0 1px 2px rgba(60, 64, 67, 0.3), 0 1px 3px 1px rgba(60, 64, 67, 0.15);\n",
              "    fill: var(--button-hover-fill-color);\n",
              "  }\n",
              "\n",
              "  .colab-df-quickchart-complete:disabled,\n",
              "  .colab-df-quickchart-complete:disabled:hover {\n",
              "    background-color: var(--disabled-bg-color);\n",
              "    fill: var(--disabled-fill-color);\n",
              "    box-shadow: none;\n",
              "  }\n",
              "\n",
              "  .colab-df-spinner {\n",
              "    border: 2px solid var(--fill-color);\n",
              "    border-color: transparent;\n",
              "    border-bottom-color: var(--fill-color);\n",
              "    animation:\n",
              "      spin 1s steps(1) infinite;\n",
              "  }\n",
              "\n",
              "  @keyframes spin {\n",
              "    0% {\n",
              "      border-color: transparent;\n",
              "      border-bottom-color: var(--fill-color);\n",
              "      border-left-color: var(--fill-color);\n",
              "    }\n",
              "    20% {\n",
              "      border-color: transparent;\n",
              "      border-left-color: var(--fill-color);\n",
              "      border-top-color: var(--fill-color);\n",
              "    }\n",
              "    30% {\n",
              "      border-color: transparent;\n",
              "      border-left-color: var(--fill-color);\n",
              "      border-top-color: var(--fill-color);\n",
              "      border-right-color: var(--fill-color);\n",
              "    }\n",
              "    40% {\n",
              "      border-color: transparent;\n",
              "      border-right-color: var(--fill-color);\n",
              "      border-top-color: var(--fill-color);\n",
              "    }\n",
              "    60% {\n",
              "      border-color: transparent;\n",
              "      border-right-color: var(--fill-color);\n",
              "    }\n",
              "    80% {\n",
              "      border-color: transparent;\n",
              "      border-right-color: var(--fill-color);\n",
              "      border-bottom-color: var(--fill-color);\n",
              "    }\n",
              "    90% {\n",
              "      border-color: transparent;\n",
              "      border-bottom-color: var(--fill-color);\n",
              "    }\n",
              "  }\n",
              "</style>\n",
              "\n",
              "  <script>\n",
              "    async function quickchart(key) {\n",
              "      const quickchartButtonEl =\n",
              "        document.querySelector('#' + key + ' button');\n",
              "      quickchartButtonEl.disabled = true;  // To prevent multiple clicks.\n",
              "      quickchartButtonEl.classList.add('colab-df-spinner');\n",
              "      try {\n",
              "        const charts = await google.colab.kernel.invokeFunction(\n",
              "            'suggestCharts', [key], {});\n",
              "      } catch (error) {\n",
              "        console.error('Error during call to suggestCharts:', error);\n",
              "      }\n",
              "      quickchartButtonEl.classList.remove('colab-df-spinner');\n",
              "      quickchartButtonEl.classList.add('colab-df-quickchart-complete');\n",
              "    }\n",
              "    (() => {\n",
              "      let quickchartButtonEl =\n",
              "        document.querySelector('#df-87880420-48c0-4140-b5a9-a146331eaac3 button');\n",
              "      quickchartButtonEl.style.display =\n",
              "        google.colab.kernel.accessAllowed ? 'block' : 'none';\n",
              "    })();\n",
              "  </script>\n",
              "</div>\n",
              "\n",
              "    </div>\n",
              "  </div>\n"
            ],
            "application/vnd.google.colaboratory.intrinsic+json": {
              "type": "dataframe",
              "variable_name": "df"
            }
          },
          "metadata": {},
          "execution_count": 1
        }
      ],
      "source": [
        "import pandas as pd\n",
        "df = pd.read_csv('/content/HR_Employee_Attrition.csv')\n",
        "df.head()"
      ]
    },
    {
      "cell_type": "code",
      "source": [
        "df.shape"
      ],
      "metadata": {
        "colab": {
          "base_uri": "https://localhost:8080/"
        },
        "id": "mj3e3hfS5AeO",
        "outputId": "768f723c-26e3-4648-ac65-54045eb48927"
      },
      "execution_count": 2,
      "outputs": [
        {
          "output_type": "execute_result",
          "data": {
            "text/plain": [
              "(1470, 35)"
            ]
          },
          "metadata": {},
          "execution_count": 2
        }
      ]
    },
    {
      "cell_type": "code",
      "source": [
        "df.info()"
      ],
      "metadata": {
        "colab": {
          "base_uri": "https://localhost:8080/"
        },
        "id": "JjXF3BLr9y83",
        "outputId": "1e9920e0-08e2-49c2-ba21-21051cc0f817"
      },
      "execution_count": 3,
      "outputs": [
        {
          "output_type": "stream",
          "name": "stdout",
          "text": [
            "<class 'pandas.core.frame.DataFrame'>\n",
            "RangeIndex: 1470 entries, 0 to 1469\n",
            "Data columns (total 35 columns):\n",
            " #   Column                    Non-Null Count  Dtype \n",
            "---  ------                    --------------  ----- \n",
            " 0   Age                       1470 non-null   int64 \n",
            " 1   Attrition                 1470 non-null   object\n",
            " 2   BusinessTravel            1470 non-null   object\n",
            " 3   DailyRate                 1470 non-null   int64 \n",
            " 4   Department                1470 non-null   object\n",
            " 5   DistanceFromHome          1470 non-null   int64 \n",
            " 6   Education                 1470 non-null   int64 \n",
            " 7   EducationField            1470 non-null   object\n",
            " 8   EmployeeCount             1470 non-null   int64 \n",
            " 9   EmployeeNumber            1470 non-null   int64 \n",
            " 10  EnvironmentSatisfaction   1470 non-null   int64 \n",
            " 11  Gender                    1470 non-null   object\n",
            " 12  HourlyRate                1470 non-null   int64 \n",
            " 13  JobInvolvement            1470 non-null   int64 \n",
            " 14  JobLevel                  1470 non-null   int64 \n",
            " 15  JobRole                   1470 non-null   object\n",
            " 16  JobSatisfaction           1470 non-null   int64 \n",
            " 17  MaritalStatus             1470 non-null   object\n",
            " 18  MonthlyIncome             1470 non-null   int64 \n",
            " 19  MonthlyRate               1470 non-null   int64 \n",
            " 20  NumCompaniesWorked        1470 non-null   int64 \n",
            " 21  Over18                    1470 non-null   object\n",
            " 22  OverTime                  1470 non-null   object\n",
            " 23  PercentSalaryHike         1470 non-null   int64 \n",
            " 24  PerformanceRating         1470 non-null   int64 \n",
            " 25  RelationshipSatisfaction  1470 non-null   int64 \n",
            " 26  StandardHours             1470 non-null   int64 \n",
            " 27  StockOptionLevel          1470 non-null   int64 \n",
            " 28  TotalWorkingYears         1470 non-null   int64 \n",
            " 29  TrainingTimesLastYear     1470 non-null   int64 \n",
            " 30  WorkLifeBalance           1470 non-null   int64 \n",
            " 31  YearsAtCompany            1470 non-null   int64 \n",
            " 32  YearsInCurrentRole        1470 non-null   int64 \n",
            " 33  YearsSinceLastPromotion   1470 non-null   int64 \n",
            " 34  YearsWithCurrManager      1470 non-null   int64 \n",
            "dtypes: int64(26), object(9)\n",
            "memory usage: 402.1+ KB\n"
          ]
        }
      ]
    },
    {
      "cell_type": "code",
      "source": [
        "df.isnull().sum()"
      ],
      "metadata": {
        "colab": {
          "base_uri": "https://localhost:8080/"
        },
        "id": "NmorlwkW91Op",
        "outputId": "216adfa3-4c0a-4deb-f726-f7ad76869b19"
      },
      "execution_count": 4,
      "outputs": [
        {
          "output_type": "execute_result",
          "data": {
            "text/plain": [
              "Age                         0\n",
              "Attrition                   0\n",
              "BusinessTravel              0\n",
              "DailyRate                   0\n",
              "Department                  0\n",
              "DistanceFromHome            0\n",
              "Education                   0\n",
              "EducationField              0\n",
              "EmployeeCount               0\n",
              "EmployeeNumber              0\n",
              "EnvironmentSatisfaction     0\n",
              "Gender                      0\n",
              "HourlyRate                  0\n",
              "JobInvolvement              0\n",
              "JobLevel                    0\n",
              "JobRole                     0\n",
              "JobSatisfaction             0\n",
              "MaritalStatus               0\n",
              "MonthlyIncome               0\n",
              "MonthlyRate                 0\n",
              "NumCompaniesWorked          0\n",
              "Over18                      0\n",
              "OverTime                    0\n",
              "PercentSalaryHike           0\n",
              "PerformanceRating           0\n",
              "RelationshipSatisfaction    0\n",
              "StandardHours               0\n",
              "StockOptionLevel            0\n",
              "TotalWorkingYears           0\n",
              "TrainingTimesLastYear       0\n",
              "WorkLifeBalance             0\n",
              "YearsAtCompany              0\n",
              "YearsInCurrentRole          0\n",
              "YearsSinceLastPromotion     0\n",
              "YearsWithCurrManager        0\n",
              "dtype: int64"
            ]
          },
          "metadata": {},
          "execution_count": 4
        }
      ]
    },
    {
      "cell_type": "code",
      "source": [
        "X=df.drop(labels=['Attrition'],axis=1)\n",
        "y=df[['Attrition']]"
      ],
      "metadata": {
        "id": "FQs-VSs8_JGC"
      },
      "execution_count": 5,
      "outputs": []
    },
    {
      "cell_type": "code",
      "source": [
        "y.head()"
      ],
      "metadata": {
        "id": "_IbMfkZCxA_p",
        "colab": {
          "base_uri": "https://localhost:8080/",
          "height": 206
        },
        "outputId": "42d1d1c1-3f73-4ae8-fe16-83a7ddb73c07"
      },
      "execution_count": 6,
      "outputs": [
        {
          "output_type": "execute_result",
          "data": {
            "text/plain": [
              "  Attrition\n",
              "0       Yes\n",
              "1        No\n",
              "2       Yes\n",
              "3        No\n",
              "4        No"
            ],
            "text/html": [
              "\n",
              "  <div id=\"df-c5f3e020-4408-4f4e-b507-86acff50cf58\" class=\"colab-df-container\">\n",
              "    <div>\n",
              "<style scoped>\n",
              "    .dataframe tbody tr th:only-of-type {\n",
              "        vertical-align: middle;\n",
              "    }\n",
              "\n",
              "    .dataframe tbody tr th {\n",
              "        vertical-align: top;\n",
              "    }\n",
              "\n",
              "    .dataframe thead th {\n",
              "        text-align: right;\n",
              "    }\n",
              "</style>\n",
              "<table border=\"1\" class=\"dataframe\">\n",
              "  <thead>\n",
              "    <tr style=\"text-align: right;\">\n",
              "      <th></th>\n",
              "      <th>Attrition</th>\n",
              "    </tr>\n",
              "  </thead>\n",
              "  <tbody>\n",
              "    <tr>\n",
              "      <th>0</th>\n",
              "      <td>Yes</td>\n",
              "    </tr>\n",
              "    <tr>\n",
              "      <th>1</th>\n",
              "      <td>No</td>\n",
              "    </tr>\n",
              "    <tr>\n",
              "      <th>2</th>\n",
              "      <td>Yes</td>\n",
              "    </tr>\n",
              "    <tr>\n",
              "      <th>3</th>\n",
              "      <td>No</td>\n",
              "    </tr>\n",
              "    <tr>\n",
              "      <th>4</th>\n",
              "      <td>No</td>\n",
              "    </tr>\n",
              "  </tbody>\n",
              "</table>\n",
              "</div>\n",
              "    <div class=\"colab-df-buttons\">\n",
              "\n",
              "  <div class=\"colab-df-container\">\n",
              "    <button class=\"colab-df-convert\" onclick=\"convertToInteractive('df-c5f3e020-4408-4f4e-b507-86acff50cf58')\"\n",
              "            title=\"Convert this dataframe to an interactive table.\"\n",
              "            style=\"display:none;\">\n",
              "\n",
              "  <svg xmlns=\"http://www.w3.org/2000/svg\" height=\"24px\" viewBox=\"0 -960 960 960\">\n",
              "    <path d=\"M120-120v-720h720v720H120Zm60-500h600v-160H180v160Zm220 220h160v-160H400v160Zm0 220h160v-160H400v160ZM180-400h160v-160H180v160Zm440 0h160v-160H620v160ZM180-180h160v-160H180v160Zm440 0h160v-160H620v160Z\"/>\n",
              "  </svg>\n",
              "    </button>\n",
              "\n",
              "  <style>\n",
              "    .colab-df-container {\n",
              "      display:flex;\n",
              "      gap: 12px;\n",
              "    }\n",
              "\n",
              "    .colab-df-convert {\n",
              "      background-color: #E8F0FE;\n",
              "      border: none;\n",
              "      border-radius: 50%;\n",
              "      cursor: pointer;\n",
              "      display: none;\n",
              "      fill: #1967D2;\n",
              "      height: 32px;\n",
              "      padding: 0 0 0 0;\n",
              "      width: 32px;\n",
              "    }\n",
              "\n",
              "    .colab-df-convert:hover {\n",
              "      background-color: #E2EBFA;\n",
              "      box-shadow: 0px 1px 2px rgba(60, 64, 67, 0.3), 0px 1px 3px 1px rgba(60, 64, 67, 0.15);\n",
              "      fill: #174EA6;\n",
              "    }\n",
              "\n",
              "    .colab-df-buttons div {\n",
              "      margin-bottom: 4px;\n",
              "    }\n",
              "\n",
              "    [theme=dark] .colab-df-convert {\n",
              "      background-color: #3B4455;\n",
              "      fill: #D2E3FC;\n",
              "    }\n",
              "\n",
              "    [theme=dark] .colab-df-convert:hover {\n",
              "      background-color: #434B5C;\n",
              "      box-shadow: 0px 1px 3px 1px rgba(0, 0, 0, 0.15);\n",
              "      filter: drop-shadow(0px 1px 2px rgba(0, 0, 0, 0.3));\n",
              "      fill: #FFFFFF;\n",
              "    }\n",
              "  </style>\n",
              "\n",
              "    <script>\n",
              "      const buttonEl =\n",
              "        document.querySelector('#df-c5f3e020-4408-4f4e-b507-86acff50cf58 button.colab-df-convert');\n",
              "      buttonEl.style.display =\n",
              "        google.colab.kernel.accessAllowed ? 'block' : 'none';\n",
              "\n",
              "      async function convertToInteractive(key) {\n",
              "        const element = document.querySelector('#df-c5f3e020-4408-4f4e-b507-86acff50cf58');\n",
              "        const dataTable =\n",
              "          await google.colab.kernel.invokeFunction('convertToInteractive',\n",
              "                                                    [key], {});\n",
              "        if (!dataTable) return;\n",
              "\n",
              "        const docLinkHtml = 'Like what you see? Visit the ' +\n",
              "          '<a target=\"_blank\" href=https://colab.research.google.com/notebooks/data_table.ipynb>data table notebook</a>'\n",
              "          + ' to learn more about interactive tables.';\n",
              "        element.innerHTML = '';\n",
              "        dataTable['output_type'] = 'display_data';\n",
              "        await google.colab.output.renderOutput(dataTable, element);\n",
              "        const docLink = document.createElement('div');\n",
              "        docLink.innerHTML = docLinkHtml;\n",
              "        element.appendChild(docLink);\n",
              "      }\n",
              "    </script>\n",
              "  </div>\n",
              "\n",
              "\n",
              "<div id=\"df-dde76a8e-2cda-40e9-b352-039dfba1674a\">\n",
              "  <button class=\"colab-df-quickchart\" onclick=\"quickchart('df-dde76a8e-2cda-40e9-b352-039dfba1674a')\"\n",
              "            title=\"Suggest charts\"\n",
              "            style=\"display:none;\">\n",
              "\n",
              "<svg xmlns=\"http://www.w3.org/2000/svg\" height=\"24px\"viewBox=\"0 0 24 24\"\n",
              "     width=\"24px\">\n",
              "    <g>\n",
              "        <path d=\"M19 3H5c-1.1 0-2 .9-2 2v14c0 1.1.9 2 2 2h14c1.1 0 2-.9 2-2V5c0-1.1-.9-2-2-2zM9 17H7v-7h2v7zm4 0h-2V7h2v10zm4 0h-2v-4h2v4z\"/>\n",
              "    </g>\n",
              "</svg>\n",
              "  </button>\n",
              "\n",
              "<style>\n",
              "  .colab-df-quickchart {\n",
              "      --bg-color: #E8F0FE;\n",
              "      --fill-color: #1967D2;\n",
              "      --hover-bg-color: #E2EBFA;\n",
              "      --hover-fill-color: #174EA6;\n",
              "      --disabled-fill-color: #AAA;\n",
              "      --disabled-bg-color: #DDD;\n",
              "  }\n",
              "\n",
              "  [theme=dark] .colab-df-quickchart {\n",
              "      --bg-color: #3B4455;\n",
              "      --fill-color: #D2E3FC;\n",
              "      --hover-bg-color: #434B5C;\n",
              "      --hover-fill-color: #FFFFFF;\n",
              "      --disabled-bg-color: #3B4455;\n",
              "      --disabled-fill-color: #666;\n",
              "  }\n",
              "\n",
              "  .colab-df-quickchart {\n",
              "    background-color: var(--bg-color);\n",
              "    border: none;\n",
              "    border-radius: 50%;\n",
              "    cursor: pointer;\n",
              "    display: none;\n",
              "    fill: var(--fill-color);\n",
              "    height: 32px;\n",
              "    padding: 0;\n",
              "    width: 32px;\n",
              "  }\n",
              "\n",
              "  .colab-df-quickchart:hover {\n",
              "    background-color: var(--hover-bg-color);\n",
              "    box-shadow: 0 1px 2px rgba(60, 64, 67, 0.3), 0 1px 3px 1px rgba(60, 64, 67, 0.15);\n",
              "    fill: var(--button-hover-fill-color);\n",
              "  }\n",
              "\n",
              "  .colab-df-quickchart-complete:disabled,\n",
              "  .colab-df-quickchart-complete:disabled:hover {\n",
              "    background-color: var(--disabled-bg-color);\n",
              "    fill: var(--disabled-fill-color);\n",
              "    box-shadow: none;\n",
              "  }\n",
              "\n",
              "  .colab-df-spinner {\n",
              "    border: 2px solid var(--fill-color);\n",
              "    border-color: transparent;\n",
              "    border-bottom-color: var(--fill-color);\n",
              "    animation:\n",
              "      spin 1s steps(1) infinite;\n",
              "  }\n",
              "\n",
              "  @keyframes spin {\n",
              "    0% {\n",
              "      border-color: transparent;\n",
              "      border-bottom-color: var(--fill-color);\n",
              "      border-left-color: var(--fill-color);\n",
              "    }\n",
              "    20% {\n",
              "      border-color: transparent;\n",
              "      border-left-color: var(--fill-color);\n",
              "      border-top-color: var(--fill-color);\n",
              "    }\n",
              "    30% {\n",
              "      border-color: transparent;\n",
              "      border-left-color: var(--fill-color);\n",
              "      border-top-color: var(--fill-color);\n",
              "      border-right-color: var(--fill-color);\n",
              "    }\n",
              "    40% {\n",
              "      border-color: transparent;\n",
              "      border-right-color: var(--fill-color);\n",
              "      border-top-color: var(--fill-color);\n",
              "    }\n",
              "    60% {\n",
              "      border-color: transparent;\n",
              "      border-right-color: var(--fill-color);\n",
              "    }\n",
              "    80% {\n",
              "      border-color: transparent;\n",
              "      border-right-color: var(--fill-color);\n",
              "      border-bottom-color: var(--fill-color);\n",
              "    }\n",
              "    90% {\n",
              "      border-color: transparent;\n",
              "      border-bottom-color: var(--fill-color);\n",
              "    }\n",
              "  }\n",
              "</style>\n",
              "\n",
              "  <script>\n",
              "    async function quickchart(key) {\n",
              "      const quickchartButtonEl =\n",
              "        document.querySelector('#' + key + ' button');\n",
              "      quickchartButtonEl.disabled = true;  // To prevent multiple clicks.\n",
              "      quickchartButtonEl.classList.add('colab-df-spinner');\n",
              "      try {\n",
              "        const charts = await google.colab.kernel.invokeFunction(\n",
              "            'suggestCharts', [key], {});\n",
              "      } catch (error) {\n",
              "        console.error('Error during call to suggestCharts:', error);\n",
              "      }\n",
              "      quickchartButtonEl.classList.remove('colab-df-spinner');\n",
              "      quickchartButtonEl.classList.add('colab-df-quickchart-complete');\n",
              "    }\n",
              "    (() => {\n",
              "      let quickchartButtonEl =\n",
              "        document.querySelector('#df-dde76a8e-2cda-40e9-b352-039dfba1674a button');\n",
              "      quickchartButtonEl.style.display =\n",
              "        google.colab.kernel.accessAllowed ? 'block' : 'none';\n",
              "    })();\n",
              "  </script>\n",
              "</div>\n",
              "\n",
              "    </div>\n",
              "  </div>\n"
            ],
            "application/vnd.google.colaboratory.intrinsic+json": {
              "type": "dataframe",
              "variable_name": "y",
              "summary": "{\n  \"name\": \"y\",\n  \"rows\": 1470,\n  \"fields\": [\n    {\n      \"column\": \"Attrition\",\n      \"properties\": {\n        \"dtype\": \"category\",\n        \"num_unique_values\": 2,\n        \"samples\": [\n          \"No\",\n          \"Yes\"\n        ],\n        \"semantic_type\": \"\",\n        \"description\": \"\"\n      }\n    }\n  ]\n}"
            }
          },
          "metadata": {},
          "execution_count": 6
        }
      ]
    },
    {
      "cell_type": "code",
      "source": [
        "y_replace={'Yes':1,'No':0}\n",
        "y=y.replace(y_replace)\n",
        "y.head()"
      ],
      "metadata": {
        "colab": {
          "base_uri": "https://localhost:8080/",
          "height": 206
        },
        "id": "Tvuq9pfMzlyT",
        "outputId": "2429064e-95ff-4abb-a921-d6fb58507403"
      },
      "execution_count": 7,
      "outputs": [
        {
          "output_type": "execute_result",
          "data": {
            "text/plain": [
              "   Attrition\n",
              "0          1\n",
              "1          0\n",
              "2          1\n",
              "3          0\n",
              "4          0"
            ],
            "text/html": [
              "\n",
              "  <div id=\"df-d8e82f93-5e2a-4602-aa68-fd4a7532b685\" class=\"colab-df-container\">\n",
              "    <div>\n",
              "<style scoped>\n",
              "    .dataframe tbody tr th:only-of-type {\n",
              "        vertical-align: middle;\n",
              "    }\n",
              "\n",
              "    .dataframe tbody tr th {\n",
              "        vertical-align: top;\n",
              "    }\n",
              "\n",
              "    .dataframe thead th {\n",
              "        text-align: right;\n",
              "    }\n",
              "</style>\n",
              "<table border=\"1\" class=\"dataframe\">\n",
              "  <thead>\n",
              "    <tr style=\"text-align: right;\">\n",
              "      <th></th>\n",
              "      <th>Attrition</th>\n",
              "    </tr>\n",
              "  </thead>\n",
              "  <tbody>\n",
              "    <tr>\n",
              "      <th>0</th>\n",
              "      <td>1</td>\n",
              "    </tr>\n",
              "    <tr>\n",
              "      <th>1</th>\n",
              "      <td>0</td>\n",
              "    </tr>\n",
              "    <tr>\n",
              "      <th>2</th>\n",
              "      <td>1</td>\n",
              "    </tr>\n",
              "    <tr>\n",
              "      <th>3</th>\n",
              "      <td>0</td>\n",
              "    </tr>\n",
              "    <tr>\n",
              "      <th>4</th>\n",
              "      <td>0</td>\n",
              "    </tr>\n",
              "  </tbody>\n",
              "</table>\n",
              "</div>\n",
              "    <div class=\"colab-df-buttons\">\n",
              "\n",
              "  <div class=\"colab-df-container\">\n",
              "    <button class=\"colab-df-convert\" onclick=\"convertToInteractive('df-d8e82f93-5e2a-4602-aa68-fd4a7532b685')\"\n",
              "            title=\"Convert this dataframe to an interactive table.\"\n",
              "            style=\"display:none;\">\n",
              "\n",
              "  <svg xmlns=\"http://www.w3.org/2000/svg\" height=\"24px\" viewBox=\"0 -960 960 960\">\n",
              "    <path d=\"M120-120v-720h720v720H120Zm60-500h600v-160H180v160Zm220 220h160v-160H400v160Zm0 220h160v-160H400v160ZM180-400h160v-160H180v160Zm440 0h160v-160H620v160ZM180-180h160v-160H180v160Zm440 0h160v-160H620v160Z\"/>\n",
              "  </svg>\n",
              "    </button>\n",
              "\n",
              "  <style>\n",
              "    .colab-df-container {\n",
              "      display:flex;\n",
              "      gap: 12px;\n",
              "    }\n",
              "\n",
              "    .colab-df-convert {\n",
              "      background-color: #E8F0FE;\n",
              "      border: none;\n",
              "      border-radius: 50%;\n",
              "      cursor: pointer;\n",
              "      display: none;\n",
              "      fill: #1967D2;\n",
              "      height: 32px;\n",
              "      padding: 0 0 0 0;\n",
              "      width: 32px;\n",
              "    }\n",
              "\n",
              "    .colab-df-convert:hover {\n",
              "      background-color: #E2EBFA;\n",
              "      box-shadow: 0px 1px 2px rgba(60, 64, 67, 0.3), 0px 1px 3px 1px rgba(60, 64, 67, 0.15);\n",
              "      fill: #174EA6;\n",
              "    }\n",
              "\n",
              "    .colab-df-buttons div {\n",
              "      margin-bottom: 4px;\n",
              "    }\n",
              "\n",
              "    [theme=dark] .colab-df-convert {\n",
              "      background-color: #3B4455;\n",
              "      fill: #D2E3FC;\n",
              "    }\n",
              "\n",
              "    [theme=dark] .colab-df-convert:hover {\n",
              "      background-color: #434B5C;\n",
              "      box-shadow: 0px 1px 3px 1px rgba(0, 0, 0, 0.15);\n",
              "      filter: drop-shadow(0px 1px 2px rgba(0, 0, 0, 0.3));\n",
              "      fill: #FFFFFF;\n",
              "    }\n",
              "  </style>\n",
              "\n",
              "    <script>\n",
              "      const buttonEl =\n",
              "        document.querySelector('#df-d8e82f93-5e2a-4602-aa68-fd4a7532b685 button.colab-df-convert');\n",
              "      buttonEl.style.display =\n",
              "        google.colab.kernel.accessAllowed ? 'block' : 'none';\n",
              "\n",
              "      async function convertToInteractive(key) {\n",
              "        const element = document.querySelector('#df-d8e82f93-5e2a-4602-aa68-fd4a7532b685');\n",
              "        const dataTable =\n",
              "          await google.colab.kernel.invokeFunction('convertToInteractive',\n",
              "                                                    [key], {});\n",
              "        if (!dataTable) return;\n",
              "\n",
              "        const docLinkHtml = 'Like what you see? Visit the ' +\n",
              "          '<a target=\"_blank\" href=https://colab.research.google.com/notebooks/data_table.ipynb>data table notebook</a>'\n",
              "          + ' to learn more about interactive tables.';\n",
              "        element.innerHTML = '';\n",
              "        dataTable['output_type'] = 'display_data';\n",
              "        await google.colab.output.renderOutput(dataTable, element);\n",
              "        const docLink = document.createElement('div');\n",
              "        docLink.innerHTML = docLinkHtml;\n",
              "        element.appendChild(docLink);\n",
              "      }\n",
              "    </script>\n",
              "  </div>\n",
              "\n",
              "\n",
              "<div id=\"df-12f52dc6-2b2d-4b57-b8c8-30d83bf24a2e\">\n",
              "  <button class=\"colab-df-quickchart\" onclick=\"quickchart('df-12f52dc6-2b2d-4b57-b8c8-30d83bf24a2e')\"\n",
              "            title=\"Suggest charts\"\n",
              "            style=\"display:none;\">\n",
              "\n",
              "<svg xmlns=\"http://www.w3.org/2000/svg\" height=\"24px\"viewBox=\"0 0 24 24\"\n",
              "     width=\"24px\">\n",
              "    <g>\n",
              "        <path d=\"M19 3H5c-1.1 0-2 .9-2 2v14c0 1.1.9 2 2 2h14c1.1 0 2-.9 2-2V5c0-1.1-.9-2-2-2zM9 17H7v-7h2v7zm4 0h-2V7h2v10zm4 0h-2v-4h2v4z\"/>\n",
              "    </g>\n",
              "</svg>\n",
              "  </button>\n",
              "\n",
              "<style>\n",
              "  .colab-df-quickchart {\n",
              "      --bg-color: #E8F0FE;\n",
              "      --fill-color: #1967D2;\n",
              "      --hover-bg-color: #E2EBFA;\n",
              "      --hover-fill-color: #174EA6;\n",
              "      --disabled-fill-color: #AAA;\n",
              "      --disabled-bg-color: #DDD;\n",
              "  }\n",
              "\n",
              "  [theme=dark] .colab-df-quickchart {\n",
              "      --bg-color: #3B4455;\n",
              "      --fill-color: #D2E3FC;\n",
              "      --hover-bg-color: #434B5C;\n",
              "      --hover-fill-color: #FFFFFF;\n",
              "      --disabled-bg-color: #3B4455;\n",
              "      --disabled-fill-color: #666;\n",
              "  }\n",
              "\n",
              "  .colab-df-quickchart {\n",
              "    background-color: var(--bg-color);\n",
              "    border: none;\n",
              "    border-radius: 50%;\n",
              "    cursor: pointer;\n",
              "    display: none;\n",
              "    fill: var(--fill-color);\n",
              "    height: 32px;\n",
              "    padding: 0;\n",
              "    width: 32px;\n",
              "  }\n",
              "\n",
              "  .colab-df-quickchart:hover {\n",
              "    background-color: var(--hover-bg-color);\n",
              "    box-shadow: 0 1px 2px rgba(60, 64, 67, 0.3), 0 1px 3px 1px rgba(60, 64, 67, 0.15);\n",
              "    fill: var(--button-hover-fill-color);\n",
              "  }\n",
              "\n",
              "  .colab-df-quickchart-complete:disabled,\n",
              "  .colab-df-quickchart-complete:disabled:hover {\n",
              "    background-color: var(--disabled-bg-color);\n",
              "    fill: var(--disabled-fill-color);\n",
              "    box-shadow: none;\n",
              "  }\n",
              "\n",
              "  .colab-df-spinner {\n",
              "    border: 2px solid var(--fill-color);\n",
              "    border-color: transparent;\n",
              "    border-bottom-color: var(--fill-color);\n",
              "    animation:\n",
              "      spin 1s steps(1) infinite;\n",
              "  }\n",
              "\n",
              "  @keyframes spin {\n",
              "    0% {\n",
              "      border-color: transparent;\n",
              "      border-bottom-color: var(--fill-color);\n",
              "      border-left-color: var(--fill-color);\n",
              "    }\n",
              "    20% {\n",
              "      border-color: transparent;\n",
              "      border-left-color: var(--fill-color);\n",
              "      border-top-color: var(--fill-color);\n",
              "    }\n",
              "    30% {\n",
              "      border-color: transparent;\n",
              "      border-left-color: var(--fill-color);\n",
              "      border-top-color: var(--fill-color);\n",
              "      border-right-color: var(--fill-color);\n",
              "    }\n",
              "    40% {\n",
              "      border-color: transparent;\n",
              "      border-right-color: var(--fill-color);\n",
              "      border-top-color: var(--fill-color);\n",
              "    }\n",
              "    60% {\n",
              "      border-color: transparent;\n",
              "      border-right-color: var(--fill-color);\n",
              "    }\n",
              "    80% {\n",
              "      border-color: transparent;\n",
              "      border-right-color: var(--fill-color);\n",
              "      border-bottom-color: var(--fill-color);\n",
              "    }\n",
              "    90% {\n",
              "      border-color: transparent;\n",
              "      border-bottom-color: var(--fill-color);\n",
              "    }\n",
              "  }\n",
              "</style>\n",
              "\n",
              "  <script>\n",
              "    async function quickchart(key) {\n",
              "      const quickchartButtonEl =\n",
              "        document.querySelector('#' + key + ' button');\n",
              "      quickchartButtonEl.disabled = true;  // To prevent multiple clicks.\n",
              "      quickchartButtonEl.classList.add('colab-df-spinner');\n",
              "      try {\n",
              "        const charts = await google.colab.kernel.invokeFunction(\n",
              "            'suggestCharts', [key], {});\n",
              "      } catch (error) {\n",
              "        console.error('Error during call to suggestCharts:', error);\n",
              "      }\n",
              "      quickchartButtonEl.classList.remove('colab-df-spinner');\n",
              "      quickchartButtonEl.classList.add('colab-df-quickchart-complete');\n",
              "    }\n",
              "    (() => {\n",
              "      let quickchartButtonEl =\n",
              "        document.querySelector('#df-12f52dc6-2b2d-4b57-b8c8-30d83bf24a2e button');\n",
              "      quickchartButtonEl.style.display =\n",
              "        google.colab.kernel.accessAllowed ? 'block' : 'none';\n",
              "    })();\n",
              "  </script>\n",
              "</div>\n",
              "\n",
              "    </div>\n",
              "  </div>\n"
            ],
            "application/vnd.google.colaboratory.intrinsic+json": {
              "type": "dataframe",
              "variable_name": "y",
              "summary": "{\n  \"name\": \"y\",\n  \"rows\": 1470,\n  \"fields\": [\n    {\n      \"column\": \"Attrition\",\n      \"properties\": {\n        \"dtype\": \"number\",\n        \"std\": 0,\n        \"min\": 0,\n        \"max\": 1,\n        \"num_unique_values\": 2,\n        \"samples\": [\n          0,\n          1\n        ],\n        \"semantic_type\": \"\",\n        \"description\": \"\"\n      }\n    }\n  ]\n}"
            }
          },
          "metadata": {},
          "execution_count": 7
        }
      ]
    },
    {
      "cell_type": "code",
      "source": [
        "cat_cols=list(X.select_dtypes(include=object).columns)\n",
        "num_cols=list(X.select_dtypes(exclude=object).columns)"
      ],
      "metadata": {
        "id": "UpqIabtI0Fi5"
      },
      "execution_count": 8,
      "outputs": []
    },
    {
      "cell_type": "code",
      "source": [
        "cat_cols"
      ],
      "metadata": {
        "colab": {
          "base_uri": "https://localhost:8080/"
        },
        "id": "NDiJcEaa0zi7",
        "outputId": "4f533ee6-7e87-41d3-a5e1-6e3750e9fd3a"
      },
      "execution_count": 9,
      "outputs": [
        {
          "output_type": "execute_result",
          "data": {
            "text/plain": [
              "['BusinessTravel',\n",
              " 'Department',\n",
              " 'EducationField',\n",
              " 'Gender',\n",
              " 'JobRole',\n",
              " 'MaritalStatus',\n",
              " 'Over18',\n",
              " 'OverTime']"
            ]
          },
          "metadata": {},
          "execution_count": 9
        }
      ]
    },
    {
      "cell_type": "code",
      "source": [
        "num_cols"
      ],
      "metadata": {
        "colab": {
          "base_uri": "https://localhost:8080/"
        },
        "id": "ZPl8RwDA05S8",
        "outputId": "c8c9249b-17c8-4c74-e0a9-9e723ff3eb3a"
      },
      "execution_count": 10,
      "outputs": [
        {
          "output_type": "execute_result",
          "data": {
            "text/plain": [
              "['Age',\n",
              " 'DailyRate',\n",
              " 'DistanceFromHome',\n",
              " 'Education',\n",
              " 'EmployeeCount',\n",
              " 'EmployeeNumber',\n",
              " 'EnvironmentSatisfaction',\n",
              " 'HourlyRate',\n",
              " 'JobInvolvement',\n",
              " 'JobLevel',\n",
              " 'JobSatisfaction',\n",
              " 'MonthlyIncome',\n",
              " 'MonthlyRate',\n",
              " 'NumCompaniesWorked',\n",
              " 'PercentSalaryHike',\n",
              " 'PerformanceRating',\n",
              " 'RelationshipSatisfaction',\n",
              " 'StandardHours',\n",
              " 'StockOptionLevel',\n",
              " 'TotalWorkingYears',\n",
              " 'TrainingTimesLastYear',\n",
              " 'WorkLifeBalance',\n",
              " 'YearsAtCompany',\n",
              " 'YearsInCurrentRole',\n",
              " 'YearsSinceLastPromotion',\n",
              " 'YearsWithCurrManager']"
            ]
          },
          "metadata": {},
          "execution_count": 10
        }
      ]
    },
    {
      "cell_type": "code",
      "source": [
        "from warnings import filterwarnings\n",
        "filterwarnings('ignore')"
      ],
      "metadata": {
        "id": "4bOHtNfA0_9_"
      },
      "execution_count": 11,
      "outputs": []
    },
    {
      "cell_type": "code",
      "source": [
        "from sklearn.feature_selection import SelectKBest,f_classif\n",
        "X_num=X[num_cols]\n",
        "k_best_numerical=SelectKBest(f_classif,k=10)\n",
        "k_best_numerical.fit_transform(X_num,y)\n",
        "selected_num_features=list(X_num.columns[k_best_numerical.get_support()])\n",
        "selected_num_features"
      ],
      "metadata": {
        "colab": {
          "base_uri": "https://localhost:8080/"
        },
        "id": "VKRCNkWK1HDr",
        "outputId": "fd68517a-3e26-4a6d-8b25-ba10dafbcb5f"
      },
      "execution_count": 12,
      "outputs": [
        {
          "output_type": "execute_result",
          "data": {
            "text/plain": [
              "['Age',\n",
              " 'JobInvolvement',\n",
              " 'JobLevel',\n",
              " 'JobSatisfaction',\n",
              " 'MonthlyIncome',\n",
              " 'StockOptionLevel',\n",
              " 'TotalWorkingYears',\n",
              " 'YearsAtCompany',\n",
              " 'YearsInCurrentRole',\n",
              " 'YearsWithCurrManager']"
            ]
          },
          "metadata": {},
          "execution_count": 12
        }
      ]
    },
    {
      "cell_type": "code",
      "source": [
        "from sklearn.feature_selection import SelectKBest,chi2\n",
        "from sklearn.preprocessing import OrdinalEncoder\n",
        "X_col=X[cat_cols]\n",
        "oe=OrdinalEncoder()\n",
        "X_cat_encoded=pd.DataFrame(oe.fit_transform(X_col),columns=oe.get_feature_names_out())\n",
        "k_best_categorical=SelectKBest(chi2,k=5)\n",
        "k_best_categorical.fit_transform(X_cat_encoded,y)\n",
        "selected_cat_features=list(X_cat_encoded.columns[k_best_categorical.get_support()])\n",
        "selected_cat_features\n"
      ],
      "metadata": {
        "colab": {
          "base_uri": "https://localhost:8080/"
        },
        "id": "THmp22dD15Ht",
        "outputId": "b37c94d0-f55b-4304-874a-e981e7f735bd"
      },
      "execution_count": 13,
      "outputs": [
        {
          "output_type": "execute_result",
          "data": {
            "text/plain": [
              "['Department', 'EducationField', 'JobRole', 'MaritalStatus', 'OverTime']"
            ]
          },
          "metadata": {},
          "execution_count": 13
        }
      ]
    },
    {
      "cell_type": "code",
      "source": [
        "selected_features= selected_num_features+selected_cat_features\n",
        "selected_features"
      ],
      "metadata": {
        "colab": {
          "base_uri": "https://localhost:8080/"
        },
        "id": "EjSjwltk9Qrv",
        "outputId": "79750040-51ec-497b-c631-c4cd92d0503a"
      },
      "execution_count": 14,
      "outputs": [
        {
          "output_type": "execute_result",
          "data": {
            "text/plain": [
              "['Age',\n",
              " 'JobInvolvement',\n",
              " 'JobLevel',\n",
              " 'JobSatisfaction',\n",
              " 'MonthlyIncome',\n",
              " 'StockOptionLevel',\n",
              " 'TotalWorkingYears',\n",
              " 'YearsAtCompany',\n",
              " 'YearsInCurrentRole',\n",
              " 'YearsWithCurrManager',\n",
              " 'Department',\n",
              " 'EducationField',\n",
              " 'JobRole',\n",
              " 'MaritalStatus',\n",
              " 'OverTime']"
            ]
          },
          "metadata": {},
          "execution_count": 14
        }
      ]
    },
    {
      "cell_type": "code",
      "source": [
        "X_selected=X[selected_features]\n",
        "X_selected.shape"
      ],
      "metadata": {
        "colab": {
          "base_uri": "https://localhost:8080/"
        },
        "id": "LvFNt0Ju9fgn",
        "outputId": "cf9cb1e1-6125-4427-9f8a-fc165844e80f"
      },
      "execution_count": 15,
      "outputs": [
        {
          "output_type": "execute_result",
          "data": {
            "text/plain": [
              "(1470, 15)"
            ]
          },
          "metadata": {},
          "execution_count": 15
        }
      ]
    },
    {
      "cell_type": "markdown",
      "source": [
        "Feature Selection is completed"
      ],
      "metadata": {
        "id": "1G6sOsp_-GuG"
      }
    },
    {
      "cell_type": "code",
      "source": [
        "from sklearn.model_selection import train_test_split\n",
        "Xtrain,Xtest,ytrain,ytest=train_test_split(X_selected,y,test_size=0.2,random_state=42,stratify=y)\n",
        "Xtrain.shape"
      ],
      "metadata": {
        "colab": {
          "base_uri": "https://localhost:8080/"
        },
        "id": "B_PswGMc9obJ",
        "outputId": "2d049f9b-a8ba-4359-807b-2befd4fd7cc9"
      },
      "execution_count": 16,
      "outputs": [
        {
          "output_type": "execute_result",
          "data": {
            "text/plain": [
              "(1176, 15)"
            ]
          },
          "metadata": {},
          "execution_count": 16
        }
      ]
    },
    {
      "cell_type": "code",
      "source": [
        "Xtest.shape"
      ],
      "metadata": {
        "colab": {
          "base_uri": "https://localhost:8080/"
        },
        "id": "_Gish8h3-h6f",
        "outputId": "f3f80b71-1a0c-449e-8b6a-113f106a6a91"
      },
      "execution_count": 17,
      "outputs": [
        {
          "output_type": "execute_result",
          "data": {
            "text/plain": [
              "(294, 15)"
            ]
          },
          "metadata": {},
          "execution_count": 17
        }
      ]
    },
    {
      "cell_type": "markdown",
      "source": [
        "Creating numeric and categorical pipeline"
      ],
      "metadata": {
        "id": "Q9tBZ9OI-sIy"
      }
    },
    {
      "cell_type": "code",
      "source": [
        "from sklearn.impute import SimpleImputer\n",
        "from sklearn.pipeline import Pipeline\n",
        "from sklearn.preprocessing import StandardScaler, OneHotEncoder"
      ],
      "metadata": {
        "id": "P6eC0svq-k0o"
      },
      "execution_count": 18,
      "outputs": []
    },
    {
      "cell_type": "code",
      "source": [
        "num_pipeline=Pipeline(\n",
        "    steps=[\n",
        "        ('imputer',SimpleImputer(strategy='mean')),\n",
        "        ('scaler', StandardScaler())\n",
        "    ]\n",
        ")\n",
        "\n",
        "cat_pipeline=Pipeline(\n",
        "    steps=[\n",
        "        ('imputer',SimpleImputer(strategy='most_frequent')),\n",
        "         ('onehotencoder', OneHotEncoder()),\n",
        "        ('scaler', StandardScaler(with_mean=False))\n",
        "    ]\n",
        ")"
      ],
      "metadata": {
        "id": "njM7yNsw_BMQ"
      },
      "execution_count": 19,
      "outputs": []
    },
    {
      "cell_type": "code",
      "source": [
        "from sklearn.compose import ColumnTransformer\n",
        "preprocessor=ColumnTransformer([\n",
        "    ('num_pipeline',num_pipeline,selected_num_features),\n",
        "    ('cat_pipeline',cat_pipeline, selected_cat_features)\n",
        "])"
      ],
      "metadata": {
        "id": "Ja8woRn7EY_o"
      },
      "execution_count": 20,
      "outputs": []
    },
    {
      "cell_type": "code",
      "source": [
        "Xtrain_transformed=pd.DataFrame(preprocessor.fit_transform(Xtrain),columns=preprocessor.get_feature_names_out())\n",
        "Xtest_transformed=pd.DataFrame(preprocessor.transform(Xtest),columns=preprocessor.get_feature_names_out())"
      ],
      "metadata": {
        "id": "Uq2hn_BsFXm-"
      },
      "execution_count": 21,
      "outputs": []
    },
    {
      "cell_type": "code",
      "source": [
        "Xtrain_transformed.head()"
      ],
      "metadata": {
        "colab": {
          "base_uri": "https://localhost:8080/",
          "height": 273
        },
        "id": "ivE0J1OdGsgR",
        "outputId": "ffb6f9a0-1404-47fd-d42d-4691ea0aadd6"
      },
      "execution_count": 23,
      "outputs": [
        {
          "output_type": "execute_result",
          "data": {
            "text/plain": [
              "   num_pipeline__Age  num_pipeline__JobInvolvement  num_pipeline__JobLevel  \\\n",
              "0           1.090194                      1.795282                1.762189   \n",
              "1          -1.634828                      0.373564               -0.986265   \n",
              "2           0.981193                      0.373564                1.762189   \n",
              "3          -1.307825                      0.373564               -0.986265   \n",
              "4           0.654191                      0.373564               -0.070114   \n",
              "\n",
              "   num_pipeline__JobSatisfaction  num_pipeline__MonthlyIncome  \\\n",
              "0                      -0.647997                     2.026752   \n",
              "1                       1.153526                    -0.864408   \n",
              "2                       0.252765                     2.347706   \n",
              "3                       0.252765                    -0.956202   \n",
              "4                       0.252765                    -0.185956   \n",
              "\n",
              "   num_pipeline__StockOptionLevel  num_pipeline__TotalWorkingYears  \\\n",
              "0                        2.613100                         2.261482   \n",
              "1                        0.247430                        -1.072675   \n",
              "2                        0.247430                         1.492061   \n",
              "3                       -0.935405                        -0.559727   \n",
              "4                        0.247430                        -0.175017   \n",
              "\n",
              "   num_pipeline__YearsAtCompany  num_pipeline__YearsInCurrentRole  \\\n",
              "0                     -0.665706                         -0.625365   \n",
              "1                     -0.830071                         -0.905635   \n",
              "2                      0.813578                          1.336527   \n",
              "3                     -0.008246                         -0.064824   \n",
              "4                      0.156119                          0.775986   \n",
              "\n",
              "   num_pipeline__YearsWithCurrManager  ...  \\\n",
              "0                           -0.616406  ...   \n",
              "1                           -0.897047  ...   \n",
              "2                            1.348076  ...   \n",
              "3                            0.506155  ...   \n",
              "4                            0.786795  ...   \n",
              "\n",
              "   cat_pipeline__JobRole_Manufacturing Director  \\\n",
              "0                                           0.0   \n",
              "1                                           0.0   \n",
              "2                                           0.0   \n",
              "3                                           0.0   \n",
              "4                                           0.0   \n",
              "\n",
              "   cat_pipeline__JobRole_Research Director  \\\n",
              "0                                      0.0   \n",
              "1                                      0.0   \n",
              "2                                      0.0   \n",
              "3                                      0.0   \n",
              "4                                      0.0   \n",
              "\n",
              "   cat_pipeline__JobRole_Research Scientist  \\\n",
              "0                                       0.0   \n",
              "1                                       0.0   \n",
              "2                                       0.0   \n",
              "3                                       0.0   \n",
              "4                                       0.0   \n",
              "\n",
              "   cat_pipeline__JobRole_Sales Executive  \\\n",
              "0                                    0.0   \n",
              "1                                    0.0   \n",
              "2                                    0.0   \n",
              "3                                    0.0   \n",
              "4                                    0.0   \n",
              "\n",
              "   cat_pipeline__JobRole_Sales Representative  \\\n",
              "0                                    0.000000   \n",
              "1                                    0.000000   \n",
              "2                                    0.000000   \n",
              "3                                    4.544641   \n",
              "4                                    0.000000   \n",
              "\n",
              "   cat_pipeline__MaritalStatus_Divorced  cat_pipeline__MaritalStatus_Married  \\\n",
              "0                              2.399905                             0.000000   \n",
              "1                              0.000000                             2.006697   \n",
              "2                              0.000000                             2.006697   \n",
              "3                              0.000000                             2.006697   \n",
              "4                              2.399905                             0.000000   \n",
              "\n",
              "   cat_pipeline__MaritalStatus_Single  cat_pipeline__OverTime_No  \\\n",
              "0                                 0.0                   2.205793   \n",
              "1                                 0.0                   2.205793   \n",
              "2                                 0.0                   2.205793   \n",
              "3                                 0.0                   2.205793   \n",
              "4                                 0.0                   0.000000   \n",
              "\n",
              "   cat_pipeline__OverTime_Yes  \n",
              "0                    0.000000  \n",
              "1                    0.000000  \n",
              "2                    0.000000  \n",
              "3                    0.000000  \n",
              "4                    2.205793  \n",
              "\n",
              "[5 rows x 33 columns]"
            ],
            "text/html": [
              "\n",
              "  <div id=\"df-c6f8474e-52e5-47a2-8608-eb0e32178475\" class=\"colab-df-container\">\n",
              "    <div>\n",
              "<style scoped>\n",
              "    .dataframe tbody tr th:only-of-type {\n",
              "        vertical-align: middle;\n",
              "    }\n",
              "\n",
              "    .dataframe tbody tr th {\n",
              "        vertical-align: top;\n",
              "    }\n",
              "\n",
              "    .dataframe thead th {\n",
              "        text-align: right;\n",
              "    }\n",
              "</style>\n",
              "<table border=\"1\" class=\"dataframe\">\n",
              "  <thead>\n",
              "    <tr style=\"text-align: right;\">\n",
              "      <th></th>\n",
              "      <th>num_pipeline__Age</th>\n",
              "      <th>num_pipeline__JobInvolvement</th>\n",
              "      <th>num_pipeline__JobLevel</th>\n",
              "      <th>num_pipeline__JobSatisfaction</th>\n",
              "      <th>num_pipeline__MonthlyIncome</th>\n",
              "      <th>num_pipeline__StockOptionLevel</th>\n",
              "      <th>num_pipeline__TotalWorkingYears</th>\n",
              "      <th>num_pipeline__YearsAtCompany</th>\n",
              "      <th>num_pipeline__YearsInCurrentRole</th>\n",
              "      <th>num_pipeline__YearsWithCurrManager</th>\n",
              "      <th>...</th>\n",
              "      <th>cat_pipeline__JobRole_Manufacturing Director</th>\n",
              "      <th>cat_pipeline__JobRole_Research Director</th>\n",
              "      <th>cat_pipeline__JobRole_Research Scientist</th>\n",
              "      <th>cat_pipeline__JobRole_Sales Executive</th>\n",
              "      <th>cat_pipeline__JobRole_Sales Representative</th>\n",
              "      <th>cat_pipeline__MaritalStatus_Divorced</th>\n",
              "      <th>cat_pipeline__MaritalStatus_Married</th>\n",
              "      <th>cat_pipeline__MaritalStatus_Single</th>\n",
              "      <th>cat_pipeline__OverTime_No</th>\n",
              "      <th>cat_pipeline__OverTime_Yes</th>\n",
              "    </tr>\n",
              "  </thead>\n",
              "  <tbody>\n",
              "    <tr>\n",
              "      <th>0</th>\n",
              "      <td>1.090194</td>\n",
              "      <td>1.795282</td>\n",
              "      <td>1.762189</td>\n",
              "      <td>-0.647997</td>\n",
              "      <td>2.026752</td>\n",
              "      <td>2.613100</td>\n",
              "      <td>2.261482</td>\n",
              "      <td>-0.665706</td>\n",
              "      <td>-0.625365</td>\n",
              "      <td>-0.616406</td>\n",
              "      <td>...</td>\n",
              "      <td>0.0</td>\n",
              "      <td>0.0</td>\n",
              "      <td>0.0</td>\n",
              "      <td>0.0</td>\n",
              "      <td>0.000000</td>\n",
              "      <td>2.399905</td>\n",
              "      <td>0.000000</td>\n",
              "      <td>0.0</td>\n",
              "      <td>2.205793</td>\n",
              "      <td>0.000000</td>\n",
              "    </tr>\n",
              "    <tr>\n",
              "      <th>1</th>\n",
              "      <td>-1.634828</td>\n",
              "      <td>0.373564</td>\n",
              "      <td>-0.986265</td>\n",
              "      <td>1.153526</td>\n",
              "      <td>-0.864408</td>\n",
              "      <td>0.247430</td>\n",
              "      <td>-1.072675</td>\n",
              "      <td>-0.830071</td>\n",
              "      <td>-0.905635</td>\n",
              "      <td>-0.897047</td>\n",
              "      <td>...</td>\n",
              "      <td>0.0</td>\n",
              "      <td>0.0</td>\n",
              "      <td>0.0</td>\n",
              "      <td>0.0</td>\n",
              "      <td>0.000000</td>\n",
              "      <td>0.000000</td>\n",
              "      <td>2.006697</td>\n",
              "      <td>0.0</td>\n",
              "      <td>2.205793</td>\n",
              "      <td>0.000000</td>\n",
              "    </tr>\n",
              "    <tr>\n",
              "      <th>2</th>\n",
              "      <td>0.981193</td>\n",
              "      <td>0.373564</td>\n",
              "      <td>1.762189</td>\n",
              "      <td>0.252765</td>\n",
              "      <td>2.347706</td>\n",
              "      <td>0.247430</td>\n",
              "      <td>1.492061</td>\n",
              "      <td>0.813578</td>\n",
              "      <td>1.336527</td>\n",
              "      <td>1.348076</td>\n",
              "      <td>...</td>\n",
              "      <td>0.0</td>\n",
              "      <td>0.0</td>\n",
              "      <td>0.0</td>\n",
              "      <td>0.0</td>\n",
              "      <td>0.000000</td>\n",
              "      <td>0.000000</td>\n",
              "      <td>2.006697</td>\n",
              "      <td>0.0</td>\n",
              "      <td>2.205793</td>\n",
              "      <td>0.000000</td>\n",
              "    </tr>\n",
              "    <tr>\n",
              "      <th>3</th>\n",
              "      <td>-1.307825</td>\n",
              "      <td>0.373564</td>\n",
              "      <td>-0.986265</td>\n",
              "      <td>0.252765</td>\n",
              "      <td>-0.956202</td>\n",
              "      <td>-0.935405</td>\n",
              "      <td>-0.559727</td>\n",
              "      <td>-0.008246</td>\n",
              "      <td>-0.064824</td>\n",
              "      <td>0.506155</td>\n",
              "      <td>...</td>\n",
              "      <td>0.0</td>\n",
              "      <td>0.0</td>\n",
              "      <td>0.0</td>\n",
              "      <td>0.0</td>\n",
              "      <td>4.544641</td>\n",
              "      <td>0.000000</td>\n",
              "      <td>2.006697</td>\n",
              "      <td>0.0</td>\n",
              "      <td>2.205793</td>\n",
              "      <td>0.000000</td>\n",
              "    </tr>\n",
              "    <tr>\n",
              "      <th>4</th>\n",
              "      <td>0.654191</td>\n",
              "      <td>0.373564</td>\n",
              "      <td>-0.070114</td>\n",
              "      <td>0.252765</td>\n",
              "      <td>-0.185956</td>\n",
              "      <td>0.247430</td>\n",
              "      <td>-0.175017</td>\n",
              "      <td>0.156119</td>\n",
              "      <td>0.775986</td>\n",
              "      <td>0.786795</td>\n",
              "      <td>...</td>\n",
              "      <td>0.0</td>\n",
              "      <td>0.0</td>\n",
              "      <td>0.0</td>\n",
              "      <td>0.0</td>\n",
              "      <td>0.000000</td>\n",
              "      <td>2.399905</td>\n",
              "      <td>0.000000</td>\n",
              "      <td>0.0</td>\n",
              "      <td>0.000000</td>\n",
              "      <td>2.205793</td>\n",
              "    </tr>\n",
              "  </tbody>\n",
              "</table>\n",
              "<p>5 rows × 33 columns</p>\n",
              "</div>\n",
              "    <div class=\"colab-df-buttons\">\n",
              "\n",
              "  <div class=\"colab-df-container\">\n",
              "    <button class=\"colab-df-convert\" onclick=\"convertToInteractive('df-c6f8474e-52e5-47a2-8608-eb0e32178475')\"\n",
              "            title=\"Convert this dataframe to an interactive table.\"\n",
              "            style=\"display:none;\">\n",
              "\n",
              "  <svg xmlns=\"http://www.w3.org/2000/svg\" height=\"24px\" viewBox=\"0 -960 960 960\">\n",
              "    <path d=\"M120-120v-720h720v720H120Zm60-500h600v-160H180v160Zm220 220h160v-160H400v160Zm0 220h160v-160H400v160ZM180-400h160v-160H180v160Zm440 0h160v-160H620v160ZM180-180h160v-160H180v160Zm440 0h160v-160H620v160Z\"/>\n",
              "  </svg>\n",
              "    </button>\n",
              "\n",
              "  <style>\n",
              "    .colab-df-container {\n",
              "      display:flex;\n",
              "      gap: 12px;\n",
              "    }\n",
              "\n",
              "    .colab-df-convert {\n",
              "      background-color: #E8F0FE;\n",
              "      border: none;\n",
              "      border-radius: 50%;\n",
              "      cursor: pointer;\n",
              "      display: none;\n",
              "      fill: #1967D2;\n",
              "      height: 32px;\n",
              "      padding: 0 0 0 0;\n",
              "      width: 32px;\n",
              "    }\n",
              "\n",
              "    .colab-df-convert:hover {\n",
              "      background-color: #E2EBFA;\n",
              "      box-shadow: 0px 1px 2px rgba(60, 64, 67, 0.3), 0px 1px 3px 1px rgba(60, 64, 67, 0.15);\n",
              "      fill: #174EA6;\n",
              "    }\n",
              "\n",
              "    .colab-df-buttons div {\n",
              "      margin-bottom: 4px;\n",
              "    }\n",
              "\n",
              "    [theme=dark] .colab-df-convert {\n",
              "      background-color: #3B4455;\n",
              "      fill: #D2E3FC;\n",
              "    }\n",
              "\n",
              "    [theme=dark] .colab-df-convert:hover {\n",
              "      background-color: #434B5C;\n",
              "      box-shadow: 0px 1px 3px 1px rgba(0, 0, 0, 0.15);\n",
              "      filter: drop-shadow(0px 1px 2px rgba(0, 0, 0, 0.3));\n",
              "      fill: #FFFFFF;\n",
              "    }\n",
              "  </style>\n",
              "\n",
              "    <script>\n",
              "      const buttonEl =\n",
              "        document.querySelector('#df-c6f8474e-52e5-47a2-8608-eb0e32178475 button.colab-df-convert');\n",
              "      buttonEl.style.display =\n",
              "        google.colab.kernel.accessAllowed ? 'block' : 'none';\n",
              "\n",
              "      async function convertToInteractive(key) {\n",
              "        const element = document.querySelector('#df-c6f8474e-52e5-47a2-8608-eb0e32178475');\n",
              "        const dataTable =\n",
              "          await google.colab.kernel.invokeFunction('convertToInteractive',\n",
              "                                                    [key], {});\n",
              "        if (!dataTable) return;\n",
              "\n",
              "        const docLinkHtml = 'Like what you see? Visit the ' +\n",
              "          '<a target=\"_blank\" href=https://colab.research.google.com/notebooks/data_table.ipynb>data table notebook</a>'\n",
              "          + ' to learn more about interactive tables.';\n",
              "        element.innerHTML = '';\n",
              "        dataTable['output_type'] = 'display_data';\n",
              "        await google.colab.output.renderOutput(dataTable, element);\n",
              "        const docLink = document.createElement('div');\n",
              "        docLink.innerHTML = docLinkHtml;\n",
              "        element.appendChild(docLink);\n",
              "      }\n",
              "    </script>\n",
              "  </div>\n",
              "\n",
              "\n",
              "<div id=\"df-e416c14d-1d5c-4d25-a10a-f0c6ec3f4dee\">\n",
              "  <button class=\"colab-df-quickchart\" onclick=\"quickchart('df-e416c14d-1d5c-4d25-a10a-f0c6ec3f4dee')\"\n",
              "            title=\"Suggest charts\"\n",
              "            style=\"display:none;\">\n",
              "\n",
              "<svg xmlns=\"http://www.w3.org/2000/svg\" height=\"24px\"viewBox=\"0 0 24 24\"\n",
              "     width=\"24px\">\n",
              "    <g>\n",
              "        <path d=\"M19 3H5c-1.1 0-2 .9-2 2v14c0 1.1.9 2 2 2h14c1.1 0 2-.9 2-2V5c0-1.1-.9-2-2-2zM9 17H7v-7h2v7zm4 0h-2V7h2v10zm4 0h-2v-4h2v4z\"/>\n",
              "    </g>\n",
              "</svg>\n",
              "  </button>\n",
              "\n",
              "<style>\n",
              "  .colab-df-quickchart {\n",
              "      --bg-color: #E8F0FE;\n",
              "      --fill-color: #1967D2;\n",
              "      --hover-bg-color: #E2EBFA;\n",
              "      --hover-fill-color: #174EA6;\n",
              "      --disabled-fill-color: #AAA;\n",
              "      --disabled-bg-color: #DDD;\n",
              "  }\n",
              "\n",
              "  [theme=dark] .colab-df-quickchart {\n",
              "      --bg-color: #3B4455;\n",
              "      --fill-color: #D2E3FC;\n",
              "      --hover-bg-color: #434B5C;\n",
              "      --hover-fill-color: #FFFFFF;\n",
              "      --disabled-bg-color: #3B4455;\n",
              "      --disabled-fill-color: #666;\n",
              "  }\n",
              "\n",
              "  .colab-df-quickchart {\n",
              "    background-color: var(--bg-color);\n",
              "    border: none;\n",
              "    border-radius: 50%;\n",
              "    cursor: pointer;\n",
              "    display: none;\n",
              "    fill: var(--fill-color);\n",
              "    height: 32px;\n",
              "    padding: 0;\n",
              "    width: 32px;\n",
              "  }\n",
              "\n",
              "  .colab-df-quickchart:hover {\n",
              "    background-color: var(--hover-bg-color);\n",
              "    box-shadow: 0 1px 2px rgba(60, 64, 67, 0.3), 0 1px 3px 1px rgba(60, 64, 67, 0.15);\n",
              "    fill: var(--button-hover-fill-color);\n",
              "  }\n",
              "\n",
              "  .colab-df-quickchart-complete:disabled,\n",
              "  .colab-df-quickchart-complete:disabled:hover {\n",
              "    background-color: var(--disabled-bg-color);\n",
              "    fill: var(--disabled-fill-color);\n",
              "    box-shadow: none;\n",
              "  }\n",
              "\n",
              "  .colab-df-spinner {\n",
              "    border: 2px solid var(--fill-color);\n",
              "    border-color: transparent;\n",
              "    border-bottom-color: var(--fill-color);\n",
              "    animation:\n",
              "      spin 1s steps(1) infinite;\n",
              "  }\n",
              "\n",
              "  @keyframes spin {\n",
              "    0% {\n",
              "      border-color: transparent;\n",
              "      border-bottom-color: var(--fill-color);\n",
              "      border-left-color: var(--fill-color);\n",
              "    }\n",
              "    20% {\n",
              "      border-color: transparent;\n",
              "      border-left-color: var(--fill-color);\n",
              "      border-top-color: var(--fill-color);\n",
              "    }\n",
              "    30% {\n",
              "      border-color: transparent;\n",
              "      border-left-color: var(--fill-color);\n",
              "      border-top-color: var(--fill-color);\n",
              "      border-right-color: var(--fill-color);\n",
              "    }\n",
              "    40% {\n",
              "      border-color: transparent;\n",
              "      border-right-color: var(--fill-color);\n",
              "      border-top-color: var(--fill-color);\n",
              "    }\n",
              "    60% {\n",
              "      border-color: transparent;\n",
              "      border-right-color: var(--fill-color);\n",
              "    }\n",
              "    80% {\n",
              "      border-color: transparent;\n",
              "      border-right-color: var(--fill-color);\n",
              "      border-bottom-color: var(--fill-color);\n",
              "    }\n",
              "    90% {\n",
              "      border-color: transparent;\n",
              "      border-bottom-color: var(--fill-color);\n",
              "    }\n",
              "  }\n",
              "</style>\n",
              "\n",
              "  <script>\n",
              "    async function quickchart(key) {\n",
              "      const quickchartButtonEl =\n",
              "        document.querySelector('#' + key + ' button');\n",
              "      quickchartButtonEl.disabled = true;  // To prevent multiple clicks.\n",
              "      quickchartButtonEl.classList.add('colab-df-spinner');\n",
              "      try {\n",
              "        const charts = await google.colab.kernel.invokeFunction(\n",
              "            'suggestCharts', [key], {});\n",
              "      } catch (error) {\n",
              "        console.error('Error during call to suggestCharts:', error);\n",
              "      }\n",
              "      quickchartButtonEl.classList.remove('colab-df-spinner');\n",
              "      quickchartButtonEl.classList.add('colab-df-quickchart-complete');\n",
              "    }\n",
              "    (() => {\n",
              "      let quickchartButtonEl =\n",
              "        document.querySelector('#df-e416c14d-1d5c-4d25-a10a-f0c6ec3f4dee button');\n",
              "      quickchartButtonEl.style.display =\n",
              "        google.colab.kernel.accessAllowed ? 'block' : 'none';\n",
              "    })();\n",
              "  </script>\n",
              "</div>\n",
              "\n",
              "    </div>\n",
              "  </div>\n"
            ],
            "application/vnd.google.colaboratory.intrinsic+json": {
              "type": "dataframe",
              "variable_name": "Xtrain_transformed"
            }
          },
          "metadata": {},
          "execution_count": 23
        }
      ]
    },
    {
      "cell_type": "code",
      "source": [
        "from sklearn.ensemble import RandomForestClassifier\n",
        "\n",
        "models={\n",
        "    'Random Forest': RandomForestClassifier()\n",
        "}\n",
        "\n",
        "from sklearn.metrics import accuracy_score\n",
        "\n",
        "def evaluate_model(Xtrain,ytrain,Xtest,ytest,models):\n",
        "\n",
        "  report={ }\n",
        "\n",
        "  for i in range(len(models)):\n",
        "    model=list(models.values())[i]\n",
        "    model.fit(Xtrain,ytrain)\n",
        "    ypred=model.predict(Xtest)\n",
        "    test_model_score=accuracy_score(ytest,ypred)\n",
        "    report[list(models.keys())[i]]=test_model_score\n",
        "  return report"
      ],
      "metadata": {
        "id": "0e8QQbthGxXa"
      },
      "execution_count": 24,
      "outputs": []
    },
    {
      "cell_type": "code",
      "source": [
        "evaluate_model(Xtrain_transformed,ytrain,Xtest_transformed,ytest,models)"
      ],
      "metadata": {
        "colab": {
          "base_uri": "https://localhost:8080/"
        },
        "id": "8TFphhAXHCC1",
        "outputId": "006a77db-7bbf-4faf-caae-3ab3b0241e5f"
      },
      "execution_count": 25,
      "outputs": [
        {
          "output_type": "execute_result",
          "data": {
            "text/plain": [
              "{'Random Forest': 0.8333333333333334}"
            ]
          },
          "metadata": {},
          "execution_count": 25
        }
      ]
    },
    {
      "cell_type": "code",
      "source": [
        "params = {\n",
        "    'n_estimators':[10,50,100,200,300,400],\n",
        "    'max_depth':[4,5,6,7,8,9,10],\n",
        "    'min_samples_leaf':[2,3,4,5,6],\n",
        "    'min_samples_split':[2,5,10]\n",
        "}"
      ],
      "metadata": {
        "id": "bZmCrzBXINZ4"
      },
      "execution_count": 26,
      "outputs": []
    },
    {
      "cell_type": "code",
      "source": [
        "from sklearn.model_selection import cross_val_score, StratifiedKFold\n",
        "skf = StratifiedKFold(n_splits=5, shuffle=True)\n",
        "from sklearn.model_selection import RandomizedSearchCV\n",
        "rscv = RandomizedSearchCV(RandomForestClassifier(),\n",
        "                          param_distributions=params,\n",
        "                          cv=skf,\n",
        "                          n_iter=50,\n",
        "                          scoring='accuracy',\n",
        "                          verbose=3)"
      ],
      "metadata": {
        "id": "vA2AaAahML9s"
      },
      "execution_count": 27,
      "outputs": []
    },
    {
      "cell_type": "code",
      "source": [
        "rscv.fit(Xtrain_transformed,ytrain)"
      ],
      "metadata": {
        "colab": {
          "base_uri": "https://localhost:8080/",
          "height": 1000
        },
        "id": "8C0RUodgMXy0",
        "outputId": "bef5e111-be34-4793-ad96-19f2805110f6"
      },
      "execution_count": 28,
      "outputs": [
        {
          "output_type": "stream",
          "name": "stdout",
          "text": [
            "Fitting 5 folds for each of 50 candidates, totalling 250 fits\n",
            "[CV 1/5] END max_depth=5, min_samples_leaf=4, min_samples_split=5, n_estimators=50;, score=0.873 total time=   0.1s\n",
            "[CV 2/5] END max_depth=5, min_samples_leaf=4, min_samples_split=5, n_estimators=50;, score=0.843 total time=   0.1s\n",
            "[CV 3/5] END max_depth=5, min_samples_leaf=4, min_samples_split=5, n_estimators=50;, score=0.872 total time=   0.1s\n",
            "[CV 4/5] END max_depth=5, min_samples_leaf=4, min_samples_split=5, n_estimators=50;, score=0.864 total time=   0.1s\n",
            "[CV 5/5] END max_depth=5, min_samples_leaf=4, min_samples_split=5, n_estimators=50;, score=0.843 total time=   0.1s\n",
            "[CV 1/5] END max_depth=9, min_samples_leaf=4, min_samples_split=10, n_estimators=400;, score=0.881 total time=   0.9s\n",
            "[CV 2/5] END max_depth=9, min_samples_leaf=4, min_samples_split=10, n_estimators=400;, score=0.851 total time=   0.9s\n",
            "[CV 3/5] END max_depth=9, min_samples_leaf=4, min_samples_split=10, n_estimators=400;, score=0.868 total time=   0.9s\n",
            "[CV 4/5] END max_depth=9, min_samples_leaf=4, min_samples_split=10, n_estimators=400;, score=0.868 total time=   0.9s\n",
            "[CV 5/5] END max_depth=9, min_samples_leaf=4, min_samples_split=10, n_estimators=400;, score=0.851 total time=   1.3s\n",
            "[CV 1/5] END max_depth=7, min_samples_leaf=5, min_samples_split=5, n_estimators=400;, score=0.881 total time=   1.3s\n",
            "[CV 2/5] END max_depth=7, min_samples_leaf=5, min_samples_split=5, n_estimators=400;, score=0.847 total time=   1.1s\n",
            "[CV 3/5] END max_depth=7, min_samples_leaf=5, min_samples_split=5, n_estimators=400;, score=0.868 total time=   0.8s\n",
            "[CV 4/5] END max_depth=7, min_samples_leaf=5, min_samples_split=5, n_estimators=400;, score=0.868 total time=   0.8s\n",
            "[CV 5/5] END max_depth=7, min_samples_leaf=5, min_samples_split=5, n_estimators=400;, score=0.851 total time=   0.8s\n",
            "[CV 1/5] END max_depth=7, min_samples_leaf=6, min_samples_split=2, n_estimators=100;, score=0.873 total time=   0.2s\n",
            "[CV 2/5] END max_depth=7, min_samples_leaf=6, min_samples_split=2, n_estimators=100;, score=0.847 total time=   0.2s\n",
            "[CV 3/5] END max_depth=7, min_samples_leaf=6, min_samples_split=2, n_estimators=100;, score=0.868 total time=   0.2s\n",
            "[CV 4/5] END max_depth=7, min_samples_leaf=6, min_samples_split=2, n_estimators=100;, score=0.868 total time=   0.2s\n",
            "[CV 5/5] END max_depth=7, min_samples_leaf=6, min_samples_split=2, n_estimators=100;, score=0.847 total time=   0.2s\n",
            "[CV 1/5] END max_depth=9, min_samples_leaf=3, min_samples_split=10, n_estimators=300;, score=0.886 total time=   0.7s\n",
            "[CV 2/5] END max_depth=9, min_samples_leaf=3, min_samples_split=10, n_estimators=300;, score=0.851 total time=   0.7s\n",
            "[CV 3/5] END max_depth=9, min_samples_leaf=3, min_samples_split=10, n_estimators=300;, score=0.868 total time=   0.6s\n",
            "[CV 4/5] END max_depth=9, min_samples_leaf=3, min_samples_split=10, n_estimators=300;, score=0.872 total time=   0.6s\n",
            "[CV 5/5] END max_depth=9, min_samples_leaf=3, min_samples_split=10, n_estimators=300;, score=0.855 total time=   0.7s\n",
            "[CV 1/5] END max_depth=10, min_samples_leaf=3, min_samples_split=10, n_estimators=50;, score=0.886 total time=   0.1s\n",
            "[CV 2/5] END max_depth=10, min_samples_leaf=3, min_samples_split=10, n_estimators=50;, score=0.855 total time=   0.1s\n",
            "[CV 3/5] END max_depth=10, min_samples_leaf=3, min_samples_split=10, n_estimators=50;, score=0.868 total time=   0.1s\n",
            "[CV 4/5] END max_depth=10, min_samples_leaf=3, min_samples_split=10, n_estimators=50;, score=0.860 total time=   0.1s\n",
            "[CV 5/5] END max_depth=10, min_samples_leaf=3, min_samples_split=10, n_estimators=50;, score=0.847 total time=   0.1s\n",
            "[CV 1/5] END max_depth=4, min_samples_leaf=2, min_samples_split=10, n_estimators=100;, score=0.869 total time=   0.2s\n",
            "[CV 2/5] END max_depth=4, min_samples_leaf=2, min_samples_split=10, n_estimators=100;, score=0.847 total time=   0.2s\n",
            "[CV 3/5] END max_depth=4, min_samples_leaf=2, min_samples_split=10, n_estimators=100;, score=0.864 total time=   0.2s\n",
            "[CV 4/5] END max_depth=4, min_samples_leaf=2, min_samples_split=10, n_estimators=100;, score=0.860 total time=   0.2s\n",
            "[CV 5/5] END max_depth=4, min_samples_leaf=2, min_samples_split=10, n_estimators=100;, score=0.847 total time=   0.2s\n",
            "[CV 1/5] END max_depth=5, min_samples_leaf=4, min_samples_split=10, n_estimators=300;, score=0.869 total time=   0.6s\n",
            "[CV 2/5] END max_depth=5, min_samples_leaf=4, min_samples_split=10, n_estimators=300;, score=0.847 total time=   0.7s\n",
            "[CV 3/5] END max_depth=5, min_samples_leaf=4, min_samples_split=10, n_estimators=300;, score=0.868 total time=   0.9s\n",
            "[CV 4/5] END max_depth=5, min_samples_leaf=4, min_samples_split=10, n_estimators=300;, score=0.864 total time=   0.9s\n",
            "[CV 5/5] END max_depth=5, min_samples_leaf=4, min_samples_split=10, n_estimators=300;, score=0.843 total time=   0.9s\n",
            "[CV 1/5] END max_depth=7, min_samples_leaf=6, min_samples_split=10, n_estimators=200;, score=0.877 total time=   0.7s\n",
            "[CV 2/5] END max_depth=7, min_samples_leaf=6, min_samples_split=10, n_estimators=200;, score=0.851 total time=   0.4s\n",
            "[CV 3/5] END max_depth=7, min_samples_leaf=6, min_samples_split=10, n_estimators=200;, score=0.872 total time=   0.4s\n",
            "[CV 4/5] END max_depth=7, min_samples_leaf=6, min_samples_split=10, n_estimators=200;, score=0.864 total time=   0.4s\n",
            "[CV 5/5] END max_depth=7, min_samples_leaf=6, min_samples_split=10, n_estimators=200;, score=0.851 total time=   0.4s\n",
            "[CV 1/5] END max_depth=7, min_samples_leaf=2, min_samples_split=10, n_estimators=200;, score=0.886 total time=   0.4s\n",
            "[CV 2/5] END max_depth=7, min_samples_leaf=2, min_samples_split=10, n_estimators=200;, score=0.847 total time=   0.4s\n",
            "[CV 3/5] END max_depth=7, min_samples_leaf=2, min_samples_split=10, n_estimators=200;, score=0.864 total time=   0.4s\n",
            "[CV 4/5] END max_depth=7, min_samples_leaf=2, min_samples_split=10, n_estimators=200;, score=0.868 total time=   0.4s\n",
            "[CV 5/5] END max_depth=7, min_samples_leaf=2, min_samples_split=10, n_estimators=200;, score=0.847 total time=   0.4s\n",
            "[CV 1/5] END max_depth=9, min_samples_leaf=4, min_samples_split=5, n_estimators=100;, score=0.881 total time=   0.2s\n",
            "[CV 2/5] END max_depth=9, min_samples_leaf=4, min_samples_split=5, n_estimators=100;, score=0.847 total time=   0.2s\n",
            "[CV 3/5] END max_depth=9, min_samples_leaf=4, min_samples_split=5, n_estimators=100;, score=0.872 total time=   0.2s\n",
            "[CV 4/5] END max_depth=9, min_samples_leaf=4, min_samples_split=5, n_estimators=100;, score=0.868 total time=   0.2s\n",
            "[CV 5/5] END max_depth=9, min_samples_leaf=4, min_samples_split=5, n_estimators=100;, score=0.838 total time=   0.2s\n",
            "[CV 1/5] END max_depth=6, min_samples_leaf=4, min_samples_split=10, n_estimators=50;, score=0.877 total time=   0.1s\n",
            "[CV 2/5] END max_depth=6, min_samples_leaf=4, min_samples_split=10, n_estimators=50;, score=0.847 total time=   0.1s\n",
            "[CV 3/5] END max_depth=6, min_samples_leaf=4, min_samples_split=10, n_estimators=50;, score=0.872 total time=   0.1s\n",
            "[CV 4/5] END max_depth=6, min_samples_leaf=4, min_samples_split=10, n_estimators=50;, score=0.864 total time=   0.1s\n",
            "[CV 5/5] END max_depth=6, min_samples_leaf=4, min_samples_split=10, n_estimators=50;, score=0.843 total time=   0.1s\n",
            "[CV 1/5] END max_depth=8, min_samples_leaf=3, min_samples_split=2, n_estimators=10;, score=0.856 total time=   0.0s\n",
            "[CV 2/5] END max_depth=8, min_samples_leaf=3, min_samples_split=2, n_estimators=10;, score=0.843 total time=   0.0s\n",
            "[CV 3/5] END max_depth=8, min_samples_leaf=3, min_samples_split=2, n_estimators=10;, score=0.860 total time=   0.0s\n",
            "[CV 4/5] END max_depth=8, min_samples_leaf=3, min_samples_split=2, n_estimators=10;, score=0.847 total time=   0.0s\n",
            "[CV 5/5] END max_depth=8, min_samples_leaf=3, min_samples_split=2, n_estimators=10;, score=0.838 total time=   0.0s\n",
            "[CV 1/5] END max_depth=10, min_samples_leaf=5, min_samples_split=5, n_estimators=100;, score=0.869 total time=   0.2s\n",
            "[CV 2/5] END max_depth=10, min_samples_leaf=5, min_samples_split=5, n_estimators=100;, score=0.847 total time=   0.2s\n",
            "[CV 3/5] END max_depth=10, min_samples_leaf=5, min_samples_split=5, n_estimators=100;, score=0.868 total time=   0.2s\n",
            "[CV 4/5] END max_depth=10, min_samples_leaf=5, min_samples_split=5, n_estimators=100;, score=0.872 total time=   0.2s\n",
            "[CV 5/5] END max_depth=10, min_samples_leaf=5, min_samples_split=5, n_estimators=100;, score=0.847 total time=   0.2s\n",
            "[CV 1/5] END max_depth=9, min_samples_leaf=4, min_samples_split=2, n_estimators=50;, score=0.886 total time=   0.1s\n",
            "[CV 2/5] END max_depth=9, min_samples_leaf=4, min_samples_split=2, n_estimators=50;, score=0.843 total time=   0.1s\n",
            "[CV 3/5] END max_depth=9, min_samples_leaf=4, min_samples_split=2, n_estimators=50;, score=0.872 total time=   0.1s\n",
            "[CV 4/5] END max_depth=9, min_samples_leaf=4, min_samples_split=2, n_estimators=50;, score=0.877 total time=   0.1s\n",
            "[CV 5/5] END max_depth=9, min_samples_leaf=4, min_samples_split=2, n_estimators=50;, score=0.855 total time=   0.1s\n",
            "[CV 1/5] END max_depth=4, min_samples_leaf=2, min_samples_split=10, n_estimators=300;, score=0.864 total time=   0.6s\n",
            "[CV 2/5] END max_depth=4, min_samples_leaf=2, min_samples_split=10, n_estimators=300;, score=0.847 total time=   0.6s\n",
            "[CV 3/5] END max_depth=4, min_samples_leaf=2, min_samples_split=10, n_estimators=300;, score=0.868 total time=   0.6s\n",
            "[CV 4/5] END max_depth=4, min_samples_leaf=2, min_samples_split=10, n_estimators=300;, score=0.864 total time=   0.6s\n",
            "[CV 5/5] END max_depth=4, min_samples_leaf=2, min_samples_split=10, n_estimators=300;, score=0.847 total time=   0.8s\n",
            "[CV 1/5] END max_depth=7, min_samples_leaf=3, min_samples_split=10, n_estimators=100;, score=0.890 total time=   0.3s\n",
            "[CV 2/5] END max_depth=7, min_samples_leaf=3, min_samples_split=10, n_estimators=100;, score=0.855 total time=   0.3s\n",
            "[CV 3/5] END max_depth=7, min_samples_leaf=3, min_samples_split=10, n_estimators=100;, score=0.868 total time=   0.3s\n",
            "[CV 4/5] END max_depth=7, min_samples_leaf=3, min_samples_split=10, n_estimators=100;, score=0.864 total time=   0.3s\n",
            "[CV 5/5] END max_depth=7, min_samples_leaf=3, min_samples_split=10, n_estimators=100;, score=0.834 total time=   0.4s\n",
            "[CV 1/5] END max_depth=6, min_samples_leaf=2, min_samples_split=10, n_estimators=400;, score=0.881 total time=   1.1s\n",
            "[CV 2/5] END max_depth=6, min_samples_leaf=2, min_samples_split=10, n_estimators=400;, score=0.851 total time=   0.8s\n",
            "[CV 3/5] END max_depth=6, min_samples_leaf=2, min_samples_split=10, n_estimators=400;, score=0.868 total time=   0.8s\n",
            "[CV 4/5] END max_depth=6, min_samples_leaf=2, min_samples_split=10, n_estimators=400;, score=0.868 total time=   0.8s\n",
            "[CV 5/5] END max_depth=6, min_samples_leaf=2, min_samples_split=10, n_estimators=400;, score=0.855 total time=   0.8s\n",
            "[CV 1/5] END max_depth=9, min_samples_leaf=3, min_samples_split=10, n_estimators=100;, score=0.881 total time=   0.2s\n",
            "[CV 2/5] END max_depth=9, min_samples_leaf=3, min_samples_split=10, n_estimators=100;, score=0.851 total time=   0.2s\n",
            "[CV 3/5] END max_depth=9, min_samples_leaf=3, min_samples_split=10, n_estimators=100;, score=0.872 total time=   0.2s\n",
            "[CV 4/5] END max_depth=9, min_samples_leaf=3, min_samples_split=10, n_estimators=100;, score=0.877 total time=   0.2s\n",
            "[CV 5/5] END max_depth=9, min_samples_leaf=3, min_samples_split=10, n_estimators=100;, score=0.843 total time=   0.2s\n",
            "[CV 1/5] END max_depth=10, min_samples_leaf=5, min_samples_split=5, n_estimators=300;, score=0.881 total time=   0.7s\n",
            "[CV 2/5] END max_depth=10, min_samples_leaf=5, min_samples_split=5, n_estimators=300;, score=0.847 total time=   0.7s\n",
            "[CV 3/5] END max_depth=10, min_samples_leaf=5, min_samples_split=5, n_estimators=300;, score=0.868 total time=   0.7s\n",
            "[CV 4/5] END max_depth=10, min_samples_leaf=5, min_samples_split=5, n_estimators=300;, score=0.868 total time=   0.7s\n",
            "[CV 5/5] END max_depth=10, min_samples_leaf=5, min_samples_split=5, n_estimators=300;, score=0.847 total time=   0.6s\n",
            "[CV 1/5] END max_depth=4, min_samples_leaf=3, min_samples_split=10, n_estimators=10;, score=0.860 total time=   0.0s\n",
            "[CV 2/5] END max_depth=4, min_samples_leaf=3, min_samples_split=10, n_estimators=10;, score=0.847 total time=   0.0s\n",
            "[CV 3/5] END max_depth=4, min_samples_leaf=3, min_samples_split=10, n_estimators=10;, score=0.864 total time=   0.0s\n",
            "[CV 4/5] END max_depth=4, min_samples_leaf=3, min_samples_split=10, n_estimators=10;, score=0.860 total time=   0.0s\n",
            "[CV 5/5] END max_depth=4, min_samples_leaf=3, min_samples_split=10, n_estimators=10;, score=0.843 total time=   0.0s\n",
            "[CV 1/5] END max_depth=9, min_samples_leaf=6, min_samples_split=10, n_estimators=400;, score=0.877 total time=   0.8s\n",
            "[CV 2/5] END max_depth=9, min_samples_leaf=6, min_samples_split=10, n_estimators=400;, score=0.847 total time=   0.8s\n",
            "[CV 3/5] END max_depth=9, min_samples_leaf=6, min_samples_split=10, n_estimators=400;, score=0.868 total time=   1.2s\n",
            "[CV 4/5] END max_depth=9, min_samples_leaf=6, min_samples_split=10, n_estimators=400;, score=0.868 total time=   1.3s\n",
            "[CV 5/5] END max_depth=9, min_samples_leaf=6, min_samples_split=10, n_estimators=400;, score=0.851 total time=   1.3s\n",
            "[CV 1/5] END max_depth=8, min_samples_leaf=3, min_samples_split=5, n_estimators=100;, score=0.877 total time=   0.3s\n",
            "[CV 2/5] END max_depth=8, min_samples_leaf=3, min_samples_split=5, n_estimators=100;, score=0.855 total time=   0.2s\n",
            "[CV 3/5] END max_depth=8, min_samples_leaf=3, min_samples_split=5, n_estimators=100;, score=0.872 total time=   0.2s\n",
            "[CV 4/5] END max_depth=8, min_samples_leaf=3, min_samples_split=5, n_estimators=100;, score=0.872 total time=   0.2s\n",
            "[CV 5/5] END max_depth=8, min_samples_leaf=3, min_samples_split=5, n_estimators=100;, score=0.860 total time=   0.2s\n",
            "[CV 1/5] END max_depth=10, min_samples_leaf=3, min_samples_split=10, n_estimators=100;, score=0.881 total time=   0.2s\n",
            "[CV 2/5] END max_depth=10, min_samples_leaf=3, min_samples_split=10, n_estimators=100;, score=0.851 total time=   0.2s\n",
            "[CV 3/5] END max_depth=10, min_samples_leaf=3, min_samples_split=10, n_estimators=100;, score=0.868 total time=   0.2s\n",
            "[CV 4/5] END max_depth=10, min_samples_leaf=3, min_samples_split=10, n_estimators=100;, score=0.872 total time=   0.2s\n",
            "[CV 5/5] END max_depth=10, min_samples_leaf=3, min_samples_split=10, n_estimators=100;, score=0.847 total time=   0.2s\n",
            "[CV 1/5] END max_depth=7, min_samples_leaf=6, min_samples_split=2, n_estimators=400;, score=0.873 total time=   0.9s\n",
            "[CV 2/5] END max_depth=7, min_samples_leaf=6, min_samples_split=2, n_estimators=400;, score=0.847 total time=   0.9s\n",
            "[CV 3/5] END max_depth=7, min_samples_leaf=6, min_samples_split=2, n_estimators=400;, score=0.868 total time=   0.9s\n",
            "[CV 4/5] END max_depth=7, min_samples_leaf=6, min_samples_split=2, n_estimators=400;, score=0.868 total time=   0.9s\n",
            "[CV 5/5] END max_depth=7, min_samples_leaf=6, min_samples_split=2, n_estimators=400;, score=0.847 total time=   0.9s\n",
            "[CV 1/5] END max_depth=6, min_samples_leaf=5, min_samples_split=2, n_estimators=50;, score=0.873 total time=   0.1s\n",
            "[CV 2/5] END max_depth=6, min_samples_leaf=5, min_samples_split=2, n_estimators=50;, score=0.851 total time=   0.1s\n",
            "[CV 3/5] END max_depth=6, min_samples_leaf=5, min_samples_split=2, n_estimators=50;, score=0.868 total time=   0.1s\n",
            "[CV 4/5] END max_depth=6, min_samples_leaf=5, min_samples_split=2, n_estimators=50;, score=0.868 total time=   0.1s\n",
            "[CV 5/5] END max_depth=6, min_samples_leaf=5, min_samples_split=2, n_estimators=50;, score=0.851 total time=   0.1s\n",
            "[CV 1/5] END max_depth=6, min_samples_leaf=5, min_samples_split=2, n_estimators=400;, score=0.881 total time=   0.8s\n",
            "[CV 2/5] END max_depth=6, min_samples_leaf=5, min_samples_split=2, n_estimators=400;, score=0.851 total time=   0.8s\n",
            "[CV 3/5] END max_depth=6, min_samples_leaf=5, min_samples_split=2, n_estimators=400;, score=0.868 total time=   0.8s\n",
            "[CV 4/5] END max_depth=6, min_samples_leaf=5, min_samples_split=2, n_estimators=400;, score=0.864 total time=   1.1s\n",
            "[CV 5/5] END max_depth=6, min_samples_leaf=5, min_samples_split=2, n_estimators=400;, score=0.851 total time=   1.2s\n",
            "[CV 1/5] END max_depth=5, min_samples_leaf=5, min_samples_split=10, n_estimators=400;, score=0.873 total time=   1.2s\n",
            "[CV 2/5] END max_depth=5, min_samples_leaf=5, min_samples_split=10, n_estimators=400;, score=0.847 total time=   1.0s\n",
            "[CV 3/5] END max_depth=5, min_samples_leaf=5, min_samples_split=10, n_estimators=400;, score=0.872 total time=   0.8s\n",
            "[CV 4/5] END max_depth=5, min_samples_leaf=5, min_samples_split=10, n_estimators=400;, score=0.868 total time=   0.8s\n",
            "[CV 5/5] END max_depth=5, min_samples_leaf=5, min_samples_split=10, n_estimators=400;, score=0.847 total time=   0.8s\n",
            "[CV 1/5] END max_depth=8, min_samples_leaf=2, min_samples_split=10, n_estimators=200;, score=0.877 total time=   0.4s\n",
            "[CV 2/5] END max_depth=8, min_samples_leaf=2, min_samples_split=10, n_estimators=200;, score=0.847 total time=   0.4s\n",
            "[CV 3/5] END max_depth=8, min_samples_leaf=2, min_samples_split=10, n_estimators=200;, score=0.868 total time=   0.4s\n",
            "[CV 4/5] END max_depth=8, min_samples_leaf=2, min_samples_split=10, n_estimators=200;, score=0.868 total time=   0.4s\n",
            "[CV 5/5] END max_depth=8, min_samples_leaf=2, min_samples_split=10, n_estimators=200;, score=0.843 total time=   0.4s\n",
            "[CV 1/5] END max_depth=6, min_samples_leaf=6, min_samples_split=2, n_estimators=10;, score=0.873 total time=   0.0s\n",
            "[CV 2/5] END max_depth=6, min_samples_leaf=6, min_samples_split=2, n_estimators=10;, score=0.847 total time=   0.0s\n",
            "[CV 3/5] END max_depth=6, min_samples_leaf=6, min_samples_split=2, n_estimators=10;, score=0.864 total time=   0.0s\n",
            "[CV 4/5] END max_depth=6, min_samples_leaf=6, min_samples_split=2, n_estimators=10;, score=0.864 total time=   0.0s\n",
            "[CV 5/5] END max_depth=6, min_samples_leaf=6, min_samples_split=2, n_estimators=10;, score=0.843 total time=   0.0s\n",
            "[CV 1/5] END max_depth=7, min_samples_leaf=4, min_samples_split=10, n_estimators=200;, score=0.886 total time=   0.4s\n",
            "[CV 2/5] END max_depth=7, min_samples_leaf=4, min_samples_split=10, n_estimators=200;, score=0.851 total time=   0.4s\n",
            "[CV 3/5] END max_depth=7, min_samples_leaf=4, min_samples_split=10, n_estimators=200;, score=0.868 total time=   0.4s\n",
            "[CV 4/5] END max_depth=7, min_samples_leaf=4, min_samples_split=10, n_estimators=200;, score=0.868 total time=   0.5s\n",
            "[CV 5/5] END max_depth=7, min_samples_leaf=4, min_samples_split=10, n_estimators=200;, score=0.851 total time=   0.4s\n",
            "[CV 1/5] END max_depth=10, min_samples_leaf=2, min_samples_split=10, n_estimators=10;, score=0.864 total time=   0.0s\n",
            "[CV 2/5] END max_depth=10, min_samples_leaf=2, min_samples_split=10, n_estimators=10;, score=0.872 total time=   0.0s\n",
            "[CV 3/5] END max_depth=10, min_samples_leaf=2, min_samples_split=10, n_estimators=10;, score=0.864 total time=   0.0s\n",
            "[CV 4/5] END max_depth=10, min_samples_leaf=2, min_samples_split=10, n_estimators=10;, score=0.864 total time=   0.0s\n",
            "[CV 5/5] END max_depth=10, min_samples_leaf=2, min_samples_split=10, n_estimators=10;, score=0.830 total time=   0.0s\n",
            "[CV 1/5] END max_depth=6, min_samples_leaf=5, min_samples_split=10, n_estimators=300;, score=0.869 total time=   0.6s\n",
            "[CV 2/5] END max_depth=6, min_samples_leaf=5, min_samples_split=10, n_estimators=300;, score=0.843 total time=   0.6s\n",
            "[CV 3/5] END max_depth=6, min_samples_leaf=5, min_samples_split=10, n_estimators=300;, score=0.868 total time=   0.6s\n",
            "[CV 4/5] END max_depth=6, min_samples_leaf=5, min_samples_split=10, n_estimators=300;, score=0.864 total time=   0.6s\n",
            "[CV 5/5] END max_depth=6, min_samples_leaf=5, min_samples_split=10, n_estimators=300;, score=0.843 total time=   0.9s\n",
            "[CV 1/5] END max_depth=5, min_samples_leaf=5, min_samples_split=5, n_estimators=100;, score=0.873 total time=   0.3s\n",
            "[CV 2/5] END max_depth=5, min_samples_leaf=5, min_samples_split=5, n_estimators=100;, score=0.847 total time=   0.3s\n",
            "[CV 3/5] END max_depth=5, min_samples_leaf=5, min_samples_split=5, n_estimators=100;, score=0.872 total time=   0.3s\n",
            "[CV 4/5] END max_depth=5, min_samples_leaf=5, min_samples_split=5, n_estimators=100;, score=0.868 total time=   0.3s\n",
            "[CV 5/5] END max_depth=5, min_samples_leaf=5, min_samples_split=5, n_estimators=100;, score=0.847 total time=   0.3s\n",
            "[CV 1/5] END max_depth=10, min_samples_leaf=3, min_samples_split=10, n_estimators=300;, score=0.881 total time=   1.0s\n",
            "[CV 2/5] END max_depth=10, min_samples_leaf=3, min_samples_split=10, n_estimators=300;, score=0.851 total time=   0.7s\n",
            "[CV 3/5] END max_depth=10, min_samples_leaf=3, min_samples_split=10, n_estimators=300;, score=0.864 total time=   0.7s\n",
            "[CV 4/5] END max_depth=10, min_samples_leaf=3, min_samples_split=10, n_estimators=300;, score=0.877 total time=   0.7s\n",
            "[CV 5/5] END max_depth=10, min_samples_leaf=3, min_samples_split=10, n_estimators=300;, score=0.851 total time=   0.7s\n",
            "[CV 1/5] END max_depth=6, min_samples_leaf=6, min_samples_split=2, n_estimators=400;, score=0.877 total time=   0.8s\n",
            "[CV 2/5] END max_depth=6, min_samples_leaf=6, min_samples_split=2, n_estimators=400;, score=0.847 total time=   0.8s\n",
            "[CV 3/5] END max_depth=6, min_samples_leaf=6, min_samples_split=2, n_estimators=400;, score=0.868 total time=   0.8s\n",
            "[CV 4/5] END max_depth=6, min_samples_leaf=6, min_samples_split=2, n_estimators=400;, score=0.868 total time=   0.8s\n",
            "[CV 5/5] END max_depth=6, min_samples_leaf=6, min_samples_split=2, n_estimators=400;, score=0.847 total time=   0.8s\n",
            "[CV 1/5] END max_depth=9, min_samples_leaf=2, min_samples_split=5, n_estimators=50;, score=0.877 total time=   0.1s\n",
            "[CV 2/5] END max_depth=9, min_samples_leaf=2, min_samples_split=5, n_estimators=50;, score=0.843 total time=   0.1s\n",
            "[CV 3/5] END max_depth=9, min_samples_leaf=2, min_samples_split=5, n_estimators=50;, score=0.864 total time=   0.1s\n",
            "[CV 4/5] END max_depth=9, min_samples_leaf=2, min_samples_split=5, n_estimators=50;, score=0.868 total time=   0.1s\n",
            "[CV 5/5] END max_depth=9, min_samples_leaf=2, min_samples_split=5, n_estimators=50;, score=0.847 total time=   0.1s\n",
            "[CV 1/5] END max_depth=8, min_samples_leaf=3, min_samples_split=5, n_estimators=10;, score=0.869 total time=   0.0s\n",
            "[CV 2/5] END max_depth=8, min_samples_leaf=3, min_samples_split=5, n_estimators=10;, score=0.851 total time=   0.0s\n",
            "[CV 3/5] END max_depth=8, min_samples_leaf=3, min_samples_split=5, n_estimators=10;, score=0.860 total time=   0.0s\n",
            "[CV 4/5] END max_depth=8, min_samples_leaf=3, min_samples_split=5, n_estimators=10;, score=0.864 total time=   0.0s\n",
            "[CV 5/5] END max_depth=8, min_samples_leaf=3, min_samples_split=5, n_estimators=10;, score=0.838 total time=   0.0s\n",
            "[CV 1/5] END max_depth=10, min_samples_leaf=6, min_samples_split=2, n_estimators=400;, score=0.886 total time=   0.8s\n",
            "[CV 2/5] END max_depth=10, min_samples_leaf=6, min_samples_split=2, n_estimators=400;, score=0.851 total time=   0.9s\n",
            "[CV 3/5] END max_depth=10, min_samples_leaf=6, min_samples_split=2, n_estimators=400;, score=0.864 total time=   1.0s\n",
            "[CV 4/5] END max_depth=10, min_samples_leaf=6, min_samples_split=2, n_estimators=400;, score=0.868 total time=   1.2s\n",
            "[CV 5/5] END max_depth=10, min_samples_leaf=6, min_samples_split=2, n_estimators=400;, score=0.847 total time=   1.3s\n",
            "[CV 1/5] END max_depth=6, min_samples_leaf=2, min_samples_split=5, n_estimators=50;, score=0.873 total time=   0.2s\n",
            "[CV 2/5] END max_depth=6, min_samples_leaf=2, min_samples_split=5, n_estimators=50;, score=0.851 total time=   0.2s\n",
            "[CV 3/5] END max_depth=6, min_samples_leaf=2, min_samples_split=5, n_estimators=50;, score=0.868 total time=   0.2s\n",
            "[CV 4/5] END max_depth=6, min_samples_leaf=2, min_samples_split=5, n_estimators=50;, score=0.860 total time=   0.2s\n",
            "[CV 5/5] END max_depth=6, min_samples_leaf=2, min_samples_split=5, n_estimators=50;, score=0.843 total time=   0.1s\n",
            "[CV 1/5] END max_depth=7, min_samples_leaf=5, min_samples_split=2, n_estimators=400;, score=0.877 total time=   0.8s\n",
            "[CV 2/5] END max_depth=7, min_samples_leaf=5, min_samples_split=2, n_estimators=400;, score=0.847 total time=   0.8s\n",
            "[CV 3/5] END max_depth=7, min_samples_leaf=5, min_samples_split=2, n_estimators=400;, score=0.868 total time=   0.8s\n",
            "[CV 4/5] END max_depth=7, min_samples_leaf=5, min_samples_split=2, n_estimators=400;, score=0.868 total time=   0.8s\n",
            "[CV 5/5] END max_depth=7, min_samples_leaf=5, min_samples_split=2, n_estimators=400;, score=0.851 total time=   0.8s\n",
            "[CV 1/5] END max_depth=6, min_samples_leaf=5, min_samples_split=10, n_estimators=50;, score=0.873 total time=   0.1s\n",
            "[CV 2/5] END max_depth=6, min_samples_leaf=5, min_samples_split=10, n_estimators=50;, score=0.851 total time=   0.1s\n",
            "[CV 3/5] END max_depth=6, min_samples_leaf=5, min_samples_split=10, n_estimators=50;, score=0.868 total time=   0.1s\n",
            "[CV 4/5] END max_depth=6, min_samples_leaf=5, min_samples_split=10, n_estimators=50;, score=0.860 total time=   0.1s\n",
            "[CV 5/5] END max_depth=6, min_samples_leaf=5, min_samples_split=10, n_estimators=50;, score=0.843 total time=   0.1s\n",
            "[CV 1/5] END max_depth=6, min_samples_leaf=3, min_samples_split=10, n_estimators=10;, score=0.873 total time=   0.0s\n",
            "[CV 2/5] END max_depth=6, min_samples_leaf=3, min_samples_split=10, n_estimators=10;, score=0.847 total time=   0.0s\n",
            "[CV 3/5] END max_depth=6, min_samples_leaf=3, min_samples_split=10, n_estimators=10;, score=0.860 total time=   0.0s\n",
            "[CV 4/5] END max_depth=6, min_samples_leaf=3, min_samples_split=10, n_estimators=10;, score=0.843 total time=   0.0s\n",
            "[CV 5/5] END max_depth=6, min_samples_leaf=3, min_samples_split=10, n_estimators=10;, score=0.834 total time=   0.0s\n",
            "[CV 1/5] END max_depth=9, min_samples_leaf=3, min_samples_split=5, n_estimators=400;, score=0.890 total time=   0.9s\n",
            "[CV 2/5] END max_depth=9, min_samples_leaf=3, min_samples_split=5, n_estimators=400;, score=0.851 total time=   0.9s\n",
            "[CV 3/5] END max_depth=9, min_samples_leaf=3, min_samples_split=5, n_estimators=400;, score=0.868 total time=   0.9s\n",
            "[CV 4/5] END max_depth=9, min_samples_leaf=3, min_samples_split=5, n_estimators=400;, score=0.872 total time=   0.9s\n",
            "[CV 5/5] END max_depth=9, min_samples_leaf=3, min_samples_split=5, n_estimators=400;, score=0.843 total time=   0.9s\n",
            "[CV 1/5] END max_depth=6, min_samples_leaf=6, min_samples_split=2, n_estimators=100;, score=0.873 total time=   0.2s\n",
            "[CV 2/5] END max_depth=6, min_samples_leaf=6, min_samples_split=2, n_estimators=100;, score=0.855 total time=   0.2s\n",
            "[CV 3/5] END max_depth=6, min_samples_leaf=6, min_samples_split=2, n_estimators=100;, score=0.868 total time=   0.2s\n",
            "[CV 4/5] END max_depth=6, min_samples_leaf=6, min_samples_split=2, n_estimators=100;, score=0.868 total time=   0.3s\n",
            "[CV 5/5] END max_depth=6, min_samples_leaf=6, min_samples_split=2, n_estimators=100;, score=0.843 total time=   0.3s\n",
            "[CV 1/5] END max_depth=5, min_samples_leaf=6, min_samples_split=2, n_estimators=200;, score=0.873 total time=   0.6s\n",
            "[CV 2/5] END max_depth=5, min_samples_leaf=6, min_samples_split=2, n_estimators=200;, score=0.847 total time=   0.6s\n",
            "[CV 3/5] END max_depth=5, min_samples_leaf=6, min_samples_split=2, n_estimators=200;, score=0.872 total time=   0.6s\n",
            "[CV 4/5] END max_depth=5, min_samples_leaf=6, min_samples_split=2, n_estimators=200;, score=0.864 total time=   0.6s\n",
            "[CV 5/5] END max_depth=5, min_samples_leaf=6, min_samples_split=2, n_estimators=200;, score=0.847 total time=   0.5s\n",
            "[CV 1/5] END max_depth=5, min_samples_leaf=2, min_samples_split=10, n_estimators=10;, score=0.877 total time=   0.0s\n",
            "[CV 2/5] END max_depth=5, min_samples_leaf=2, min_samples_split=10, n_estimators=10;, score=0.847 total time=   0.0s\n",
            "[CV 3/5] END max_depth=5, min_samples_leaf=2, min_samples_split=10, n_estimators=10;, score=0.864 total time=   0.0s\n",
            "[CV 4/5] END max_depth=5, min_samples_leaf=2, min_samples_split=10, n_estimators=10;, score=0.860 total time=   0.0s\n",
            "[CV 5/5] END max_depth=5, min_samples_leaf=2, min_samples_split=10, n_estimators=10;, score=0.843 total time=   0.0s\n",
            "[CV 1/5] END max_depth=4, min_samples_leaf=4, min_samples_split=5, n_estimators=400;, score=0.869 total time=   0.8s\n",
            "[CV 2/5] END max_depth=4, min_samples_leaf=4, min_samples_split=5, n_estimators=400;, score=0.847 total time=   0.8s\n",
            "[CV 3/5] END max_depth=4, min_samples_leaf=4, min_samples_split=5, n_estimators=400;, score=0.872 total time=   0.7s\n",
            "[CV 4/5] END max_depth=4, min_samples_leaf=4, min_samples_split=5, n_estimators=400;, score=0.860 total time=   0.8s\n",
            "[CV 5/5] END max_depth=4, min_samples_leaf=4, min_samples_split=5, n_estimators=400;, score=0.847 total time=   0.8s\n",
            "[CV 1/5] END max_depth=8, min_samples_leaf=6, min_samples_split=2, n_estimators=200;, score=0.869 total time=   0.4s\n",
            "[CV 2/5] END max_depth=8, min_samples_leaf=6, min_samples_split=2, n_estimators=200;, score=0.851 total time=   0.4s\n",
            "[CV 3/5] END max_depth=8, min_samples_leaf=6, min_samples_split=2, n_estimators=200;, score=0.872 total time=   0.4s\n",
            "[CV 4/5] END max_depth=8, min_samples_leaf=6, min_samples_split=2, n_estimators=200;, score=0.868 total time=   0.4s\n",
            "[CV 5/5] END max_depth=8, min_samples_leaf=6, min_samples_split=2, n_estimators=200;, score=0.847 total time=   0.4s\n",
            "[CV 1/5] END max_depth=4, min_samples_leaf=3, min_samples_split=2, n_estimators=10;, score=0.852 total time=   0.0s\n",
            "[CV 2/5] END max_depth=4, min_samples_leaf=3, min_samples_split=2, n_estimators=10;, score=0.843 total time=   0.0s\n",
            "[CV 3/5] END max_depth=4, min_samples_leaf=3, min_samples_split=2, n_estimators=10;, score=0.860 total time=   0.0s\n",
            "[CV 4/5] END max_depth=4, min_samples_leaf=3, min_samples_split=2, n_estimators=10;, score=0.860 total time=   0.0s\n",
            "[CV 5/5] END max_depth=4, min_samples_leaf=3, min_samples_split=2, n_estimators=10;, score=0.847 total time=   0.0s\n"
          ]
        },
        {
          "output_type": "execute_result",
          "data": {
            "text/plain": [
              "RandomizedSearchCV(cv=StratifiedKFold(n_splits=5, random_state=None, shuffle=True),\n",
              "                   estimator=RandomForestClassifier(), n_iter=50,\n",
              "                   param_distributions={'max_depth': [4, 5, 6, 7, 8, 9, 10],\n",
              "                                        'min_samples_leaf': [2, 3, 4, 5, 6],\n",
              "                                        'min_samples_split': [2, 5, 10],\n",
              "                                        'n_estimators': [10, 50, 100, 200, 300,\n",
              "                                                         400]},\n",
              "                   scoring='accuracy', verbose=3)"
            ],
            "text/html": [
              "<style>#sk-container-id-1 {color: black;background-color: white;}#sk-container-id-1 pre{padding: 0;}#sk-container-id-1 div.sk-toggleable {background-color: white;}#sk-container-id-1 label.sk-toggleable__label {cursor: pointer;display: block;width: 100%;margin-bottom: 0;padding: 0.3em;box-sizing: border-box;text-align: center;}#sk-container-id-1 label.sk-toggleable__label-arrow:before {content: \"▸\";float: left;margin-right: 0.25em;color: #696969;}#sk-container-id-1 label.sk-toggleable__label-arrow:hover:before {color: black;}#sk-container-id-1 div.sk-estimator:hover label.sk-toggleable__label-arrow:before {color: black;}#sk-container-id-1 div.sk-toggleable__content {max-height: 0;max-width: 0;overflow: hidden;text-align: left;background-color: #f0f8ff;}#sk-container-id-1 div.sk-toggleable__content pre {margin: 0.2em;color: black;border-radius: 0.25em;background-color: #f0f8ff;}#sk-container-id-1 input.sk-toggleable__control:checked~div.sk-toggleable__content {max-height: 200px;max-width: 100%;overflow: auto;}#sk-container-id-1 input.sk-toggleable__control:checked~label.sk-toggleable__label-arrow:before {content: \"▾\";}#sk-container-id-1 div.sk-estimator input.sk-toggleable__control:checked~label.sk-toggleable__label {background-color: #d4ebff;}#sk-container-id-1 div.sk-label input.sk-toggleable__control:checked~label.sk-toggleable__label {background-color: #d4ebff;}#sk-container-id-1 input.sk-hidden--visually {border: 0;clip: rect(1px 1px 1px 1px);clip: rect(1px, 1px, 1px, 1px);height: 1px;margin: -1px;overflow: hidden;padding: 0;position: absolute;width: 1px;}#sk-container-id-1 div.sk-estimator {font-family: monospace;background-color: #f0f8ff;border: 1px dotted black;border-radius: 0.25em;box-sizing: border-box;margin-bottom: 0.5em;}#sk-container-id-1 div.sk-estimator:hover {background-color: #d4ebff;}#sk-container-id-1 div.sk-parallel-item::after {content: \"\";width: 100%;border-bottom: 1px solid gray;flex-grow: 1;}#sk-container-id-1 div.sk-label:hover label.sk-toggleable__label {background-color: #d4ebff;}#sk-container-id-1 div.sk-serial::before {content: \"\";position: absolute;border-left: 1px solid gray;box-sizing: border-box;top: 0;bottom: 0;left: 50%;z-index: 0;}#sk-container-id-1 div.sk-serial {display: flex;flex-direction: column;align-items: center;background-color: white;padding-right: 0.2em;padding-left: 0.2em;position: relative;}#sk-container-id-1 div.sk-item {position: relative;z-index: 1;}#sk-container-id-1 div.sk-parallel {display: flex;align-items: stretch;justify-content: center;background-color: white;position: relative;}#sk-container-id-1 div.sk-item::before, #sk-container-id-1 div.sk-parallel-item::before {content: \"\";position: absolute;border-left: 1px solid gray;box-sizing: border-box;top: 0;bottom: 0;left: 50%;z-index: -1;}#sk-container-id-1 div.sk-parallel-item {display: flex;flex-direction: column;z-index: 1;position: relative;background-color: white;}#sk-container-id-1 div.sk-parallel-item:first-child::after {align-self: flex-end;width: 50%;}#sk-container-id-1 div.sk-parallel-item:last-child::after {align-self: flex-start;width: 50%;}#sk-container-id-1 div.sk-parallel-item:only-child::after {width: 0;}#sk-container-id-1 div.sk-dashed-wrapped {border: 1px dashed gray;margin: 0 0.4em 0.5em 0.4em;box-sizing: border-box;padding-bottom: 0.4em;background-color: white;}#sk-container-id-1 div.sk-label label {font-family: monospace;font-weight: bold;display: inline-block;line-height: 1.2em;}#sk-container-id-1 div.sk-label-container {text-align: center;}#sk-container-id-1 div.sk-container {/* jupyter's `normalize.less` sets `[hidden] { display: none; }` but bootstrap.min.css set `[hidden] { display: none !important; }` so we also need the `!important` here to be able to override the default hidden behavior on the sphinx rendered scikit-learn.org. See: https://github.com/scikit-learn/scikit-learn/issues/21755 */display: inline-block !important;position: relative;}#sk-container-id-1 div.sk-text-repr-fallback {display: none;}</style><div id=\"sk-container-id-1\" class=\"sk-top-container\"><div class=\"sk-text-repr-fallback\"><pre>RandomizedSearchCV(cv=StratifiedKFold(n_splits=5, random_state=None, shuffle=True),\n",
              "                   estimator=RandomForestClassifier(), n_iter=50,\n",
              "                   param_distributions={&#x27;max_depth&#x27;: [4, 5, 6, 7, 8, 9, 10],\n",
              "                                        &#x27;min_samples_leaf&#x27;: [2, 3, 4, 5, 6],\n",
              "                                        &#x27;min_samples_split&#x27;: [2, 5, 10],\n",
              "                                        &#x27;n_estimators&#x27;: [10, 50, 100, 200, 300,\n",
              "                                                         400]},\n",
              "                   scoring=&#x27;accuracy&#x27;, verbose=3)</pre><b>In a Jupyter environment, please rerun this cell to show the HTML representation or trust the notebook. <br />On GitHub, the HTML representation is unable to render, please try loading this page with nbviewer.org.</b></div><div class=\"sk-container\" hidden><div class=\"sk-item sk-dashed-wrapped\"><div class=\"sk-label-container\"><div class=\"sk-label sk-toggleable\"><input class=\"sk-toggleable__control sk-hidden--visually\" id=\"sk-estimator-id-1\" type=\"checkbox\" ><label for=\"sk-estimator-id-1\" class=\"sk-toggleable__label sk-toggleable__label-arrow\">RandomizedSearchCV</label><div class=\"sk-toggleable__content\"><pre>RandomizedSearchCV(cv=StratifiedKFold(n_splits=5, random_state=None, shuffle=True),\n",
              "                   estimator=RandomForestClassifier(), n_iter=50,\n",
              "                   param_distributions={&#x27;max_depth&#x27;: [4, 5, 6, 7, 8, 9, 10],\n",
              "                                        &#x27;min_samples_leaf&#x27;: [2, 3, 4, 5, 6],\n",
              "                                        &#x27;min_samples_split&#x27;: [2, 5, 10],\n",
              "                                        &#x27;n_estimators&#x27;: [10, 50, 100, 200, 300,\n",
              "                                                         400]},\n",
              "                   scoring=&#x27;accuracy&#x27;, verbose=3)</pre></div></div></div><div class=\"sk-parallel\"><div class=\"sk-parallel-item\"><div class=\"sk-item\"><div class=\"sk-label-container\"><div class=\"sk-label sk-toggleable\"><input class=\"sk-toggleable__control sk-hidden--visually\" id=\"sk-estimator-id-2\" type=\"checkbox\" ><label for=\"sk-estimator-id-2\" class=\"sk-toggleable__label sk-toggleable__label-arrow\">estimator: RandomForestClassifier</label><div class=\"sk-toggleable__content\"><pre>RandomForestClassifier()</pre></div></div></div><div class=\"sk-serial\"><div class=\"sk-item\"><div class=\"sk-estimator sk-toggleable\"><input class=\"sk-toggleable__control sk-hidden--visually\" id=\"sk-estimator-id-3\" type=\"checkbox\" ><label for=\"sk-estimator-id-3\" class=\"sk-toggleable__label sk-toggleable__label-arrow\">RandomForestClassifier</label><div class=\"sk-toggleable__content\"><pre>RandomForestClassifier()</pre></div></div></div></div></div></div></div></div></div></div>"
            ]
          },
          "metadata": {},
          "execution_count": 28
        }
      ]
    },
    {
      "cell_type": "code",
      "source": [
        "rscv.best_params_"
      ],
      "metadata": {
        "colab": {
          "base_uri": "https://localhost:8080/"
        },
        "id": "wSZfqe0DMdzW",
        "outputId": "fde49140-19de-46b7-c09e-b14e4b83b40e"
      },
      "execution_count": 29,
      "outputs": [
        {
          "output_type": "execute_result",
          "data": {
            "text/plain": [
              "{'n_estimators': 100,\n",
              " 'min_samples_split': 5,\n",
              " 'min_samples_leaf': 3,\n",
              " 'max_depth': 8}"
            ]
          },
          "metadata": {},
          "execution_count": 29
        }
      ]
    },
    {
      "cell_type": "code",
      "source": [
        "rscv.best_score_"
      ],
      "metadata": {
        "colab": {
          "base_uri": "https://localhost:8080/"
        },
        "id": "dGUYkNiSNZTi",
        "outputId": "aa602191-7a73-4419-aead-d80a8c51afe3"
      },
      "execution_count": 30,
      "outputs": [
        {
          "output_type": "execute_result",
          "data": {
            "text/plain": [
              "0.8673386224305807"
            ]
          },
          "metadata": {},
          "execution_count": 30
        }
      ]
    },
    {
      "cell_type": "code",
      "source": [
        "best_rfc = rscv.best_estimator_\n",
        "best_rfc"
      ],
      "metadata": {
        "colab": {
          "base_uri": "https://localhost:8080/",
          "height": 75
        },
        "id": "jN5LvHkPNbSn",
        "outputId": "72162657-9c1c-4438-9ae4-0c8d4758dca0"
      },
      "execution_count": 31,
      "outputs": [
        {
          "output_type": "execute_result",
          "data": {
            "text/plain": [
              "RandomForestClassifier(max_depth=8, min_samples_leaf=3, min_samples_split=5)"
            ],
            "text/html": [
              "<style>#sk-container-id-2 {color: black;background-color: white;}#sk-container-id-2 pre{padding: 0;}#sk-container-id-2 div.sk-toggleable {background-color: white;}#sk-container-id-2 label.sk-toggleable__label {cursor: pointer;display: block;width: 100%;margin-bottom: 0;padding: 0.3em;box-sizing: border-box;text-align: center;}#sk-container-id-2 label.sk-toggleable__label-arrow:before {content: \"▸\";float: left;margin-right: 0.25em;color: #696969;}#sk-container-id-2 label.sk-toggleable__label-arrow:hover:before {color: black;}#sk-container-id-2 div.sk-estimator:hover label.sk-toggleable__label-arrow:before {color: black;}#sk-container-id-2 div.sk-toggleable__content {max-height: 0;max-width: 0;overflow: hidden;text-align: left;background-color: #f0f8ff;}#sk-container-id-2 div.sk-toggleable__content pre {margin: 0.2em;color: black;border-radius: 0.25em;background-color: #f0f8ff;}#sk-container-id-2 input.sk-toggleable__control:checked~div.sk-toggleable__content {max-height: 200px;max-width: 100%;overflow: auto;}#sk-container-id-2 input.sk-toggleable__control:checked~label.sk-toggleable__label-arrow:before {content: \"▾\";}#sk-container-id-2 div.sk-estimator input.sk-toggleable__control:checked~label.sk-toggleable__label {background-color: #d4ebff;}#sk-container-id-2 div.sk-label input.sk-toggleable__control:checked~label.sk-toggleable__label {background-color: #d4ebff;}#sk-container-id-2 input.sk-hidden--visually {border: 0;clip: rect(1px 1px 1px 1px);clip: rect(1px, 1px, 1px, 1px);height: 1px;margin: -1px;overflow: hidden;padding: 0;position: absolute;width: 1px;}#sk-container-id-2 div.sk-estimator {font-family: monospace;background-color: #f0f8ff;border: 1px dotted black;border-radius: 0.25em;box-sizing: border-box;margin-bottom: 0.5em;}#sk-container-id-2 div.sk-estimator:hover {background-color: #d4ebff;}#sk-container-id-2 div.sk-parallel-item::after {content: \"\";width: 100%;border-bottom: 1px solid gray;flex-grow: 1;}#sk-container-id-2 div.sk-label:hover label.sk-toggleable__label {background-color: #d4ebff;}#sk-container-id-2 div.sk-serial::before {content: \"\";position: absolute;border-left: 1px solid gray;box-sizing: border-box;top: 0;bottom: 0;left: 50%;z-index: 0;}#sk-container-id-2 div.sk-serial {display: flex;flex-direction: column;align-items: center;background-color: white;padding-right: 0.2em;padding-left: 0.2em;position: relative;}#sk-container-id-2 div.sk-item {position: relative;z-index: 1;}#sk-container-id-2 div.sk-parallel {display: flex;align-items: stretch;justify-content: center;background-color: white;position: relative;}#sk-container-id-2 div.sk-item::before, #sk-container-id-2 div.sk-parallel-item::before {content: \"\";position: absolute;border-left: 1px solid gray;box-sizing: border-box;top: 0;bottom: 0;left: 50%;z-index: -1;}#sk-container-id-2 div.sk-parallel-item {display: flex;flex-direction: column;z-index: 1;position: relative;background-color: white;}#sk-container-id-2 div.sk-parallel-item:first-child::after {align-self: flex-end;width: 50%;}#sk-container-id-2 div.sk-parallel-item:last-child::after {align-self: flex-start;width: 50%;}#sk-container-id-2 div.sk-parallel-item:only-child::after {width: 0;}#sk-container-id-2 div.sk-dashed-wrapped {border: 1px dashed gray;margin: 0 0.4em 0.5em 0.4em;box-sizing: border-box;padding-bottom: 0.4em;background-color: white;}#sk-container-id-2 div.sk-label label {font-family: monospace;font-weight: bold;display: inline-block;line-height: 1.2em;}#sk-container-id-2 div.sk-label-container {text-align: center;}#sk-container-id-2 div.sk-container {/* jupyter's `normalize.less` sets `[hidden] { display: none; }` but bootstrap.min.css set `[hidden] { display: none !important; }` so we also need the `!important` here to be able to override the default hidden behavior on the sphinx rendered scikit-learn.org. See: https://github.com/scikit-learn/scikit-learn/issues/21755 */display: inline-block !important;position: relative;}#sk-container-id-2 div.sk-text-repr-fallback {display: none;}</style><div id=\"sk-container-id-2\" class=\"sk-top-container\"><div class=\"sk-text-repr-fallback\"><pre>RandomForestClassifier(max_depth=8, min_samples_leaf=3, min_samples_split=5)</pre><b>In a Jupyter environment, please rerun this cell to show the HTML representation or trust the notebook. <br />On GitHub, the HTML representation is unable to render, please try loading this page with nbviewer.org.</b></div><div class=\"sk-container\" hidden><div class=\"sk-item\"><div class=\"sk-estimator sk-toggleable\"><input class=\"sk-toggleable__control sk-hidden--visually\" id=\"sk-estimator-id-4\" type=\"checkbox\" checked><label for=\"sk-estimator-id-4\" class=\"sk-toggleable__label sk-toggleable__label-arrow\">RandomForestClassifier</label><div class=\"sk-toggleable__content\"><pre>RandomForestClassifier(max_depth=8, min_samples_leaf=3, min_samples_split=5)</pre></div></div></div></div></div>"
            ]
          },
          "metadata": {},
          "execution_count": 31
        }
      ]
    },
    {
      "cell_type": "code",
      "source": [
        "ypred_test = best_rfc.predict(Xtest_transformed)\n",
        "ypred_test"
      ],
      "metadata": {
        "colab": {
          "base_uri": "https://localhost:8080/"
        },
        "id": "ySWrIOrpNcws",
        "outputId": "4b86ccf2-bbc4-441c-ed37-234ec324a82a"
      },
      "execution_count": 32,
      "outputs": [
        {
          "output_type": "execute_result",
          "data": {
            "text/plain": [
              "array([1, 0, 0, 0, 0, 0, 0, 0, 0, 0, 0, 0, 0, 0, 0, 0, 0, 0, 0, 0, 0, 0,\n",
              "       0, 0, 0, 0, 0, 0, 0, 0, 0, 0, 0, 0, 0, 0, 0, 0, 0, 1, 0, 0, 0, 0,\n",
              "       0, 0, 0, 0, 0, 0, 0, 0, 0, 0, 0, 0, 0, 0, 0, 0, 0, 0, 0, 0, 0, 0,\n",
              "       0, 1, 0, 0, 0, 0, 0, 0, 0, 0, 0, 0, 0, 0, 0, 0, 0, 0, 0, 0, 0, 0,\n",
              "       0, 0, 0, 0, 1, 0, 0, 0, 0, 0, 0, 0, 0, 0, 0, 0, 0, 0, 0, 0, 0, 0,\n",
              "       0, 0, 0, 0, 0, 0, 0, 0, 0, 0, 0, 0, 0, 0, 0, 0, 0, 0, 0, 0, 0, 0,\n",
              "       0, 0, 0, 1, 0, 0, 0, 0, 0, 0, 0, 0, 0, 0, 0, 0, 0, 0, 0, 0, 0, 0,\n",
              "       0, 0, 0, 0, 0, 0, 0, 0, 0, 0, 0, 0, 0, 0, 1, 0, 0, 0, 0, 0, 0, 0,\n",
              "       0, 0, 0, 0, 0, 0, 0, 0, 0, 0, 0, 0, 0, 1, 0, 0, 0, 0, 0, 0, 0, 0,\n",
              "       0, 1, 1, 0, 0, 0, 1, 0, 0, 0, 0, 0, 0, 0, 0, 0, 1, 0, 0, 0, 0, 0,\n",
              "       0, 0, 0, 1, 0, 0, 0, 0, 0, 0, 0, 0, 0, 0, 0, 0, 0, 0, 0, 0, 0, 0,\n",
              "       0, 0, 0, 0, 0, 0, 0, 0, 0, 0, 0, 0, 0, 0, 0, 0, 0, 0, 0, 0, 0, 0,\n",
              "       0, 0, 0, 0, 0, 0, 1, 0, 0, 0, 0, 0, 1, 0, 0, 0, 0, 0, 0, 0, 0, 0,\n",
              "       0, 0, 0, 0, 0, 0, 0, 0])"
            ]
          },
          "metadata": {},
          "execution_count": 32
        }
      ]
    },
    {
      "cell_type": "code",
      "source": [
        "from sklearn.metrics import confusion_matrix\n",
        "import seaborn as sns\n",
        "cf = confusion_matrix(ytest, ypred_test)\n",
        "sns.heatmap(cf,annot=True,fmt='d')"
      ],
      "metadata": {
        "colab": {
          "base_uri": "https://localhost:8080/",
          "height": 447
        },
        "id": "DKlp3e8MNfHS",
        "outputId": "0a86c0ee-ff36-4ca7-b2fd-e81cf9863444"
      },
      "execution_count": 33,
      "outputs": [
        {
          "output_type": "execute_result",
          "data": {
            "text/plain": [
              "<Axes: >"
            ]
          },
          "metadata": {},
          "execution_count": 33
        },
        {
          "output_type": "display_data",
          "data": {
            "text/plain": [
              "<Figure size 640x480 with 2 Axes>"
            ],
            "image/png": "[encoded data removed]"
          },
          "metadata": {}
        }
      ]
    },
    {
      "cell_type": "code",
      "source": [
        "from sklearn.metrics import accuracy_score\n",
        "acc = accuracy_score(ytest, ypred_test)\n",
        "print(f'Accuracy on testing data is {acc:.4f}')"
      ],
      "metadata": {
        "colab": {
          "base_uri": "https://localhost:8080/"
        },
        "id": "NyiNrgK_NhQB",
        "outputId": "3e4b38aa-37c0-452b-b4ab-e6fb9d54c580"
      },
      "execution_count": 34,
      "outputs": [
        {
          "output_type": "stream",
          "name": "stdout",
          "text": [
            "Accuracy on testing data is 0.8469\n"
          ]
        }
      ]
    },
    {
      "cell_type": "markdown",
      "source": [
        "- Above model has accuracy of 0.8469 on testing data.\n",
        "- However above data has imbalance data on target.\n",
        "- To deal with imbalanced techniques such as SMOTE (Synthetic Minority Oversampling TEchnique).\n",
        "- Feature selection can also be avoided in above data and performance should be checked with all features as well."
      ],
      "metadata": {
        "id": "hpJJLXSwOGf5"
      }
    },
    {
      "cell_type": "markdown",
      "source": [
        "Q2. Build a pipeline that includes a random forest classifier and a logistic regression classifier, and then\n",
        "use a voting classifier to combine their predictions. Train the pipeline on the iris dataset and evaluate its\n",
        "accuracy."
      ],
      "metadata": {
        "id": "6vUe12jnPKXI"
      }
    },
    {
      "cell_type": "code",
      "source": [
        "from sklearn.datasets import load_iris\n",
        "X,y=load_iris(return_X_y=True)"
      ],
      "metadata": {
        "id": "xCdwNGxmN220"
      },
      "execution_count": 36,
      "outputs": []
    },
    {
      "cell_type": "code",
      "source": [
        "X.shape"
      ],
      "metadata": {
        "colab": {
          "base_uri": "https://localhost:8080/"
        },
        "id": "rq5hf2b3lJjd",
        "outputId": "7adda3a6-27fd-413c-8525-cf9a94775ca5"
      },
      "execution_count": 38,
      "outputs": [
        {
          "output_type": "execute_result",
          "data": {
            "text/plain": [
              "(150, 4)"
            ]
          },
          "metadata": {},
          "execution_count": 38
        }
      ]
    },
    {
      "cell_type": "code",
      "source": [
        "from sklearn.model_selection import train_test_split\n",
        "X_train,X_test,y_train,y_test=train_test_split(X,y,test_size=0.2,random_state=42)"
      ],
      "metadata": {
        "id": "0aKJ-fiqlL-s"
      },
      "execution_count": 42,
      "outputs": []
    },
    {
      "cell_type": "code",
      "source": [
        "X_train.shape"
      ],
      "metadata": {
        "colab": {
          "base_uri": "https://localhost:8080/"
        },
        "id": "wW4_CmkUlnKe",
        "outputId": "cded4d20-b44f-4011-e44f-a331d879d0a2"
      },
      "execution_count": 43,
      "outputs": [
        {
          "output_type": "execute_result",
          "data": {
            "text/plain": [
              "(120, 4)"
            ]
          },
          "metadata": {},
          "execution_count": 43
        }
      ]
    },
    {
      "cell_type": "code",
      "source": [
        "X_test.shape"
      ],
      "metadata": {
        "colab": {
          "base_uri": "https://localhost:8080/"
        },
        "id": "Xn5tISJClqHy",
        "outputId": "ff74c2a4-f91f-47fd-e95e-4ff416a9b8d1"
      },
      "execution_count": 44,
      "outputs": [
        {
          "output_type": "execute_result",
          "data": {
            "text/plain": [
              "(30, 4)"
            ]
          },
          "metadata": {},
          "execution_count": 44
        }
      ]
    },
    {
      "cell_type": "code",
      "source": [
        "from sklearn.ensemble import RandomForestClassifier\n",
        "from sklearn.linear_model import LogisticRegression"
      ],
      "metadata": {
        "id": "s2yR54gmls7L"
      },
      "execution_count": 45,
      "outputs": []
    },
    {
      "cell_type": "code",
      "source": [
        "rf_clf=RandomForestClassifier(random_state=42)\n",
        "log_reg=LogisticRegression(random_state=42)"
      ],
      "metadata": {
        "id": "kgd8DWlkoYpJ"
      },
      "execution_count": 46,
      "outputs": []
    },
    {
      "cell_type": "code",
      "source": [
        "from sklearn.ensemble import VotingClassifier\n",
        "\n",
        "voting_clf=VotingClassifier(estimators=[('rf',rf_clf),('log_reg',log_reg)], voting='hard')"
      ],
      "metadata": {
        "id": "gSB8dJnbolJn"
      },
      "execution_count": 50,
      "outputs": []
    },
    {
      "cell_type": "code",
      "source": [
        "from sklearn.pipeline import Pipeline\n",
        "from sklearn.preprocessing import StandardScaler\n",
        "\n",
        "pipeline=Pipeline(\n",
        "    steps=[\n",
        "        ('scaler', StandardScaler()),\n",
        "        ('voting_clf', voting_clf)\n",
        "    ]\n",
        ")"
      ],
      "metadata": {
        "id": "X-N-h31ipMbn"
      },
      "execution_count": 51,
      "outputs": []
    },
    {
      "cell_type": "code",
      "source": [
        "pipeline.fit(X_train, y_train)"
      ],
      "metadata": {
        "colab": {
          "base_uri": "https://localhost:8080/",
          "height": 185
        },
        "id": "CoeNKDyEpgNT",
        "outputId": "574a2540-ae86-4243-c562-66a6bcf24831"
      },
      "execution_count": 52,
      "outputs": [
        {
          "output_type": "execute_result",
          "data": {
            "text/plain": [
              "Pipeline(steps=[('scaler', StandardScaler()),\n",
              "                ('voting_clf',\n",
              "                 VotingClassifier(estimators=[('rf',\n",
              "                                               RandomForestClassifier(random_state=42)),\n",
              "                                              ('log_reg',\n",
              "                                               LogisticRegression(random_state=42))]))])"
            ],
            "text/html": [
              "<style>#sk-container-id-3 {color: black;background-color: white;}#sk-container-id-3 pre{padding: 0;}#sk-container-id-3 div.sk-toggleable {background-color: white;}#sk-container-id-3 label.sk-toggleable__label {cursor: pointer;display: block;width: 100%;margin-bottom: 0;padding: 0.3em;box-sizing: border-box;text-align: center;}#sk-container-id-3 label.sk-toggleable__label-arrow:before {content: \"▸\";float: left;margin-right: 0.25em;color: #696969;}#sk-container-id-3 label.sk-toggleable__label-arrow:hover:before {color: black;}#sk-container-id-3 div.sk-estimator:hover label.sk-toggleable__label-arrow:before {color: black;}#sk-container-id-3 div.sk-toggleable__content {max-height: 0;max-width: 0;overflow: hidden;text-align: left;background-color: #f0f8ff;}#sk-container-id-3 div.sk-toggleable__content pre {margin: 0.2em;color: black;border-radius: 0.25em;background-color: #f0f8ff;}#sk-container-id-3 input.sk-toggleable__control:checked~div.sk-toggleable__content {max-height: 200px;max-width: 100%;overflow: auto;}#sk-container-id-3 input.sk-toggleable__control:checked~label.sk-toggleable__label-arrow:before {content: \"▾\";}#sk-container-id-3 div.sk-estimator input.sk-toggleable__control:checked~label.sk-toggleable__label {background-color: #d4ebff;}#sk-container-id-3 div.sk-label input.sk-toggleable__control:checked~label.sk-toggleable__label {background-color: #d4ebff;}#sk-container-id-3 input.sk-hidden--visually {border: 0;clip: rect(1px 1px 1px 1px);clip: rect(1px, 1px, 1px, 1px);height: 1px;margin: -1px;overflow: hidden;padding: 0;position: absolute;width: 1px;}#sk-container-id-3 div.sk-estimator {font-family: monospace;background-color: #f0f8ff;border: 1px dotted black;border-radius: 0.25em;box-sizing: border-box;margin-bottom: 0.5em;}#sk-container-id-3 div.sk-estimator:hover {background-color: #d4ebff;}#sk-container-id-3 div.sk-parallel-item::after {content: \"\";width: 100%;border-bottom: 1px solid gray;flex-grow: 1;}#sk-container-id-3 div.sk-label:hover label.sk-toggleable__label {background-color: #d4ebff;}#sk-container-id-3 div.sk-serial::before {content: \"\";position: absolute;border-left: 1px solid gray;box-sizing: border-box;top: 0;bottom: 0;left: 50%;z-index: 0;}#sk-container-id-3 div.sk-serial {display: flex;flex-direction: column;align-items: center;background-color: white;padding-right: 0.2em;padding-left: 0.2em;position: relative;}#sk-container-id-3 div.sk-item {position: relative;z-index: 1;}#sk-container-id-3 div.sk-parallel {display: flex;align-items: stretch;justify-content: center;background-color: white;position: relative;}#sk-container-id-3 div.sk-item::before, #sk-container-id-3 div.sk-parallel-item::before {content: \"\";position: absolute;border-left: 1px solid gray;box-sizing: border-box;top: 0;bottom: 0;left: 50%;z-index: -1;}#sk-container-id-3 div.sk-parallel-item {display: flex;flex-direction: column;z-index: 1;position: relative;background-color: white;}#sk-container-id-3 div.sk-parallel-item:first-child::after {align-self: flex-end;width: 50%;}#sk-container-id-3 div.sk-parallel-item:last-child::after {align-self: flex-start;width: 50%;}#sk-container-id-3 div.sk-parallel-item:only-child::after {width: 0;}#sk-container-id-3 div.sk-dashed-wrapped {border: 1px dashed gray;margin: 0 0.4em 0.5em 0.4em;box-sizing: border-box;padding-bottom: 0.4em;background-color: white;}#sk-container-id-3 div.sk-label label {font-family: monospace;font-weight: bold;display: inline-block;line-height: 1.2em;}#sk-container-id-3 div.sk-label-container {text-align: center;}#sk-container-id-3 div.sk-container {/* jupyter's `normalize.less` sets `[hidden] { display: none; }` but bootstrap.min.css set `[hidden] { display: none !important; }` so we also need the `!important` here to be able to override the default hidden behavior on the sphinx rendered scikit-learn.org. See: https://github.com/scikit-learn/scikit-learn/issues/21755 */display: inline-block !important;position: relative;}#sk-container-id-3 div.sk-text-repr-fallback {display: none;}</style><div id=\"sk-container-id-3\" class=\"sk-top-container\"><div class=\"sk-text-repr-fallback\"><pre>Pipeline(steps=[(&#x27;scaler&#x27;, StandardScaler()),\n",
              "                (&#x27;voting_clf&#x27;,\n",
              "                 VotingClassifier(estimators=[(&#x27;rf&#x27;,\n",
              "                                               RandomForestClassifier(random_state=42)),\n",
              "                                              (&#x27;log_reg&#x27;,\n",
              "                                               LogisticRegression(random_state=42))]))])</pre><b>In a Jupyter environment, please rerun this cell to show the HTML representation or trust the notebook. <br />On GitHub, the HTML representation is unable to render, please try loading this page with nbviewer.org.</b></div><div class=\"sk-container\" hidden><div class=\"sk-item sk-dashed-wrapped\"><div class=\"sk-label-container\"><div class=\"sk-label sk-toggleable\"><input class=\"sk-toggleable__control sk-hidden--visually\" id=\"sk-estimator-id-5\" type=\"checkbox\" ><label for=\"sk-estimator-id-5\" class=\"sk-toggleable__label sk-toggleable__label-arrow\">Pipeline</label><div class=\"sk-toggleable__content\"><pre>Pipeline(steps=[(&#x27;scaler&#x27;, StandardScaler()),\n",
              "                (&#x27;voting_clf&#x27;,\n",
              "                 VotingClassifier(estimators=[(&#x27;rf&#x27;,\n",
              "                                               RandomForestClassifier(random_state=42)),\n",
              "                                              (&#x27;log_reg&#x27;,\n",
              "                                               LogisticRegression(random_state=42))]))])</pre></div></div></div><div class=\"sk-serial\"><div class=\"sk-item\"><div class=\"sk-estimator sk-toggleable\"><input class=\"sk-toggleable__control sk-hidden--visually\" id=\"sk-estimator-id-6\" type=\"checkbox\" ><label for=\"sk-estimator-id-6\" class=\"sk-toggleable__label sk-toggleable__label-arrow\">StandardScaler</label><div class=\"sk-toggleable__content\"><pre>StandardScaler()</pre></div></div></div><div class=\"sk-item sk-dashed-wrapped\"><div class=\"sk-label-container\"><div class=\"sk-label sk-toggleable\"><input class=\"sk-toggleable__control sk-hidden--visually\" id=\"sk-estimator-id-7\" type=\"checkbox\" ><label for=\"sk-estimator-id-7\" class=\"sk-toggleable__label sk-toggleable__label-arrow\">voting_clf: VotingClassifier</label><div class=\"sk-toggleable__content\"><pre>VotingClassifier(estimators=[(&#x27;rf&#x27;, RandomForestClassifier(random_state=42)),\n",
              "                             (&#x27;log_reg&#x27;, LogisticRegression(random_state=42))])</pre></div></div></div><div class=\"sk-parallel\"><div class=\"sk-parallel-item\"><div class=\"sk-item\"><div class=\"sk-label-container\"><div class=\"sk-label sk-toggleable\"><label>rf</label></div></div><div class=\"sk-serial\"><div class=\"sk-item\"><div class=\"sk-estimator sk-toggleable\"><input class=\"sk-toggleable__control sk-hidden--visually\" id=\"sk-estimator-id-8\" type=\"checkbox\" ><label for=\"sk-estimator-id-8\" class=\"sk-toggleable__label sk-toggleable__label-arrow\">RandomForestClassifier</label><div class=\"sk-toggleable__content\"><pre>RandomForestClassifier(random_state=42)</pre></div></div></div></div></div></div><div class=\"sk-parallel-item\"><div class=\"sk-item\"><div class=\"sk-label-container\"><div class=\"sk-label sk-toggleable\"><label>log_reg</label></div></div><div class=\"sk-serial\"><div class=\"sk-item\"><div class=\"sk-estimator sk-toggleable\"><input class=\"sk-toggleable__control sk-hidden--visually\" id=\"sk-estimator-id-9\" type=\"checkbox\" ><label for=\"sk-estimator-id-9\" class=\"sk-toggleable__label sk-toggleable__label-arrow\">LogisticRegression</label><div class=\"sk-toggleable__content\"><pre>LogisticRegression(random_state=42)</pre></div></div></div></div></div></div></div></div></div></div></div></div>"
            ]
          },
          "metadata": {},
          "execution_count": 52
        }
      ]
    },
    {
      "cell_type": "code",
      "source": [
        "y_pred = pipeline.predict(X_test)"
      ],
      "metadata": {
        "id": "s6DTl0QrpixR"
      },
      "execution_count": 53,
      "outputs": []
    },
    {
      "cell_type": "code",
      "source": [
        "accuracy = accuracy_score(y_test, y_pred)\n",
        "print(f'Accuracy of the Voting Classifier on the Iris dataset: {accuracy:.2f}')"
      ],
      "metadata": {
        "colab": {
          "base_uri": "https://localhost:8080/"
        },
        "id": "jbca-naipvTG",
        "outputId": "a9b09d7f-368d-4911-c37f-7ccd5082d92c"
      },
      "execution_count": 54,
      "outputs": [
        {
          "output_type": "stream",
          "name": "stdout",
          "text": [
            "Accuracy of the Voting Classifier on the Iris dataset: 1.00\n"
          ]
        }
      ]
    },
    {
      "cell_type": "code",
      "source": [],
      "metadata": {
        "id": "un-XHDL-pxJw"
      },
      "execution_count": null,
      "outputs": []
    }
  ]
}