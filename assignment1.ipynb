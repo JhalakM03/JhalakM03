{
 "cells": [
  {
   "cell_type": "code",
   "execution_count": 5,
   "id": "2a87cfe0-fe32-46a2-91db-162ece59abb2",
   "metadata": {},
   "outputs": [],
   "source": [
    "s = 'watch'"
   ]
  },
  {
   "cell_type": "code",
   "execution_count": 6,
   "id": "a9e96581-51e8-46f1-b933-3a8d3cea1263",
   "metadata": {},
   "outputs": [
    {
     "data": {
      "text/plain": [
       "'watch'"
      ]
     },
     "execution_count": 6,
     "metadata": {},
     "output_type": "execute_result"
    }
   ],
   "source": [
    "s"
   ]
  },
  {
   "cell_type": "code",
   "execution_count": 10,
   "id": "6111543e-a4e4-4497-8a70-8272394ded51",
   "metadata": {},
   "outputs": [],
   "source": [
    "l = [4, 8, 9, \"kite\", 6+8j]"
   ]
  },
  {
   "cell_type": "code",
   "execution_count": 11,
   "id": "3aa3b447-ffe9-4eb2-83f0-985364031439",
   "metadata": {},
   "outputs": [
    {
     "data": {
      "text/plain": [
       "[4, 8, 9, 'kite', (6+8j)]"
      ]
     },
     "execution_count": 11,
     "metadata": {},
     "output_type": "execute_result"
    }
   ],
   "source": [
    "l"
   ]
  },
  {
   "cell_type": "code",
   "execution_count": 12,
   "id": "971964ee-9abf-4533-acd6-64bd78042c94",
   "metadata": {},
   "outputs": [
    {
     "data": {
      "text/plain": [
       "9.8"
      ]
     },
     "execution_count": 12,
     "metadata": {},
     "output_type": "execute_result"
    }
   ],
   "source": [
    "float(9.8)"
   ]
  },
  {
   "cell_type": "code",
   "execution_count": 13,
   "id": "5611fb0b-d88a-44e4-8d97-131220080566",
   "metadata": {},
   "outputs": [
    {
     "name": "stdout",
     "output_type": "stream",
     "text": [
      "[9, 9, 'king', 'queen']\n"
     ]
    }
   ],
   "source": [
    "tuple = [ 9, 9, \"king\", \"queen\"]\n",
    "print (tuple)"
   ]
  },
  {
   "cell_type": "code",
   "execution_count": 14,
   "id": "6b305d8d-f2e7-4f8d-9404-65da8c33f07a",
   "metadata": {},
   "outputs": [
    {
     "data": {
      "text/plain": [
       "str"
      ]
     },
     "execution_count": 14,
     "metadata": {},
     "output_type": "execute_result"
    }
   ],
   "source": [
    "var1 = ''\n",
    "type(var1)"
   ]
  },
  {
   "cell_type": "code",
   "execution_count": 15,
   "id": "61cfa216-89d1-4231-98f3-44e0290d5946",
   "metadata": {},
   "outputs": [
    {
     "data": {
      "text/plain": [
       "str"
      ]
     },
     "execution_count": 15,
     "metadata": {},
     "output_type": "execute_result"
    }
   ],
   "source": [
    "var2 = '[ DS, ML, Python]'\n",
    "type(var2)"
   ]
  },
  {
   "cell_type": "code",
   "execution_count": 16,
   "id": "ed1264b8-2382-4d6c-b547-a2fa5a98071c",
   "metadata": {},
   "outputs": [
    {
     "data": {
      "text/plain": [
       "list"
      ]
     },
     "execution_count": 16,
     "metadata": {},
     "output_type": "execute_result"
    }
   ],
   "source": [
    "var3 = ['DS', 'ML', 'Python']\n",
    "type(var3)"
   ]
  },
  {
   "cell_type": "code",
   "execution_count": 17,
   "id": "08f89056-5308-43c4-aea9-fe176988b440",
   "metadata": {},
   "outputs": [
    {
     "data": {
      "text/plain": [
       "int"
      ]
     },
     "execution_count": 17,
     "metadata": {},
     "output_type": "execute_result"
    }
   ],
   "source": [
    "var4 = 1\n",
    "type(var4)"
   ]
  },
  {
   "cell_type": "code",
   "execution_count": 20,
   "id": "a8fe811c-e5a7-4603-8121-ac9de22df8fe",
   "metadata": {},
   "outputs": [
    {
     "data": {
      "text/plain": [
       "2.0"
      ]
     },
     "execution_count": 20,
     "metadata": {},
     "output_type": "execute_result"
    }
   ],
   "source": [
    "20/10"
   ]
  },
  {
   "cell_type": "code",
   "execution_count": 22,
   "id": "1860f5f0-fc08-4d8b-802f-895548a924ca",
   "metadata": {},
   "outputs": [
    {
     "data": {
      "text/plain": [
       "2"
      ]
     },
     "execution_count": 22,
     "metadata": {},
     "output_type": "execute_result"
    }
   ],
   "source": [
    "5%3"
   ]
  },
  {
   "cell_type": "code",
   "execution_count": 23,
   "id": "1047f2ec-bd71-4243-8212-2d2ddf76dfae",
   "metadata": {},
   "outputs": [
    {
     "data": {
      "text/plain": [
       "1"
      ]
     },
     "execution_count": 23,
     "metadata": {},
     "output_type": "execute_result"
    }
   ],
   "source": [
    "5//3"
   ]
  },
  {
   "cell_type": "code",
   "execution_count": 1,
   "id": "1c108de8-1f41-492b-8ac6-aeadca485428",
   "metadata": {},
   "outputs": [
    {
     "data": {
      "text/plain": [
       "512"
      ]
     },
     "execution_count": 1,
     "metadata": {},
     "output_type": "execute_result"
    }
   ],
   "source": [
    "8 ** 3"
   ]
  },
  {
   "cell_type": "code",
   "execution_count": null,
   "id": "923c4a71-a33d-41e2-831b-8ee06c9d8cee",
   "metadata": {},
   "outputs": [],
   "source": []
  }
 ],
 "metadata": {
  "kernelspec": {
   "display_name": "Python 3 (ipykernel)",
   "language": "python",
   "name": "python3"
  },
  "language_info": {
   "codemirror_mode": {
    "name": "ipython",
    "version": 3
   },
   "file_extension": ".py",
   "mimetype": "text/x-python",
   "name": "python",
   "nbconvert_exporter": "python",
   "pygments_lexer": "ipython3",
   "version": "3.10.8"
  }
 },
 "nbformat": 4,
 "nbformat_minor": 5
}
