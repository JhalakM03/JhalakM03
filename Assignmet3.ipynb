{
 "cells": [
  {
   "cell_type": "markdown",
   "id": "7eada9e0-2f62-414e-b333-81c9bcdc08d2",
   "metadata": {},
   "source": [
    "Q1. Which keyword is used to create a function? Create a function to return a list of odd numbers in the\n",
    "range of 1 to 25."
   ]
  },
  {
   "cell_type": "code",
   "execution_count": 27,
   "id": "5748d268-16cc-4eb3-9297-6d192500e1d6",
   "metadata": {},
   "outputs": [],
   "source": [
    "## def keyword is used to create a function."
   ]
  },
  {
   "cell_type": "code",
   "execution_count": 29,
   "id": "4272f176-2d18-4a6f-8a73-7c1e2e331d66",
   "metadata": {},
   "outputs": [],
   "source": [
    "def test_odd(a):\n",
    "    n=[]\n",
    "    for i in a:\n",
    "        if i%2 !=0:\n",
    "            n.append(i)\n",
    "    return n"
   ]
  },
  {
   "cell_type": "code",
   "execution_count": 30,
   "id": "278252db-10b3-4545-8b48-4ddb38abbbf4",
   "metadata": {},
   "outputs": [],
   "source": [
    "list_odd = [1,2,3,4,5,6,7,8,9,10,11,12,13,14,15,16,17,18,19,20,21,22,23,24,25]"
   ]
  },
  {
   "cell_type": "code",
   "execution_count": 31,
   "id": "b5b350ad-b4a3-4e4b-9491-13830e6f2aae",
   "metadata": {},
   "outputs": [
    {
     "data": {
      "text/plain": [
       "[1,\n",
       " 2,\n",
       " 3,\n",
       " 4,\n",
       " 5,\n",
       " 6,\n",
       " 7,\n",
       " 8,\n",
       " 9,\n",
       " 10,\n",
       " 11,\n",
       " 12,\n",
       " 13,\n",
       " 14,\n",
       " 15,\n",
       " 16,\n",
       " 17,\n",
       " 18,\n",
       " 19,\n",
       " 20,\n",
       " 21,\n",
       " 22,\n",
       " 23,\n",
       " 24,\n",
       " 25]"
      ]
     },
     "execution_count": 31,
     "metadata": {},
     "output_type": "execute_result"
    }
   ],
   "source": [
    "list_odd"
   ]
  },
  {
   "cell_type": "code",
   "execution_count": 32,
   "id": "514ef4d9-af61-46b1-b689-e4d810770235",
   "metadata": {},
   "outputs": [
    {
     "data": {
      "text/plain": [
       "[1, 3, 5, 7, 9, 11, 13, 15, 17, 19, 21, 23, 25]"
      ]
     },
     "execution_count": 32,
     "metadata": {},
     "output_type": "execute_result"
    }
   ],
   "source": [
    "test_odd(list_odd)"
   ]
  },
  {
   "cell_type": "markdown",
   "id": "78605df0-d50a-4796-95ff-d129866f3783",
   "metadata": {},
   "source": [
    "Q2. Why *args and **kwargs is used in some functions? Create a function each for *args and **kwargs to\n",
    "demonstrate their use."
   ]
  },
  {
   "cell_type": "code",
   "execution_count": 84,
   "id": "fb44cef1-a738-4fb7-80b9-5bc77f50df29",
   "metadata": {},
   "outputs": [],
   "source": [
    "## We use *args to pass any number of arguments. It is not a keywrd though.\n",
    "## **kwargs is used to pass any number of keywords in the argument. this is also not a keyword though."
   ]
  },
  {
   "cell_type": "code",
   "execution_count": 86,
   "id": "330da9db-c887-4276-a82e-0375cb354809",
   "metadata": {},
   "outputs": [],
   "source": [
    "def test_args(*args):\n",
    "    n=[]\n",
    "    for i in args:\n",
    "        if type(i)==list:\n",
    "            n.append(i)\n",
    "    return n"
   ]
  },
  {
   "cell_type": "code",
   "execution_count": 88,
   "id": "f9804531-cd8b-43f4-83b4-0685440b6e24",
   "metadata": {},
   "outputs": [
    {
     "data": {
      "text/plain": [
       "[[5, 6, 7]]"
      ]
     },
     "execution_count": 88,
     "metadata": {},
     "output_type": "execute_result"
    }
   ],
   "source": [
    "test_args(1,2,3, (6,8,9), 'Jhalak', [5,6,7])"
   ]
  },
  {
   "cell_type": "code",
   "execution_count": 103,
   "id": "87f5ef4a-485a-45c9-af21-8fe2cacdef19",
   "metadata": {},
   "outputs": [],
   "source": [
    "def test_kwargs(**kwargs):\n",
    "    for i in kwargs:\n",
    "        if type(kwarg.keys())==int\n",
    "        return i"
   ]
  },
  {
   "cell_type": "code",
   "execution_count": 106,
   "id": "8e72b89f-47b5-4075-b257-70fb78aa2f4a",
   "metadata": {},
   "outputs": [
    {
     "data": {
      "text/plain": [
       "'a'"
      ]
     },
     "execution_count": 106,
     "metadata": {},
     "output_type": "execute_result"
    }
   ],
   "source": [
    "test_kwargs(a=5,b=1, c=(9,0))"
   ]
  },
  {
   "cell_type": "markdown",
   "id": "6cacdbe3-f679-4615-a8fb-ee07b515b9f3",
   "metadata": {},
   "source": [
    "Q3. What is an iterator in python? Name the method used to initialise the iterator object and the method\n",
    "used for iteration. Use these methods to print the first five elements of the given list [2, 4, 6, 8, 10, 12, 14, 16,\n",
    "18, 20]."
   ]
  },
  {
   "cell_type": "code",
   "execution_count": 107,
   "id": "a737bd0b-4908-4081-88a3-d27d1e4e7863",
   "metadata": {},
   "outputs": [],
   "source": [
    "## iterator is an object that contains number of values. List, dictionary and tuples are iterators which contains\n",
    "##values.\n",
    "##Iter() method is used to initialize the iterator object so that the instance of this object can be used for iterating.\n",
    "##The next() method is used to iterate over the iterable objects. The next() method returns the next \n",
    "##value in the iterable object."
   ]
  },
  {
   "cell_type": "code",
   "execution_count": 108,
   "id": "6165a9c4-519a-436d-a12c-11c7f392b182",
   "metadata": {},
   "outputs": [],
   "source": [
    "l = [2,4,6,8,10,12,14,16,18,20]"
   ]
  },
  {
   "cell_type": "markdown",
   "id": "a8f221ff-d0e9-49d0-873c-974f756fc4be",
   "metadata": {},
   "source": [
    "iterator_1=iter(l)\n",
    "for i in range(5):\n",
    "    print(next(iterator_1))"
   ]
  },
  {
   "cell_type": "markdown",
   "id": "a661f0cc-f720-464f-a1fa-69358acc1b3c",
   "metadata": {},
   "source": [
    "Q4. What is a generator function in python? Why yield keyword is used? Give an example of a generator\n",
    "function."
   ]
  },
  {
   "cell_type": "code",
   "execution_count": 111,
   "id": "2332a137-e834-4c38-bc0d-4488973f4e82",
   "metadata": {},
   "outputs": [],
   "source": [
    "##A generator-function is defined like a normal function, but whenever it needs\n",
    "##to generate a value, it does so with the yield keyword rather than return. \n",
    "##If the body of a def contains yield, the function automatically \n",
    "##becomes a generator function. \n"
   ]
  },
  {
   "cell_type": "code",
   "execution_count": 117,
   "id": "956e6370-2cd4-4186-ac4a-6f6300bca3a3",
   "metadata": {},
   "outputs": [
    {
     "name": "stdout",
     "output_type": "stream",
     "text": [
      "2\n",
      "4\n",
      "6\n",
      "8\n",
      "10\n",
      "12\n",
      "14\n",
      "16\n",
      "18\n",
      "20\n"
     ]
    }
   ],
   "source": [
    "def generate_even_number():\n",
    "    i = 1\n",
    "    while True:\n",
    "        if i % 2 == 0:\n",
    "            yield i\n",
    "        i += 1\n",
    "\n",
    "even_nums = generate_even_number()\n",
    "for _ in range(10):\n",
    "    print(next(even_nums))"
   ]
  },
  {
   "cell_type": "markdown",
   "id": "18c9a2e4-47b0-4263-a7c0-7c5a7a0e340c",
   "metadata": {},
   "source": [
    "Q5. Create a generator function for prime numbers less than 1000. Use the next() method to print the\n",
    "first 20 prime numbers."
   ]
  },
  {
   "cell_type": "code",
   "execution_count": 118,
   "id": "13c575ea-3581-4b32-b7fc-6e43456ebe9c",
   "metadata": {},
   "outputs": [
    {
     "name": "stdout",
     "output_type": "stream",
     "text": [
      "2\n",
      "3\n",
      "5\n",
      "7\n",
      "11\n",
      "13\n",
      "17\n",
      "19\n",
      "23\n",
      "29\n",
      "31\n",
      "37\n",
      "41\n",
      "43\n",
      "47\n",
      "53\n",
      "59\n",
      "61\n",
      "67\n",
      "71\n"
     ]
    }
   ],
   "source": [
    "def prime_numbers():\n",
    "    yield 2\n",
    "\n",
    "    for num in range(3, 1000, 2):\n",
    "        for i in range(3, num, 2):\n",
    "            if num % i == 0:\n",
    "                break\n",
    "        else:\n",
    "            yield num\n",
    "\n",
    "prime_gen = prime_numbers()\n",
    "for _ in range(20):\n",
    "    print(next(prime_gen))"
   ]
  },
  {
   "cell_type": "code",
   "execution_count": null,
   "id": "afa5fcc4-0fd8-4a4c-8d4a-fcf6a2b42886",
   "metadata": {},
   "outputs": [],
   "source": []
  }
 ],
 "metadata": {
  "kernelspec": {
   "display_name": "Python 3 (ipykernel)",
   "language": "python",
   "name": "python3"
  },
  "language_info": {
   "codemirror_mode": {
    "name": "ipython",
    "version": 3
   },
   "file_extension": ".py",
   "mimetype": "text/x-python",
   "name": "python",
   "nbconvert_exporter": "python",
   "pygments_lexer": "ipython3",
   "version": "3.10.8"
  }
 },
 "nbformat": 4,
 "nbformat_minor": 5
}
