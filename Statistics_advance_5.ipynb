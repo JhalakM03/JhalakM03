{
 "cells": [
  {
   "cell_type": "markdown",
   "id": "2ce75174-48b0-4176-8f97-9419c84eb5b4",
   "metadata": {},
   "source": [
    "Q1. Calculate the 95% confidence interval for a sample of data with a mean of 50 and a standard deviation\n",
    "of 5 using Python. Interpret the results."
   ]
  },
  {
   "cell_type": "code",
   "execution_count": 1,
   "id": "fe3d8d3f-85b9-40b5-86b5-19c055b051ae",
   "metadata": {},
   "outputs": [
    {
     "name": "stdout",
     "output_type": "stream",
     "text": [
      "t_value is, 2.022690911734728\n",
      "margin of error is, 1.5990775709010854\n",
      "Lower bound =  48.40092242909891\n",
      "Upper bound =  51.59907757090109\n",
      "The confidence interval is (48.40092242909891,51.59907757090109)\n"
     ]
    }
   ],
   "source": [
    "import scipy.stats as stat\n",
    "import numpy as np\n",
    "\n",
    "#given data\n",
    "\n",
    "sample_mean = 50\n",
    "sample_size = 40\n",
    "sample_std = 5\n",
    "alpha = 0.05\n",
    "\n",
    "#calculating se\n",
    "\n",
    "se = sample_std/(np.sqrt(sample_size))\n",
    "\n",
    "#calculation of t value\n",
    "df = sample_size -1\n",
    "t_value = stat.t.ppf(1-0.05/2, df)\n",
    "\n",
    "#calculating margin of error\n",
    "me = t_value * se\n",
    "\n",
    "lower_bound = sample_mean - me\n",
    "upper_bound = sample_mean + me\n",
    "\n",
    "print('t_value is,',t_value)\n",
    "print('margin of error is,', me)\n",
    "print('Lower bound = ', lower_bound)\n",
    "print('Upper bound = ', upper_bound)\n",
    "print(f'The confidence interval is ({lower_bound},{upper_bound})')"
   ]
  },
  {
   "cell_type": "markdown",
   "id": "c47dfaa6-0ca0-44bf-ab19-625d6fe13939",
   "metadata": {},
   "source": [
    "Q2. Conduct a chi-square goodness of fit test to determine if the distribution of colors of M&Ms in a bag\n",
    "matches the expected distribution of 20% blue, 20% orange, 20% green, 10% yellow, 10% red, and 20%\n",
    "brown. Use Python to perform the test with a significance level of 0.05."
   ]
  },
  {
   "cell_type": "code",
   "execution_count": 9,
   "id": "fc644c52-b533-4270-b4c0-324ea82beeac",
   "metadata": {},
   "outputs": [
    {
     "name": "stdout",
     "output_type": "stream",
     "text": [
      "5.0\n",
      "0.4158801869955079\n",
      "11.070497693516351\n",
      "Failed to reject the null hypothesis\n",
      "The distribution of colors of M&Ms in a bag matches the expected distribution\n"
     ]
    }
   ],
   "source": [
    "import scipy.stats as stat\n",
    "import numpy as np\n",
    "\n",
    "#given data\n",
    "observed_data = np.array([10, 20, 15, 5, 5, 15])\n",
    "expected_data = np.array([0.20, 0.20, 0.20, 0.10, 0.10, 0.20]) *  np.sum(observed_data)\n",
    "\n",
    "#null and alternate hypotheis\n",
    "null_hypo = 'The distribution of colors of M&Ms in a bag matches the expected distribution'\n",
    "alternate_hypo = 'The distribution of colors of M&Ms in a bag does not match the expected distribution'\n",
    "#chi square goodness of fit test\n",
    "\n",
    "chisquare_test_statistic, p_value = stat.chisquare(observed_data, expected_data)\n",
    "print(chisquare_test_statistic), print(p_value)\n",
    "\n",
    "#finding critical value\n",
    "\n",
    "signi_level = 0.05\n",
    "dof = len(observed_data)-1\n",
    "critical_value = stat.chi2.ppf(1-signi_level, dof)\n",
    "print(critical_value)\n",
    "\n",
    "if p_value<alpha:\n",
    "    print('Reject the null hypothesis')\n",
    "    print(alternate_hypo)\n",
    "else:\n",
    "    print('Failed to reject the null hypothesis')\n",
    "    print(null_hypo)\n"
   ]
  },
  {
   "cell_type": "markdown",
   "id": "60ccc328-23b3-40a8-83bc-39cb0beced6f",
   "metadata": {},
   "source": [
    "Q3. Use Python to calculate the chi-square statistic and p-value for a contingency table with the following\n",
    "data:\n",
    "\n",
    "Outcome 1 20 15\n",
    "Outcome 2 10 25\n",
    "Outcome 3 15 20\n",
    "\n",
    "Interpret the results of the test."
   ]
  },
  {
   "cell_type": "code",
   "execution_count": 8,
   "id": "d8d408b4-0424-4341-b80e-0eb47fcb255f",
   "metadata": {},
   "outputs": [
    {
     "name": "stdout",
     "output_type": "stream",
     "text": [
      "Observed Dataframe is below\n",
      "          Group A  Group B\n",
      "Outcome1       20       15\n",
      "Outcome2       10       25\n",
      "Outcome3       15       20\n",
      "Expected values Dataframe\n",
      "          Group A  Group B\n",
      "Outcome1     15.0     20.0\n",
      "Outcome2     15.0     20.0\n",
      "Outcome3     15.0     20.0\n",
      "\n",
      "Chi-square statistic: 5.833333333333334\n",
      "p-value: 0.05411376622282158\n",
      "Failed to reject the null hypotheis\n",
      "The outcomes are independent of the groups\n"
     ]
    }
   ],
   "source": [
    "import scipy.stats as stats\n",
    "import pandas as pd\n",
    "\n",
    "ob_df = pd.DataFrame({'Group A':[20,10,15], 'Group B':[15,25,20]})\n",
    "ob_df.index = ['Outcome1', 'Outcome2', 'Outcome3']\n",
    "print('Observed Dataframe is below')\n",
    "print(ob_df)\n",
    "\n",
    "#null and alternate hypothesis\n",
    "null_hypothesis = 'The outcomes are independent of the groups'\n",
    "alternate_hypothesis = 'The outcomes are dependent on the groups'\n",
    "\n",
    "#calculating chisquare statistic and p-value\n",
    "stat, p, dof, expected = stats.chi2_contingency(ob_df)\n",
    "\n",
    "#expected df\n",
    "expected_df = pd.DataFrame(expected)\n",
    "expected_df.index = ['Outcome1', 'Outcome2', 'Outcome3']\n",
    "expected_df.columns = ['Group A', 'Group B']\n",
    "print('Expected values Dataframe')\n",
    "print(expected_df)\n",
    "\n",
    "# Print the results\n",
    "print(\"\\nChi-square statistic:\", stat)\n",
    "print(\"p-value:\", p)\n",
    "\n",
    "# Significance \n",
    "alpha = 0.05 \n",
    "\n",
    "if p<alpha:\n",
    "    print('Reject the null hypothesis')\n",
    "    print(alternate_hypothesis)\n",
    "else:\n",
    "    print('Failed to reject the null hypotheis')\n",
    "    print(null_hypothesis)"
   ]
  },
  {
   "cell_type": "markdown",
   "id": "d8596d87-f92f-4f8d-aa8d-32de6dcd66e7",
   "metadata": {},
   "source": [
    "Q4. A study of the prevalence of smoking in a population of 500 individuals found that 60 individuals\n",
    "smoked. Use Python to calculate the 95% confidence interval for the true proportion of individuals in the\n",
    "population who smoke."
   ]
  },
  {
   "cell_type": "code",
   "execution_count": 2,
   "id": "5b0b9beb-27fb-4d4d-a06d-6c36023508b3",
   "metadata": {},
   "outputs": [
    {
     "name": "stdout",
     "output_type": "stream",
     "text": [
      "The CI is = (9.151638887130707, 14.848361112869291)\n"
     ]
    }
   ],
   "source": [
    "import scipy.stats as stat\n",
    "import numpy as np\n",
    "\n",
    "#given data\n",
    "n = 500 #sample size\n",
    "x = 60 #no. of individuals who smoke\n",
    "alpha  = 0.05\n",
    "p = x/n # proportion of individuals who smoke \n",
    "\n",
    "#calculating z value\n",
    "z = stat.norm.ppf(1-alpha/2)\n",
    "\n",
    "#calculating se of proportion \n",
    "se = np.sqrt((p * (1-p))/n)\n",
    "\n",
    "#calculating CI\n",
    "lower_bound = p-(z*se)\n",
    "upper_bound = p+(z*se)\n",
    "\n",
    "print(f'The CI is = ({lower_bound*100}, {upper_bound*100})')"
   ]
  },
  {
   "cell_type": "markdown",
   "id": "b2adba50-4218-4099-8614-40696d41e552",
   "metadata": {},
   "source": [
    "Q5. Calculate the 90% confidence interval for a sample of data with a mean of 75 and a standard deviation\n",
    "of 12 using Python. Interpret the results."
   ]
  },
  {
   "cell_type": "code",
   "execution_count": 4,
   "id": "9433b659-0fdf-4722-9a21-809c2a38a398",
   "metadata": {},
   "outputs": [
    {
     "name": "stdout",
     "output_type": "stream",
     "text": [
      "The CI is = (73.95970322424888, 76.04029677575112)\n"
     ]
    }
   ],
   "source": [
    "import scipy.stats as stat\n",
    "import numpy as np\n",
    "\n",
    "#given data\n",
    "x = 75 \n",
    "std_dv = 12\n",
    "alpha  = 0.10\n",
    "n = 30 #assumed\n",
    "\n",
    "#calculating z value\n",
    "z = stat.norm.ppf(1-alpha/2)\n",
    "\n",
    "#calculating se of proportion \n",
    "se = np.sqrt(std_dv/n)\n",
    "\n",
    "#calculating CI\n",
    "lower_bound = x - (z*se)\n",
    "upper_bound = x + (z*se)\n",
    "\n",
    "print(f'The CI is = ({lower_bound}, {upper_bound})')"
   ]
  },
  {
   "cell_type": "markdown",
   "id": "332a5263-1582-4c71-8663-70573a3e7e1c",
   "metadata": {},
   "source": [
    "Q6. Use Python to plot the chi-square distribution with 10 degrees of freedom. Label the axes and shade the\n",
    "area corresponding to a chi-square statistic of 15."
   ]
  },
  {
   "cell_type": "code",
   "execution_count": 6,
   "id": "e4893781-c2b6-4a2b-9458-360fb42c3947",
   "metadata": {},
   "outputs": [
    {
     "data": {
      "image/png": "[encoded data removed]",
      "text/plain": [
       "<Figure size 800x600 with 1 Axes>"
      ]
     },
     "metadata": {},
     "output_type": "display_data"
    }
   ],
   "source": [
    "import numpy as np\n",
    "import matplotlib.pyplot as plt\n",
    "import scipy.stats as stats\n",
    "\n",
    "# Define the degrees of freedom\n",
    "df = 10\n",
    "\n",
    "# Generate x values for the chi-square distribution\n",
    "x = np.linspace(0, 30, 500)\n",
    "\n",
    "# Calculate the probability density function (PDF) for the chi-square distribution\n",
    "pdf = stats.chi2.pdf(x, df)\n",
    "\n",
    "# Create the plot\n",
    "plt.figure(figsize=(8, 6))\n",
    "plt.plot(x, pdf, 'b-', label=f'Chi-Square Distribution (df={df})')\n",
    "\n",
    "# Shade the area corresponding to a chi-square statistic of 15\n",
    "x_fill = np.linspace(0, 15, 100)\n",
    "pdf_fill = stats.chi2.pdf(x_fill, df)\n",
    "plt.fill_between(x_fill, pdf_fill, color='yellow', alpha=0.5, label='Chi-Square Statistic of 15')\n",
    "\n",
    "# Add labels and title\n",
    "plt.title('Chi-Square Distribution with 10 Degrees of Freedom')\n",
    "plt.xlabel('Chi-Square Statistic')\n",
    "plt.ylabel('Probability Density Function')\n",
    "plt.legend()\n",
    "\n",
    "# Show plot\n",
    "plt.grid(True)\n",
    "plt.show()"
   ]
  },
  {
   "cell_type": "markdown",
   "id": "1562f5d6-5a35-4e15-af50-0838a7dbfd3c",
   "metadata": {},
   "source": [
    "Q7. A random sample of 1000 people was asked if they preferred Coke or Pepsi. Of the sample, 520\n",
    "preferred Coke. Calculate a 99% confidence interval for the true proportion of people in the population who\n",
    "prefer Coke."
   ]
  },
  {
   "cell_type": "code",
   "execution_count": 2,
   "id": "3597f6a2-dc98-43c9-8bed-db934d067c88",
   "metadata": {},
   "outputs": [
    {
     "name": "stdout",
     "output_type": "stream",
     "text": [
      "The CI is = (47.93051576779699, 56.06948423220302)\n"
     ]
    }
   ],
   "source": [
    "import scipy.stats as stat\n",
    "import numpy as np\n",
    "\n",
    "#given data\n",
    "n = 1000 #sample size\n",
    "x = 520 #no. of individuals who prefer coke\n",
    "alpha  = 0.01\n",
    "p = x/n # proportion of individuals who smoke \n",
    "\n",
    "#calculating z value\n",
    "z = stat.norm.ppf(1-alpha/2)\n",
    "\n",
    "#calculating se of proportion \n",
    "se = np.sqrt((p * (1-p))/n)\n",
    "\n",
    "#calculating CI\n",
    "lower_bound = p-(z*se)\n",
    "upper_bound = p+(z*se)\n",
    "\n",
    "print(f'The CI is = ({lower_bound*100}, {upper_bound*100})')"
   ]
  },
  {
   "cell_type": "markdown",
   "id": "e7932591-e48e-4bd8-bcc5-197bb4b0ece8",
   "metadata": {},
   "source": [
    "Q8. A researcher hypothesizes that a coin is biased towards tails. They flip the coin 100 times and observe\n",
    "45 tails. Conduct a chi-square goodness of fit test to determine if the observed frequencies match the\n",
    "expected frequencies of a fair coin. Use a significance level of 0.05."
   ]
  },
  {
   "cell_type": "code",
   "execution_count": 4,
   "id": "a7da2669-50d3-437c-aa24-393a010db889",
   "metadata": {},
   "outputs": [
    {
     "name": "stdout",
     "output_type": "stream",
     "text": [
      "chisquare_statistic =  1.0\n",
      "P_value =  0.31731050786291115\n",
      "We failed to reject the null hypothesis\n",
      "The coin is fair\n"
     ]
    }
   ],
   "source": [
    "import scipy.stats as stat\n",
    "\n",
    "observed_freq = [45,55]\n",
    "expected_freq = [50,50]\n",
    "\n",
    "null_hypothesis = 'The coin is fair'\n",
    "alternate_hypo = 'The coin is not fair'\n",
    " \n",
    "chisquare_statistic, p_value = stat.chisquare(observed_freq, expected_freq)\n",
    "print('chisquare_statistic = ', chisquare_statistic)\n",
    "print('P_value = ', p_value)\n",
    "\n",
    "alpha = 0.05\n",
    "\n",
    "if p_value < alpha:\n",
    "    print('Reject the null Hypothesis')\n",
    "    print(alternate_hypo)\n",
    "else:\n",
    "    print('We failed to reject the null hypothesis')\n",
    "    print(null_hypothesis)"
   ]
  },
  {
   "cell_type": "markdown",
   "id": "ce69f01b-6f57-4d77-ac83-e715939ca342",
   "metadata": {},
   "source": [
    "Q9. A study was conducted to determine if there is an association between smoking status (smoker or\n",
    "non-smoker) and lung cancer diagnosis (yes or no). The results are shown in the contingency table below.\n",
    "Conduct a chi-square test for independence to determine if there is a significant association between\n",
    "smoking status and lung cancer diagnosis.\n",
    "\n",
    "Use a significance level of 0.05.\n",
    "\n",
    "Lung Cancer:Yes\tLung Cancer:No\n",
    "Smoker\t60\t140\n",
    "Non Smoker\t30\t170"
   ]
  },
  {
   "cell_type": "code",
   "execution_count": 5,
   "id": "c4ac3c94-bb2d-494e-8fa1-ad42d0ec1ae2",
   "metadata": {},
   "outputs": [
    {
     "name": "stdout",
     "output_type": "stream",
     "text": [
      "Observed Dataframe is as below\n",
      "            Lung Cancer: Yes  Lung Cancer:No\n",
      "Smoker                    60             140\n",
      "Non-Smoker                30             170\n",
      "Expected Dataframe is as below\n",
      "            Lung Cancer: Yes  Lung Cancer:No\n",
      "Smoker                  45.0           155.0\n",
      "Non-Smoker              45.0           155.0\n",
      "Chi square statistic =  12.057347670250895\n",
      "P value =  0.0005158863863703744\n",
      "Reject the null hypothesis\n",
      "There is significant association between smoking status and lung cancer diagnosis\n"
     ]
    }
   ],
   "source": [
    "import scipy.stats as stat\n",
    "import pandas as pd\n",
    "\n",
    "observed_df = pd.DataFrame({'Lung Cancer: Yes': [60, 30], 'Lung Cancer:No':[140,170]})\n",
    "observed_df.index = ['Smoker', 'Non-Smoker']\n",
    "print('Observed Dataframe is as below')\n",
    "print(observed_df)\n",
    "\n",
    "#null and alternate hypothesis\n",
    "null_hypo = 'There is no significant association between smoking status and lung cancer diagnosis'\n",
    "alternate_hypo = 'There is significant association between smoking status and lung cancer diagnosis'\n",
    "'Lung Cancer: Yes'\n",
    "#calculating statistic, p, df, expected \n",
    "chisquare_stat, p, df, expected = stat.chi2_contingency(observed_df)\n",
    "\n",
    "#expected df\n",
    "expected_df = pd.DataFrame(expected)\n",
    "expected_df.index = ['Smoker', 'Non-Smoker']\n",
    "expected_df.columns = ['Lung Cancer: Yes', 'Lung Cancer:No']\n",
    "print('Expected Dataframe is as below')\n",
    "print(expected_df)\n",
    "\n",
    "#print results\n",
    "print('Chi square statistic = ', chisquare_stat)\n",
    "print('P value = ', p)\n",
    "\n",
    "#significance\n",
    "alpha = 0.05\n",
    "\n",
    "if p<alpha:\n",
    "    print('Reject the null hypothesis')\n",
    "    print(alternate_hypo)\n",
    "else:\n",
    "    print('We failed to reject the null hypothesis')\n",
    "    print(null_hypo)      "
   ]
  },
  {
   "cell_type": "markdown",
   "id": "52dad798-65f1-4c41-90e8-23aace11d35c",
   "metadata": {},
   "source": [
    "Q10. A study was conducted to determine if the proportion of people who prefer milk chocolate, dark\n",
    "chocolate, or white chocolate is different in the U.S. versus the U.K. A random sample of 500 people from\n",
    "the U.S. and a random sample of 500 people from the U.K. were surveyed. The results are shown in the\n",
    "contingency table below. Conduct a chi-square test for independence to determine if there is a significant\n",
    "association between chocolate preference and country of origin.\n",
    "\n",
    "Use a significance level of 0.01.\n",
    "\n",
    "\tMilk Chocolate\tDark Chocolate\tWhite Chocolate\n",
    "U.S. (n=500)\t200\t150\t150\n",
    "U.K. (n=500)\t225\t175\t100"
   ]
  },
  {
   "cell_type": "code",
   "execution_count": 7,
   "id": "27b287ad-947b-48b3-a20a-6284ff0410bf",
   "metadata": {},
   "outputs": [
    {
     "name": "stdout",
     "output_type": "stream",
     "text": [
      "Observed Dataframe is as below\n",
      "              Milk Chocolate  Dark chocolate  White chcoclate\n",
      "U.S. (n=500)             200             150              150\n",
      "U.K. (n=500)             225             170              100\n",
      "Expected Dataframe is as below\n",
      "              Milk Chocolate  Dark chocolate  White chcoclate\n",
      "U.S. (n=500)      213.567839       160.80402       125.628141\n",
      "U.K. (n=500)      211.432161       159.19598       124.371859\n",
      "Chi square statistic =  12.695783199643499\n",
      "P value =  0.001750433863416934\n",
      "Reject the null hypothesis\n",
      "There is significant association between chocolate preference and country of origin\n"
     ]
    }
   ],
   "source": [
    "import scipy.stats as stat\n",
    "import pandas as pd\n",
    "\n",
    "observed_df = pd.DataFrame({'Milk Chocolate': [200,225], 'Dark chocolate':[150,170], 'White chcoclate':[150,100]})\n",
    "observed_df.index = ['U.S. (n=500)', 'U.K. (n=500)']\n",
    "print('Observed Dataframe is as below')\n",
    "print(observed_df)\n",
    "\n",
    "#null and alternate hypothesis\n",
    "null_hypo = 'There is no significant association between chocolate preference and country of origin'\n",
    "alternate_hypo = 'There is significant association between chocolate preference and country of origin'\n",
    "\n",
    "#calculating statistic, p, df, expected \n",
    "chisquare_stat, p, df, expected = stat.chi2_contingency(observed_df)\n",
    "\n",
    "#expected df\n",
    "expected_df = pd.DataFrame(expected)\n",
    "expected_df.index = ['U.S. (n=500)', 'U.K. (n=500)']\n",
    "expected_df.columns = ['Milk Chocolate', 'Dark chocolate', 'White chcoclate']\n",
    "print('Expected Dataframe is as below')\n",
    "print(expected_df)\n",
    "\n",
    "#print results\n",
    "print('Chi square statistic = ', chisquare_stat)\n",
    "print('P value = ', p)\n",
    "\n",
    "#significance\n",
    "alpha = 0.01\n",
    "\n",
    "if p<alpha:\n",
    "    print('Reject the null hypothesis')\n",
    "    print(alternate_hypo)\n",
    "else:\n",
    "    print('We failed to reject the null hypothesis')\n",
    "    print(null_hypo)      "
   ]
  },
  {
   "cell_type": "markdown",
   "id": "9f3496ee-0dcf-45a2-883d-82cf93da0a97",
   "metadata": {},
   "source": [
    "Q11. A random sample of 30 people was selected from a population with an unknown mean and standard\n",
    "deviation. The sample mean was found to be 72 and the sample standard deviation was found to be 10.\n",
    "Conduct a hypothesis test to determine if the population mean is significantly different from 70. Use a\n",
    "significance level of 0.05."
   ]
  },
  {
   "cell_type": "code",
   "execution_count": 10,
   "id": "21f52673-2b92-43ce-bc95-cd20cb48c5f7",
   "metadata": {},
   "outputs": [
    {
     "name": "stdout",
     "output_type": "stream",
     "text": [
      "P_value =  0.2823362372860698\n",
      "We failed to reject null hypothesis\n",
      "The population mean is not different from 70\n"
     ]
    }
   ],
   "source": [
    "import scipy.stats as stat\n",
    "import numpy as np\n",
    "\n",
    "#given data\n",
    "sample_mean = 72\n",
    "sample_std = 10\n",
    "n = 30\n",
    "pop_mean = 70\n",
    "\n",
    "#null and alternate hypothesis\n",
    "null_hypo = 'The population mean is not different from 70'\n",
    "alternate_hypo = 'The population mean is significantly different from 70'\n",
    "#calculating t statistic\n",
    "\n",
    "t_stat = (sample_mean - pop_mean)/(sample_std/np.sqrt(n))\n",
    "\n",
    "alpha = 0.05\n",
    "\n",
    "df = n-1\n",
    "\n",
    "p_value = 2*(1-stat.t.cdf(abs(t_stat),df))\n",
    "print('P_value = ', p_value)\n",
    "\n",
    "if p_value<alpha:\n",
    "    print('Reject null hypothesis')\n",
    "    print(alternate_hypo)\n",
    "else:\n",
    "    print('We failed to reject null hypothesis')\n",
    "    print(null_hypo)"
   ]
  },
  {
   "cell_type": "code",
   "execution_count": null,
   "id": "9890f9ed-4eb3-43fb-af8d-3970d2a9d539",
   "metadata": {},
   "outputs": [],
   "source": []
  }
 ],
 "metadata": {
  "kernelspec": {
   "display_name": "Python 3 (ipykernel)",
   "language": "python",
   "name": "python3"
  },
  "language_info": {
   "codemirror_mode": {
    "name": "ipython",
    "version": 3
   },
   "file_extension": ".py",
   "mimetype": "text/x-python",
   "name": "python",
   "nbconvert_exporter": "python",
   "pygments_lexer": "ipython3",
   "version": "3.10.8"
  }
 },
 "nbformat": 4,
 "nbformat_minor": 5
}
