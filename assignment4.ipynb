{
 "cells": [
  {
   "cell_type": "markdown",
   "id": "b9bd38ca-0da1-40df-8948-22e56edd580f",
   "metadata": {},
   "source": [
    "Q1. Explain Class and Object with respect to Object-Oriented Programming. Give a suitable example."
   ]
  },
  {
   "cell_type": "markdown",
   "id": "accd3310-e47e-4576-9f51-2ab297b6cb58",
   "metadata": {},
   "source": [
    "Class is a user defined data type that contains data itself and methods that serves as template to create object.\n",
    "Object is a particular instance of class with unique characteristics and functions."
   ]
  },
  {
   "cell_type": "code",
   "execution_count": 3,
   "id": "0c686d82-98e7-4806-a838-d2295b460524",
   "metadata": {},
   "outputs": [],
   "source": [
    "class person:\n",
    "    def __init__(self, name, age, gender):\n",
    "        self.name=name\n",
    "        self.age=age\n",
    "        self.gender=gender"
   ]
  },
  {
   "cell_type": "code",
   "execution_count": 5,
   "id": "01ffd663-7fe2-4db8-ad9c-95187322fb42",
   "metadata": {},
   "outputs": [],
   "source": [
    "person1= person('sakshi', 22, 'female')"
   ]
  },
  {
   "cell_type": "code",
   "execution_count": 8,
   "id": "eed29f7a-718d-4490-b3d4-bf66b2a2ccdc",
   "metadata": {},
   "outputs": [
    {
     "data": {
      "text/plain": [
       "'sakshi'"
      ]
     },
     "execution_count": 8,
     "metadata": {},
     "output_type": "execute_result"
    }
   ],
   "source": [
    "person1.name"
   ]
  },
  {
   "cell_type": "code",
   "execution_count": 9,
   "id": "edcee87a-4a6f-48f6-92a0-879b4e565c38",
   "metadata": {},
   "outputs": [
    {
     "data": {
      "text/plain": [
       "22"
      ]
     },
     "execution_count": 9,
     "metadata": {},
     "output_type": "execute_result"
    }
   ],
   "source": [
    "person1.age"
   ]
  },
  {
   "cell_type": "code",
   "execution_count": 11,
   "id": "f04d4a16-9a1e-46a2-a594-974d86fba5d9",
   "metadata": {},
   "outputs": [
    {
     "data": {
      "text/plain": [
       "'female'"
      ]
     },
     "execution_count": 11,
     "metadata": {},
     "output_type": "execute_result"
    }
   ],
   "source": [
    "person1.gender"
   ]
  },
  {
   "cell_type": "markdown",
   "id": "19e20faa-c326-4119-9e8e-c98c92a2a767",
   "metadata": {},
   "source": [
    "Q2. Name the four pillars of OOPs."
   ]
  },
  {
   "cell_type": "markdown",
   "id": "bce4336e-d5e8-47c3-aaba-2cea388a3503",
   "metadata": {},
   "source": [
    "Four pillars of OOPS are:\n",
    "1. Polymorphism\n",
    "2. Encapsulation.\n",
    "3. Inheritance.\n",
    "4. Abstraction."
   ]
  },
  {
   "cell_type": "markdown",
   "id": "ea3a710a-6223-4454-bbf2-69b0efe33717",
   "metadata": {},
   "source": [
    "Q3. Explain why the __init__() function is used. Give a suitable example."
   ]
  },
  {
   "cell_type": "markdown",
   "id": "ba86845b-bf83-4602-8fc0-ca0d9bec3e70",
   "metadata": {},
   "source": [
    "All the class have __init__ function when they are initiated. It is used to assign values to the properties of the object when the object is created."
   ]
  },
  {
   "cell_type": "code",
   "execution_count": 24,
   "id": "68f77401-34a3-4c14-a6b8-18a8042908f9",
   "metadata": {},
   "outputs": [],
   "source": [
    "class company:\n",
    "    def __init__(self, name, companyname):\n",
    "        self.name=name\n",
    "        self.companyname=companyname\n",
    "    def show(self):\n",
    "        print('My name is',self.name + 'I work in', self.companyname)"
   ]
  },
  {
   "cell_type": "code",
   "execution_count": 25,
   "id": "82c46e3a-8375-4c7a-a6a1-f5a5e5fd46ff",
   "metadata": {},
   "outputs": [],
   "source": [
    "company1=company('sakshi', 'agrotech')"
   ]
  },
  {
   "cell_type": "code",
   "execution_count": 26,
   "id": "17bff545-0402-431b-8560-faaf8392586a",
   "metadata": {},
   "outputs": [
    {
     "name": "stdout",
     "output_type": "stream",
     "text": [
      "My name is sakshiI work in agrotech\n"
     ]
    }
   ],
   "source": [
    "company1.show()"
   ]
  },
  {
   "cell_type": "markdown",
   "id": "2d5ef123-5230-4d6e-ac00-2d920f022fea",
   "metadata": {},
   "source": [
    "Q4. Why self is used in OOPs?"
   ]
  },
  {
   "cell_type": "markdown",
   "id": "7ddee94b-6f7f-4723-af54-dca228d27acb",
   "metadata": {},
   "source": [
    "The self parameter is used as a refernce to the current instance of the class, and is used to access the variables that belong to the class."
   ]
  },
  {
   "cell_type": "markdown",
   "id": "4cb04c5e-a00c-48bd-a6bc-715b31a797ac",
   "metadata": {},
   "source": [
    "Q5. What is inheritance? Give an example for each type of inheritance."
   ]
  },
  {
   "cell_type": "markdown",
   "id": "85319a4d-3092-4e32-8c16-4747445e088d",
   "metadata": {},
   "source": [
    "Inheritance allow to inherit all the methods and properties of the parent class to the child class.\n",
    "Types of inheritance:\n",
    "1. Single Inheritance.\n",
    "2. Multiple Inheritance.\n",
    "3. Multilevel Inheritance.\n",
    "4. Hiearchical Inheritance."
   ]
  },
  {
   "cell_type": "code",
   "execution_count": 27,
   "id": "b09684f5-669e-4411-9557-9de851566b22",
   "metadata": {},
   "outputs": [],
   "source": [
    "#single inheritance\n",
    "class parent:\n",
    "    def func1(self):\n",
    "        print(' This is parent func')\n",
    "class child(parent):\n",
    "    def func2(self):\n",
    "        print('This is child func')"
   ]
  },
  {
   "cell_type": "code",
   "execution_count": 28,
   "id": "474868da-13e8-46c4-bac3-25a2c4debc47",
   "metadata": {},
   "outputs": [],
   "source": [
    "parent1= child()"
   ]
  },
  {
   "cell_type": "code",
   "execution_count": 30,
   "id": "8d37e1dc-fc70-46fb-a2e9-1b8949ce6ef4",
   "metadata": {},
   "outputs": [
    {
     "name": "stdout",
     "output_type": "stream",
     "text": [
      " This is parent func\n"
     ]
    }
   ],
   "source": [
    "parent1.func1()"
   ]
  },
  {
   "cell_type": "code",
   "execution_count": 32,
   "id": "6a0c57ce-7006-4826-a6be-5b69cb34a676",
   "metadata": {},
   "outputs": [
    {
     "name": "stdout",
     "output_type": "stream",
     "text": [
      "This is child func\n"
     ]
    }
   ],
   "source": [
    "parent1.func2()"
   ]
  },
  {
   "cell_type": "code",
   "execution_count": 33,
   "id": "451bd963-91e3-480f-ba2c-45d3ea85b714",
   "metadata": {},
   "outputs": [],
   "source": [
    "#multiple inheritance"
   ]
  },
  {
   "cell_type": "code",
   "execution_count": 34,
   "id": "93cf031c-51ab-44b4-875a-030caf280ed2",
   "metadata": {},
   "outputs": [],
   "source": [
    "class color1:\n",
    "    colorname=''\n",
    "    def blue(self):\n",
    "        print(self.colorname)\n",
    "class color2:\n",
    "    colorname1=''\n",
    "    def yellow(self):\n",
    "        print(self.colorname1)\n",
    "class color3:\n",
    "    def color_result(self):\n",
    "        print(self.colorname)\n",
    "        print(self.colorname1)\n",
    "    \n",
    "    "
   ]
  },
  {
   "cell_type": "code",
   "execution_count": 37,
   "id": "0b0ef665-e997-416f-8e8f-fb042f5db0d6",
   "metadata": {},
   "outputs": [
    {
     "name": "stdout",
     "output_type": "stream",
     "text": [
      "blue\n",
      "yellow\n"
     ]
    }
   ],
   "source": [
    "color4= color3()\n",
    "color4.colorname= 'blue'\n",
    "color4.colorname1='yellow'\n",
    "color4. color_result()"
   ]
  },
  {
   "cell_type": "code",
   "execution_count": 39,
   "id": "594207a3-e4de-4144-9156-a6da4fee0f4c",
   "metadata": {},
   "outputs": [],
   "source": [
    "#multilevel\n",
    "class food1:\n",
    "    def test_food1(self):\n",
    "        print('This is choice of Dosa')\n",
    "class food2(food1):\n",
    "    def test_food2(self):\n",
    "        print('this is choice of Idli')\n",
    "class food3(food2):\n",
    "    def test_food3(self):\n",
    "        print('This is choice of Vada')"
   ]
  },
  {
   "cell_type": "code",
   "execution_count": 40,
   "id": "250793c3-6cef-444e-bdba-fbb38c058fb6",
   "metadata": {},
   "outputs": [
    {
     "name": "stdout",
     "output_type": "stream",
     "text": [
      "This is choice of Dosa\n"
     ]
    }
   ],
   "source": [
    "obj_food=food3()\n",
    "obj_food.test_food1()"
   ]
  },
  {
   "cell_type": "code",
   "execution_count": 42,
   "id": "92158cb0-af90-46c0-87f7-b6606ebcb07c",
   "metadata": {},
   "outputs": [
    {
     "name": "stdout",
     "output_type": "stream",
     "text": [
      "this is choice of Idli\n"
     ]
    }
   ],
   "source": [
    "obj_food.test_food2()"
   ]
  },
  {
   "cell_type": "code",
   "execution_count": 43,
   "id": "68ba270c-be4f-4ba9-a7e3-a254327f6340",
   "metadata": {},
   "outputs": [
    {
     "name": "stdout",
     "output_type": "stream",
     "text": [
      "This is choice of Vada\n"
     ]
    }
   ],
   "source": [
    "obj_food.test_food3()"
   ]
  },
  {
   "cell_type": "code",
   "execution_count": 45,
   "id": "34df90e5-d8e7-4834-9ae5-16918c9edbe7",
   "metadata": {},
   "outputs": [],
   "source": [
    "#hiearchical inheritance\n",
    "class inheritance:\n",
    "    def type1(self):\n",
    "        print('this is inheritance')\n",
    "class inheritance1(inheritance):\n",
    "    def type2(self):\n",
    "        print('this is single inheritance')\n",
    "class inheritance2(inheritance):\n",
    "    def type3(self):\n",
    "        print('this is hiearchical inheritance')\n",
    "    "
   ]
  },
  {
   "cell_type": "code",
   "execution_count": 46,
   "id": "9705ed4c-ebc1-43b2-848c-dae92572a94e",
   "metadata": {},
   "outputs": [
    {
     "name": "stdout",
     "output_type": "stream",
     "text": [
      "this is inheritance\n"
     ]
    }
   ],
   "source": [
    "obj_inh= inheritance1()\n",
    "obj_inh1= inheritance2()\n",
    "obj_inh.type1()"
   ]
  },
  {
   "cell_type": "code",
   "execution_count": 47,
   "id": "49b7b70e-945e-45d9-95b9-b6fd58403db3",
   "metadata": {},
   "outputs": [
    {
     "name": "stdout",
     "output_type": "stream",
     "text": [
      "this is single inheritance\n"
     ]
    }
   ],
   "source": [
    "obj_inh.type2()"
   ]
  },
  {
   "cell_type": "code",
   "execution_count": 48,
   "id": "c28a3a11-1202-4bc1-a099-b2c0612952e1",
   "metadata": {},
   "outputs": [
    {
     "name": "stdout",
     "output_type": "stream",
     "text": [
      "this is inheritance\n"
     ]
    }
   ],
   "source": [
    "obj_inh1.type1()"
   ]
  },
  {
   "cell_type": "code",
   "execution_count": 49,
   "id": "fbcc4644-1609-4648-8d5e-60b8af7e50bb",
   "metadata": {},
   "outputs": [
    {
     "name": "stdout",
     "output_type": "stream",
     "text": [
      "this is hiearchical inheritance\n"
     ]
    }
   ],
   "source": [
    "obj_inh1.type3()"
   ]
  },
  {
   "cell_type": "code",
   "execution_count": null,
   "id": "6a411ada-9e6c-4698-909a-d3411481c3ee",
   "metadata": {},
   "outputs": [],
   "source": []
  }
 ],
 "metadata": {
  "kernelspec": {
   "display_name": "Python 3 (ipykernel)",
   "language": "python",
   "name": "python3"
  },
  "language_info": {
   "codemirror_mode": {
    "name": "ipython",
    "version": 3
   },
   "file_extension": ".py",
   "mimetype": "text/x-python",
   "name": "python",
   "nbconvert_exporter": "python",
   "pygments_lexer": "ipython3",
   "version": "3.10.8"
  }
 },
 "nbformat": 4,
 "nbformat_minor": 5
}
