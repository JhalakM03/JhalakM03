{
 "cells": [
  {
   "cell_type": "markdown",
   "id": "b018439a-1b69-4f6d-a08d-2a43f1e72672",
   "metadata": {},
   "source": [
    "Q1. What is a database? Differentiate between SQL and NoSQL databases.\n",
    "\n",
    "A database is a structured collection of data that is organized and stored for easy retrieval and management. It is designed to efficiently manage, store, and retrieve data in a structured format.\n",
    "\n",
    "SQL Database:They use a table-based data model where data is organized into tables with predefined schema (structure).\n",
    "\n",
    "NoSQL Database: NoSQL databases support various data models, including document, key-value, wide-column, and graph databases. The choice of model depends on the specific requirements of the application."
   ]
  },
  {
   "cell_type": "markdown",
   "id": "eac76bc4-c19f-4b10-962a-24d5bd398425",
   "metadata": {},
   "source": [
    "Q2. What is DDL? Explain why CREATE, DROP, ALTER, and TRUNCATE are used with an example.\n",
    "\n",
    "DDL stands for Data Definition Language and it is a subset of SQL used for defining and managing the structure of a relational database. DDL statements are used to define, modify, and manage the structure of database objects such as tables, indexes, and constraints. \n",
    "\n",
    "CREATE: It is used to create table and indexes. CREATE defines a new table with columns, datatypes and contraints. It also creates indexes for faster data retrieval.\n",
    "\n",
    "Table: \n",
    "CREATE TABLE TableName (\n",
    "    Column1 DataType1,\n",
    "    Column2 DataType2,\n",
    "    ...\n",
    "    CONSTRAINT ConstraintName PRIMARY KEY (Column1)\n",
    ");\n",
    "Index: \n",
    "CREATE INDEX IndexName ON TableName (Column1, Column2);\n",
    "\n",
    "DROP: \n",
    "Table: Removes an existing table along with its data and associated objects.\n",
    "\n",
    "DROP TABLE TableName;\n",
    "\n",
    "Index: Removes an existing index from a table.\n",
    "\n",
    "DROP INDEX IndexName;\n",
    "\n",
    "ALTER:\n",
    "Table: Modifies an existing table, such as adding or dropping columns, changing data types, or renaming the table.\n",
    "\n",
    "ALTER TABLE TableName\n",
    "ADD Column3 DataType3;\n",
    "\n",
    "ALTER TABLE TableName\n",
    "DROP COLUMN Column2;\n",
    "\n",
    "Index:\n",
    "\n",
    "ALTER INDEX IndexName\n",
    "DROP COLUMN Column2;\n",
    "\n",
    "TRUNCATE:\n",
    "Table: Removes all rows from a table, but retains the table structure for further use. It is faster than the DELETE statement for removing all records.\n",
    "\n",
    "TRUNCATE TABLE TableName;"
   ]
  },
  {
   "cell_type": "markdown",
   "id": "7bb0928b-c02c-4960-b44a-4011567fcc68",
   "metadata": {},
   "source": [
    "Q3. What is DML? Explain INSERT, UPDATE, and DELETE with an example.\n",
    "\n",
    "DML stands for Data Manipulation Language, and it is a subset of SQL used for managing data within a relational database. DML statements allow users to insert, update, and delete data in database tables.\n",
    "\n",
    "INSERT:\n",
    "Adds new rows of data to a table.\n",
    "\n",
    "INSERT INTO TableName (Column1, Column2, ...)\n",
    "VALUES (Value1, Value2, ...);\n",
    "\n",
    "UPDATE:\n",
    "Modifies existing data in a table based on a specified condition.\n",
    "\n",
    "UPDATE TableName\n",
    "SET Column1 = NewValue1, Column2 = NewValue2, ...\n",
    "WHERE SomeCondition;\n",
    "\n",
    "DELETE:\n",
    "Removes rows from a table based on a specified condition.\n",
    "\n",
    "DELETE FROM TableName\n",
    "WHERE SomeCondition;\n",
    "\n",
    "It's also possible to delete all rows from a table without deleting the table itself.\n",
    "\n",
    "DELETE FROM TableName;"
   ]
  },
  {
   "cell_type": "markdown",
   "id": "963fee32-6bb3-4d7a-b32e-0a5e0a903961",
   "metadata": {},
   "source": [
    "Q4. What is DQL? Explain SELECT with an example.\n",
    "\n",
    "DQL stands for Data Query Language, and it is a subset of SQL that specifically deals with querying or retrieving data from a database. \n",
    "\n",
    "SELECT statement is used to query the database and retrieve information from one or more tables.\n",
    "\n",
    "SELECT column1, column2, ...\n",
    "FROM tableName\n",
    "WHERE condition;\n",
    "\n",
    "1. column1, column2,...The columns you want to retrieve from table.\n",
    "2. tablename - The name of the table you want to retrieve data from.\n",
    "3. condition - An optional clause that specifies conditions that must be met for the rows to be included in the result. If omitted, all rows from the table will be retrieved."
   ]
  },
  {
   "cell_type": "markdown",
   "id": "a226ab2d-5d30-4fbd-9a46-785de491a874",
   "metadata": {},
   "source": [
    "Q5. Explain Primary Key and Foreign Key.\n",
    "\n",
    "Primary Key: A primary key constraint depicts a key comprising one or more columns that only has unique values in it. NO NULL values are present in column with Primary key. Only one primary key per table exist although Primary key may have multiple columns. There are two types of Primary keys; Simple Primary key and Composite primary key. Defined in Create table / Alter table statement.\n",
    "\n",
    "Foreign Key: Foreign Key is a column that refers to the primary key/unique key of other table. So it demonstrates relationship between tables and act as cross reference among them. Table that defines primary/unique key and is referenced by foreign key is called primary table/master table/ Referenced Table. It is Defined in Create table/Alter table statement. For the table that contains Foreign key, it should match the primary key in referenced table for every row. Foreign key column and constraint column should have matching data types."
   ]
  },
  {
   "cell_type": "markdown",
   "id": "f8ec1f88-849c-41c7-b4b7-7caf1fdc9527",
   "metadata": {},
   "source": [
    "Q6. Write a python code to connect MySQL to python. Explain the cursor() and execute() method."
   ]
  },
  {
   "cell_type": "code",
   "execution_count": null,
   "id": "b26562a1-68dc-4e16-9e7e-a5504e15652a",
   "metadata": {},
   "outputs": [],
   "source": [
    "import mysql.connector\n",
    "\n",
    "mydb = mysql.connector.connect(\n",
    "  host=\"localhost\",\n",
    "  user=\"abc\",\n",
    "  password=\"password\"\n",
    ")\n",
    "mycursor = mydb.cursor()\n",
    "mycursor.execute('SELECT * FROM Employees')\n",
    "for row in cursor.fetchall():\n",
    "    print(row)\n",
    "cursor.close()\n",
    "db.close()\n",
    "\n",
    "#Cursor(): This object is used to execute queries and retrieve results from the database.\n",
    "#Execute(): This method of the cursor object is used to execute SQL statements and retrieve the results. It returns the data of affected rows else it returns None if no rows were affected."
   ]
  },
  {
   "cell_type": "markdown",
   "id": "c9b3cd32-a25a-4dfc-8fd4-8e7f11a6779c",
   "metadata": {},
   "source": [
    "Q7. Give the order of execution of SQL clauses in an SQL query."
   ]
  },
  {
   "cell_type": "code",
   "execution_count": null,
   "id": "1bcd0585-48d4-4768-a1e4-d78791db0eca",
   "metadata": {},
   "outputs": [],
   "source": [
    "SELECT departments.department_name, AVG(employees.salary) as avg_salary\n",
    "FROM employees\n",
    "JOIN departments ON employees.department_id = departments.department_id\n",
    "WHERE employees.salary > 40000\n",
    "GROUP BY departments.department_name\n",
    "HAVING AVG(employees.salary) > 50000\n",
    "ORDER BY avg_salary DESC;"
   ]
  },
  {
   "cell_type": "markdown",
   "id": "557b5b27-ceb3-45c3-ba44-cd95d64b57a5",
   "metadata": {},
   "source": [
    "1. FROM: Retrieve data from the employees table and the departments table.\n",
    "2. JOIN: Combine rows from the employees and departments tables based on the join condition (employees.department_id = departments.department_id).\n",
    "3. WHERE: Filter out rows where the salary is not greater than 40000.\n",
    "4. GROUP BY: Group the remaining rows by the department_name column.\n",
    "5. HAVING: Filter out groups where the average salary is not greater than 50000.\n",
    "6. SELECT: Select the department_name column and the calculated average salary (AVG(employees.salary)).\n",
    "7. ORDER BY: Sort the result set based on the calculated average salary in descending order."
   ]
  }
 ],
 "metadata": {
  "kernelspec": {
   "display_name": "Python 3 (ipykernel)",
   "language": "python",
   "name": "python3"
  },
  "language_info": {
   "codemirror_mode": {
    "name": "ipython",
    "version": 3
   },
   "file_extension": ".py",
   "mimetype": "text/x-python",
   "name": "python",
   "nbconvert_exporter": "python",
   "pygments_lexer": "ipython3",
   "version": "3.10.8"
  }
 },
 "nbformat": 4,
 "nbformat_minor": 5
}
