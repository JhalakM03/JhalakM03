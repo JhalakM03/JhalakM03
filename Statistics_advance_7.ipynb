{
 "cells": [
  {
   "cell_type": "markdown",
   "id": "b1535687-3a5a-4442-a856-454e51a9e851",
   "metadata": {},
   "source": [
    "Q1. Write a Python function that takes in two arrays of data and calculates the F-value for a variance ratio\n",
    "test. The function should return the F-value and the corresponding p-value for the test."
   ]
  },
  {
   "cell_type": "code",
   "execution_count": 7,
   "id": "f7ba9fb8-e13b-48e5-9ec8-42a54a2c6521",
   "metadata": {},
   "outputs": [
    {
     "name": "stdout",
     "output_type": "stream",
     "text": [
      "F-test =  1.0869565217391304\n",
      "2.0\n",
      "1.8400000000000003\n",
      "Critical_value =  0.5312319155092593\n",
      "Reject the null hypothesis\n"
     ]
    }
   ],
   "source": [
    "import numpy as np\n",
    "import scipy.stats as stats\n",
    "from scipy.stats import f\n",
    "\n",
    "array1 = [1, 2, 3, 4, 5]\n",
    "array2 = [2, 3, 3, 4, 6]\n",
    "\n",
    "f_test = np.var(array1, ddof=1)/np.var(array2, ddof=1)\n",
    "print('F-test = ', f_test)\n",
    "\n",
    "print(np.var(array1))\n",
    "print(np.var(array2))\n",
    "dfn=len(array1)-1\n",
    "dfd=len(array2)-1\n",
    "\n",
    "alpha=0.05\n",
    "\n",
    "critical_value = stats.f.cdf(f_test, dfn=dfn,dfd=dfd)\n",
    "print('Critical_value = ', critical_value)\n",
    "\n",
    "if f_test>critical_value:\n",
    "    print('Reject the null hypothesis')\n",
    "else:\n",
    "    print('We failed to reject to the null hypothesis')"
   ]
  },
  {
   "cell_type": "markdown",
   "id": "fa861c9e-baab-4521-b150-fe36a10f6c3d",
   "metadata": {},
   "source": [
    "Q2. Given a significance level of 0.05 and the degrees of freedom for the numerator and denominator of an\n",
    "F-distribution, write a Python function that returns the critical F-value for a two-tailed test."
   ]
  },
  {
   "cell_type": "code",
   "execution_count": 10,
   "id": "ccf9589d-4e46-4b0d-afd7-2d4136c821cc",
   "metadata": {},
   "outputs": [
    {
     "name": "stdout",
     "output_type": "stream",
     "text": [
      "Critical_values are: 0.29252223798395927 and 2.773671375199082\n"
     ]
    }
   ],
   "source": [
    "from scipy.stats import f\n",
    "\n",
    "def critical_f_value(alpha, dfn, dfd):\n",
    "    f_crit_1 = f.ppf(alpha/2, dfn, dfd)\n",
    "    f_crit_2 = f.ppf(1-alpha/2, dfn, dfd)\n",
    "    \n",
    "    return f_crit_1, f_crit_2\n",
    "\n",
    "alpha = 0.05\n",
    "dfn = 10\n",
    "dfd = 20\n",
    "\n",
    "f1,f2= critical_f_value(alpha, dfn, dfd)\n",
    "\n",
    "print('Critical_values are:', (f1),'and', (f2))"
   ]
  },
  {
   "cell_type": "markdown",
   "id": "7eeae421-2ea3-421c-a37f-f429b3b670cf",
   "metadata": {},
   "source": [
    "Q3. Write a Python program that generates random samples from two normal distributions with known variances and uses an F-test to determine if the variances are equal. The program should output the F-value, degrees of freedom, and p-value for the test."
   ]
  },
  {
   "cell_type": "code",
   "execution_count": 5,
   "id": "93023497-d4c8-4096-86e6-ebe7b481706a",
   "metadata": {},
   "outputs": [
    {
     "name": "stdout",
     "output_type": "stream",
     "text": [
      "Sample1 mean = 9.343201411714691 and var is = 4.648990867839174\n",
      "Sample2 mean = 19.46448580587066 and var is = 3.412000732168225\n",
      "F-value =  1.3742870366680089\n",
      "P_value =  0.3511482488285549\n"
     ]
    }
   ],
   "source": [
    "import numpy as np\n",
    "from scipy.stats import f\n",
    "\n",
    "n1 = 30\n",
    "n2 = 40\n",
    "mean1 = 10\n",
    "mean2 = 20\n",
    "var1= 6\n",
    "var2= 4\n",
    "\n",
    "sample1 = np.random.normal(mean1, np.sqrt(var1), n1)\n",
    "sample2 = np.random.normal(mean2, np.sqrt(var2), n2)\n",
    "\n",
    "F = np.var(sample1, ddof=1)/np.var(sample2, ddof=1)\n",
    "dfn=n1-1\n",
    "dfd=n2-1\n",
    "p_value= 2*min(f.cdf(F,dfn,dfd), 1-f.cdf(F,dfn,dfd))\n",
    "\n",
    "print('Sample1 mean = {} and var is = {}'.format(np.mean(sample1), np.var(sample1)))\n",
    "print('Sample2 mean = {} and var is = {}'.format(np.mean(sample2), np.var(sample2)))\n",
    "print('F-value = ', F)\n",
    "print('P_value = ', p_value)\n",
    "\n"
   ]
  },
  {
   "cell_type": "markdown",
   "id": "1022b6fc-ae60-49f0-8a73-ce06c65f31e6",
   "metadata": {},
   "source": [
    "Q4.The variances of two populations are known to be 10 and 15. A sample of 12 observations is taken from\n",
    "each population. Conduct an F-test at the 5% significance level to determine if the variances are\n",
    "significantly different."
   ]
  },
  {
   "cell_type": "code",
   "execution_count": 10,
   "id": "05fbf822-0766-4db3-8154-1056773ffa50",
   "metadata": {},
   "outputs": [
    {
     "name": "stdout",
     "output_type": "stream",
     "text": [
      "Sample 1 var =  10\n",
      "Sample 2 var =  15\n",
      "F_value =  0.6666666666666666\n",
      "P_value =  0.5123897987357996\n",
      "Degrees of freedom = (11,11)\n",
      "\n",
      "----------------------\n",
      ",\n",
      "Critical f_values are:\n",
      "0.28787755798459863 3.473699051085809\n",
      "We failed to reject the null hypothesis\n",
      "The variances of both populations are same\n"
     ]
    }
   ],
   "source": [
    "from scipy.stats import f\n",
    "\n",
    "var1=10\n",
    "var2=15\n",
    "n1=12\n",
    "n2=12\n",
    "\n",
    "F= var1/var2\n",
    "dfn=n1-1\n",
    "dfd=n2-1\n",
    "p_value=2*min(f.cdf(F,dfn,dfd), 1-f.cdf(F,dfn,dfd))\n",
    "\n",
    "print('Sample 1 var = ', var1)\n",
    "print('Sample 2 var = ', var2)\n",
    "print('F_value = ',F)\n",
    "print('P_value = ', p_value)\n",
    "print('Degrees of freedom = ({},{})'.format(dfn,dfd))\n",
    "\n",
    "print('\\n----------------------\\n,')\n",
    "\n",
    "null_hypo = 'The variances of both populations are same'\n",
    "alternate_hypo = 'The variances of both populations are different'\n",
    "\n",
    "alpha=0.05\n",
    "f_crit_1 = f.ppf(alpha/2, dfn,dfd)\n",
    "f_crit_2 = f.ppf(1-alpha/2, dfn, dfd)\n",
    "\n",
    "print('Critical f_values are:')\n",
    "print(f_crit_1, f_crit_2)\n",
    "\n",
    "if (F<f_crit_1) or (F>f_crit_2):\n",
    "    print('Reject the null Hypothesis')\n",
    "    print(alternate_hypo)\n",
    "else:\n",
    "    print('We failed to reject the null hypothesis')\n",
    "    print(null_hypo)"
   ]
  },
  {
   "cell_type": "markdown",
   "id": "444aa879-dbf9-459a-9454-4029ad791849",
   "metadata": {},
   "source": [
    "Q5. A manufacturer claims that the variance of the diameter of a certain product is 0.005. A sample of 25\n",
    "products is taken, and the sample variance is found to be 0.006. Conduct an F-test at the 1% significance\n",
    "level to determine if the claim is justified."
   ]
  },
  {
   "cell_type": "code",
   "execution_count": 1,
   "id": "e057d547-76b6-49ce-91f4-91be948c2d4a",
   "metadata": {},
   "outputs": [
    {
     "name": "stdout",
     "output_type": "stream",
     "text": [
      "F-Stattistic =  1.2\n",
      "P_value =  0.6587309365634488\n",
      "We failed to reject the null hypothesis\n",
      "The variance of the diameter of the product is 0.005\n"
     ]
    }
   ],
   "source": [
    "from scipy.stats import f\n",
    "\n",
    "var1=0.005\n",
    "var2=0.006\n",
    "n=25\n",
    "dfn=n-1\n",
    "dfd=n-1\n",
    "alpha=0.01\n",
    "\n",
    "F=var2/var1\n",
    "p_value= 2*min(f.cdf(F,dfn,dfd), 1-f.cdf(F,dfn,dfd))\n",
    "\n",
    "print('F-Stattistic = ', F)\n",
    "print('P_value = ', p_value)\n",
    "\n",
    "null_hypo = 'The variance of the diameter of the product is 0.005'\n",
    "alternate_hypo = 'The variance of the diameter of the product is not 0.005'\n",
    "\n",
    "f_crit_1 = f.ppf(alpha/2, dfn, dfd)\n",
    "f_crit_2 = f.ppf(1-alpha/2, dfn, dfd)\n",
    "\n",
    "if (F<f_crit_1) or (F>f_crit_2):\n",
    "    print('Reject the null Hypothesis')\n",
    "    print(alternate_hypo)\n",
    "else:\n",
    "    print('We failed to reject the null hypothesis')\n",
    "    print(null_hypo)"
   ]
  },
  {
   "cell_type": "markdown",
   "id": "e363ada8-9a84-407d-813d-422c8dc6d93d",
   "metadata": {},
   "source": [
    "Q6. Write a Python function that takes in the degrees of freedom for the numerator and denominator of an\n",
    "F-distribution and calculates the mean and variance of the distribution. The function should return the\n",
    "mean and variance as a tuple."
   ]
  },
  {
   "cell_type": "code",
   "execution_count": 2,
   "id": "40dd9bf3-b5eb-410e-a10c-6235e833d6c0",
   "metadata": {},
   "outputs": [
    {
     "name": "stdout",
     "output_type": "stream",
     "text": [
      "Mean of the F-distribution: 1.25\n",
      "Variance of the F-distribution: 1.3541666666666667\n"
     ]
    }
   ],
   "source": [
    "def f_distribution_mean_variance(dfn, dfd):\n",
    "    \"\"\"\n",
    "    Calculate the mean and variance of an F-distribution.\n",
    "\n",
    "    Parameters:\n",
    "    - dfn (int): Degrees of freedom for the numerator.\n",
    "    - dfd (int): Degrees of freedom for the denominator.\n",
    "\n",
    "    Returns:\n",
    "    - tuple: Mean and variance of the F-distribution.\n",
    "    \"\"\"\n",
    "    # Calculate mean\n",
    "    mean = dfd / (dfd - 2)\n",
    "\n",
    "    # Calculate variance\n",
    "    variance = (2 * dfd**2 * (dfn + dfd - 2)) / (dfn * (dfd - 2)**2 * (dfd - 4))\n",
    "\n",
    "    return mean, variance\n",
    "\n",
    "# Example usage\n",
    "dfn = 5  # Degrees of freedom for the numerator\n",
    "dfd = 10  # Degrees of freedom for the denominator\n",
    "\n",
    "mean, variance = f_distribution_mean_variance(dfn, dfd)\n",
    "print(\"Mean of the F-distribution:\", mean)\n",
    "print(\"Variance of the F-distribution:\", variance)"
   ]
  },
  {
   "cell_type": "markdown",
   "id": "39f26bf8-9be4-44c3-a697-78d00f273df6",
   "metadata": {},
   "source": [
    "Q7. A random sample of 10 measurements is taken from a normal population with unknown variance. The\n",
    "sample variance is found to be 25. Another random sample of 15 measurements is taken from another\n",
    "normal population with unknown variance, and the sample variance is found to be 20. Conduct an F-test\n",
    "at the 10% significance level to determine if the variances are significantly different."
   ]
  },
  {
   "cell_type": "code",
   "execution_count": 8,
   "id": "28c935ac-f6c0-4c04-aa03-3e1c4a35e6b2",
   "metadata": {},
   "outputs": [
    {
     "name": "stdout",
     "output_type": "stream",
     "text": [
      "F-Stattistic =  1.25\n",
      "P_value =  0.3416097191292977\n",
      "We failed to reject the null hypothesis\n",
      "Variances are similar\n"
     ]
    }
   ],
   "source": [
    "from scipy.stats import f\n",
    "\n",
    "var1=25\n",
    "var2=20\n",
    "n1=10\n",
    "n2=15\n",
    "dfn=n1-1\n",
    "dfd=n2-1\n",
    "alpha=0.01\n",
    "\n",
    "F=var1/var2\n",
    "p_value= 1-f.cdf(F,dfn,dfd)\n",
    "\n",
    "print('F-Stattistic = ', F)\n",
    "print('P_value = ', p_value)\n",
    "\n",
    "null_hypo = \"Variances are similar\"\n",
    "alternate_hypo = \"Variances are significantly different\"\n",
    "\n",
    "F_crit = f.ppf(1-alpha,dfn, dfd)\n",
    "\n",
    "if p_value < alpha:\n",
    "    print('Reject the null Hypothesis')\n",
    "    print(alternate_hypo)\n",
    "else:\n",
    "    print('We failed to reject the null hypothesis')\n",
    "    print(null_hypo)"
   ]
  },
  {
   "cell_type": "markdown",
   "id": "6287bd6b-1aee-4b4b-bd68-be6f1825693a",
   "metadata": {},
   "source": [
    "Q8. The following data represent the waiting times in minutes at two different restaurants on a Saturday\n",
    "night: Restaurant A: 24, 25, 28, 23, 22, 20, 27; Restaurant B: 31, 33, 35, 30, 32, 36. Conduct an F-test at the 5%\n",
    "significance level to determine if the variances are significantly different."
   ]
  },
  {
   "cell_type": "code",
   "execution_count": 10,
   "id": "326d4d77-1f1c-43e2-9715-d0f7a7a218ac",
   "metadata": {},
   "outputs": [
    {
     "name": "stdout",
     "output_type": "stream",
     "text": [
      "Mean of restaurant_A: 24.142857142857142\n",
      "Mean of restaurant_B: 32.833333333333336\n",
      "F-test =  1.4551907719609583\n",
      "Critical_value =  4.950288068694318\n",
      "We failed to reject to the null hypothesis\n",
      "The variances are similar\n"
     ]
    }
   ],
   "source": [
    "import numpy as np\n",
    "import scipy.stats as stats\n",
    "from scipy.stats import f\n",
    "\n",
    "restaurant_A = [24, 25, 28, 23, 22, 20, 27]\n",
    "restaurant_B = [31, 33, 35, 30, 32, 36]\n",
    "print('Mean of restaurant_A:', np.mean(restaurant_A))\n",
    "print('Mean of restaurant_B:', np.mean(restaurant_B))\n",
    "#print(np.var(restaurant_A))\n",
    "#print(np.var(restaurant_B))\n",
    "\n",
    "f_test = np.var(restaurant_A, ddof=1)/np.var(restaurant_B, ddof=1)\n",
    "print('F-test = ', f_test)\n",
    "\n",
    "\n",
    "dfn=len(restaurant_A)-1\n",
    "dfd=len(restaurant_B)-1\n",
    "\n",
    "p_value = p_value= 1-f.cdf(f_test,dfn,dfd)\n",
    "alpha=0.05\n",
    "\n",
    "critical_value = f.ppf(1-alpha, dfn,dfd)\n",
    "print('Critical_value = ', critical_value)\n",
    "\n",
    "if p_value<alpha:\n",
    "    print('Reject the null hypothesis')\n",
    "    print('The variances are different')\n",
    "else:\n",
    "    print('We failed to reject to the null hypothesis')\n",
    "    print('The variances are similar')"
   ]
  },
  {
   "cell_type": "markdown",
   "id": "af7db832-3ed6-4717-b7b8-daa40fd9cc9b",
   "metadata": {},
   "source": [
    "Question 9 : The following data represent the test scores of two groups of students: Group A: 80, 85, 90, 92, 87, 83; Group B: 75, 78, 82, 79, 81, 84. Conduct an F-test at the 1% significance level to determine if the variances are significantly different."
   ]
  },
  {
   "cell_type": "code",
   "execution_count": 13,
   "id": "d105d934-422d-423d-86b3-6cc39d8f5b9b",
   "metadata": {},
   "outputs": [
    {
     "name": "stdout",
     "output_type": "stream",
     "text": [
      "Mean of group_A: 86.16666666666667\n",
      "Mean of group_B: 79.83333333333333\n",
      "F-test =  1.9442622950819677\n",
      "P_value =  0.2415521774535344\n",
      "Critical_value =  10.967020650907992\n",
      "We failed to reject to the null hypothesis\n",
      "The variances are similar\n"
     ]
    }
   ],
   "source": [
    "import numpy as np\n",
    "import scipy.stats as stats\n",
    "from scipy.stats import f\n",
    "\n",
    "group_A = [80, 85, 90, 92, 87, 83]\n",
    "group_B = [75, 78, 82, 79, 81, 84]\n",
    "print('Mean of group_A:', np.mean(group_A))\n",
    "print('Mean of group_B:', np.mean(group_B))\n",
    "\n",
    "f_test = np.var(group_A, ddof=1)/np.var(group_B, ddof=1)\n",
    "print('F-test = ', f_test)\n",
    "\n",
    "\n",
    "dfn=len(group_A)-1\n",
    "dfd=len(group_B)-1\n",
    "\n",
    "p_value = p_value= 1-f.cdf(f_test,dfn,dfd)\n",
    "print('P_value = ',p_value)\n",
    "alpha=0.01\n",
    "\n",
    "critical_value = f.ppf(1-alpha, dfn,dfd)\n",
    "print('Critical_value = ', critical_value)\n",
    "\n",
    "if p_value<alpha:\n",
    "    print('Reject the null hypothesis')\n",
    "    print('The variances are different')\n",
    "else:\n",
    "    print('We failed to reject to the null hypothesis')\n",
    "    print('The variances are similar')"
   ]
  },
  {
   "cell_type": "code",
   "execution_count": null,
   "id": "ab593ddb-eb21-4411-a905-49034759e7c9",
   "metadata": {},
   "outputs": [],
   "source": []
  }
 ],
 "metadata": {
  "kernelspec": {
   "display_name": "Python 3 (ipykernel)",
   "language": "python",
   "name": "python3"
  },
  "language_info": {
   "codemirror_mode": {
    "name": "ipython",
    "version": 3
   },
   "file_extension": ".py",
   "mimetype": "text/x-python",
   "name": "python",
   "nbconvert_exporter": "python",
   "pygments_lexer": "ipython3",
   "version": "3.10.8"
  }
 },
 "nbformat": 4,
 "nbformat_minor": 5
}
