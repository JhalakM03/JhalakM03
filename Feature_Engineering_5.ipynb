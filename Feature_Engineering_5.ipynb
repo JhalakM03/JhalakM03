{
 "cells": [
  {
   "cell_type": "markdown",
   "id": "d9631735-7871-4504-b6cc-221762930a98",
   "metadata": {},
   "source": [
    "Q1. What is the difference between Ordinal Encoding and Label Encoding? Provide an example of when you\n",
    "might choose one over the other.\n",
    "\n",
    "Ordinal encoding and label encoding are both methods used to convert categorical variables into numerical representations in machine learning. However, they differ in how they assign numerical values to categories and the assumptions they make about the categorical variable.\n",
    "\n",
    "Ordinal Encoding:\n",
    "\n",
    "- Assigns integers to categories based on their ordinal ranking or natural order.\n",
    "- Assumes that there is a meaningful order or hierarchy among the categories.\n",
    "- Useful when the categorical variable represents ordered or ranked data.\n",
    "\n",
    "Label Encoding:\n",
    "\n",
    "- Assigns a unique integer to each category without considering any ordinal relationship.\n",
    "- Simply converts categories into numerical labels, starting from 0 or 1.\n",
    "- May introduce unintended ordinality into the data.\n",
    "\n",
    "Example: Suppose we have a dataset containing a categorical variable representing education level, with categories \"High School\", \"Bachelor's Degree\", \"Master's Degree\", and \"PhD\".\n",
    "\n",
    "Ordinal Encoding:\n",
    "If we know that there is a clear hierarchy or order among these education levels, we might choose ordinal encoding. In this case, we would assign integer values based on the ordinal ranking of the education levels. For example:\n",
    "\n",
    "- \"High School\": 0\n",
    "- \"Bachelor's Degree\": 1\n",
    "- \"Master's Degree\": 2\n",
    "- \"PhD\": 3\n",
    "\n",
    "Label Encoding:\n",
    "If you don't have a meaningful order among the education levels and simply want to convert them into numerical labels, you might choose label encoding.\n",
    "- \"High School\": 0\n",
    "- \"Bachelor's Degree\": 1\n",
    "- \"Master's Degree\": 2\n",
    "- \"PhD\": 3\n",
    "\n",
    "In this scenario, if the education levels truly represent a hierarchical structure where one level is higher or more advanced than another, ordinal encoding would be more appropriate."
   ]
  },
  {
   "cell_type": "markdown",
   "id": "e98c7af3-6506-4b95-af4a-069a1785dbe2",
   "metadata": {},
   "source": [
    "Q2. Explain how Target Guided Ordinal Encoding works and provide an example of when you might use it in\n",
    "a machine learning project.\n",
    "\n",
    "\n",
    "Target-guided ordinal encoding is a technique used in machine learning for encoding categorical variables. It's particularly useful when dealing with ordinal categorical variables, where the categories have a clear order or ranking. The goal of this encoding technique is to transform categorical variables into numerical ones, taking into account the target variable's distribution within each category.\n",
    "\n",
    "- First, we need to have a clear understanding of the target variable in your dataset. This is the variable we're trying to predict.\n",
    "- For each categorical variable, we group the categories based on their corresponding target variable values. For example, if our target variable is binary (0 or 1), we'll calculate the mean or median of the target variable for each category.\n",
    "- After calculating the mean or median of the target variable for each category, we rank the categories based on these values. The category with the lowest mean/median target value gets assigned the lowest rank, and the category with the highest mean/median target value gets assigned the highest rank.\n",
    "- Finally, we replace the categories with their corresponding ranks. So, the category with the lowest mean/median target value gets encoded as 1, the next lowest as 2, and so on.\n"
   ]
  },
  {
   "cell_type": "code",
   "execution_count": 5,
   "id": "7def67fb-0373-427e-89ff-a567bfb29c1e",
   "metadata": {},
   "outputs": [],
   "source": [
    "import pandas as pd\n",
    "\n",
    "df = pd.DataFrame({'City': ['Newyork', 'London', 'Paris', 'Tokyo', 'Newyork', 'Paris'],\n",
    "                  'Price': [200, 150, 300, 250, 180, 320]})\n",
    "mean_price = df.groupby('City')['Price'].mean().to_dict()"
   ]
  },
  {
   "cell_type": "code",
   "execution_count": 12,
   "id": "44eee2c3-8e5e-411c-b431-f4b3fcb5d548",
   "metadata": {},
   "outputs": [
    {
     "data": {
      "text/html": [
       "<div>\n",
       "<style scoped>\n",
       "    .dataframe tbody tr th:only-of-type {\n",
       "        vertical-align: middle;\n",
       "    }\n",
       "\n",
       "    .dataframe tbody tr th {\n",
       "        vertical-align: top;\n",
       "    }\n",
       "\n",
       "    .dataframe thead th {\n",
       "        text-align: right;\n",
       "    }\n",
       "</style>\n",
       "<table border=\"1\" class=\"dataframe\">\n",
       "  <thead>\n",
       "    <tr style=\"text-align: right;\">\n",
       "      <th></th>\n",
       "      <th>Price</th>\n",
       "      <th>city_encoded</th>\n",
       "    </tr>\n",
       "  </thead>\n",
       "  <tbody>\n",
       "    <tr>\n",
       "      <th>0</th>\n",
       "      <td>200</td>\n",
       "      <td>190.0</td>\n",
       "    </tr>\n",
       "    <tr>\n",
       "      <th>1</th>\n",
       "      <td>150</td>\n",
       "      <td>150.0</td>\n",
       "    </tr>\n",
       "    <tr>\n",
       "      <th>2</th>\n",
       "      <td>300</td>\n",
       "      <td>310.0</td>\n",
       "    </tr>\n",
       "    <tr>\n",
       "      <th>3</th>\n",
       "      <td>250</td>\n",
       "      <td>250.0</td>\n",
       "    </tr>\n",
       "    <tr>\n",
       "      <th>4</th>\n",
       "      <td>180</td>\n",
       "      <td>190.0</td>\n",
       "    </tr>\n",
       "    <tr>\n",
       "      <th>5</th>\n",
       "      <td>320</td>\n",
       "      <td>310.0</td>\n",
       "    </tr>\n",
       "  </tbody>\n",
       "</table>\n",
       "</div>"
      ],
      "text/plain": [
       "   Price  city_encoded\n",
       "0    200         190.0\n",
       "1    150         150.0\n",
       "2    300         310.0\n",
       "3    250         250.0\n",
       "4    180         190.0\n",
       "5    320         310.0"
      ]
     },
     "execution_count": 12,
     "metadata": {},
     "output_type": "execute_result"
    }
   ],
   "source": [
    "df['city_encoded'] = df['City'].map(mean_price)\n",
    "df[['Price', 'city_encoded']]"
   ]
  },
  {
   "cell_type": "markdown",
   "id": "e4300a52-ecfe-4e71-bc57-f69cad6be3a4",
   "metadata": {},
   "source": [
    "Q3. Define covariance and explain why it is important in statistical analysis. How is covariance calculated?\n",
    "\n",
    "Covariance is a statistical measure that describes the extent to which two random variables change together. In other words, it quantifies the degree to which the variables tend to move in relation to each other. The formula for calculating the covariance between two random variables X and Y is:\n",
    "\n",
    "\\begin{array}{l} \\frac{\\sum (x_{i}-\\overline{x})(y_{i}-\\overline{y})}{N-1}\\end{array}\n",
    "\n",
    "- Covariance indicates the direction of the linear relationship between two variables. If Cov(X,Y) is positive, it means that as X increases, Y tends to increase as well. If it's negative, it means that as X increases, Y tends to decrease.\n",
    "- The magnitude of covariance signifies the strength of the relationship between the variables. Larger absolute values of covariance indicate a stronger relationship.\n",
    "-  In regression analysis, covariance is used to determine the extent to which independent variables (predictors) explain the variability in the dependent variable (outcome). It's a crucial component in estimating regression coefficients.\n",
    "- Covariance can be used as a diagnostic tool to identify patterns or associations in data. For example, in finance, covariance is used to analyze the relationships between different assets in a portfolio to manage risk effectively.\n",
    "- However, covariance has limitations, particularly in comparing relationships between variables with different scales. For this reason, correlation, which standardizes covariance, is often preferred as it provides a more interpretable measure of association between variables.\n"
   ]
  },
  {
   "cell_type": "markdown",
   "id": "4232c3cf-4c51-461b-b153-18d135b4e767",
   "metadata": {},
   "source": [
    "Q4. For a dataset with the following categorical variables: Color (red, green, blue), Size (small, medium,\n",
    "large), and Material (wood, metal, plastic), perform label encoding using Python's scikit-learn library.\n",
    "Show your code and explain the output."
   ]
  },
  {
   "cell_type": "code",
   "execution_count": 25,
   "id": "0f301226-645b-4f1b-8ce8-41c92dfc9229",
   "metadata": {},
   "outputs": [
    {
     "name": "stdout",
     "output_type": "stream",
     "text": [
      "Dataframe before encoding \n",
      "    Color    Size Material\n",
      "0    red   small     wood\n",
      "1  green  medium    metal\n",
      "2   blue   large  plastic\n",
      "Dataframe after encoding\n",
      "\n",
      "   Color  Size  Material\n",
      "0      2     2         2\n",
      "1      1     1         0\n",
      "2      0     0         1\n"
     ]
    }
   ],
   "source": [
    "import pandas as pd\n",
    "from sklearn.preprocessing import LabelEncoder\n",
    "\n",
    "df = pd.DataFrame({'Color': ['red', 'green', 'blue'],\n",
    "                  'Size': ['small', 'medium', 'large'],\n",
    "                  'Material': ['wood', 'metal', 'plastic']})\n",
    "\n",
    "print('Dataframe before encoding \\n',df)\n",
    "le = LabelEncoder()\n",
    "\n",
    "for col in df.columns:\n",
    "    df[col]=le.fit_transform(df[col])\n",
    "\n",
    "   \n",
    "print('Dataframe after encoding\\n')\n",
    "print(df)"
   ]
  },
  {
   "cell_type": "markdown",
   "id": "03f9f2c6-5d7c-41dc-b1ee-1fe376b1b65a",
   "metadata": {},
   "source": [
    "In the encoded dataset, each categorical variable has been replaced with numerical values. For example, 'red' is encoded as 2, 'green' as 1, and 'blue' as 0 for the 'Color' variable. Similarly, 'small' is encoded as 2, 'medium' as 0, and 'large' as 1 for the 'Size' variable, and 'wood' is encoded as 2, 'metal' as 1, and 'plastic' as 0 for the 'Material' variable.\n",
    "This encoding is done based on alphabetical order eg. blue = 0 , green = 1 , red = 2"
   ]
  },
  {
   "cell_type": "markdown",
   "id": "45337f02-e763-4d45-b92c-ffaba978f14d",
   "metadata": {},
   "source": [
    "Q5. Calculate the covariance matrix for the following variables in a dataset: Age, Income, and Education\n",
    "level. Interpret the results."
   ]
  },
  {
   "cell_type": "code",
   "execution_count": 2,
   "id": "71cdccfa-40c4-44d3-b6ef-37c57dcf0b98",
   "metadata": {},
   "outputs": [
    {
     "data": {
      "text/html": [
       "<div>\n",
       "<style scoped>\n",
       "    .dataframe tbody tr th:only-of-type {\n",
       "        vertical-align: middle;\n",
       "    }\n",
       "\n",
       "    .dataframe tbody tr th {\n",
       "        vertical-align: top;\n",
       "    }\n",
       "\n",
       "    .dataframe thead th {\n",
       "        text-align: right;\n",
       "    }\n",
       "</style>\n",
       "<table border=\"1\" class=\"dataframe\">\n",
       "  <thead>\n",
       "    <tr style=\"text-align: right;\">\n",
       "      <th></th>\n",
       "      <th>Age</th>\n",
       "      <th>Income</th>\n",
       "      <th>Education</th>\n",
       "    </tr>\n",
       "  </thead>\n",
       "  <tbody>\n",
       "    <tr>\n",
       "      <th>0</th>\n",
       "      <td>32</td>\n",
       "      <td>43002.453538</td>\n",
       "      <td>High School</td>\n",
       "    </tr>\n",
       "    <tr>\n",
       "      <th>1</th>\n",
       "      <td>51</td>\n",
       "      <td>68402.155780</td>\n",
       "      <td>PHD</td>\n",
       "    </tr>\n",
       "    <tr>\n",
       "      <th>2</th>\n",
       "      <td>53</td>\n",
       "      <td>67385.293715</td>\n",
       "      <td>Master</td>\n",
       "    </tr>\n",
       "    <tr>\n",
       "      <th>3</th>\n",
       "      <td>33</td>\n",
       "      <td>37201.545977</td>\n",
       "      <td>High School</td>\n",
       "    </tr>\n",
       "    <tr>\n",
       "      <th>4</th>\n",
       "      <td>41</td>\n",
       "      <td>53204.855158</td>\n",
       "      <td>Bachelor</td>\n",
       "    </tr>\n",
       "  </tbody>\n",
       "</table>\n",
       "</div>"
      ],
      "text/plain": [
       "   Age        Income    Education\n",
       "0   32  43002.453538  High School\n",
       "1   51  68402.155780          PHD\n",
       "2   53  67385.293715       Master\n",
       "3   33  37201.545977  High School\n",
       "4   41  53204.855158     Bachelor"
      ]
     },
     "execution_count": 2,
     "metadata": {},
     "output_type": "execute_result"
    }
   ],
   "source": [
    "import pandas as pd\n",
    "import numpy as np\n",
    "from sklearn.preprocessing import OrdinalEncoder\n",
    "\n",
    "np.random.seed(700)\n",
    "\n",
    "age = np.random.randint(low=25, high=60, size = 1000)\n",
    "income = 1200*age + np.random.normal(loc=0, scale=5000, size = 1000)\n",
    "edu = np.random.choice(['High School', 'Bachelor', 'Master', 'PHD'], size=1000)\n",
    "\n",
    "df = pd.DataFrame({'Age': age, 'Income': income, 'Education': edu})\n",
    "df.head()"
   ]
  },
  {
   "cell_type": "code",
   "execution_count": 8,
   "id": "2ee4b7cb-ebaf-4e20-99d1-06afafcff9d6",
   "metadata": {},
   "outputs": [
    {
     "data": {
      "text/html": [
       "<div>\n",
       "<style scoped>\n",
       "    .dataframe tbody tr th:only-of-type {\n",
       "        vertical-align: middle;\n",
       "    }\n",
       "\n",
       "    .dataframe tbody tr th {\n",
       "        vertical-align: top;\n",
       "    }\n",
       "\n",
       "    .dataframe thead th {\n",
       "        text-align: right;\n",
       "    }\n",
       "</style>\n",
       "<table border=\"1\" class=\"dataframe\">\n",
       "  <thead>\n",
       "    <tr style=\"text-align: right;\">\n",
       "      <th></th>\n",
       "      <th>Age</th>\n",
       "      <th>Income</th>\n",
       "      <th>Education</th>\n",
       "    </tr>\n",
       "  </thead>\n",
       "  <tbody>\n",
       "    <tr>\n",
       "      <th>0</th>\n",
       "      <td>32</td>\n",
       "      <td>43002.453538</td>\n",
       "      <td>1.0</td>\n",
       "    </tr>\n",
       "    <tr>\n",
       "      <th>1</th>\n",
       "      <td>51</td>\n",
       "      <td>68402.155780</td>\n",
       "      <td>3.0</td>\n",
       "    </tr>\n",
       "    <tr>\n",
       "      <th>2</th>\n",
       "      <td>53</td>\n",
       "      <td>67385.293715</td>\n",
       "      <td>2.0</td>\n",
       "    </tr>\n",
       "    <tr>\n",
       "      <th>3</th>\n",
       "      <td>33</td>\n",
       "      <td>37201.545977</td>\n",
       "      <td>1.0</td>\n",
       "    </tr>\n",
       "    <tr>\n",
       "      <th>4</th>\n",
       "      <td>41</td>\n",
       "      <td>53204.855158</td>\n",
       "      <td>0.0</td>\n",
       "    </tr>\n",
       "  </tbody>\n",
       "</table>\n",
       "</div>"
      ],
      "text/plain": [
       "   Age        Income  Education\n",
       "0   32  43002.453538        1.0\n",
       "1   51  68402.155780        3.0\n",
       "2   53  67385.293715        2.0\n",
       "3   33  37201.545977        1.0\n",
       "4   41  53204.855158        0.0"
      ]
     },
     "execution_count": 8,
     "metadata": {},
     "output_type": "execute_result"
    }
   ],
   "source": [
    "oe = OrdinalEncoder()\n",
    "edu_encoded = oe.fit_transform(df[['Education']])\n",
    "df['Education']=np.ravel(edu_encoded)\n",
    "df.head()"
   ]
  },
  {
   "cell_type": "code",
   "execution_count": 9,
   "id": "ecf70d33-4c32-4b29-9351-8eb25ed987a7",
   "metadata": {},
   "outputs": [
    {
     "data": {
      "text/html": [
       "<div>\n",
       "<style scoped>\n",
       "    .dataframe tbody tr th:only-of-type {\n",
       "        vertical-align: middle;\n",
       "    }\n",
       "\n",
       "    .dataframe tbody tr th {\n",
       "        vertical-align: top;\n",
       "    }\n",
       "\n",
       "    .dataframe thead th {\n",
       "        text-align: right;\n",
       "    }\n",
       "</style>\n",
       "<table border=\"1\" class=\"dataframe\">\n",
       "  <thead>\n",
       "    <tr style=\"text-align: right;\">\n",
       "      <th></th>\n",
       "      <th>Age</th>\n",
       "      <th>Income</th>\n",
       "      <th>Education</th>\n",
       "    </tr>\n",
       "  </thead>\n",
       "  <tbody>\n",
       "    <tr>\n",
       "      <th>Age</th>\n",
       "      <td>98.516016</td>\n",
       "      <td>1.176102e+05</td>\n",
       "      <td>0.227828</td>\n",
       "    </tr>\n",
       "    <tr>\n",
       "      <th>Income</th>\n",
       "      <td>117610.157567</td>\n",
       "      <td>1.653913e+08</td>\n",
       "      <td>88.709445</td>\n",
       "    </tr>\n",
       "    <tr>\n",
       "      <th>Education</th>\n",
       "      <td>0.227828</td>\n",
       "      <td>8.870945e+01</td>\n",
       "      <td>1.285141</td>\n",
       "    </tr>\n",
       "  </tbody>\n",
       "</table>\n",
       "</div>"
      ],
      "text/plain": [
       "                     Age        Income  Education\n",
       "Age            98.516016  1.176102e+05   0.227828\n",
       "Income     117610.157567  1.653913e+08  88.709445\n",
       "Education       0.227828  8.870945e+01   1.285141"
      ]
     },
     "execution_count": 9,
     "metadata": {},
     "output_type": "execute_result"
    }
   ],
   "source": [
    "df.cov()"
   ]
  },
  {
   "cell_type": "code",
   "execution_count": 10,
   "id": "1ccaa1b8-b539-4481-ae23-31ed79c4cdb2",
   "metadata": {},
   "outputs": [
    {
     "data": {
      "text/html": [
       "<div>\n",
       "<style scoped>\n",
       "    .dataframe tbody tr th:only-of-type {\n",
       "        vertical-align: middle;\n",
       "    }\n",
       "\n",
       "    .dataframe tbody tr th {\n",
       "        vertical-align: top;\n",
       "    }\n",
       "\n",
       "    .dataframe thead th {\n",
       "        text-align: right;\n",
       "    }\n",
       "</style>\n",
       "<table border=\"1\" class=\"dataframe\">\n",
       "  <thead>\n",
       "    <tr style=\"text-align: right;\">\n",
       "      <th></th>\n",
       "      <th>Age</th>\n",
       "      <th>Income</th>\n",
       "      <th>Education</th>\n",
       "    </tr>\n",
       "  </thead>\n",
       "  <tbody>\n",
       "    <tr>\n",
       "      <th>Age</th>\n",
       "      <td>1.000000</td>\n",
       "      <td>0.921372</td>\n",
       "      <td>0.020248</td>\n",
       "    </tr>\n",
       "    <tr>\n",
       "      <th>Income</th>\n",
       "      <td>0.921372</td>\n",
       "      <td>1.000000</td>\n",
       "      <td>0.006085</td>\n",
       "    </tr>\n",
       "    <tr>\n",
       "      <th>Education</th>\n",
       "      <td>0.020248</td>\n",
       "      <td>0.006085</td>\n",
       "      <td>1.000000</td>\n",
       "    </tr>\n",
       "  </tbody>\n",
       "</table>\n",
       "</div>"
      ],
      "text/plain": [
       "                Age    Income  Education\n",
       "Age        1.000000  0.921372   0.020248\n",
       "Income     0.921372  1.000000   0.006085\n",
       "Education  0.020248  0.006085   1.000000"
      ]
     },
     "execution_count": 10,
     "metadata": {},
     "output_type": "execute_result"
    }
   ],
   "source": [
    "df.corr()"
   ]
  },
  {
   "cell_type": "markdown",
   "id": "e3ef6a9b-bca2-40ef-90ec-7b52c135cc70",
   "metadata": {},
   "source": [
    "Q6. You are working on a machine learning project with a dataset containing several categorical\n",
    "variables, including \"Gender\" (Male/Female), \"Education Level\" (High School/Bachelor's/Master's/PhD),\n",
    "and \"Employment Status\" (Unemployed/Part-Time/Full-Time). Which encoding method would you use for\n",
    "each variable, and why?"
   ]
  },
  {
   "cell_type": "markdown",
   "id": "66bb0937-131a-46f8-a2a5-644d46267261",
   "metadata": {},
   "source": [
    "For the categorical variables \"Gender\", \"Education Level\", and \"Employment Status\" in a machine learning project, there are different encoding methods that could be used depending on the specific algorithm and data preprocessing requirements. Here are some encoding methods that could be used for each variable:\n",
    "\n",
    "- Gender: One-Hot Encoding is a good choice for the \"Gender\" variable because there are only two possible values (Male and Female). One-Hot Encoding creates a binary column for each possible value, where a 1 indicates the presence of that value and 0 indicates its absence. This method is particularly useful when the categorical variable has no order or hierarchy between its possible values.\n",
    "\n",
    "- Education Level: Ordinal Encoding or Label Encoding could be used for the \"Education Level\" variable since there is a natural order between the possible values (High School < Bachelor's < Master's < PhD). Ordinal Encoding assigns a numerical value to each category in a way that preserves the order between them, whereas Label Encoding assigns a numerical value arbitrarily. If the order between categories is important for the machine learning algorithm, then Ordinal Encoding would be a better choice.\n",
    "\n",
    "- Employment Status: One-Hot Encoding could be used for the \"Employment Status\" variable since there are three possible values (Unemployed, Part-Time, Full-Time) and no natural order or hierarchy between them. One-Hot Encoding creates a binary column for each possible value, where a 1 indicates the presence of that value and 0 indicates its absence. This method is particularly useful when the categorical variable has no order or hierarchy between its possible values."
   ]
  },
  {
   "cell_type": "markdown",
   "id": "a935f35c-df1e-48c0-85ab-1b64555b16ac",
   "metadata": {},
   "source": [
    "Q7. You are analyzing a dataset with two continuous variables, \"Temperature\" and \"Humidity\", and two\n",
    "categorical variables, \"Weather Condition\" (Sunny/Cloudy/Rainy) and \"Wind Direction\" (North/South/\n",
    "East/West). Calculate the covariance between each pair of variables and interpret the results."
   ]
  },
  {
   "cell_type": "code",
   "execution_count": 14,
   "id": "0d60a5ed-62ec-49d2-947d-79f221a5444f",
   "metadata": {},
   "outputs": [
    {
     "data": {
      "text/html": [
       "<div>\n",
       "<style scoped>\n",
       "    .dataframe tbody tr th:only-of-type {\n",
       "        vertical-align: middle;\n",
       "    }\n",
       "\n",
       "    .dataframe tbody tr th {\n",
       "        vertical-align: top;\n",
       "    }\n",
       "\n",
       "    .dataframe thead th {\n",
       "        text-align: right;\n",
       "    }\n",
       "</style>\n",
       "<table border=\"1\" class=\"dataframe\">\n",
       "  <thead>\n",
       "    <tr style=\"text-align: right;\">\n",
       "      <th></th>\n",
       "      <th>Temperature</th>\n",
       "      <th>Humidity</th>\n",
       "      <th>Weather Condition</th>\n",
       "      <th>Wind Direction</th>\n",
       "    </tr>\n",
       "  </thead>\n",
       "  <tbody>\n",
       "    <tr>\n",
       "      <th>0</th>\n",
       "      <td>17.574148</td>\n",
       "      <td>42.045473</td>\n",
       "      <td>Sunny</td>\n",
       "      <td>East</td>\n",
       "    </tr>\n",
       "    <tr>\n",
       "      <th>1</th>\n",
       "      <td>23.698976</td>\n",
       "      <td>50.470654</td>\n",
       "      <td>Rainy</td>\n",
       "      <td>West</td>\n",
       "    </tr>\n",
       "    <tr>\n",
       "      <th>2</th>\n",
       "      <td>17.877173</td>\n",
       "      <td>62.592838</td>\n",
       "      <td>Rainy</td>\n",
       "      <td>East</td>\n",
       "    </tr>\n",
       "    <tr>\n",
       "      <th>3</th>\n",
       "      <td>20.543005</td>\n",
       "      <td>59.497223</td>\n",
       "      <td>Cloudy</td>\n",
       "      <td>North</td>\n",
       "    </tr>\n",
       "    <tr>\n",
       "      <th>4</th>\n",
       "      <td>28.805817</td>\n",
       "      <td>60.901102</td>\n",
       "      <td>Cloudy</td>\n",
       "      <td>South</td>\n",
       "    </tr>\n",
       "  </tbody>\n",
       "</table>\n",
       "</div>"
      ],
      "text/plain": [
       "   Temperature   Humidity Weather Condition Wind Direction\n",
       "0    17.574148  42.045473             Sunny           East\n",
       "1    23.698976  50.470654             Rainy           West\n",
       "2    17.877173  62.592838             Rainy           East\n",
       "3    20.543005  59.497223            Cloudy          North\n",
       "4    28.805817  60.901102            Cloudy          South"
      ]
     },
     "execution_count": 14,
     "metadata": {},
     "output_type": "execute_result"
    }
   ],
   "source": [
    "import numpy as np\n",
    "import pandas as pd\n",
    "\n",
    "\n",
    "np.random.seed(300)\n",
    "\n",
    "temp = np.random.normal(25, 5, 1000)\n",
    "humidity = np.random.normal(60, 10, 1000)\n",
    "weather_condition = np.random.choice(['Sunny', 'Cloudy', 'Rainy'], size=1000)\n",
    "wind_direction = np.random.choice(['North', 'South', 'East', 'West'], size=1000)\n",
    "\n",
    "df = pd.DataFrame({\n",
    "    'Temperature': temp, \n",
    "    'Humidity': humidity, \n",
    "    'Weather Condition': weather_condition, \n",
    "    'Wind Direction': wind_direction\n",
    "})\n",
    "\n",
    "df.head()\n"
   ]
  },
  {
   "cell_type": "code",
   "execution_count": 15,
   "id": "941fe03f-0514-4fd6-990b-1340f44b679e",
   "metadata": {},
   "outputs": [
    {
     "name": "stderr",
     "output_type": "stream",
     "text": [
      "/tmp/ipykernel_77/1545644723.py:1: FutureWarning: The default value of numeric_only in DataFrame.cov is deprecated. In a future version, it will default to False. Select only valid columns or specify the value of numeric_only to silence this warning.\n",
      "  df.cov()\n"
     ]
    },
    {
     "data": {
      "text/html": [
       "<div>\n",
       "<style scoped>\n",
       "    .dataframe tbody tr th:only-of-type {\n",
       "        vertical-align: middle;\n",
       "    }\n",
       "\n",
       "    .dataframe tbody tr th {\n",
       "        vertical-align: top;\n",
       "    }\n",
       "\n",
       "    .dataframe thead th {\n",
       "        text-align: right;\n",
       "    }\n",
       "</style>\n",
       "<table border=\"1\" class=\"dataframe\">\n",
       "  <thead>\n",
       "    <tr style=\"text-align: right;\">\n",
       "      <th></th>\n",
       "      <th>Temperature</th>\n",
       "      <th>Humidity</th>\n",
       "    </tr>\n",
       "  </thead>\n",
       "  <tbody>\n",
       "    <tr>\n",
       "      <th>Temperature</th>\n",
       "      <td>24.604242</td>\n",
       "      <td>0.643480</td>\n",
       "    </tr>\n",
       "    <tr>\n",
       "      <th>Humidity</th>\n",
       "      <td>0.643480</td>\n",
       "      <td>94.794605</td>\n",
       "    </tr>\n",
       "  </tbody>\n",
       "</table>\n",
       "</div>"
      ],
      "text/plain": [
       "             Temperature   Humidity\n",
       "Temperature    24.604242   0.643480\n",
       "Humidity        0.643480  94.794605"
      ]
     },
     "execution_count": 15,
     "metadata": {},
     "output_type": "execute_result"
    }
   ],
   "source": [
    "df.cov()"
   ]
  },
  {
   "cell_type": "markdown",
   "id": "11affca3-33da-4ef4-adee-f584bc0ff8f6",
   "metadata": {},
   "source": [
    "The covariance between \"Temperature\" and \"Humidity\" is 0.643480 , indicating a positive relationship between the two variables. This means that as temperature increases, humidity tends to increase as well. The variances of each variable are shown on the diagonal, with Humidity having a larger variance than Temperature.\n",
    "\n",
    "It is important to note that we cannot calculate the covariance between continuous and categorical variables since covariance requires numerical data. Therefore, we cannot interpret the covariance between \"Temperature\" and \"Weather Condition\" or between \"Humidity\" and \"Wind Direction\". In general, we need to be careful when interpreting covariance and consider the nature of the variables being analyzed."
   ]
  },
  {
   "cell_type": "code",
   "execution_count": null,
   "id": "ccf09769-0c19-4e0e-bc0f-e5de7b846a1d",
   "metadata": {},
   "outputs": [],
   "source": []
  }
 ],
 "metadata": {
  "kernelspec": {
   "display_name": "Python 3 (ipykernel)",
   "language": "python",
   "name": "python3"
  },
  "language_info": {
   "codemirror_mode": {
    "name": "ipython",
    "version": 3
   },
   "file_extension": ".py",
   "mimetype": "text/x-python",
   "name": "python",
   "nbconvert_exporter": "python",
   "pygments_lexer": "ipython3",
   "version": "3.10.8"
  }
 },
 "nbformat": 4,
 "nbformat_minor": 5
}
