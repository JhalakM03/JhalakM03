{
 "cells": [
  {
   "cell_type": "markdown",
   "id": "76dd6483-1e18-46de-90bf-dc8163a22da0",
   "metadata": {},
   "source": [
    "Q1. What are the three measures of central tendency?\n",
    "\n",
    "Mean, Median and Mode are thre measures of central tendency."
   ]
  },
  {
   "cell_type": "markdown",
   "id": "28073489-cc33-42e5-90b3-4896b4c5620e",
   "metadata": {},
   "source": [
    "Q2. What is the difference between the mean, median, and mode? How are they used to measure the\n",
    "central tendency of a dataset?\n",
    "\n",
    "The difference between mean, median and mode are: Mean is the average value of the given observations. Median is the middle value of the given observations. Mode is the most repeated value in the given observation.\n",
    "\n",
    "The mean, also known as the arithmetic average, is calculated by summing all the values in the dataset and dividing by the total number of values. It is sensitive to extreme values (outliers) in the dataset because it considers every value in the calculation. The mean is most appropriate for symmetrically distributed data without significant outliers.\n",
    "\n",
    "The mode is the value that occurs most frequently in the dataset. It is not affected by extreme values or outliers because it only considers the frequency of values. Unlike the mean and median, the mode can be used for any type of distribution.\n",
    "\n",
    "The median is the middle value of a dataset when the values are arranged in ascending or descending order. If the dataset has an odd number of values, the median is the middle value. If the dataset has an even number of values, the median is the average of the two middle values. The median is less affected by extreme values or outliers compared to the mean because it is based on the position of values rather than their magnitude. The median is particularly useful for skewed distributions or datasets with outliers."
   ]
  },
  {
   "cell_type": "markdown",
   "id": "c9bac4d4-93e9-439b-a93b-87bf1bd69ac1",
   "metadata": {},
   "source": [
    "Q3. Measure the three measures of central tendency for the given height data:\n",
    "[178,177,176,177,178.2,178,175,179,180,175,178.9,176.2,177,172.5,178,176.5]"
   ]
  },
  {
   "cell_type": "code",
   "execution_count": 1,
   "id": "58548807-06f1-418b-9bc5-49a6c3dadcda",
   "metadata": {},
   "outputs": [],
   "source": [
    "import numpy as np"
   ]
  },
  {
   "cell_type": "code",
   "execution_count": 2,
   "id": "0e4728a9-b084-4a77-9b92-0c5e2f26f50b",
   "metadata": {},
   "outputs": [],
   "source": [
    "height = [178,177,176,177,178.2,178,175,179,180,175,178.9,176.2,177,172.5,178,176.5]"
   ]
  },
  {
   "cell_type": "code",
   "execution_count": 4,
   "id": "58852cc7-9c4c-47ab-b129-67c9027e44d7",
   "metadata": {},
   "outputs": [
    {
     "data": {
      "text/plain": [
       "177.01875"
      ]
     },
     "execution_count": 4,
     "metadata": {},
     "output_type": "execute_result"
    }
   ],
   "source": [
    "np.mean(height)"
   ]
  },
  {
   "cell_type": "code",
   "execution_count": 6,
   "id": "5e2bda02-9e0a-42b8-836e-f68649877726",
   "metadata": {},
   "outputs": [
    {
     "data": {
      "text/plain": [
       "177.0"
      ]
     },
     "execution_count": 6,
     "metadata": {},
     "output_type": "execute_result"
    }
   ],
   "source": [
    "np.median(height)"
   ]
  },
  {
   "cell_type": "code",
   "execution_count": 7,
   "id": "e7d75e79-198d-410a-8c59-8ace0de6e39f",
   "metadata": {},
   "outputs": [
    {
     "name": "stderr",
     "output_type": "stream",
     "text": [
      "/tmp/ipykernel_84/3846226869.py:2: FutureWarning: Unlike other reduction functions (e.g. `skew`, `kurtosis`), the default behavior of `mode` typically preserves the axis it acts along. In SciPy 1.11.0, this behavior will change: the default value of `keepdims` will become False, the `axis` over which the statistic is taken will be eliminated, and the value None will no longer be accepted. Set `keepdims` to True or False to avoid this warning.\n",
      "  stats.mode(height)\n"
     ]
    },
    {
     "data": {
      "text/plain": [
       "ModeResult(mode=array([177.]), count=array([3]))"
      ]
     },
     "execution_count": 7,
     "metadata": {},
     "output_type": "execute_result"
    }
   ],
   "source": [
    "from scipy import stats\n",
    "stats.mode(height)"
   ]
  },
  {
   "cell_type": "markdown",
   "id": "ca4902df-818a-4adf-b802-45f9280d4587",
   "metadata": {},
   "source": [
    "Q4. Find the standard deviation for the given data:\n",
    "[178,177,176,177,178.2,178,175,179,180,175,178.9,176.2,177,172.5,178,176.5]"
   ]
  },
  {
   "cell_type": "code",
   "execution_count": 8,
   "id": "a8812fdc-9e4b-4561-9396-fe54eb0b358c",
   "metadata": {},
   "outputs": [],
   "source": [
    "a = [178,177,176,177,178.2,178,175,179,180,175,178.9,176.2,177,172.5,178,176.5]"
   ]
  },
  {
   "cell_type": "code",
   "execution_count": 9,
   "id": "46e8ecb5-25f8-4366-9623-c77a6a272216",
   "metadata": {},
   "outputs": [
    {
     "data": {
      "text/plain": [
       "1.7885814036548633"
      ]
     },
     "execution_count": 9,
     "metadata": {},
     "output_type": "execute_result"
    }
   ],
   "source": [
    "np.std(a)"
   ]
  },
  {
   "cell_type": "markdown",
   "id": "82a3c0a6-d48c-4395-95da-cb64acf4995c",
   "metadata": {},
   "source": [
    "Q5. How are measures of dispersion such as range, variance, and standard deviation used to describe\n",
    "the spread of a dataset? Provide an example.\n",
    "\n",
    "Variance measures the average squared deviation of each data point from the mean of the dataset. It gives a sense of how much the values in the dataset differ from the mean. Higher variance indicates greater variability or spread in the data, while lower variance indicates less variability.\n",
    "\n",
    "Variance measures the average squared deviation of each data point from the mean of the dataset. It gives a sense of how much the values in the dataset differ from the mean. Higher variance indicates greater variability or spread in the data, while lower variance indicates less variability.\n",
    "\n",
    "Standard deviation is a measure of the average deviation of each data point from the mean of the dataset. Standard deviation is used because it is more interpretable than variance and is less sensitive to extreme values compared to range. Higher standard deviation indicates greater variability or spread in the data, while lower standard deviation indicates less variability."
   ]
  },
  {
   "cell_type": "markdown",
   "id": "2bcfb271-27b6-49f7-afc9-225082c4e600",
   "metadata": {},
   "source": [
    "Q6. What is a Venn diagram?\n",
    "\n",
    "A Venn diagram is a visual representation of the relationships between two or more sets of items. It uses overlapping circles or other shapes to show the similarities and differences between the items. Venn diagrams are often used to compare and contrast the characteristics of different data sets. "
   ]
  },
  {
   "cell_type": "markdown",
   "id": "4264db52-812e-4f0e-8c2f-4941532a6d65",
   "metadata": {},
   "source": [
    "Q7. For the two given sets A = (2,3,4,5,6,7) & B = (0,2,6,8,10). Find:\n",
    "\n",
    "\n",
    "(i) A B = {2,6}\n",
    "\n",
    "\n",
    "(ii) A ⋃ B = {0,2,3,4,5,6,7,8,10}"
   ]
  },
  {
   "cell_type": "markdown",
   "id": "766f1921-6c57-470a-8cae-a739fc36ec02",
   "metadata": {},
   "source": [
    "Q8. What do you understand about skewness in data?\n",
    "\n",
    "Skewness is a measure of the asymmetry of a distribution. A distribution is asymmetrical when its left and right side are not mirror images. The easiest way to check if a variable has a skewed distribution is to plot it in a histogram. In a distribution with zero skew, the mean and median are equal. A distribution can have right (or positive), left (or negative), or zero skewness. A right-skewed distribution is longer on the right side of its peak, and a left-skewed distribution is longer on the left side of its peak."
   ]
  },
  {
   "cell_type": "markdown",
   "id": "6b11020a-499c-4d89-a804-5449e8866c9d",
   "metadata": {},
   "source": [
    "Q9. If a data is right skewed then what will be the position of median with respect to mean?\n",
    "\n",
    "The mean of a right-skewed distribution is almost always greater than its median. The few high-value outliers on the right side of the distribution can significantly increase the mean, pulling it further to the right. Meanwhile, the median is less influenced by outliers and is more representative of the central value of the dataset. Therefore, in a right-skewed distribution, the position of the median is typically to the left of the mean."
   ]
  },
  {
   "cell_type": "markdown",
   "id": "888f6494-0bf6-46fc-a3db-5c1102c9ba1d",
   "metadata": {},
   "source": [
    "Q10. Explain the difference between covariance and correlation. How are these measures used in\n",
    "statistical analysis?\n",
    "\n"
   ]
  },
  {
   "cell_type": "markdown",
   "id": "c29ad66b-31a6-47f1-863a-3661c32188d2",
   "metadata": {},
   "source": [
    "Covariance: Covariance measures the extent to which two variables change together. It indicates the direction of the linear relationship between two variables (positive or negative) but does not provide information about the strength of the relationship. Covariance values can be positive, negative, or zero. A positive covariance indicates that as one variable increases, the other variable tends to increase as well, while a negative covariance indicates that as one variable increases, the other tends to decrease. However, the magnitude of covariance does not provide information about the strength of the relationship.\n",
    "\n",
    "Correlation: Correlation also measures the direction and strength of the linear relationship between two variables. Unlike covariance, correlation is standardized, meaning it is scaled to always fall between -1 and 1, which makes it easier to interpret and compare across different datasets. Correlation values range from -1 to 1, with values closer to -1 or 1 indicating a stronger linear relationship. A correlation of 1 indicates a perfect positive linear relationship, -1 indicates a perfect negative linear relationship, and 0 indicates no linear relationship. The magnitude of correlation provides information about the strength and direction of the relationship."
   ]
  },
  {
   "cell_type": "markdown",
   "id": "ef7d4f24-2476-4dbe-858d-e6d266f11576",
   "metadata": {},
   "source": [
    "Q11. What is the formula for calculating the sample mean? Provide an example calculation for a\n",
    "dataset.\n",
    "\n",
    "The general sample mean formula for calculating the sample mean is expressed as x̄ = ( Σ xi ) ÷ n. Here, x̄ denotes the average value of the samples or sample mean, xi refers all X sample values and 'n' stands for the number of sample terms in the given data.\n",
    "\n",
    "The total marks obtained by few students in mathematics exam are 101, 161, 155, 96 and 83.\n",
    "\n",
    "Mean,\n",
    "\n",
    "x̄ = (101+161+155+96+83)/5 = 119.2\n"
   ]
  },
  {
   "cell_type": "markdown",
   "id": "0dca5dd8-ce6e-4251-bdd8-723447a89ff1",
   "metadata": {},
   "source": [
    "Q12. For a normal distribution data what is the relationship between its measure of central tendency?\n",
    "\n",
    "In a normal distribution (also known as a Gaussian distribution), the mean, median, and mode are all equal. A normal distribution is symmetric around its mean. This means that the data is evenly distributed on both sides of the mean, resulting in a balanced distribution. A normal distribution has a single peak or mode. While the tails of the distribution extend infinitely in both directions, there is only one peak at the mean."
   ]
  },
  {
   "cell_type": "markdown",
   "id": "17132241-bfb2-42fb-8da9-b42524aee4dc",
   "metadata": {},
   "source": [
    "Q13. How is covariance different from correlation?\n",
    "\n",
    "Covariance: Covariance measures the extent to which two variables change together. It indicates the direction of the linear relationship between two variables (positive or negative) but does not provide information about the strength of the relationship. Covariance values can be positive, negative, or zero. A positive covariance indicates that as one variable increases, the other variable tends to increase as well, while a negative covariance indicates that as one variable increases, the other tends to decrease. However, the magnitude of covariance does not provide information about the strength of the relationship.\n",
    "\n",
    "Correlation: Correlation also measures the direction and strength of the linear relationship between two variables. Unlike covariance, correlation is standardized, meaning it is scaled to always fall between -1 and 1, which makes it easier to interpret and compare across different datasets. Correlation values range from -1 to 1, with values closer to -1 or 1 indicating a stronger linear relationship. A correlation of 1 indicates a perfect positive linear relationship, -1 indicates a perfect negative linear relationship, and 0 indicates no linear relationship. The magnitude of correlation provides information about the strength and direction of the relationship."
   ]
  },
  {
   "cell_type": "markdown",
   "id": "0cdf810c-bdaf-421e-99b0-acdad4b35b78",
   "metadata": {},
   "source": [
    "Q14. How do outliers affect measures of central tendency and dispersion? Provide an example.\n",
    "\n",
    "Mean: Outliers can pull the mean towards their extreme values. If there are outliers with large values, the mean can be inflated, while outliers with small values can lower the mean.\n",
    "\n",
    "Median: The median is less affected by outliers compared to the mean. It represents the middle value, so outliers have less impact unless they are close to the median and significantly change the order of values.\n",
    "\n",
    "Mode: The mode is the most frequent value. Outliers do not directly affect the mode unless they appear frequently and change the overall distribution of values.\n",
    "Range: The range is the difference between the maximum and minimum values. Outliers can significantly increase the range if they are far from the other values.\n",
    "Standard Deviation/Variance: StOutliers can increase the standard deviation and variance, as they introduce more variability to the dataset. The squared differences between outliers and the mean can significantly contribute to the variance."
   ]
  },
  {
   "cell_type": "code",
   "execution_count": null,
   "id": "367ddbc9-6edb-4e63-b5bc-5134562eedb2",
   "metadata": {},
   "outputs": [],
   "source": []
  }
 ],
 "metadata": {
  "kernelspec": {
   "display_name": "Python 3 (ipykernel)",
   "language": "python",
   "name": "python3"
  },
  "language_info": {
   "codemirror_mode": {
    "name": "ipython",
    "version": 3
   },
   "file_extension": ".py",
   "mimetype": "text/x-python",
   "name": "python",
   "nbconvert_exporter": "python",
   "pygments_lexer": "ipython3",
   "version": "3.10.8"
  }
 },
 "nbformat": 4,
 "nbformat_minor": 5
}
