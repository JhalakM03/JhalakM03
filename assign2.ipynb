{
 "cells": [
  {
   "cell_type": "code",
   "execution_count": null,
   "id": "f17b1ac7-7aeb-4bd8-b676-49cb478553bd",
   "metadata": {},
   "outputs": [],
   "source": []
  },
  {
   "cell_type": "code",
   "execution_count": null,
   "id": "ea45ced6-8c2d-40cd-99b8-d1a66eee5998",
   "metadata": {
    "collapsed": true,
    "jupyter": {
     "outputs_hidden": true
    },
    "tags": []
   },
   "outputs": [
    {
     "data": {
      "text/plain": [
       "'\\nThis is the example \\nof Multi line comment\\nin Python\\n'"
      ]
     },
     "execution_count": 1,
     "metadata": {},
     "output_type": "execute_result"
    }
   ],
   "source": [
    "## Two types of comment in python: Single line and multi line\n",
    "## Current line is the example of single line comment\n",
    "\"\"\"\n",
    "This is the example \n",
    "of Multi line comment\n",
    "in Python\n",
    "\"\"\""
   ]
  },
  {
   "cell_type": "code",
   "execution_count": null,
   "id": "f22ece9b-46ee-44a5-9b84-a95b80e166f3",
   "metadata": {},
   "outputs": [],
   "source": [
    "## Variables are used in python to store the value or assign a value to it\n",
    "## Variables are not declared in python like in other languages.\n",
    "## Values are direclty assinged to it while declaring it. They can be typecasted later according to the need."
   ]
  },
  {
   "cell_type": "code",
   "execution_count": 2,
   "id": "d2411cba-e116-4a62-9a0d-f11035a54fa6",
   "metadata": {},
   "outputs": [
    {
     "data": {
      "text/plain": [
       "56"
      ]
     },
     "execution_count": 2,
     "metadata": {},
     "output_type": "execute_result"
    }
   ],
   "source": [
    "## One data type can be converted to other types using TYPECASTING.\n",
    "int('56')\n"
   ]
  },
  {
   "cell_type": "code",
   "execution_count": 3,
   "id": "d5e3c07e-d7fe-44f8-91ba-dd663ed20fe0",
   "metadata": {},
   "outputs": [
    {
     "data": {
      "text/plain": [
       "'89'"
      ]
     },
     "execution_count": 3,
     "metadata": {},
     "output_type": "execute_result"
    }
   ],
   "source": [
    "str(89)"
   ]
  },
  {
   "cell_type": "code",
   "execution_count": 4,
   "id": "2e77c86f-e31f-4e2a-bd16-9606048a84e5",
   "metadata": {},
   "outputs": [
    {
     "data": {
      "text/plain": [
       "False"
      ]
     },
     "execution_count": 4,
     "metadata": {},
     "output_type": "execute_result"
    }
   ],
   "source": [
    "bool(0)"
   ]
  },
  {
   "cell_type": "code",
   "execution_count": 5,
   "id": "a18c3a4f-18b4-4e20-bca4-d260f425edc7",
   "metadata": {},
   "outputs": [],
   "source": [
    "## we write the python code in command line and excute it pressing the shift+enter key"
   ]
  },
  {
   "cell_type": "code",
   "execution_count": 11,
   "id": "fc6e5619-cd13-4cc9-b8a7-95e74602022d",
   "metadata": {},
   "outputs": [
    {
     "data": {
      "text/plain": [
       "[2, 3]"
      ]
     },
     "execution_count": 11,
     "metadata": {},
     "output_type": "execute_result"
    }
   ],
   "source": [
    "my_list = [1, 2, 3, 4]\n",
    "my_list [1:3]"
   ]
  },
  {
   "cell_type": "code",
   "execution_count": 4,
   "id": "9f2c2ad3-5195-4d6e-8624-6306375322a5",
   "metadata": {},
   "outputs": [
    {
     "name": "stdout",
     "output_type": "stream",
     "text": [
      "(6+5j)\n"
     ]
    },
    {
     "data": {
      "text/plain": [
       "complex"
      ]
     },
     "execution_count": 4,
     "metadata": {},
     "output_type": "execute_result"
    }
   ],
   "source": [
    "j = 6+5j\n",
    "print (j)\n",
    "type(j)"
   ]
  },
  {
   "cell_type": "code",
   "execution_count": 5,
   "id": "d7195545-7e2d-4b06-b27b-b0dd8d5a68bb",
   "metadata": {},
   "outputs": [
    {
     "name": "stdout",
     "output_type": "stream",
     "text": [
      "25\n"
     ]
    }
   ],
   "source": [
    "age = 25\n",
    "print(age)"
   ]
  },
  {
   "cell_type": "code",
   "execution_count": 6,
   "id": "a72c9524-451c-4dd5-8d50-8e07860b9775",
   "metadata": {},
   "outputs": [
    {
     "data": {
      "text/plain": [
       "float"
      ]
     },
     "execution_count": 6,
     "metadata": {},
     "output_type": "execute_result"
    }
   ],
   "source": [
    "price = 9.99\n",
    "type(price)"
   ]
  },
  {
   "cell_type": "code",
   "execution_count": 7,
   "id": "c238f727-6bdb-4c63-a476-bb59166de200",
   "metadata": {},
   "outputs": [
    {
     "name": "stdout",
     "output_type": "stream",
     "text": [
      "Jhalak Master\n"
     ]
    }
   ],
   "source": [
    "my_name = \"Jhalak Master\"\n",
    "print(my_name)"
   ]
  },
  {
   "cell_type": "code",
   "execution_count": 9,
   "id": "bec4c510-7f77-4b3c-a930-9e497c68f6b7",
   "metadata": {},
   "outputs": [
    {
     "data": {
      "text/plain": [
       "' world'"
      ]
     },
     "execution_count": 9,
     "metadata": {},
     "output_type": "execute_result"
    }
   ],
   "source": [
    "str = \" Hello, world!\"\n",
    "str[7:13]"
   ]
  },
  {
   "cell_type": "code",
   "execution_count": 14,
   "id": "344a13a7-c8d5-45b0-baf8-692df01e3973",
   "metadata": {},
   "outputs": [
    {
     "name": "stdout",
     "output_type": "stream",
     "text": [
      " Currently, I am a student\n"
     ]
    }
   ],
   "source": [
    "is_student = True\n",
    "if is_student==True:\n",
    "    print(\" Currently, I am a student\")"
   ]
  },
  {
   "cell_type": "code",
   "execution_count": null,
   "id": "c4eacee4-4617-49ce-8b72-e112d02a6c40",
   "metadata": {},
   "outputs": [],
   "source": []
  }
 ],
 "metadata": {
  "kernelspec": {
   "display_name": "Python 3 (ipykernel)",
   "language": "python",
   "name": "python3"
  },
  "language_info": {
   "codemirror_mode": {
    "name": "ipython",
    "version": 3
   },
   "file_extension": ".py",
   "mimetype": "text/x-python",
   "name": "python",
   "nbconvert_exporter": "python",
   "pygments_lexer": "ipython3",
   "version": "3.10.8"
  }
 },
 "nbformat": 4,
 "nbformat_minor": 5
}
