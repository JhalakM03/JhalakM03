{
 "cells": [
  {
   "cell_type": "markdown",
   "id": "a1859aa3-d0e2-4948-8e3a-69463dde8558",
   "metadata": {},
   "source": [
    "Q1: What are the Probability Mass Function (PMF) and Probability Density Function (PDF)? Explain with\n",
    "an example.\n",
    "\n",
    "Probability Mass Function (PMF):The Probability Mass Function (PMF) is also called a probability function or frequency function which characterizes the distribution of a discrete random variable. Let X be a discrete random variable of a function, then the probability mass function of a random variable X is given by\n",
    "\n",
    "Px (x) = P( X=x ), For all x belongs to the range of X\n",
    "\n",
    "It is noted that the probability function should fall on the condition :\n",
    "\n",
    "Px (x) ≥ 0 and\n",
    "∑xϵRange(x) Px (x) = 1\n",
    "\n",
    "Consider the roll of a fair six-sided die. The possible values that the die can take are 1, 2, 3, 4, 5, and 6, each with a probability of 1/6. The PMF of the random variable X, which represents the number on the top face of the die, is:\n",
    "\n",
    "P(X=1)=1/6\n",
    "P(X=2)=1/6\n",
    "P(X=3)=1/6\n",
    "P(X=4)=1/6\n",
    "P(X=5)=1/6\n",
    "P(X=5)=1/6\n",
    "\n",
    "Probability Density Function (PDF): The Probability Density Function(PDF) defines the probability function representing the density of a continuous random variable lying between a specific range of values. In other words, the probability density function produces the likelihood of values of the continuous random variable. The PDF is always non-negative: f(x)≥0 for all x. The total area under the PDF curve is equal to 1. The total area between the density curve and the x-axis should be equal to 1. Probability Density Function: F(x) = P (X ≤ x)\n",
    "\n",
    "f(x) = d/dx (F(x))\n",
    "\n",
    "Example of probability density function is the standard normal distribution, also known as the bell curve or Gaussian distribution. The probability density function of the standard normal distribution is given by:\n",
    " PDF(x) = 1/\\sqrt{2 * \\pi} * exp(-(x^2)/2)"
   ]
  },
  {
   "cell_type": "markdown",
   "id": "9a13b4e0-301a-4a5c-902e-d7fa3300eb94",
   "metadata": {},
   "source": [
    "Q2: What is Cumulative Density Function (CDF)? Explain with an example. Why CDF is used?\n",
    "\n",
    "The cumulative distribution function is used to describe the probability distribution of random variables. It can be used to describe the probability for a discrete, continuous or mixed variable. It is obtained by summing up the probability density function and getting the cumulative probability for a random variable. The CDF defined for a discrete random variable and is given as\n",
    "\n",
    "Fx(x) = P(X ≤ x), where X is the probability that takes a value less than or equal to x and that lies in the semi-closed interval (a,b], where a < b.\n",
    "The CDF defined for a continuous random variable is given as;\n",
    "\n",
    "Cumulative Distribution Function\n",
    "\n",
    "Here, X is expressed in terms of integration of its probability density function fx.\n",
    "\n",
    "example for CDF which is given by rolling a fair six-sided die, where X is the random variable\n",
    "\n",
    "We know that the probability of getting an outcome by rolling a six-sided die is given as:\n",
    "\n",
    "Probability of getting 1 = P(X≤ 1 ) = 1 / 6\n",
    "\n",
    "Probability of getting 2 = P(X≤ 2 ) = 2 / 6\n",
    "\n",
    "Probability of getting 3 = P(X≤ 3 ) = 3 / 6\n",
    "\n",
    "Probability of getting 4 = P(X≤ 4 ) = 4 / 6\n",
    "\n",
    "Probability of getting 5 = P(X≤ 5 ) = 5 / 6\n",
    "\n",
    "Probability of getting 6 = P(X≤ 6 ) = 6 / 6 = 1\n",
    "\n",
    "From this, it is noted that the probability value always lies between 0 and 1 and it is non-decreasing and right continuous in nature."
   ]
  },
  {
   "cell_type": "markdown",
   "id": "ea01f708-f1ad-4de4-b425-a2cf80c55078",
   "metadata": {},
   "source": [
    "Q3: What are some examples of situations where the normal distribution might be used as a model?\n",
    "Explain how the parameters of the normal distribution relate to the shape of the distribution.\n",
    "\n",
    "Some examples of situations where the normal distribution are:\n",
    "\n",
    "Height of individuals: In a population, the heights of individuals often follow a normal distribution, with most people clustered around the average height and fewer individuals at the extremes (very tall or very short).\n",
    "\n",
    "IQ scores: IQ scores are often assumed to follow a normal distribution, with most people having scores around the average IQ and fewer individuals having scores at the extremes (very low or very high IQ).\n",
    "\n",
    "Measurement errors: Errors in measurements, such as in laboratory experiments or industrial processes, often follow a normal distribution, assuming that the errors are random and independent.\n",
    "\n",
    "Stock prices: Daily changes in stock prices are often modeled using a normal distribution, under the assumption of random fluctuations in prices.\n",
    "\n",
    "Biological and environmental phenomena: Various biological and environmental variables, such as birth weights, reaction times, and rainfall amounts, are often modeled using a normal distribution when the underlying processes are influenced by many factors and exhibit a bell-shaped distribution.\n",
    "\n",
    "The mean and standard deviation are key parameters of the normal distribution that define its shape and characteristics. The mean determines the location of the peak or center of the distribution, while the standard deviation determines the spread or dispersion of the distribution around the mean. Adjusting these parameters allows for the modeling of various real-world phenomena that exhibit bell-shaped distributions."
   ]
  },
  {
   "cell_type": "markdown",
   "id": "93691241-4f9a-4e05-8f4a-aa0c1368aa30",
   "metadata": {},
   "source": [
    "Q4: Explain the importance of Normal Distribution. Give a few real-life examples of Normal\n",
    "Distribution.\n",
    "\n",
    "The importance of the normal distribution can be explained as follows:\n",
    "\n",
    "Many natural phenomena follow a normal distribution: The normal distribution is observed in many natural phenomena, such as the heights and weights of a population, the measurement errors in laboratory experiments, the test scores of students, the time taken to complete a task, and many more.\n",
    "\n",
    "Statistical inference: The normal distribution is used extensively in statistical inference, which involves drawing conclusions about a population based on a sample of data. Many statistical tests, such as the t-test and ANOVA, assume that the data follow a normal distribution.\n",
    "\n",
    "Central limit theorem: The central limit theorem states that the sum of a large number of independent and identically distributed random variables will tend to a normal distribution, regardless of the distribution of the individual variables. This property makes the normal distribution a fundamental concept in probability theory and statistics.\n",
    "Some real-life examples of the normal distribution are:\n",
    "\n",
    "Heights of adults: The heights of adults in a population follow a normal distribution, with a mean of around 5 feet 7 inches and a standard deviation of around 3 inches.\n",
    "\n",
    "Test scores: The scores on a standardized test, such as the SAT or GRE, follow a normal distribution, with a mean of around 500-600 and a standard deviation of around 100-200.\n",
    "\n",
    "Body temperature: The body temperature of a healthy human follows a normal distribution, with a mean of around 98.6 degrees Fahrenheit and a standard deviation of around 0.5 degrees.\n",
    "\n",
    "IQ scores: The IQ scores of a population follow a normal distribution, with a mean of 100 and a standard deviation of 15.\n",
    "\n",
    "Stock market returns: The daily returns on the stock market follow a normal distribution, with a mean of around 0 and a standard deviation of around 1-2%."
   ]
  },
  {
   "cell_type": "markdown",
   "id": "099f6c63-145e-4d50-996e-1ed759092426",
   "metadata": {},
   "source": [
    "Q5: What is Bernaulli Distribution? Give an Example. What is the difference between Bernoulli\n",
    "Distribution and Binomial Distribution?\n",
    "\n",
    "The Bernoulli distribution is a discrete probability distribution, which means that it only considers discrete random variables. The number of heads obtained when tossing three coins at once, or the number of students in a class, are examples of discrete random variables with a finite or countable number of possible values. p is the expected value of the Bernoulli random variable, which is known as the Bernoulli distribution parameter.\n",
    "\n",
    "Rolling a die to get a specific number is an example of Bernoulli’s Trials. Here if consider getting a desired number to be a success then any other outcome other than the desired number becomes a failure. In this case, each roll of the dice is a Bernoulli’s Trial.\n",
    "\n",
    "Bernoulli deals with the outcome of the single trial of the event, whereas Binomial deals with the outcome of the multiple trials of the single event. Bernoulli is used when the outcome of an event is required for only one time, whereas the Binomial is used when the outcome of an event is required multiple times."
   ]
  },
  {
   "cell_type": "markdown",
   "id": "c9682d04-a2fe-45f5-8b7b-9da4d874fadc",
   "metadata": {},
   "source": [
    "Q6. Consider a dataset with a mean of 50 and a standard deviation of 10. If we assume that the dataset\n",
    "is normally distributed, what is the probability that a randomly selected observation will be greater\n",
    "than 60? Use the appropriate formula and show your calculations.\n",
    "\n",
    "We will use z table to solve this question.\n",
    "\n",
    "We will use the formula,  z = (x − μ)/ σ\n",
    "Where x is the test value, μ is the mean and σ is the standard value.\n",
    "\n",
    "Now replacing the values in the formula, (60-50)/10=1\n",
    "\n",
    "Now we will use z table to to see the probability of area under the curve. The value is 0.8413. As this gives us the probability on the left side of 60, we will subtract it from 1 to the get probability on right of 60.\n",
    "\n",
    "Thus, 1-0.8413= 0.1587"
   ]
  },
  {
   "cell_type": "markdown",
   "id": "dbf831e4-4762-443d-82f0-f7bc01f7fc98",
   "metadata": {},
   "source": [
    "Q7: Explain uniform Distribution with an example.\n",
    "\n",
    "Uniform Distribution is the probability distribution that represents equally likely outcomes i.e. the probability of each outcome occurring is the same. There are two types of uniform distribution: Discrete uniform distribution and continuous uniform distribution. \n",
    "\n",
    "Continuous Uniform Distribution: A continuous uniform probability distribution is a distribution that has an infinite number of values defined in a specified range. It has a rectangular-shaped graph so-called rectangular distribution. It works on the values which are continuous in nature. Example: Random number generator. With continuous uniform distribution, just like discrete uniform distribution, every variable has an equal chance of happening. However, there is an infinite number of points that can exist. For a continuous uniform distribution over the interval [a, b], the PDF is given by:\n",
    "\n",
    "f(x) = 1 / (b – a) for a ≤ x ≤ b\n",
    "\n",
    "and f(x) = 0 otherwise.\n",
    "\n",
    "Discrete Uniform Distribution: A discrete uniform probability distribution is a distribution that has a finite number of values defined in a specified range. Its graph contains various vertical lines for each finite value. It works on values that are discrete in nature. Example: A dice is rolled."
   ]
  },
  {
   "cell_type": "markdown",
   "id": "3c7c3412-43e4-4f2d-b1fe-18808fb681f7",
   "metadata": {},
   "source": [
    "Q8: What is the z score? State the importance of the z score.\n",
    "\n",
    "Z-score is a measurement of how many standard deviations a data point is from the mean of a distribution. A z-score of 0 indicates that the data point’s score is the same as the mean score. A positive z-score indicates that the data point is above average, while a negative z-score indicates that the data point is below average.\n",
    "\n",
    "The formula for calculating a z-score is: z = (x – μ)/ σ\n",
    "\n",
    "Where:\n",
    "\n",
    "x: is the test value\n",
    "μ: is the mean\n",
    "σ: is the standard value\n",
    "\n",
    "Importance:\n",
    "\n",
    "1. The z-score is important because it allows us to standardize data from different distributions, which can then be compared and analyzed more easily. By converting data into z-scores, we can compare observations from different samples or populations and make meaningful statements about their relative positions.\n",
    "2. The z-score is also useful in hypothesis testing, where it is used to calculate the probability of observing a value as extreme as the one observed, assuming a certain null hypothesis."
   ]
  },
  {
   "cell_type": "markdown",
   "id": "fab7e453-31c1-4c35-baf5-274970e31ece",
   "metadata": {},
   "source": [
    "Q9: What is Central Limit Theorem? State the significance of the Central Limit Theorem.\n",
    "\n",
    "The CLT is a statistical theory that states that - if you take a sufficiently large sample size from a population with a finite level of variance, the mean of all samples from that population will be roughly equal to the population mean.\n",
    "\n",
    "The significance of the CLT is that it provides a theoretical foundation for many statistical techniques that assume normally distributed data.\n",
    "For example, many hypothesis tests and confidence intervals rely on the assumption of normality, which is often justified by the CLT. It is often necessary to estimate the mean and variance of a population based on a sample."
   ]
  },
  {
   "cell_type": "markdown",
   "id": "b3659477-2237-4720-b6b3-4434ec4b262d",
   "metadata": {},
   "source": [
    "Q10: State the assumptions of the Central Limit Theorem.\n",
    "\n",
    "The assumptions are:\n",
    "\n",
    "1. The sample size should be sufficiently large. This condition is usually met if the sample size is n ≥ 30.\n",
    "2. The samples should be independent and identically distributed (i.i.d.) random variables. This condition is usually met if the sampling is random.\n",
    "3. The population’s distribution has finite variance. Central limit theorem doesn’t apply to distributions with infinite variance, such as the Cauchy distribution. Most distributions have finite variance."
   ]
  },
  {
   "cell_type": "code",
   "execution_count": null,
   "id": "ba61209f-fb12-4a7f-9a7f-2a4fa9b36a60",
   "metadata": {},
   "outputs": [],
   "source": []
  }
 ],
 "metadata": {
  "kernelspec": {
   "display_name": "Python 3 (ipykernel)",
   "language": "python",
   "name": "python3"
  },
  "language_info": {
   "codemirror_mode": {
    "name": "ipython",
    "version": 3
   },
   "file_extension": ".py",
   "mimetype": "text/x-python",
   "name": "python",
   "nbconvert_exporter": "python",
   "pygments_lexer": "ipython3",
   "version": "3.10.8"
  }
 },
 "nbformat": 4,
 "nbformat_minor": 5
}
