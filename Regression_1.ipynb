{
 "cells": [
  {
   "cell_type": "markdown",
   "id": "3e2ef3d0-1855-4548-8bfd-007521fb788c",
   "metadata": {},
   "source": [
    "Q1. Explain the difference between simple linear regression and multiple linear regression. Provide an\n",
    "example of each."
   ]
  },
  {
   "cell_type": "markdown",
   "id": "81cc0b31-5a7b-4789-a614-9da1fe2627c4",
   "metadata": {},
   "source": [
    "- Simple Linear Regression\n",
    "    - Models the relationship between one dependent and one independent variable.\n",
    "    - Equation: Y = C0 + C1X + e\n",
    "    - Suitable when there is one clear predictor.\n",
    "    - Assumptions: \tLinearity, Independence, Homoscedasticity, Normality.\n",
    "    - Visulaization: Typically visualized with a 2D scatter plot and a line of best fit.\n",
    "    - Risk of Overfitting: Lower, as it deals with only one predictor.\n",
    "    - Applications: Basic research, simple predictions, understanding a singular relationship.\n",
    "    \n",
    "- Multiple Linear Regression\n",
    "    - Models the relationship between one dependent and two or more independent variables.\n",
    "    - Eqaution: Y = C0 + C1X1 + C2X2 + C3X3 + ….. + CnXn + e\n",
    "    - Suitable when multiple factors affect the outcome.\n",
    "    - Assumptions: Same as linear regression, with the added concern of multicollinearity.\n",
    "    - Visulaization: Requires 3D or multi-dimensional space, often represented using partial regression plots.\n",
    "    - Risk of Overfitting: Higher, especially if too many predictors are used without adequate data.\n",
    "    - Applications: Complex research, multifactorial predictions, studying interrelated systems. "
   ]
  },
  {
   "cell_type": "markdown",
   "id": "eb98d615-fad5-4fa9-aecc-7128dea7663c",
   "metadata": {},
   "source": [
    "Q2. Discuss the assumptions of linear regression. How can you check whether these assumptions hold in\n",
    "a given dataset?"
   ]
  },
  {
   "cell_type": "markdown",
   "id": "44152211-87c0-4f1f-884a-7f7a30fafb0b",
   "metadata": {},
   "source": [
    "Linear regression relies on several key assumptions. Ensuring these assumptions hold is crucial for the validity of the regression model. Here are the main assumptions and how to check them:\n",
    "\n",
    "1. Linearity: The relationship between the independent variables and the dependent variable is linear.\n",
    "\n",
    "How to Check: Scatter Plot- Plot the dependent variable against each independent variable to check for a linear relationship.\n",
    "\n",
    "2. Independence: Observations should be independent of each other.\n",
    "\n",
    "How to check: Durbin-Watson Test- This test checks for the presence of autocorrelation in the residuals.\n",
    "\n",
    "3. Homoscedasticity: The residuals have constant variance at every level of the independent variables.\n",
    "\n",
    "How to check: Residual Plot- Plot the residuals against the predicted values. The spread of residuals should be consistent across all levels of predicted values.\n",
    "\n",
    "4. Normality of Residuals:  The residuals are normally distributed.\n",
    "\n",
    "How to check: Histogram- Plot a histogram of the residuals to visually check for normality.\n",
    "\n",
    "5. No Multicollinearity:  The independent variables are not highly correlated with each other.\n",
    "\n",
    "How to check: Correlation Matrix- Calculate and inspect the correlation matrix of the independent variables. High correlations (e.g., above 0.8) indicate multicollinearity."
   ]
  },
  {
   "cell_type": "markdown",
   "id": "dcfc3484-a0d8-4094-815f-888391d5eb79",
   "metadata": {},
   "source": [
    "Q3. How do you interpret the slope and intercept in a linear regression model? Provide an example using\n",
    "a real-world scenario."
   ]
  },
  {
   "cell_type": "markdown",
   "id": "bc5c9f2a-8c2f-44ff-8022-6f55f89292bf",
   "metadata": {},
   "source": [
    "In a linear regression model, the slope and intercept have specific interpretations that relate to the relationship between the independent variable(s) and the dependent variable.\n",
    "\n",
    "Intercept: The intercept is the expected value of the dependent variable when all the independent variables are equal to zero. It is the point at which the regression line crosses the y-axis. In the equation y = ß0 + ß1x1 + ß2x2 +...+ ßnxn, the intercept ß0 represents the value of y when x1, x2, x3,..., xn are all zero.\n",
    "\n",
    "Slope: The slope represents the change in the dependent variable for a one-unit change in the independent variable, holding all other variables constant. In th equation y = ß0 + ß1x1 + ß2x2 +...+ ßnxn, the slope ßi for a particular xi indicates how much y changes for a one-unit increase in xi, assuming all other predictors are constant. It shows the strength and direction of the relationship between an independent variable and the dependent variable.\n",
    "\n",
    "Example: Researchers might administer various dosages of a certain drug to patients and observe how their blood pressure responds. They might fit a simple linear regression model using dosage as the predictor variable and blood pressure as the response variable. The regression model would take the following form:\n",
    "\n",
    "blood pressure = β0 + β1(dosage)\n",
    "\n",
    "The coefficient β0 would represent the expected blood pressure when dosage is zero.\n",
    "\n",
    "The coefficient β1 would represent the average change in  blood pressure when dosage is increased by one unit.\n",
    "\n",
    "If β1 is negative, it would mean that an increase in dosage is associated with a decrease in blood pressure.\n",
    "\n",
    "If β1 is close to zero, it would mean that an increase in dosage is associated with no change in blood pressure.\n",
    "\n",
    "If β1 is positive, it would mean that an increase in dosage is associated with an increase in blood pressure.\n",
    "\n",
    "Depending on the value of β1, researchers may decide to change the dosage given to a patient."
   ]
  },
  {
   "cell_type": "markdown",
   "id": "af557fac-987c-4021-99c0-ea8264f47147",
   "metadata": {},
   "source": [
    "Q4. Explain the concept of gradient descent. How is it used in machine learning?"
   ]
  },
  {
   "attachments": {
    "e181dd77-721b-485f-9913-8fc5af34ef00.png": {
     "image/png": "[encoded data removed]"
    }
   },
   "cell_type": "markdown",
   "id": "34b5153f-ffec-455f-83e6-6f763735ffcc",
   "metadata": {},
   "source": [
    "Gradient Descent is known as one of the most commonly used optimization algorithms to train machine learning models by means of minimizing errors between actual and expected results.\n",
    "\n",
    "The main objective of using a gradient descent algorithm is to minimize the cost function using iteration. To achieve this goal, it performs two steps iteratively:\n",
    "\n",
    "- Calculates the first-order derivative of the function to compute the gradient or slope of that function.\n",
    "- Move away from the direction of the gradient, which means slope increased from the current point by alpha times, where Alpha is defined as Learning Rate. It is a tuning parameter in the optimization process which helps to decide the length of the steps.\n",
    "\n",
    "The cost function is defined as the measurement of difference or error between actual values and expected values at the current position and present in the form of a single real number. It helps to increase and improve machine learning efficiency by providing feedback to this model so that it can minimize error and find the local or global minimum.\n",
    "\n",
    "![image.png](attachment:e181dd77-721b-485f-9913-8fc5af34ef00.png)"
   ]
  },
  {
   "cell_type": "markdown",
   "id": "fee841fd-e82d-462d-9e33-5dd4947af10d",
   "metadata": {},
   "source": [
    "The starting point(shown in above fig.) is used to evaluate the performance as it is considered just as an arbitrary point. At this starting point, we will derive the first derivative or slope and then use a tangent line to calculate the steepness of this slope. Further, this slope will inform the updates to the parameters (weights and bias).\n",
    "\n",
    "The slope becomes steeper at the starting point or arbitrary point, but whenever new parameters are generated, then steepness gradually reduces, and at the lowest point, it approaches the lowest point, which is called a point of convergence.\n",
    "\n",
    "The main objective of gradient descent is to minimize the cost function or the error between expected and actual.\n",
    "\n",
    " If the learning rate is high, it results in larger steps but also leads to risks of overshooting the minimum. At the same time, a low learning rate shows the small step sizes, which compromises overall efficiency but gives the advantage of more precision.\n",
    " \n",
    " "
   ]
  },
  {
   "cell_type": "markdown",
   "id": "35e0f61e-675b-4add-ab3b-7ed3a0ea60e6",
   "metadata": {},
   "source": [
    "Q5. Describe the multiple linear regression model. How does it differ from simple linear regression?"
   ]
  },
  {
   "cell_type": "markdown",
   "id": "880710f3-8ec0-47fc-9fed-c6c2c3a0026f",
   "metadata": {},
   "source": [
    "In machine learning and data analysis, multiple linear regression (MLR) is a statistical technique used to predict the relationship between one dependent variable and two or more independent variables. the main objective of multiple linear regression (MLR) is to forecast the dependent variable's value based on the independent variables' values. \n",
    "\n",
    "Let k represent the number of variables denoted by x1, x2, x3, ……, xk. \n",
    "Furthermore, we assume that Y is linearly dependent on the factors according to \n",
    "\n",
    "Y = β0 + β1x1 + β2x2 + · · · + βkxk + ε\n",
    "\n",
    "- The variable yi is dependent or predicted.\n",
    "- The slope of y depends on the y-intercept, that is, when xi and x2 are both zero, y will be β0.\n",
    "- The regression coefficients β1 and β2 represent the change in y as a result of one-unit changes in xi1 and xi2.\n",
    "- βp refers to the slope coefficient of all independent variables.\n",
    "- ε term describes the random error (residual) in the model.\n",
    "\n",
    "Assumptions of Multiple Linear Regression:\n",
    "\n",
    "- Linearity: The relationship between the dependent variable and each independent variable is linear. This means the change in the dependent variable is proportional to the change in each independent variable.\n",
    "- Independence: The observations are independent of each other. This assumption ensures that the value of the dependent variable for one observation is not influenced by the value for another.\n",
    "-  Homoscedasticit: The variance of the residuals (errors) is constant across all levels of the independent variables. This means that the spread of residuals should be roughly the same for all predicted values.\n",
    "- Normality of Residuals: The residuals (differences between observed and predicted values) are typically distributed. This is particularly important for hypothesis testing and constructing confidence intervals.\n",
    "- No Multicollinearity: The independent variables are not too highly correlated. However, high multicollinearity can make it difficult to determine the individual effect of each independent variable.\n",
    "\n",
    "A multiple regression model uses more than one independent variable. It does not suffer from the same limitations as the simple regression equation, and it is thus able to fit curved and non-linear relationships. The following are the uses of multiple linear regression.\n",
    "\n",
    "- Planning and Control.\n",
    "- Prediction or Forecasting."
   ]
  },
  {
   "cell_type": "markdown",
   "id": "a9d9f3fd-4753-43d3-b41a-e5d8cd135909",
   "metadata": {},
   "source": [
    "Q6. Explain the concept of multicollinearity in multiple linear regression. How can you detect and\n",
    "address this issue?"
   ]
  },
  {
   "cell_type": "markdown",
   "id": "fd9a92fc-505b-4b91-bab7-c7b25cf8d4c4",
   "metadata": {},
   "source": [
    "Multicollinearity refers to a situation in multiple linear regression where two or more independent variables are highly correlated with each other. This correlation means that one independent variable can be linearly predicted from the others with a substantial degree of accuracy. \n",
    "\n",
    "Detecting Multicollinearity\n",
    "\n",
    "1. Correlation Matrix: A correlation matrix shows the correlation coefficients between pairs of variables. High correlation coefficients (close to 1 or -1) between independent variables indicate multicollinearity.\n",
    "\n",
    "2. Variance Inflation Factor (VIF): IF quantifies the amount of variance in the estimated regression coefficients that is inflated due to multicollinearity. VIF values above 10 are often taken as indicating significant multicollinearity, though some researchers use a threshold of 5.\n",
    "\n",
    "Addressing Multicollinearity\n",
    "\n",
    "1. Remove Highly Correlated Predictors\n",
    "If two or more predictors are highly correlated, consider removing one of them from the model.\n",
    "2. Combine Predictors\n",
    "Create a new predictor by combining the highly correlated predictors. For instance, you can take their average or use principal component analysis (PCA) to create uncorrelated components.\n",
    "3. Regularization Techniques\n",
    "Use regularization techniques like Ridge Regression or Lasso Regression, which can handle multicollinearity by adding a penalty term to the regression."
   ]
  },
  {
   "cell_type": "markdown",
   "id": "5d134a75-52c2-4a32-9913-0fbc2f06422a",
   "metadata": {},
   "source": [
    "Q7. Describe the polynomial regression model. How is it different from linear regression?"
   ]
  },
  {
   "cell_type": "markdown",
   "id": "cfce0893-b914-4c09-9934-d0d06072b84a",
   "metadata": {},
   "source": [
    "Polynomial regression is a type of regression analysis where the relationship between the independent variable x and the dependent variable y is modeled as an nth degree polynomial. It extends linear regression by allowing for non-linear relationships between the predictors and the outcome variable.\n",
    "\n",
    "A polynomial regression model of degree n is given by:\n",
    "\n",
    "y= b0+b1x1+ b2x12+ b2x13+...... bnx1n\n",
    "\n",
    "where, y = dependent variable,\n",
    "x = independent variable,\n",
    "b0,b1,b2,... = coefficients\n",
    "\n",
    "Steps to Implement Polynomial Regression\n",
    "Generate Polynomial Features: Create new features that are powers of the original feature(s).\n",
    "Fit a Linear Model: Fit a linear regression model using the polynomial features.\n",
    "\n",
    "The main difference between linear regression and polynomial regression is the nature of the relationship between the dependent variable and the independent variable.\n",
    "In linear regression, the relationship is assumed to be linear, while in polynomial regression, the relationship can be non-linear and can take on a more complex shape. Polynomial regression allows for more flexibility in modeling the relationship between the variables and can provide a better fit to the data when the relationship is non-linear."
   ]
  },
  {
   "cell_type": "markdown",
   "id": "8450e738-6216-4edc-950d-dc713d0ef756",
   "metadata": {},
   "source": [
    "Q8. What are the advantages and disadvantages of polynomial regression compared to linear\n",
    "regression? In what situations would you prefer to use polynomial regression?"
   ]
  },
  {
   "cell_type": "markdown",
   "id": "76d60a46-032a-4de3-87a5-dd87d7b7774a",
   "metadata": {},
   "source": [
    "Advantages of Polynomial regression:\n",
    "    \n",
    "- Flexibility: Polynomial regression can model non-linear relationships between the independent and dependent variables, providing more flexibility than linear regression. It can fit a wider variety of curves, capturing more complex patterns in the data.\n",
    "- Better Fit for Non-Linear Data: When the true relationship between variables is non-linear, polynomial regression can provide a better fit and more accurate predictions than linear regression.\n",
    "- Captures Local Effects: Polynomial regression can capture local trends and variations that linear regression might miss, especially in datasets where the effect of predictors on the response variable changes at different levels of the predictors.\n",
    "\n",
    "Disadvantages of Polynomial regression:\n",
    "\n",
    "- Overfitting: With higher-degree polynomials, the model can become overly complex and start to fit the noise in the data rather than the underlying trend, leading to overfitting. Overfitting reduces the model's generalizability to new data.\n",
    "- Extrapolation Issues: Polynomial models can produce extreme and unreliable predictions outside the range of the observed data (extrapolation), particularly for high-degree polynomials.\n",
    "- Multicollinearity: Polynomial features can be highly correlated with each other, leading to multicollinearity, which can make the coefficient estimates unstable and difficult to interpret.\n",
    "- Computationally Intensive: As the degree of the polynomial increases, the computational complexity increases, which can be a concern for very large datasets or very high-degree polynomials.\n",
    "\n",
    "Situations to Prefer Polynomial Regression\n",
    "\n",
    "- Use polynomial regression when there is a known or suspected non-linear relationship between the independent and dependent variables, and this relationship can be well-approximated by a polynomial function.\n",
    "- When a simple linear model is inadequate, but the relationship is not overly complex, polynomial regression of a reasonable degree can provide a good balance between fit and complexity.\n",
    "- When you have enough data points to support the fitting of a polynomial model without the risk of overfitting. A higher number of data points can justify the use of higher-degree polynomials."
   ]
  },
  {
   "cell_type": "code",
   "execution_count": null,
   "id": "608c9644-e609-429f-b92f-a26c18e59abe",
   "metadata": {},
   "outputs": [],
   "source": []
  }
 ],
 "metadata": {
  "kernelspec": {
   "display_name": "Python 3 (ipykernel)",
   "language": "python",
   "name": "python3"
  },
  "language_info": {
   "codemirror_mode": {
    "name": "ipython",
    "version": 3
   },
   "file_extension": ".py",
   "mimetype": "text/x-python",
   "name": "python",
   "nbconvert_exporter": "python",
   "pygments_lexer": "ipython3",
   "version": "3.10.8"
  }
 },
 "nbformat": 4,
 "nbformat_minor": 5
}
