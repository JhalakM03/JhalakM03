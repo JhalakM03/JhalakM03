{
 "cells": [
  {
   "cell_type": "markdown",
   "id": "4703365f-6aac-4815-b7f9-66fb1c7385a6",
   "metadata": {},
   "source": [
    "Q1: What is Estimation Statistics? Explain point estimate and interval estimate.\n",
    "\n",
    "In statistics, estimation refers to the process by which one makes inferences about a population, based on information obtained from a sample.\n",
    "\n",
    "Statisticians use sample statistics to estimate population parameters. For example, sample means are used to estimate population means; sample proportions, to estimate population proportions.\n",
    "\n",
    "Point estimate. A point estimate of a population parameter is a single value of a statistic. For example, the sample mean x is a point estimate of the population mean μ. Similarly, the sample proportion p is a point estimate of the population proportion P.\n",
    "\n",
    "Interval estimate. An interval estimate is defined by two numbers, between which a population parameter is said to lie. For example, a < x < b is an interval estimate of the population mean μ. It indicates that the population mean is greater than a but less than b."
   ]
  },
  {
   "cell_type": "markdown",
   "id": "e735c20a-f7ff-4ae6-92e6-92d409eaccef",
   "metadata": {},
   "source": [
    "Q2. Write a Python function to estimate the population mean using a sample mean and standard\n",
    "deviation."
   ]
  },
  {
   "cell_type": "code",
   "execution_count": 1,
   "id": "952e329b-ee43-49d2-b999-46563a06fe66",
   "metadata": {},
   "outputs": [
    {
     "name": "stdout",
     "output_type": "stream",
     "text": [
      "Population mean: 2.0\n"
     ]
    }
   ],
   "source": [
    "import scipy.stats as stats\n",
    "\n",
    "def population_mean(sample_mean, sample_std, sample_size):\n",
    "    standard_error=sample_std/(sample_size**0.5)\n",
    "    z_value= 1.96 # assume the confidence level 95% and 0.05 as significance value\n",
    "    margin_error= z_value*standard_error\n",
    "    lower_bound = sample_mean - margin_error\n",
    "    upper_bound = sample_mean + margin_error\n",
    "    return (lower_bound + upper_bound) / 2\n",
    "\n",
    "result = population_mean(2, 5, 20000)\n",
    "print(f\"Population mean: {result}\")"
   ]
  },
  {
   "cell_type": "markdown",
   "id": "92a6b3a0-827c-4318-a672-4f3e7f89a3ee",
   "metadata": {},
   "source": [
    "Q3: What is Hypothesis testing? Why is it used? State the importance of Hypothesis testing.\n",
    "\n",
    "Hypothesis testing is a statistical method used to determine if there is enough evidence in a sample data to draw conclusions about a population. It involves formulating two competing hypotheses, the null hypothesis (H0) and the alternative hypothesis (Ha), and then collecting data to assess the evidence.\n",
    "\n",
    "Hypothesis testing is an important procedure in statistics. Hypothesis testing evaluates two mutually exclusive population statements to determine which statement is most supported by sample data.\n",
    "\n",
    "The importance of hypothesis testing lies in its ability to provide evidence for or against a theory or claim, and to help researchers make informed decisions based on data. It allows researchers to determine if an observed difference between groups or variables is statistically significant or simply due to chance, and to quantify the level of uncertainty in their findings. This can help researchers to draw conclusions that are based on evidence and minimize the risk of drawing incorrect or unsupported conclusions."
   ]
  },
  {
   "cell_type": "markdown",
   "id": "c5312f41-7f3a-406b-8737-eb01f83150e4",
   "metadata": {},
   "source": [
    "Q4. Create a hypothesis that states whether the average weight of male college students is greater than\n",
    "the average weight of female college students.\n",
    "\n",
    "The null hypothesis would be:\n",
    "\n",
    "H0: The average weight of male college students is not greater than the average weight of female college students.\n",
    "\n",
    "The alternate hypothesis would be:\n",
    "\n",
    "H1: The average weight of male college is greater than average weight of female college students."
   ]
  },
  {
   "cell_type": "markdown",
   "id": "a5c12eca-2f2d-431f-af61-b5432600e420",
   "metadata": {},
   "source": [
    "Q5. Write a Python script to conduct a hypothesis test on the difference between two population means,\n",
    "given a sample from each population."
   ]
  },
  {
   "cell_type": "code",
   "execution_count": 11,
   "id": "a9470aa8-b0f0-4587-8d42-522cbd60d8ae",
   "metadata": {},
   "outputs": [
    {
     "name": "stdout",
     "output_type": "stream",
     "text": [
      "T_stat: 3.921992156023535\n",
      "p_value: 0.004406028718163823\n",
      "Conclusion: Reject null Hypothesis\n"
     ]
    }
   ],
   "source": [
    "from scipy.stats import ttest_ind\n",
    "\n",
    "def two_sample_t_test(sample1,sample2, alpha=0.05):\n",
    "    t_stat,p_value=ttest_ind(sample1, sample2, equal_var=True)\n",
    "    \n",
    "    if p_value<alpha:\n",
    "        result = ('Reject null Hypothesis')\n",
    "    else:\n",
    "        result = ('Failed to reject null Hypothesis')\n",
    "        \n",
    "    return t_stat, p_value, result\n",
    "\n",
    "sample1 = [85, 90, 88, 82, 87]  # Sample data from population 1\n",
    "sample2 = [78, 80, 83, 75, 79]  # Sample data from population 2\n",
    "alpha = 0.05\n",
    "\n",
    "t_stat, p_value, result=two_sample_t_test(sample1, sample2, alpha)\n",
    "\n",
    "print('T_stat:', t_stat)\n",
    "print('p_value:', p_value)\n",
    "print('Conclusion:', result)"
   ]
  },
  {
   "cell_type": "markdown",
   "id": "ab038c04-e780-4f57-895b-325a40c56aa3",
   "metadata": {},
   "source": [
    "Q6: What is a null and alternative hypothesis? Give some examples.\n",
    "\n",
    "Null Hypothesis(H0): The null hypothesis is the default or initial assumption made about the population parameters or the absence of an effect. It typically represents the status quo or the belief that there is no significant difference or relationship between variables. \n",
    "\n",
    "Alternative Hypothesis: The alternative hypothesis is the statement that contradicts the null hypothesis and suggests a difference, effect, or relationship between variables. It represents the researcher's hypothesis or the claim being tested. It can be one-tailed (directional) or two-tailed (non-directional), depending on the nature of the research question. \n",
    "\n",
    "For example:\n",
    "\n",
    "Null hypothesis (H0): The average height of students in a school is 160 cm (μ=160 cm).\n",
    "Alternative hypothesis (H1): The average height of students in a school is not 160 cm (μ≠160 cm)."
   ]
  },
  {
   "cell_type": "markdown",
   "id": "d39a68fb-9880-41af-a0d2-37d3606f8bd1",
   "metadata": {},
   "source": [
    "Q7: Write down the steps involved in hypothesis testing.\n",
    "\n",
    "The steps of hypothesis testing are as follows:\n",
    "\n",
    "1. Formulate the hypotheses: State the null hypothesis (H0) and the alternative hypothesis (Ha) based on the research question.\n",
    "2. Set the significance level: Determine the acceptable level of error (alpha) for making a decision.\n",
    "3. Collect and analyze data: Gather and process the sample data.\n",
    "4. Compute test statistic: Calculate the appropriate statistical test to assess the evidence.\n",
    "5. Make a decision: Compare the test statistic with critical values or p-values and determine whether to reject H0 in favor of Ha or not.\n",
    "6. Draw conclusions: Interpret the results and communicate the findings in the context of the research question."
   ]
  },
  {
   "cell_type": "code",
   "execution_count": null,
   "id": "f4256b75-5009-48b3-b3df-4b72263ff971",
   "metadata": {},
   "outputs": [],
   "source": []
  },
  {
   "cell_type": "markdown",
   "id": "0b8e693e-11d3-4354-8794-f4c82e566bf7",
   "metadata": {},
   "source": [
    "Q8. Define p-value and explain its significance in hypothesis testing.\n",
    "\n",
    "The P-value is known as the probability value. It is defined as the probability of getting a result that is either the same or more extreme than the actual observations. The P-value is known as the level of marginal significance within the hypothesis testing that represents the probability of occurrence of the given event.\n",
    "\n",
    "If the P-value is small, then there is stronger evidence in favour of the alternative hypothesis.\n",
    "\n",
    "The level of statistical significance is usually represented as a P-value between 0 and 1. The smaller the p-value, the more likely it is that you would reject the null hypothesis. \n",
    "\n",
    "1. A P-Value < or = 0.05 is considered statistically significant. It denotes strong evidence against the null hypothesis, since there is below 5% probability of the null being correct. So, we reject the null hypothesis and accept the alternative hypothesis.\n",
    "2. But if P-Value is lower than your threshold of significance, though the null hypothesis can be rejected, it does not mean that there is 95% probability of the alternative hypothesis being true. \n",
    "3. A P-Value >0.05 is not statistically significant. It denotes strong evidence for the null hypothesis being true. Thus, we retain the null hypothesis and reject the alternative hypothesis. We cannot accept null hypothesis; we can only reject or not reject it. "
   ]
  },
  {
   "cell_type": "markdown",
   "id": "ecb9f9c4-e663-4340-be7d-7d73e3f8ba22",
   "metadata": {},
   "source": [
    "Q9. Generate a Student's t-distribution plot using Python's matplotlib library, with the degrees of freedom\n",
    "parameter set to 10. "
   ]
  },
  {
   "cell_type": "code",
   "execution_count": 2,
   "id": "a716b918-7bc8-470e-aa11-1e0ed25e0d0e",
   "metadata": {},
   "outputs": [
    {
     "data": {
      "text/plain": [
       "<function matplotlib.pyplot.show(close=None, block=None)>"
      ]
     },
     "execution_count": 2,
     "metadata": {},
     "output_type": "execute_result"
    },
    {
     "data": {
      "image/png": "[encoded data removed]",
      "text/plain": [
       "<Figure size 640x480 with 1 Axes>"
      ]
     },
     "metadata": {},
     "output_type": "display_data"
    }
   ],
   "source": [
    "import numpy as np\n",
    "import scipy.stats as stats\n",
    "import matplotlib.pyplot as plt\n",
    "\n",
    "df=10\n",
    "x= np.linspace(-5,5,1000)\n",
    "\n",
    "pdf=stats.t.pdf(x,df)\n",
    "\n",
    "plt.plot(x,pdf, color='blue')\n",
    "plt.xlabel('t-values')\n",
    "plt.ylabel('probability density')\n",
    "plt.show"
   ]
  },
  {
   "cell_type": "markdown",
   "id": "9d7502e8-e88f-4b01-b26c-aa1b940fb672",
   "metadata": {},
   "source": [
    "Q10. Write a Python program to calculate the two-sample t-test for independent samples, given two\n",
    "random samples of equal size and a null hypothesis that the population means are equal."
   ]
  },
  {
   "cell_type": "markdown",
   "id": "00147e2c-ed13-47bf-a640-ce0f5a0b6fde",
   "metadata": {},
   "source": [
    "Q11: What is Student’s t distribution? When to use the t-Distribution.\n",
    "\n",
    "The t-distribution is a hypothetical probability distribution. It is also known as the student’s t-distribution and used to make presumptions about a mean when the standard deviation is not known to us. It is symmetrical, bell-shaped distribution, similar to the standard normal curve. As high as the degrees of freedom (df), the closer this distribution will approximate a standard normal distribution with a mean of 0 and a standard deviation of 1.\n",
    "\n",
    "The use of t-distributions are as follows:\n",
    "\n",
    "1. Testing for the hypothesis of the population mean\n",
    "2. Testing for the hypothesis of the difference between two means. In this case, the t-test can be calculated in two different ways, such as 1. Variances are equal, 2.Variances are unequal.\n",
    "3. Testing for the hypothesis of the difference between two means having the dependent sample\n"
   ]
  },
  {
   "cell_type": "markdown",
   "id": "8bd0a0ff-0171-4aa0-a463-319a6a86dce6",
   "metadata": {},
   "source": [
    "Q12: What is t-statistic? State the formula for t-statistic.\n",
    "\n",
    "The t-statistic is a measure of how many standard errors the sample mean is from the hypothesized population mean, under the assumption that the population variance is unknown and must be estimated from the sample data. It is used in hypothesis testing to determine whether the difference between the sample mean and the hypothesized population mean is statistically significant.\n",
    "\n",
    "The formula for the t-statistic is:\n",
    "t = (x̄ - μ) / (s / √n) "
   ]
  },
  {
   "cell_type": "markdown",
   "id": "f6a56b3b-fd32-47b9-9868-b6a420a9ee9e",
   "metadata": {},
   "source": [
    "Q13. A coffee shop owner wants to estimate the average daily revenue for their shop. They take a random\n",
    "sample of 50 days and find the sample mean revenue to be $ 500  with a standard deviation of  $ 50.\n",
    "Estimate the population mean revenue with a 95% confidence interval.\n",
    "\n",
    "To calculate the confidence interval for the population mean revenue using the z-table, we first need to convert our confidence level of 95% to the corresponding z-score.\n",
    "\n",
    "For a 95% confidence level, the corresponding z-score for a two-tailed test is approximately 1.96. Now, let's calculate the margin of error and construct the confidence interval:\n",
    "\n",
    "Margin of Error = 1.96× 50/√50 ≈ 13.85\n",
    "\n",
    "Now, the confidence interval is: 500 ± 13.85\n",
    "Confidence Interval ≈ (500+13.85, 500-13.85)\n",
    "Confidence Interval ≈ (486.15, 513.85)\n",
    "So, the 95% confidence interval for the population mean revenue is approximately $486.15 to $513.85."
   ]
  },
  {
   "cell_type": "markdown",
   "id": "17f62a41-eb31-479c-845f-ec24ce95570e",
   "metadata": {},
   "source": [
    "Q14. A researcher hypothesizes that a new drug will decrease blood pressure by 10 mmHg. They conduct a\n",
    "clinical trial with 100 patients and find that the sample mean decrease in blood pressure is 8 mmHg with a\n",
    "standard deviation of 3 mmHg. Test the hypothesis with a significance level of 0.05.\n",
    "\n",
    "We have following values given:\n",
    "\n",
    "Population mean = 10\n",
    "Sample mean = 8\n",
    "Sample size = 100\n",
    "Standard deviation = 3\n",
    "Significance level = 0.05\n",
    "Confidence level = 95%\n",
    "\n",
    "Null hypothesis and alternate hypothesis are as follow:\n",
    "\n",
    "Null Hypothesis = H0=10\n",
    "Alternate Hypothesis = H1 !=10\n",
    "\n",
    "For a 95% confidence level, the corresponding z-score for a one-tailed test is approximately 1.96. \n",
    "\n",
    "Now we will do the z test: (10-8)/(3/√100)= -6.66\n",
    "\n",
    "-6.66<1.96. Thus we will reject Null Hypothesis."
   ]
  },
  {
   "cell_type": "markdown",
   "id": "c24d2f90-a7cb-416d-9783-f598009587dd",
   "metadata": {},
   "source": [
    "Q15. An electronics company produces a certain type of product with a mean weight of 5 pounds and a\n",
    "standard deviation of 0.5 pounds. A random sample of 25 products is taken, and the sample mean weight\n",
    "is found to be 4.8 pounds. Test the hypothesis that the true mean weight of the products is less than 5\n",
    "pounds with a significance level of 0.01.\n",
    "\n",
    "We have following values given:\n",
    "\n",
    "Population mean = 5 \n",
    "Sample mean = 4.8\n",
    "Sample size = 25 \n",
    "Standard deviation = 0.5 \n",
    "Significance level = 0.01 \n",
    "Confidence level = 99%\n",
    "\n",
    "Null hypothesis and alternate hypothesis are as follow: \n",
    "Null Hypothesis = H0=5\n",
    "Alternate Hypothesis = H1 !=5\n",
    "\n",
    "For a 99% confidence level, the corresponding z-score for a one-tailed test is approximately -2.58.\n",
    "Now we will do the z test: (5-4.8)/(0.5/√25)= -2\n",
    "\n",
    "Since -2>-2.58, We fail to reject the Null Hypothesis."
   ]
  },
  {
   "cell_type": "markdown",
   "id": "1fe2bd0f-f05d-4bec-92d0-c54cc68042d6",
   "metadata": {},
   "source": [
    "Q16. Two groups of students are given different study materials to prepare for a test. The first group (n1 =\n",
    "30) has a mean score of 80 with a standard deviation of 10, and the second group (n2 = 40) has a mean\n",
    "score of 75 with a standard deviation of 8. Test the hypothesis that the population means for the two\n",
    "groups are equal with a significance level of 0.01.\n",
    "\n",
    "Sample mean 1 = s1= 80\n",
    "\n",
    "Sample mean 2= s2= 75\n",
    "\n",
    "Sample size 1 =n1=30\n",
    "\n",
    "Sample size 2 =n2=40\n",
    "\n",
    "Standard deviation = 8\n",
    "\n",
    "Significance level = 0.01\n",
    "\n",
    "Confidence level = 99%\n",
    "\n",
    "Null hypothesis and alternate hypothesis are as follow: \n",
    "Null Hypothesis = H0= The population means for the two groups are equal\n",
    "Alternate Hypothesis = H1 != The population means for the two groups are not equal\n",
    "\n",
    "calculate the t-statistic for the two-sample t-test using the formula, we have t=2.252\n",
    "\n",
    "Degrees of Freedom = 68\n",
    "Significance Value = 0.01\n",
    "\n",
    "I got the following value of t format the table t = ± 2.639.\n",
    "\n",
    "Since 2.252 lies in the region ±2.639 so, the final conclusion is:\n",
    "\n",
    "Failed to reject null hypothesis\n",
    "\n",
    "Population mean for two groups are equal"
   ]
  },
  {
   "cell_type": "markdown",
   "id": "06ead45e-5e2e-46f5-859a-583ba491e4c9",
   "metadata": {},
   "source": [
    "Q17. A marketing company wants to estimate the average number of ads watched by viewers during a TV\n",
    "program. They take a random sample of 50 viewers and find that the sample mean is 4 with a standard\n",
    "deviation of 1.5. Estimate the population mean with a 99% confidence interval.\n",
    "\n",
    "To estimate the population mean with a 99% confidence interval, we can use the following formula:\n",
    "\n",
    "CI = X̄ ± z*(σ/√n)\n",
    "\n",
    "Where:\n",
    "\n",
    "X̄ = sample mean (4)\n",
    "z = z-score corresponding to the confidence level (99%)\n",
    "σ = population standard deviation (1.5)\n",
    "n = sample size (50)\n",
    "\n",
    "To find the z-score, we can use a standard normal distribution table. For a 99% confidence level, the z-score is\n",
    "\n",
    "z-score = 2.576.\n",
    "\n",
    "Plugging in the values, we get:\n",
    "\n",
    "CI = 4 ± 2.576*(1.5/√50)\n",
    "CI = 4 ± 0.665\n",
    "\n",
    "Therefore, the 99% confidence interval for the population mean of the number of ads watched by viewers during a TV program is (3.335, 4.665). We are 99% confident that the true population mean falls within this interval."
   ]
  },
  {
   "cell_type": "code",
   "execution_count": null,
   "id": "1bd30f15-4276-4269-8366-6529403712c7",
   "metadata": {},
   "outputs": [],
   "source": []
  }
 ],
 "metadata": {
  "kernelspec": {
   "display_name": "Python 3 (ipykernel)",
   "language": "python",
   "name": "python3"
  },
  "language_info": {
   "codemirror_mode": {
    "name": "ipython",
    "version": 3
   },
   "file_extension": ".py",
   "mimetype": "text/x-python",
   "name": "python",
   "nbconvert_exporter": "python",
   "pygments_lexer": "ipython3",
   "version": "3.10.8"
  }
 },
 "nbformat": 4,
 "nbformat_minor": 5
}
