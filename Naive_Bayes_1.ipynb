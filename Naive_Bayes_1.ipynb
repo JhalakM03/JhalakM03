{
 "cells": [
  {
   "cell_type": "markdown",
   "id": "64a3ef8b-cecf-4285-b0fa-72a10d1d99d5",
   "metadata": {},
   "source": [
    "Q1. What is Bayes' theorem?"
   ]
  },
  {
   "cell_type": "markdown",
   "id": "cee0ac8f-caf5-4887-8cc6-9b36c1ae4a06",
   "metadata": {},
   "source": [
    "Bayes' theorem is a fundamental concept in probability theory and statistics that describes how to update the probability of a hypothesis based on new evidence. it's a method for revising probabilities when new evidence is introduced. \n",
    "\n",
    "Imagine a medical test for a rare disease. The disease affects only 1 out of every 1,000 people (0.1%). The test is very good, with a 99% accuracy rate for detecting the disease if someone has it. However, it also has a 5% false positive rate, meaning it incorrectly identifies healthy people as having the disease 5% of the time. If you take the test and get a positive result, you might think there's a 99% chance you have the disease because the test is 99% accurate. However, Bayes' theorem helps us understand that, given the disease is rare and the test isn't perfect, the actual probability that you have the disease is much lower.\n",
    "\n",
    "Let's say you're planning a picnic, and you see that there’s a 70% chance of rain according to the weather forecast. You also know that the weather forecast is correct 80% of the time when it predicts rain, but it’s wrong 20% of the time. Now, if you also notice dark clouds forming in the sky, your belief that it will rain might increase because of this new evidence. Bayes' theorem allows you to update the probability of rain by combining the forecast (your prior information) with the observation of dark clouds (your new evidence). Even if the initial forecast gave a 70% chance of rain, seeing the dark clouds increases your confidence that rain is indeed more likely.\n",
    "\n",
    "In both examples, Bayes' theorem provides a structured way to update your initial beliefs or expectations based on new information, helping you make more informed decisions."
   ]
  },
  {
   "cell_type": "markdown",
   "id": "5528be85-e04a-4e6b-860d-4387b6a6aaf3",
   "metadata": {},
   "source": [
    "Q2. What is the formula for Bayes' theorem?"
   ]
  },
  {
   "attachments": {
    "a2448e0a-4f3f-40b4-944d-c8c98fbc9ee9.png": {
     "image/png": "[encoded data removed]"
    }
   },
   "cell_type": "markdown",
   "id": "24997cb9-f3ff-44e7-aa44-d18181b991d9",
   "metadata": {},
   "source": [
    "Bayes' theorem is mathematically expressed as:\n",
    "\n",
    "![image.png](attachment:a2448e0a-4f3f-40b4-944d-c8c98fbc9ee9.png)\n",
    "\n",
    "where,\n",
    "\n",
    "- P(A|B): is the posterior probability: the probability of event A occurring given that B is true.\n",
    "- P(B|A): is the likelihood: the probability of event B occurring given that A is true.\n",
    "- P(A): is the prior probability: the initial probability of event A occurring, before considering any evidence.\n",
    "- P(B): is the marginal probability: the total probability of event B occurring under all possible conditions."
   ]
  },
  {
   "cell_type": "markdown",
   "id": "ce8d7adf-614f-4c56-82f6-b7d039b2f264",
   "metadata": {},
   "source": [
    "Q3. How is Bayes' theorem used in practice?"
   ]
  },
  {
   "cell_type": "markdown",
   "id": "8050a9bb-d71e-4bb7-8bcf-1b3e9184fbf2",
   "metadata": {},
   "source": [
    "Bayes' theorem is widely used in various fields to make informed decisions by updating probabilities based on new evidence. Here are some practical applications of Bayes' theorem:\n",
    "\n",
    "1. Medical Diagnosis: In healthcare, doctors often need to diagnose diseases based on test results and symptoms. Bayes' theorem helps calculate the probability of a patient having a certain disease given a positive test result, considering both the accuracy of the test (sensitivity and specificity) and the prevalence of the disease in the population.\n",
    "\n",
    "2. Spam Filtering: Email providers need to filter out spam emails from legitimate ones. Bayes' theorem is employed in spam filters to calculate the probability that an email is spam based on the presence of certain words or phrases.\n",
    "\n",
    "3. Machine Learning and Data Science: In machine learning, algorithms often need to classify data or make predictions based on patterns. Naive Bayes classifiers, a type of machine learning model based on Bayes' theorem, are commonly used for text classification, sentiment analysis, and recommendation systems.\n",
    "\n",
    "4. Finance and Risk Management: In finance, analysts assess risks and make decisions based on uncertain information. Bayes' theorem helps update the probability of financial events (like stock market crashes or company defaults) as new economic data or market signals emerge.\n",
    "\n",
    "5. Forensic Science: In court cases, evidence is used to determine the likelihood of various scenarios. Bayes' theorem is used to calculate the probability of guilt based on evidence and prior probabilities, such as the likelihood of DNA matches or other forensic data."
   ]
  },
  {
   "cell_type": "markdown",
   "id": "ba952b0e-7117-46a8-bb04-843f531edb69",
   "metadata": {},
   "source": [
    "Q4. What is the relationship between Bayes' theorem and conditional probability?"
   ]
  },
  {
   "cell_type": "markdown",
   "id": "34e262d1-5ad1-4104-a59f-862e792a1720",
   "metadata": {},
   "source": [
    "Bayes' theorem is deeply rooted in the concept of conditional probability, and it provides a way to reverse or update conditional probabilities when new evidence is available. Conditional probability is the probability of an event occurring given that another event has already occurred. It’s denoted as P(A∣B), which reads as \"the probability of event A given event B.\"\n",
    "\n",
    "Bayes' theorem uses conditional probabilities to provide a way to update the probability of a hypothesis A given new evidence B. It expresses the relationship between the conditional probability of A given B and the conditional probability of B given A.\n",
    "\n",
    "Bayes' theorem allows you to reverse conditional probabilities. For instance, if you know P(B∣A) (the probability of B given A), Bayes' theorem helps you find (A∣B) (the probability of A given B) by incorporating the prior probability P(A) and the overall probability P(B).\n",
    "\n",
    "Bayes' theorem is a direct application of the principles of conditional probability. It provides a structured way to update the probability of a hypothesis in light of new data by linking the conditional probability of one event given another to the reverse conditional probability, using prior information. "
   ]
  },
  {
   "cell_type": "markdown",
   "id": "e1cb74e9-1456-493c-9681-489e6f662ec2",
   "metadata": {},
   "source": [
    "Q5. How do you choose which type of Naive Bayes classifier to use for any given problem?"
   ]
  },
  {
   "cell_type": "markdown",
   "id": "f1ec88b6-a332-45ed-b27e-ee223a90daf0",
   "metadata": {},
   "source": [
    "Choosing the appropriate type of Naive Bayes classifier for a given problem depends on the nature of your data and the distribution of features. There are three main types of Naive Bayes classifiers, each suited to different kinds of data. To choose the right Naive Bayes classifier for your problem, follow these steps:\n",
    "\n",
    "1. Examine Your Data: Identifying the Nature of Your features whether the data features are continuous, discrete (counts), or binary. For continuous data, check if the features roughly follow a normal distribution.\n",
    "\n",
    "2. Match Data Characteristics with Classifier:  Use  Gaussian Naive Bayes when features are continuous and normally distributed. Use Multinomial Naive Bayes when features are discrete counts or frequencies (such as word counts in text data). Use Bernoulli Naive Bayes when features are binary or boolean.\n",
    "\n",
    "3. Consider Application and Goals: Considering about the type of problem we are solving (e.g., text classification, regression) and the nature of the input data.\n",
    "\n",
    "4. Experiment and Validate: It's often helpful to experiment with different types of Naive Bayes classifiers and evaluate their performance using cross-validation. Use appropriate metrics (accuracy, precision, recall, F1-score, etc.) to assess which model performs best for specific problem."
   ]
  },
  {
   "cell_type": "markdown",
   "id": "8bc0fd1a-0c28-48c9-bd25-076c738c3c2b",
   "metadata": {},
   "source": [
    "Q6. Assignment:\n",
    "\n",
    "\n",
    "You have a dataset with two features, X1 and X2, and two possible classes, A and B. You want to use Naive\n",
    "Bayes to classify a new instance with features X1 = 3 and X2 = 4. The following table shows the frequency of\n",
    "each feature value for each class:\n",
    "\n",
    "                         Class\tX1=1\tX1=2\tX1=3\tX2=1\tX2=2\tX2=3\tX2=4\n",
    "                            A\t 3\t     3\t     4\t     4\t   3\t     3\t     3\n",
    "                            B\t 2\t     2\t     1\t     2\t   2\t     2\t     3\n",
    "                        \n",
    "Assuming equal prior probabilities for each class, which class would Naive Bayes predict the new instance to belong to?"
   ]
  },
  {
   "cell_type": "markdown",
   "id": "1e85be2c-ef7b-4543-95d3-84d87bb56a18",
   "metadata": {},
   "source": [
    "To classify the new instance with features X1 = 3 and X2 = 4 using Naive Bayes, we need to calculate the posterior probabilities for each class, given these feature values. We can do this using Bayes' theorem:\n",
    "\n",
    "P(A|X1=3,X2=4) = P(X1=3,X2=4|A) * P(A) / P(X1=3,X2=4)\n",
    "\n",
    "P(B|X1=3,X2=4) = P(X1=3,X2=4|B) * P(B) / P(X1=3,X2=4)\n",
    "\n",
    "Since the prior probabilities for A and B are assumed to be equal, we can simplify this to:\n",
    "\n",
    "P(A|X1=3,X2=4) = P(X1=3,X2=4|A) / P(X1=3,X2=4)\n",
    "\n",
    "P(B|X1=3,X2=4) = P(X1=3,X2=4|B) / P(X1=3,X2=4)\n",
    "\n",
    "To calculate the probabilities, we need to use the Naive Bayes assumption that the features are conditionally independent, given the class. This allows us to factorize the joint probability distribution as follows:\n",
    "\n",
    "P(X1=3,X2=4|A) = P(X1=3|A) * P(X2=4|A)\n",
    "\n",
    "P(X1=3,X2=4|B) = P(X1=3|B) * P(X2=4|B)\n",
    "\n",
    "We can estimate these probabilities from the frequency table provided:\n",
    "\n",
    "P(X1=3|A) = 4/10\n",
    "\n",
    "P(X1=3|B) = 1/7\n",
    "\n",
    "P(X2=4|A) = 3/10\n",
    "\n",
    "P(X2=4|B) = 1/7\n",
    "\n",
    "To calculate the denominator, we need to use the law of total probability:\n",
    "\n",
    "P(X1=3,X2=4) = P(X1=3,X2=4|A) * P(A) + P(X1=3,X2=4|B) * P(B)\n",
    "\n",
    "We can estimate these probabilities from the frequency table provided:\n",
    "\n",
    "P(X1=3,X2=4|A) = P(X1=3|A) * P(X2=4|A) = (4/10) * (3/10) = 12/100\n",
    "\n",
    "P(X1=3,X2=4|B) = P(X1=3|B) * P(X2=4|B) = (1/7) * (1/7) = 1/49\n",
    "\n",
    "P(A) = P(B) = 0.5\n",
    "\n",
    "Therefore:\n",
    "\n",
    "P(X1=3,X2=4) = (12/100) * 0.5 + (1/49) * 0.5 = 0.124\n",
    "\n",
    "Now we can plug these values into the formula for the posterior probabilities:\n",
    "\n",
    "P(A|X1=3,X2=4) = (4/10) * (3/10) / 0.124 = 0.967\n",
    "\n",
    "P(B|X1=3,X2=4) = (1/7) * (1/7) / 0.124 = 0.033\n",
    "\n",
    "Therefore, Naive Bayes would predict that the new instance with features X1=3 and X2=4 belongs to class A, since it has a much higher posterior probability than class B."
   ]
  },
  {
   "cell_type": "code",
   "execution_count": null,
   "id": "336926ef-e3dc-4fed-8204-9463d743fc06",
   "metadata": {},
   "outputs": [],
   "source": []
  }
 ],
 "metadata": {
  "kernelspec": {
   "display_name": "Python 3 (ipykernel)",
   "language": "python",
   "name": "python3"
  },
  "language_info": {
   "codemirror_mode": {
    "name": "ipython",
    "version": 3
   },
   "file_extension": ".py",
   "mimetype": "text/x-python",
   "name": "python",
   "nbconvert_exporter": "python",
   "pygments_lexer": "ipython3",
   "version": "3.10.8"
  }
 },
 "nbformat": 4,
 "nbformat_minor": 5
}
