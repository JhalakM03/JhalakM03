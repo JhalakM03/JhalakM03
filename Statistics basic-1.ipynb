{
 "cells": [
  {
   "cell_type": "markdown",
   "id": "7465b3f7-f85f-4743-8c71-4fd2e7a8175f",
   "metadata": {},
   "source": [
    "Q1. What is Statistics?\n",
    "\n",
    "Statistics is the study of data collection, analysis, perception, introduction, and organization. It is a method of gathering and summarizing results. Statistics is the branch of mathematics that is all about the gathering, observing, interpretation, presentation, and organization of data. The basics of statistics comprise of :\n",
    "1. Measure of Central tendency(Mean, Median, Mode)\n",
    "2. Measure of Dispersion(Variance and Standard Deviation)"
   ]
  },
  {
   "cell_type": "markdown",
   "id": "bff5a3d6-f579-4749-a1cc-bbbb5c470dce",
   "metadata": {},
   "source": [
    "Q2. Define the different types of statistics and give an example of when each type might be used.\n",
    "\n",
    "There are two types of Statistics:\n",
    "\n",
    "Descriptive Statistics: The data is summarized and interpreted and explained in this type of statistics. The data is summarized from a population sample using factors such as mean and standard deviation. This summary typically includes measures such as central tendency (e.g., mean, median, mode), dispersion (e.g., range, variance, standard deviation), and shape of the distribution.\n",
    "Eg. Exam Scores Suppose you have the following scores of 20 students on an exam:\n",
    "[85, 90, 75, 92, 88, 79, 83, 95, 87, 91, 78, 86, 89, 94, 82, 80, 84, 93, 88, 81]\n",
    "\n",
    "Mean: 88.5\n",
    "Median: 86\n",
    "Mode: 88\n",
    "\n",
    "Inferential statistics: It is a branch of statistics that involves making inferences or predictions about a population based on a sample of data taken from that population. The main goal of inferential statistics is to draw conclusions about a population by analyzing a representative subset of that population.\n",
    "Eg. A drug test on a sample of population of different age groups in this method inferential statistics works.\n",
    "\n",
    "A pharmaceutical company tests the effectiveness of a new drug using inferential statistics to determine whether the drug has a significant effect compared to a placebo."
   ]
  },
  {
   "cell_type": "markdown",
   "id": "c310b531-0097-4482-be24-3bede9ae6d2d",
   "metadata": {},
   "source": [
    "Q3. What are the different types of data and how do they differ from each other? Provide an example of\n",
    "each type of data.\n",
    "\n",
    "Quantitative Data: It consist of numerical measurements.\n",
    "1. Nominal Data: It includes named or labeled data and does not take numerical values into consideration. Eg. gender, blood group, colours, etc.\n",
    "\n",
    "2. Ordinal Data: Ordinal qualitative data uses a certain scale or measure to group data into categories or groups. The data is generally ordered or measured, but the scale used to represent the data may not be standard or specific. This type of data includes numerical values and displays properties of both categorical data and numerical data. Eg. good, bad, satisfactory, etc.\n",
    "\n",
    "Qualitative Data: It consist of descriptive or categorical information.\n",
    "1. Discrete Data: The data that have fixed value is called discreate data, discreate data can easily be counted. Eg. number of bank account, number of children, etc.\n",
    "\n",
    "2. Continuous Data: The data that has no fixed value and has a range of data is called continuous data. It can be measured. Eg. weights, heights, temperature, speed, etc.\n"
   ]
  },
  {
   "cell_type": "markdown",
   "id": "fcc877f3-5ec3-47a1-b41e-c9282fb9f098",
   "metadata": {},
   "source": [
    "Q4. Categorise the following datasets with respect to quantitative and qualitative data types:\n",
    "(i) Grading in exam: A+, A, B+, B, C+, C, D, E\n",
    "(ii) Colour of mangoes: yellow, green, orange, red\n",
    "(iii) Height data of a class: [178.9, 179, 179.5, 176, 177.2, 178.3, 175.8,...]\n",
    "(iv) Number of mangoes exported by a farm: [500, 600, 478, 672, ...]\n",
    "\n",
    "\n",
    "1. Grading in exam: A+, A, B+, B, C+, C, D, E\n",
    "This is Qualitative Ordinal dataset as it can be ranked. A+ is the highest rank and E being the lowest.\n",
    "\n",
    "2. Colour of mangoes: yellow, green, orange, red\n",
    "This is the Qualitative Nominal dataset as it can be categorised. This cannot be ranked.\n",
    "\n",
    "3. Height data of a class: [178.9, 179, 179.5, 176, 177.2, 178.3, 175.8,...]\n",
    "This is Quantitative Continous dataset as it does not have whole numbers. \n",
    "\n",
    "4. Number of mangoes exported by a farm: [500, 600, 478, 672, ...]\n",
    "This is Quantitative Discrete dataset as it has whole numbers."
   ]
  },
  {
   "cell_type": "markdown",
   "id": "ab2185e5-6365-437d-ae19-d66bcb4f875e",
   "metadata": {},
   "source": [
    "Q5. Explain the concept of levels of measurement and give an example of a variable for each level.\n",
    "\n",
    "Scales of measurement allow us to assign labels, categories and numbers to data collected in a meaningful way. The scales of measurement describe the nature and different categories of information collected in a study. There are four common scales of measurement: nominal, ordinal, interval and ratio. \n",
    "\n",
    "1. Nominal scale of measurement\n",
    "\n",
    "The nominal scale of measurement defines the identity property of data. This scale has certain characteristics, but doesn’t have any form of numerical meaning. The data can be placed into categories but can’t be multiplied, divided, added or subtracted from one another. Eg. Eye color, gender, country of birth.\n",
    "\n",
    "2. Ordinal scale of measurement\n",
    "\n",
    "The ordinal scale defines data that is placed in a specific order. While each value is ranked, there’s no information that specifies what differentiates the categories from each other. These values can’t be added to or subtracted from.\n",
    "Eg. satisfaction reviews in survey, educational degrees.\n",
    "\n",
    "3. Interval scale of measurement\n",
    "\n",
    "The interval scale contains properties of nominal and ordered data, but the difference between data points can be quantified. This type of data shows both the order of the variables and the exact differences between the variables. They can be added to or subtracted from each other, but not multiplied or divided. This scale is also characterised by the fact that the number zero is an existing variable. In the ordinal scale, zero means that the data does not exist. In the interval scale, zero has meaning – for example, if you measure degrees, zero has a temperature. Eg. credit scores, calender years.\n",
    "\n",
    "4. Ratio scale of measurement\n",
    "\n",
    "Ratio scales of measurement include properties from all four scales of measurement. The data is nominal and defined by an identity, can be classified in order, contains intervals and can be broken down into exact value. Weight, height and distance are all examples of ratio variables. Data in the ratio scale can be added, subtracted, divided and multiplied.\n",
    "Eg. height, weight, calculating shares."
   ]
  },
  {
   "cell_type": "markdown",
   "id": "46e94191-8c31-4681-9536-4d4fc6dc0a44",
   "metadata": {},
   "source": [
    "Q6. Why is it important to understand the level of measurement when analyzing data? Provide an\n",
    "example to illustrate your answer. \n",
    "\n",
    "Understanding the level of measurement of data is crucial in statistics because it determines the types of statistical analyses that can be appropriately applied to the data. The level of measurement indicates the nature and quality of the information provided by a variable, and it influences the statistical operations and inferences that can be made.\n",
    "\n",
    "Eg. Variable: \"Satisfaction with a Product\"\n",
    "\n",
    "In analyzing survey responses on \"Satisfaction with a Product,\" the level of measurement plays a crucial role in guiding statistical analyses and interpretation. In analyzing survey responses on \"Satisfaction with a Product,\" the level of measurement plays a crucial role in guiding statistical analyses and interpretation. \n",
    "Interval or ratio data, with consistent intervals and potential zero points, may benefit from parametric tests. Descriptive statistics, such as frequencies, medians, means, and standard deviations, are selected based on the level of measurement. Understanding these distinctions ensures appropriate statistical approaches, accurate reporting of findings, and meaningful interpretations tailored to the nature of the survey data."
   ]
  },
  {
   "cell_type": "markdown",
   "id": "2c0be5ec-d730-49cc-b059-7e37905a41ed",
   "metadata": {},
   "source": [
    "Q7. How nominal data type is different from ordinal data type.\n",
    "\n",
    "1.While Nominal Data is classified without any intrinsic ordering or rank, Ordinal Data has some predetermined or natural order. \n",
    "2.Nominal data is qualitative or categorical data, while Ordinal data is considered “in-between” qualitative and quantitative data.\n",
    "3.Nominal data do not provide any quantitative value, and you cannot perform numeric operations with them or compare them with one another. However, Ordinal data provide sequence, and it is possible to assign numbers to the data. No numeric operations can be performed. But ordinal data makes it possible to compare one item with another in terms of ranking.  \n",
    "4.Example of Nominal Data – Eye color, Gender; Example of Ordinal data – Customer Feedback, Economic Status"
   ]
  },
  {
   "cell_type": "markdown",
   "id": "b9bb1843-689a-4fa4-8dfc-84e937cf8727",
   "metadata": {},
   "source": [
    "Q8. Which type of plot can be used to display data in terms of range?\n",
    "\n",
    "A box plot (also known as a box-and-whisker plot) is a type of plot that can be used to display data in terms of range. The box plot provides a visual summary of the distribution of a dataset, showing the minimum, first quartile (Q1), median, third quartile (Q3), and maximum values. The \"whiskers\" extend from the box to the minimum and maximum values, and the box represents the interquartile range (IQR) between Q1 and Q3.\n",
    "\n",
    "The box plot is particularly useful for comparing the spread and central tendency of multiple datasets or variables. It allows for a quick assessment of the range, skewness, and presence of outliers in the data."
   ]
  },
  {
   "cell_type": "markdown",
   "id": "4a3d5b87-9c70-40c5-89fc-5fe7a7372002",
   "metadata": {},
   "source": [
    "Q9. Describe the difference between descriptive and inferential statistics. Give an example of each\n",
    "type of statistics and explain how they are used.\n",
    "\n",
    "Descriptive Statistics: Summarizes and describes the basic features of a dataset. Eg. Mean, Median, Mode, Range, Standard Deviation, Histogram, Bar chart.\n",
    "Inferential Statistics:\tUsed to make inferences or draw conclusions about a larger population based on a smaller sample of data. Hypothesis Testing, Confidence Intervals, Regression Analysis, ANOVA."
   ]
  },
  {
   "cell_type": "markdown",
   "id": "0163aa67-6fea-4e96-9c5d-2f120f030302",
   "metadata": {},
   "source": [
    "Q10. What are some common measures of central tendency and variability used in statistics? Explain\n",
    "how each measure can be used to describe a dataset."
   ]
  },
  {
   "cell_type": "markdown",
   "id": "e3f4f887-c3fd-4c11-98f9-436fc75627af",
   "metadata": {},
   "source": [
    "Measures of central tendency and variability are two types of descriptive statistics that are commonly used to summarize and describe a dataset.\n",
    "The main measures of central tendency include the mean, median, and mode, while the main measures of variability include the range, variance, and standard deviation\n",
    "\n",
    "Mean: Arithmetic average of a set of values\t\n",
    "Median:\tMiddle value in a dataset when it is ordered from smallest to largest\t\n",
    "Mode: Most common value in a dataset\n",
    "Range: Difference between the largest and smallest values in a dataset\t\n",
    "Variance: Average of the squared differences from the mean\t\n",
    "Standard Deviation: Square root of the variance"
   ]
  },
  {
   "cell_type": "code",
   "execution_count": null,
   "id": "2213bb83-6d6d-4ecf-919a-6ff9dfb2038e",
   "metadata": {},
   "outputs": [],
   "source": []
  }
 ],
 "metadata": {
  "kernelspec": {
   "display_name": "Python 3 (ipykernel)",
   "language": "python",
   "name": "python3"
  },
  "language_info": {
   "codemirror_mode": {
    "name": "ipython",
    "version": 3
   },
   "file_extension": ".py",
   "mimetype": "text/x-python",
   "name": "python",
   "nbconvert_exporter": "python",
   "pygments_lexer": "ipython3",
   "version": "3.10.8"
  }
 },
 "nbformat": 4,
 "nbformat_minor": 5
}
